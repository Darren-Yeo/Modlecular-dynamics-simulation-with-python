{
 "cells": [
  {
   "cell_type": "code",
   "execution_count": 1,
   "id": "b85e2ef6",
   "metadata": {},
   "outputs": [
    {
     "name": "stdout",
     "output_type": "stream",
     "text": [
      "3.8.5\n"
     ]
    }
   ],
   "source": [
    "from platform import python_version\n",
    "\n",
    "print(python_version())\n"
   ]
  },
  {
   "cell_type": "code",
   "execution_count": 62,
   "id": "8ab9ba57",
   "metadata": {},
   "outputs": [
    {
     "name": "stdout",
     "output_type": "stream",
     "text": [
      "Requirement already satisfied: numba in ./lib/python3.8/site-packages (0.53.1)\n",
      "Requirement already satisfied: llvmlite<0.37,>=0.36.0rc1 in ./lib/python3.8/site-packages (from numba) (0.36.0)\n",
      "Requirement already satisfied: setuptools in ./lib/python3.8/site-packages (from numba) (54.2.0)\n",
      "Requirement already satisfied: numpy>=1.15 in ./lib/python3.8/site-packages (from numba) (1.20.2)\n",
      "\u001b[33mWARNING: You are using pip version 21.0.1; however, version 21.1.2 is available.\n",
      "You should consider upgrading via the '/home/darrenyeo/python/python/bin/python -m pip install --upgrade pip' command.\u001b[0m\n",
      "Note: you may need to restart the kernel to use updated packages.\n"
     ]
    }
   ],
   "source": [
    "pip install numba"
   ]
  },
  {
   "cell_type": "code",
   "execution_count": 2,
   "id": "4c1ddeee",
   "metadata": {},
   "outputs": [],
   "source": [
    "from tqdm.notebook import tqdm"
   ]
  },
  {
   "cell_type": "code",
   "execution_count": 3,
   "id": "019da4b1",
   "metadata": {},
   "outputs": [],
   "source": [
    "import numpy as np\n",
    "import matplotlib.pyplot as plt\n",
    "import scipy as scp\n",
    "from scipy import constants\n",
    "\n",
    "#Marius:\n",
    "from tqdm import tqdm\n",
    "import numba"
   ]
  },
  {
   "cell_type": "code",
   "execution_count": 61,
   "id": "763a779a",
   "metadata": {},
   "outputs": [],
   "source": [
    "#Global variables\n",
    "L = 10 #unit:nm length of the box\n",
    "N = 100#100 #unit:numbers\n",
    "m = 39.948 # unit: a.m.u\n",
    "T = 100 #unit:kelvin\n",
    "KB = constants.R*10**-3  #unit KJ/mol.K\n",
    "dt = 10**-3 #unit:ps\n",
    "n_steps =10000 #unitness\n",
    "epsilon = 1\n",
    "sigma = 0.34\n",
    "tauT = 0.1 #Coupling constant for the Berendsen thermostat #ps, tau referenced online for 0.1-0.4 ps for dt of 1fs(femtosecond)\n",
    "tauP = 5 #Pressure coupling constant for Berendsen Barostat"
   ]
  },
  {
   "cell_type": "code",
   "execution_count": 6,
   "id": "b8086b2a",
   "metadata": {},
   "outputs": [],
   "source": [
    "def write_file(FILE1, coords, n_iter):\n",
    "    \n",
    "    '''\n",
    "    \n",
    "    This function is used to save obtained coordinates into the PyMol readable format PDB.\n",
    "    It also writes several other interesting stuff to plain .txt files.\n",
    "    \n",
    "    FILE1 := Coordinaten File Name (Should end with .pdb)\n",
    "    n_iter := Number of step\n",
    "    \n",
    "    '''\n",
    "\n",
    "\n",
    "    #Coordinates are round to the second decimal position to faciliate saving\n",
    "    round_ = 2\n",
    "\n",
    "    #Write head for each frame   \n",
    "    FILE1.write('MODEL {}\\n'.format(n_iter)) #Start of a frame\n",
    "    N = coords.shape[0] #Get number of atoms\n",
    "    \n",
    "    \n",
    "    #Just iterate over all coordinates and write them down line per line\n",
    "    for i in range(N):\n",
    "        \n",
    "        #The PDB-formate is really strict the line below is from: https://cupnet.net/pdb-format/\n",
    " \n",
    "        #ATOM  #ID   #NAME     #RESN      #RESID          #X    #Y     #Z\n",
    "        coord_str = \"{:6s}{:5d} {:^4s}{:1s}{:3s} {:1s}{:4d}{:1s}   {:8.3f}{:8.3f}{:8.3f}{:6.2f}{:6.2f}          {:>2s}{:2s}\\n\".format('ATOM', int(i),\n",
    "                                                                                                                         'PAR', ' ', 'ARG',\n",
    "                                                                                                                         ' ', int(i), ' ',\n",
    "                                                                                                                         np.round(coords[i][0], round_)*10,\n",
    "                                                                                                                         np.round(coords[i][1], round_)*10,\n",
    "                                                                                                                         np.round(coords[i][2], round_)*10,\n",
    "                                                                                                                          1.0, 1.0, 'Ar', ' ')\n",
    " \n",
    " \n",
    "        FILE1.write(coord_str) #Write coordinates\n",
    "    FILE1.write('TER\\nENDMDL\\n') #End of a frame"
   ]
  },
  {
   "cell_type": "markdown",
   "id": "da430763",
   "metadata": {},
   "source": [
    "# Position / Velocity init"
   ]
  },
  {
   "cell_type": "code",
   "execution_count": 7,
   "id": "5ffc49a1",
   "metadata": {},
   "outputs": [],
   "source": [
    "def init_pos():\n",
    "    \"\"\"initialize position of atoms within L in x, y, z coordinates where L = 2\n",
    "    Border and grid set to be \"smaller\" than the box size where L = 2 \"\"\"\n",
    "   \n",
    "    coord =[]\n",
    "    border= 2*sigma # no atoms will generate that are <2*sigma\n",
    "    Grid = (L-border) # no atoms will generate that are > L-(2*sigma)\n",
    "    \n",
    "    #Here the problem was that you could have the same positions. We fixed that with an if-statement and a while loop.\n",
    "    \n",
    "    while len(coord) < N: \n",
    "        \n",
    "        coordinates = [np.random.choice(np.arange(border,Grid,0.1)), np.random.choice(np.arange(border,Grid,0.1)), np.random.choice(np.arange(border,Grid,0.1))]\n",
    "        \n",
    "        if not coordinates in coord: coord.append(coordinates)\n",
    "\n",
    "    return np.array(coord)"
   ]
  },
  {
   "cell_type": "code",
   "execution_count": 8,
   "id": "b8e2af93",
   "metadata": {},
   "outputs": [],
   "source": [
    "def init_vel():\n",
    "    \"\"\"initialize random velocities of the atoms\"\"\"\n",
    "    \n",
    "    velocity = np.random.normal(0, np.sqrt(KB*T/m),(N,3)) #Cleaned up some variable names!\n",
    "    \n",
    "    return velocity"
   ]
  },
  {
   "cell_type": "code",
   "execution_count": 9,
   "id": "9ea08ad6",
   "metadata": {},
   "outputs": [],
   "source": [
    "def hist_plot(file_name, vels):\n",
    "    fig, ax = plt.subplots(2,2)\n",
    "    y_axes = ['Freq', 'Freq', 'Freq', 'Prob density']\n",
    "    x_axes = ['Vx', 'Vy', 'Vz', 'V']\n",
    "    title =['Hist Vx', 'Hist Vy', 'Hist Vz', 'Maxwell boltzman distribution']\n",
    "    c=0\n",
    "    for i in range(2):\n",
    "        for j in range(2):\n",
    "            if c !=3:\n",
    "                \n",
    "                ax[i,j].hist(vels[:,c], bins =20, density=True)\n",
    "                ax[i,j].set_title(title[c])\n",
    "                ax[i,j].set_xlabel(x_axes[c])\n",
    "                ax[i,j].set_ylabel(y_axes[c])\n",
    "            else:\n",
    "                ax[i,j].hist(np.sqrt(np.sum(vel**2, 1)), bins =20, density=True)\n",
    "                ax[i,j].set_title(title[c])\n",
    "                ax[i,j].set_xlabel(x_axes[c])\n",
    "                ax[i,j].set_ylabel(y_axes[c])\n",
    "                    \n",
    "            c+=1\n",
    "    plt.tight_layout()\n",
    "            \n",
    "        \n"
   ]
  },
  {
   "cell_type": "markdown",
   "id": "bfa56512",
   "metadata": {},
   "source": [
    "# Test atoms for algorithms"
   ]
  },
  {
   "cell_type": "code",
   "execution_count": 10,
   "id": "311137c5",
   "metadata": {},
   "outputs": [],
   "source": [
    "def test_pos():\n",
    "    \"\"\"For testing of the different boundaries\"\"\"\n",
    "    pos = np.array([[1,5,5], [0.6,5,5]])\n",
    "    \n",
    "    return pos"
   ]
  },
  {
   "cell_type": "code",
   "execution_count": 11,
   "id": "be6672b4",
   "metadata": {},
   "outputs": [],
   "source": [
    "def test_vel():\n",
    "    \"\"\"For testing of the different boundaries\"\"\"\n",
    "    vel = np.array([[0,0,0], [0,0,0]])\n",
    "    \n",
    "    return vel\n"
   ]
  },
  {
   "cell_type": "markdown",
   "id": "64dda1f3",
   "metadata": {},
   "source": [
    "# Defining Boundaries and initialization of force"
   ]
  },
  {
   "cell_type": "code",
   "execution_count": 12,
   "id": "5c74f277",
   "metadata": {},
   "outputs": [],
   "source": [
    "def no_bounds(pos, vel):\n",
    "    \"\"\"BOUNDARY CONDITION for wall potential\"\"\"\n",
    "    return pos, vel"
   ]
  },
  {
   "cell_type": "code",
   "execution_count": 13,
   "id": "1b362870",
   "metadata": {},
   "outputs": [],
   "source": [
    "#def compute_force(pos): # initialised to zero at the beginning of the simulation-- will increase later\n",
    "#    \"\"\"set forces to 0\"\"\"\n",
    "#    pos = np.zeros((N,3))\n",
    "#    return np.zeros(pos.shape)\n",
    "\n",
    "#-> Test case for non-interacting particles! We don't need anymore"
   ]
  },
  {
   "cell_type": "code",
   "execution_count": 115,
   "id": "84b86daf",
   "metadata": {},
   "outputs": [],
   "source": [
    "def pbc(pos, vel, L): \n",
    "    pos = np.where(pos>0, pos ,L+pos) #for all positions of atoms bigger than 0, stay as it is. otherwise plus L to be in the box \n",
    "    pos = np.where(pos<L, pos, pos-L) #for all positions of atoms smaller than L, stay as it is. otherwise minus L to be in the box\n",
    "    \n",
    "    #helps to prevent atoms from flying away\n",
    "    mean =np.zeros(3)\n",
    "    counter =0\n",
    "    for vec in vel:\n",
    "        mean +=vec\n",
    "        counter +=1\n",
    "    mean /= counter\n",
    "    vel -=mean\n",
    "    \n",
    "    return pos, vel"
   ]
  },
  {
   "cell_type": "code",
   "execution_count": 20,
   "id": "a09eb5f4",
   "metadata": {},
   "outputs": [],
   "source": [
    "def Angle(pos, vel):\n",
    "    \"\"\"Boundary where particles bounces off the wall at an angle\"\"\"\n",
    "    for i in range(N):\n",
    "        for j in range(3):\n",
    "            if pos[i,j]<0:\n",
    "                pos[i,j] = pos[i,j]*(-1) #When particles in x, y, z coodrinates outside of the \"box\", pos<0. angle reflection has to be same\n",
    "                vel[i,j]=  vel[i,j]*(-1)\n",
    "                \n",
    "            elif pos[i,j]>L:\n",
    "                pos[i,j] = 2*L-pos[i,j] #When particles in x, y, z coodrinates outside of the \"box\", pos>L. angle reflection has to be same\n",
    "                vel[i,j]=  vel[i,j]*(-1)\n",
    "                \n",
    "    return pos, vel"
   ]
  },
  {
   "cell_type": "code",
   "execution_count": 19,
   "id": "a82c24c5",
   "metadata": {},
   "outputs": [],
   "source": [
    "def wall_force(pos):\n",
    "    \"\"\"Wall potential repulsion (F) according to lennard jones potential, only the repulsion part of the equation is taken into account\"\"\"\n",
    "    \n",
    "    force = np.zeros((N,3))\n",
    "    for i in range(N):\n",
    "        for j in range(3):\n",
    "            if pos[i,j]<(4*sigma):\n",
    "                force[i,j] = 48*(epsilon/sigma)*((sigma/(np.absolute(pos[i,j]))**13))\n",
    "                \n",
    "                \n",
    "                \n",
    "            elif pos[i,j]>(L-(4*sigma)):\n",
    "                force[i,j] = -48*(epsilon/sigma)*((sigma/(L-pos[i,j]))**13) #- sign, because the force needs to be in the negative direction as it repels from the right side of the box\n",
    "                \n",
    "                \n",
    "    return force   "
   ]
  },
  {
   "cell_type": "markdown",
   "id": "f11b332a",
   "metadata": {},
   "source": [
    "# Temperature and pressure coupling"
   ]
  },
  {
   "cell_type": "code",
   "execution_count": 21,
   "id": "f992d5ad",
   "metadata": {},
   "outputs": [],
   "source": [
    "def temp(vel):\n",
    "    \"\"\"Returns the current temperature of the system\"\"\"\n",
    "    #KE = e_kin(vel)\n",
    "    #temp = 2*KE*N/3*KB -> We changed it to below line\n",
    "    \n",
    "    temp = (m * np.sum(vel**2)) / (3 * N * KB)\n",
    "    \n",
    "    \n",
    "    return temp\n",
    "    "
   ]
  },
  {
   "cell_type": "code",
   "execution_count": 22,
   "id": "1497261c",
   "metadata": {},
   "outputs": [],
   "source": [
    "def berendsen_temp(vel):\n",
    "    \"\"\"Berendsen thermostat\"\"\"\n",
    "    \n",
    "    temp_new = temp(vel)\n",
    "    scale = np.sqrt(1+(dt/tauT)*(T/temp_new-1))\n",
    "    \n",
    "    \n",
    "    return scale "
   ]
  },
  {
   "cell_type": "code",
   "execution_count": 116,
   "id": "f345dd66",
   "metadata": {},
   "outputs": [],
   "source": [
    "def pressure_coupling(P):\n",
    "    \"\"\"Berendsen Barostat\"\"\"\n",
    "    B=1.8*(10**4)\n",
    "    P0 = 1\n",
    "    scale = (1 +(dt / tauP) * B * (P0 - P) )**(1/3)\n",
    "    #scale = (1 - 1/ KB* dt / tauP * (P0 - P) )**(1/3)\n",
    "    \n",
    "    return scale"
   ]
  },
  {
   "cell_type": "code",
   "execution_count": 89,
   "id": "953ab027",
   "metadata": {},
   "outputs": [
    {
     "ename": "NameError",
     "evalue": "name 'P' is not defined",
     "output_type": "error",
     "traceback": [
      "\u001b[0;31m---------------------------------------------------------------------------\u001b[0m",
      "\u001b[0;31mNameError\u001b[0m                                 Traceback (most recent call last)",
      "\u001b[0;32m<ipython-input-89-4c73bea30d98>\u001b[0m in \u001b[0;36m<module>\u001b[0;34m\u001b[0m\n\u001b[0;32m----> 1\u001b[0;31m \u001b[0mpressure_coupling\u001b[0m\u001b[0;34m(\u001b[0m\u001b[0mP\u001b[0m\u001b[0;34m)\u001b[0m\u001b[0;34m\u001b[0m\u001b[0;34m\u001b[0m\u001b[0m\n\u001b[0m",
      "\u001b[0;31mNameError\u001b[0m: name 'P' is not defined"
     ]
    }
   ],
   "source": [
    "pressure_coupling(P)"
   ]
  },
  {
   "cell_type": "markdown",
   "id": "80e70d6b",
   "metadata": {},
   "source": [
    "# Algorithms"
   ]
  },
  {
   "cell_type": "code",
   "execution_count": 24,
   "id": "2ca96751",
   "metadata": {},
   "outputs": [],
   "source": [
    "def Euler(pos, vel, boundary):\n",
    "    \"\"\"Euler algorithm, kraft frei\"\"\"\n",
    "    pos_new = pos+ vel*dt\n",
    "    pos_new, vel_new =boundary(pos_new, vel)       \n",
    "        \n",
    "    \n",
    "    \n",
    "    return pos_new"
   ]
  },
  {
   "cell_type": "code",
   "execution_count": 25,
   "id": "852e8930",
   "metadata": {},
   "outputs": [],
   "source": [
    "def Verlet(pos, pos_old, vel, force, boundary):\n",
    "    \"\"\"Verlet algorithm\"\"\"\n",
    "    force = Interacting_atoms(pos) \n",
    "    #force = force + wall_force(pos) #+In order to implement wall potential\n",
    "    pos_new = 2*pos - pos_old + force/m * dt**2\n",
    "    vel = ((pos_new  - pos_old)/2*dt)\n",
    "    pos_new, vel_new =boundary(pos_new, vel)\n",
    "    \n",
    "    return pos_new, pos, vel_new"
   ]
  },
  {
   "cell_type": "code",
   "execution_count": 26,
   "id": "9a70945f",
   "metadata": {},
   "outputs": [],
   "source": [
    "#def Velocity_verlet(pos, vel, boundary):\n",
    " #   \"\"\"Initial Velocity Verlet for pbc and angle reflection\"\"\"\n",
    " #   force = Force(pos)\n",
    " #   pos_new = pos + vel*dt + (force/(2*m))*dt**2 \n",
    " #   force_new = Force(pos_new)\n",
    " #   vel_new = vel + ((force_new + force)/(2*m))*dt\n",
    " #   pos_new =boundary(pos_new)\n",
    "    \n",
    " #   return pos_new, vel_new"
   ]
  },
  {
   "cell_type": "code",
   "execution_count": 27,
   "id": "e7115f18",
   "metadata": {},
   "outputs": [],
   "source": [
    "def Velocity_verlet(pos, vel, boundary, L):\n",
    "    \"\"\"Velocity Verlet to run with Wall boundary repulsion according to lennard jones potential.\n",
    "    Only repulsion is taken into account. Interaction of atoms according to LJ included\"\"\"\n",
    "    #force = compute_force(pos) + wall_force(pos) #when computing forces\n",
    "    force, P = Interacting_atoms(pos, L, NL)\n",
    "\n",
    "    scale = berendsen_temp(vel) ##Scale value for berendsen thermostat\n",
    "    \n",
    "    scale_P =pressure_coupling(P)#Scale value for berendsen barostat\n",
    "    \n",
    "    #Scaling of temperature coupling\n",
    "    vel = scale*vel\n",
    "    \n",
    "    #Scaling of box size\n",
    "    pos= scale_P*pos\n",
    "    L=scale_P*L\n",
    "    \n",
    "    pos_new = pos + vel*dt + (force/(2*m))*dt**2  # Veleocity verlet algorithm for position\n",
    "    #force_new = compute_force(pos_new) + wall_force(pos_new)\n",
    "    force_new, P = Interacting_atoms(pos_new, L, NL)\n",
    "\n",
    "    \n",
    "\n",
    "    vel_new = vel + ((force_new + force)/(2*m))*dt # Veleocity verlet algorithm for velocity\n",
    "\n",
    "\n",
    "\n",
    "    pos_new, vel_new =boundary(pos_new, vel_new, L)\n",
    "\n",
    "    return pos_new, vel_new, P\n"
   ]
  },
  {
   "cell_type": "code",
   "execution_count": 28,
   "id": "ad656e34",
   "metadata": {},
   "outputs": [],
   "source": [
    "#def Leapfrog(pos, vel, boundary):\n",
    "#    \"\"\"Leapfrog algorithm\"\"\"\n",
    "#    force = Interacting_atoms(pos) #when computing forces, this will not be correct\n",
    "#    #force = compute_force(pos) + wall_force(pos) # in order to implement wall_force repulsion   \n",
    "#    vel_new = vel + dt*(force/m)\n",
    "#    pos_new = pos + dt*vel_new\n",
    "#    pos_new, vel_new =boundary(pos_new, vel_new)\n",
    "    #print(force)\n",
    "    \n",
    "#    return pos_new, vel_new\n"
   ]
  },
  {
   "cell_type": "code",
   "execution_count": 113,
   "id": "ffa50fd2",
   "metadata": {},
   "outputs": [],
   "source": [
    "def Leapfrog(pos, vel, boundary, L, NL):\n",
    "    \"\"\"Leapfrog algorithm\"\"\"\n",
    "    force, P = Interacting_atoms(pos, L, NL) #when computing forces, this will not be correct\n",
    "    #force = compute_force(pos) + wall_force(pos) # in order to implement wall_force repulsion   \n",
    "    \n",
    "    \n",
    "    \n",
    "    #1) Generate new velocities based on old (correct) velocities\n",
    "    vel_new = vel + dt*(force/m)\n",
    "    \n",
    "    #2) Calculate scaling factor for new (uncorrected) velocities and box size\n",
    "    scale = berendsen_temp(vel_new) #Scale value for berendsen thermostat\n",
    "    scale_P =pressure_coupling(P)\n",
    "    \n",
    "    #3) Apply scaling to new velocities\n",
    "    vel_new = scale*vel_new #scale value taken into account\n",
    "    \n",
    "    #4)Appy scaling to box size\n",
    "    pos = scale_P * pos\n",
    "    L= scale_P *L\n",
    "\n",
    "    \n",
    "    #5) Make new positions\n",
    "    pos_new = pos + dt*vel_new\n",
    "    \n",
    "    pos_new, vel_new = boundary(pos_new, vel_new, L)\n",
    "    #print(force)\n",
    "    \n",
    "    return pos_new, vel_new, P, L\n"
   ]
  },
  {
   "cell_type": "code",
   "execution_count": 30,
   "id": "3bd75e77",
   "metadata": {},
   "outputs": [],
   "source": [
    "@numba.jit(nopython = True, fastmath = True)\n",
    "def get_positions(pos1, pos2):\n",
    "    \"\"\"Return der direction of r and the absolute value of r (Distance)\"\"\"\n",
    "\n",
    "    r_vector = (pos1 - pos2) # positions in x,y,z coordinates\n",
    "    \n",
    "    if r_vector[0] > L/2:\n",
    "        r_vector[0] = r_vector[0] -L\n",
    "    elif r_vector[0] < -L/2:\n",
    "        r_vector[0] = L + r_vector[0]\n",
    "    \n",
    "    if r_vector[1] > L/2:\n",
    "        r_vector[1] = r_vector[1] -L\n",
    "    elif r_vector[1] < -L/2:\n",
    "        r_vector[1] = L + r_vector[1]\n",
    "        \n",
    "    if r_vector[2] > L/2:\n",
    "        r_vector[2] = r_vector[2] -L\n",
    "    elif r_vector[2] < -L/2:\n",
    "        r_vector[2] = L + r_vector[2]\n",
    "        \n",
    "        \n",
    "    absolute_r = (np.sqrt(r_vector[0]**2 + r_vector[1]**2 +r_vector[2]**2)) #obtain the absolute positions of r \n",
    "    \n",
    "    return r_vector, absolute_r"
   ]
  },
  {
   "cell_type": "markdown",
   "id": "bce7e073",
   "metadata": {},
   "source": [
    "# Energy calculation of the system"
   ]
  },
  {
   "cell_type": "code",
   "execution_count": 31,
   "id": "e942c7e1",
   "metadata": {},
   "outputs": [],
   "source": [
    "def e_kin(vel):\n",
    "    \"\"\"Return the kinetic enery of the system\"\"\"\n",
    "    \n",
    "    KE = np.sum(1/2*m*vel**2)\n",
    "    \n",
    "    return KE"
   ]
  },
  {
   "cell_type": "code",
   "execution_count": 32,
   "id": "f8e7fbbd",
   "metadata": {},
   "outputs": [],
   "source": [
    "def e_pot(pos):\n",
    "    \"\"\"Function that calculate the potential energy according to LJ potential\"\"\"\n",
    "    PE =0\n",
    "    for i in range(N):\n",
    "        for j in range(N):\n",
    "            \n",
    "            if i <= j:\n",
    "                continue\n",
    "    \n",
    "            else:\n",
    "                r_vector, absolute_r = get_positions(pos[i],pos[j])\n",
    "                \n",
    "                PE = PE + 4*epsilon*((sigma/absolute_r)**12 - (sigma/absolute_r)**6)\n",
    "    \n",
    "    return PE"
   ]
  },
  {
   "cell_type": "code",
   "execution_count": 33,
   "id": "4b96f8e9",
   "metadata": {},
   "outputs": [],
   "source": [
    "def total_energy(pos, vel):\n",
    "    \"\"\"Total energy of the system from KE and PE\"\"\"\n",
    "    \n",
    "    TE = e_kin(vel) + e_pot(pos) #Removed np.sum -> Redundant\n",
    "    \n",
    "    \n",
    "    return TE\n",
    "    "
   ]
  },
  {
   "cell_type": "code",
   "execution_count": 95,
   "id": "6748cb88",
   "metadata": {},
   "outputs": [],
   "source": [
    "def Interacting_atoms(pos, L, NL):\n",
    "    \"\"\"function that describes interaction between atoms according to LJ potential (Force)\"\"\"\n",
    "    \n",
    "    \n",
    "    #Think about the for-loop -> Can you skip half of the calculations?\n",
    "    #Hint: Your potential energy function\n",
    "    \n",
    "    Rc_force = 1 #nm\n",
    "    force = np.zeros((N,3))\n",
    "    dV_sum = 0\n",
    "    P=0\n",
    "    for i in range(N): # Loop over all atoms\n",
    "        for j in range(N): #Loop over all other atoms (interacting atoms)\n",
    "            if i == j: #Skip self forces\n",
    "                continue\n",
    "            else: #sum of all forces where i != to J\n",
    "            \n",
    "                \n",
    "                r_vector, absolute_r = get_positions(pos[i],pos[j]) #calling the get_positions function to calculate force between two atoms (i and j) index representing each atom in i and each atom in \n",
    "       \n",
    "                if absolute_r <= Rc_force:\n",
    "            \n",
    "                    dV = 24*(epsilon/sigma)*(2*((sigma/(absolute_r))**13)-(sigma/(absolute_r))**7)\n",
    "                \n",
    "                \n",
    "                    for k in range(3):\n",
    "                        force[i,k] += dV*r_vector[k]/absolute_r#compute force to each particle\n",
    "                        \n",
    "                    dV_sum += dV * r_vector[k]\n",
    "                    \n",
    "    \n",
    "    \n",
    "    #Pressure calculation\n",
    "    vol = L**3\n",
    "\n",
    "    P += (1/vol)*(N*KB*T-1/3*(dV_sum))/6.022*100 # prefactor of avogrado constant multplied by 100, converts units to bar\n",
    "\n",
    "                #Force_vector = negative derivative of potential * r_vector/absolute value of r, where r = distance between two atoms\n",
    "            \n",
    "    \n",
    "    return force, P       "
   ]
  },
  {
   "cell_type": "markdown",
   "id": "bbdbf721",
   "metadata": {},
   "source": [
    "Right now you are having a neighbour list with a cut-off value. However, we want to implement a **buffer**. Therefore, you need 2 cut-off values. The one which is already there (Rc/Neighbour list) and a smaller one in the force calculation (Interacting_atoms). Why?"
   ]
  },
  {
   "cell_type": "markdown",
   "id": "6eb1f41d",
   "metadata": {},
   "source": [
    "# Neighbor List"
   ]
  },
  {
   "cell_type": "code",
   "execution_count": 35,
   "id": "ed272a09",
   "metadata": {},
   "outputs": [],
   "source": [
    "@numba.jit(nopython = True, fastmath = True)\n",
    "def Neighbor_list(pos):\n",
    "    \"\"\"omits atoms in the simulation when they are too far away \n",
    "    to save computing time. Atoms that too far away are determined by\n",
    "    the cut off value.\"\"\"\n",
    "    Rc = 1.2  #Cut off value radius of i, units nm\n",
    "    neighbors=[]\n",
    "    for i in range(N):\n",
    "        list_2 =[]\n",
    "        for j in range(N):\n",
    "            if i==j: #Skip self forces\n",
    "                continue\n",
    "            \n",
    "            \n",
    "            else:\n",
    "                r_vector, absolute_r = get_positions(pos[i],pos[j])\n",
    "                \n",
    "                if absolute_r < Rc:\n",
    "                    list_2.append(j)\n",
    "        \n",
    "        neighbors.append(list_2.copy())\n",
    "    \n",
    "    return neighbors\n",
    "                         "
   ]
  },
  {
   "cell_type": "markdown",
   "id": "7306c4a0",
   "metadata": {},
   "source": [
    "# Main function"
   ]
  },
  {
   "cell_type": "code",
   "execution_count": 114,
   "id": "6530a0a8",
   "metadata": {},
   "outputs": [],
   "source": [
    "def main(mode, L):\n",
    "   \n",
    "    pos=init_pos()\n",
    "    vel=init_vel()\n",
    "    #pos=test_pos()\n",
    "    #vel=test_vel()\n",
    "    \n",
    "    file_name=open(\"read.pdb\", \"w\")\n",
    "    file_name.write('CRYST1'+str(\"{0:9.3f}{0:9.3f}{0:9.3f}\").format(L*10,L*10,L*10)+'  90.00  90.00  90.00 P 1           1\\n')\n",
    "    write_file(file_name, pos, 0)\n",
    "    \n",
    "    if mode == 0:\n",
    "        \"\"\"Run euler algorithm\"\"\"\n",
    "        for n_iter in range(n_steps):\n",
    "            pos=Euler(pos, vel, pbc)\n",
    "            if n_iter%50 ==0:\n",
    "                write_file(file_name, pos, n_iter)\n",
    "            KE = e_kin(vel)\n",
    "            \n",
    "            \n",
    "    if mode == 1:\n",
    "        \"\"\"Run verlet algorithm\"\"\"\n",
    "        dist_atoms = []\n",
    "        PE =[]\n",
    "        KE =[]\n",
    "        TE =[]\n",
    "        pos_old = pos\n",
    "        pos = Euler(pos, vel, pbc)\n",
    "        for n_iter in tqdm(range(n_steps)):\n",
    "            force=Interacting_atoms(pos)\n",
    "            #force=compute_force(pos)\n",
    "            #force+=wall_force(pos)\n",
    "            pos, pos_old, vel=Verlet(pos, pos_old, vel, force, pbc)\n",
    "            #pos, pos_old=Verlet(pos, pos_old, vel, force, no_bounds)\n",
    "            if n_iter%50 ==0:\n",
    "                NL = Neighbor_list(pos)\n",
    "                write_file(file_name, pos, n_iter)\n",
    "                \n",
    "            dist_atoms.append(get_positions(pos[0], pos[1])[1])\n",
    "            PE.append(e_pot(pos))\n",
    "            KE.append(e_kin(vel))\n",
    "            TE.append(total_energy(pos, vel))\n",
    "            \n",
    "            \n",
    "            \n",
    "    if mode == 2:\n",
    "        \"\"\"Run verlocity verlet algorithm\"\"\"\n",
    "        dist_atoms = []\n",
    "        PE =[]\n",
    "        KE =[]\n",
    "        TE =[]\n",
    "        Temp =[]\n",
    "        Pressure =[]\n",
    "        NL = Neighbor_list(pos) #initial list to be updated in the loop\n",
    "        for n_iter in tqdm(range(n_steps)):\n",
    "            pos, vel, P= Velocity_verlet(pos, vel, pbc, L)            \n",
    "            #pos, vel = Velocity_verlet(pos, vel, no_bounds) #no_bounds to implement wall_force boundary. \n",
    "            if n_iter%10 ==0:\n",
    "                NL = Neighbor_list(pos)\n",
    "                write_file(file_name, pos, n_iter)\n",
    "                \n",
    "                \n",
    "            dist_atoms.append(get_positions(pos[0], pos[1])[1])\n",
    "            PE.append(e_pot(pos))\n",
    "            KE.append(e_kin(vel))\n",
    "            TE.append(total_energy(pos, vel))\n",
    "            Temp.append(temp(vel))\n",
    "            Pressure.append(P)\n",
    "            \n",
    "            \n",
    "            \n",
    "    \n",
    "    if mode == 3:\n",
    "        \"\"\"Run leapfrog algorithm\"\"\"\n",
    "        dist_atoms = []\n",
    "        PE =[]\n",
    "        KE =[]\n",
    "        TE =[]\n",
    "        Temp =[]\n",
    "        Pressure =[]\n",
    "        NL = Neighbor_list(pos) #initial list to be updated in the loop\n",
    "        for n_iter in tqdm(range(n_steps)):\n",
    "            pos, vel, P, L= Leapfrog(pos, vel, pbc, L, NL)\n",
    "            #pos, vel = Leapfrog(pos, vel, no_bounds) #to implement wall_force boundary\n",
    "            if n_iter%10 ==0:\n",
    "                NL = Neighbor_list(pos)\n",
    "                write_file(file_name, pos, n_iter)\n",
    "            \n",
    "\n",
    "            dist_atoms.append(get_positions(pos[0], pos[1])[1])\n",
    "            PE.append(e_pot(pos))\n",
    "            KE.append(e_kin(vel))\n",
    "            TE.append(total_energy(pos, vel))\n",
    "            Temp.append(temp(vel))\n",
    "            Pressure.append(P)\n",
    "            \n",
    "            \n",
    "            \n",
    "            \n",
    "            \n",
    "            \n",
    "    file_name.close()\n",
    "    return dist_atoms, PE, KE, TE, NL, Temp, Pressure"
   ]
  },
  {
   "cell_type": "markdown",
   "id": "b28248a2",
   "metadata": {},
   "source": [
    "# Leapfrog"
   ]
  },
  {
   "cell_type": "code",
   "execution_count": 49,
   "id": "5139975d",
   "metadata": {},
   "outputs": [
    {
     "name": "stderr",
     "output_type": "stream",
     "text": [
      "100%|██████████| 1000/1000 [03:54<00:00,  4.26it/s]\n"
     ]
    }
   ],
   "source": [
    "N = 300\n",
    "dist_atoms, PE, KE, TE, NL, Tem, Pres= main(3, L)\n",
    "#main(3)\n"
   ]
  },
  {
   "cell_type": "code",
   "execution_count": 52,
   "id": "4afc8dd1",
   "metadata": {},
   "outputs": [
    {
     "data": {
      "text/plain": [
       "[<matplotlib.lines.Line2D at 0x7f47c22687f0>]"
      ]
     },
     "execution_count": 52,
     "metadata": {},
     "output_type": "execute_result"
    },
    {
     "data": {
      "image/png": "[encoded data removed]",
      "text/plain": [
       "<Figure size 432x288 with 1 Axes>"
      ]
     },
     "metadata": {
      "needs_background": "light"
     },
     "output_type": "display_data"
    }
   ],
   "source": [
    "plt.ylim((90,600))\n",
    "plt.xlim((800,1000))\n",
    "plt.plot(Tem)"
   ]
  },
  {
   "cell_type": "code",
   "execution_count": 53,
   "id": "b35a1769",
   "metadata": {},
   "outputs": [
    {
     "data": {
      "text/plain": [
       "[<matplotlib.lines.Line2D at 0x7f47c2249a00>]"
      ]
     },
     "execution_count": 53,
     "metadata": {},
     "output_type": "execute_result"
    },
    {
     "data": {
      "image/png": "[encoded data removed]",
      "text/plain": [
       "<Figure size 432x288 with 1 Axes>"
      ]
     },
     "metadata": {
      "needs_background": "light"
     },
     "output_type": "display_data"
    }
   ],
   "source": [
    "plt.plot(Pres)"
   ]
  },
  {
   "cell_type": "code",
   "execution_count": 54,
   "id": "513fd15e",
   "metadata": {},
   "outputs": [
    {
     "data": {
      "image/png": "[encoded data removed]",
      "text/plain": [
       "<Figure size 432x288 with 4 Axes>"
      ]
     },
     "metadata": {
      "needs_background": "light"
     },
     "output_type": "display_data"
    }
   ],
   "source": [
    "fig, axs = plt.subplots(2, 2)\n",
    "\n",
    "axs[0, 0].plot(PE, 'tab:red')\n",
    "axs[0, 0].set_title('PE')\n",
    "axs[0, 0].set_xlabel('Timestep')\n",
    "axs[0, 0].set_ylabel('KE')\n",
    "\n",
    "axs[0, 1].plot(KE, 'tab:orange')\n",
    "axs[0, 1].set_title('KE')\n",
    "axs[0, 1].set_xlabel('Timestep')\n",
    "axs[0, 1].set_ylabel('KE')\n",
    "\n",
    "axs[1, 0].plot(TE, 'tab:green') # spikes in the total energy at 10^-3 timestep \n",
    "axs[1, 0].set_title('Total energy')\n",
    "axs[1, 0].set_xlabel('r')\n",
    "axs[1, 0].set_ylabel('TE')\n",
    "\n",
    "axs[1, 1].plot(PE,'tab:blue')\n",
    "axs[1, 1].plot(KE, 'tab:orange')\n",
    "axs[1, 1].set_title('PE and KE')\n",
    "axs[1, 1].set_xlabel('Time step')\n",
    "axs[1, 1].set_ylabel('Energy')\n",
    "\n",
    "plt.tight_layout()"
   ]
  },
  {
   "cell_type": "code",
   "execution_count": 55,
   "id": "40b2e6e4",
   "metadata": {},
   "outputs": [
    {
     "data": {
      "text/plain": [
       "[<matplotlib.lines.Line2D at 0x7f47c2f99580>]"
      ]
     },
     "execution_count": 55,
     "metadata": {},
     "output_type": "execute_result"
    },
    {
     "data": {
      "image/png": "[encoded data removed]",
      "text/plain": [
       "<Figure size 432x288 with 1 Axes>"
      ]
     },
     "metadata": {
      "needs_background": "light"
     },
     "output_type": "display_data"
    }
   ],
   "source": [
    "plt.plot(KE,'tab:orange')\n",
    "plt.plot(PE,'tab:blue')"
   ]
  },
  {
   "cell_type": "markdown",
   "id": "f8ce2f1d",
   "metadata": {},
   "source": [
    "## LF 100"
   ]
  },
  {
   "cell_type": "code",
   "execution_count": null,
   "id": "67cc4429",
   "metadata": {},
   "outputs": [
    {
     "name": "stderr",
     "output_type": "stream",
     "text": [
      "  5%|▍         | 459/10000 [00:04<01:41, 94.19it/s]<ipython-input-95-305e461d5d1e>:35: RuntimeWarning: overflow encountered in double_scalars\n",
      "  vol = L**3\n",
      " 12%|█▏        | 1209/10000 [00:12<01:33, 94.29it/s]"
     ]
    }
   ],
   "source": [
    "N = 50\n",
    "dist_atoms, PE, KE, TE, NL, Tem, Pres= main(3, L)\n",
    "#main(3)"
   ]
  },
  {
   "cell_type": "code",
   "execution_count": 108,
   "id": "74394330",
   "metadata": {},
   "outputs": [
    {
     "data": {
      "text/plain": [
       "[<matplotlib.lines.Line2D at 0x7f47bbb26f40>]"
      ]
     },
     "execution_count": 108,
     "metadata": {},
     "output_type": "execute_result"
    },
    {
     "data": {
      "image/png": "[encoded data removed]",
      "text/plain": [
       "<Figure size 432x288 with 1 Axes>"
      ]
     },
     "metadata": {
      "needs_background": "light"
     },
     "output_type": "display_data"
    }
   ],
   "source": [
    "#plt.ylim((0.99,1.1))\n",
    "#plt.xlim((3000,10000))\n",
    "plt.plot(Tem)"
   ]
  },
  {
   "cell_type": "code",
   "execution_count": 102,
   "id": "c06568a6",
   "metadata": {},
   "outputs": [
    {
     "data": {
      "image/png": "[encoded data removed]",
      "text/plain": [
       "<Figure size 432x288 with 4 Axes>"
      ]
     },
     "metadata": {
      "needs_background": "light"
     },
     "output_type": "display_data"
    }
   ],
   "source": [
    "fig, axs = plt.subplots(2, 2)\n",
    "\n",
    "axs[0, 0].plot(PE, 'tab:red')\n",
    "axs[0, 0].set_title('PE')\n",
    "axs[0, 0].set_xlabel('Timestep')\n",
    "axs[0, 0].set_ylabel('KE')\n",
    "\n",
    "axs[0, 1].plot(PE,'tab:blue')\n",
    "axs[0, 1].plot(KE, 'tab:orange')\n",
    "axs[0, 1].set_title('PE and KE')\n",
    "axs[0, 1].set_xlabel('Time step')\n",
    "axs[0, 1].set_ylabel('Energy')\n",
    "\n",
    "axs[1, 0].plot(TE, 'tab:green') # spikes in the total energy at 10^-3 timestep \n",
    "axs[1, 0].set_title('Total energy')\n",
    "axs[1, 0].set_xlabel('Timestep')\n",
    "axs[1, 0].set_ylabel('TE')\n",
    "\n",
    "axs[1, 1].plot(Pres, 'tab:orange')\n",
    "axs[1, 1].set_title('Pres')\n",
    "axs[1, 1].set_xlabel('Timestep')\n",
    "axs[1, 1].set_ylabel('Pres')\n",
    "\n",
    "plt.tight_layout()"
   ]
  },
  {
   "cell_type": "code",
   "execution_count": null,
   "id": "dfaa571b",
   "metadata": {},
   "outputs": [],
   "source": [
    "#Without Numba: Est. time for 700 particles: 02:56:33 ~0.099 it/s\n",
    "#With Numba: Est. time for 700 particles: 00:13:32 ~ 1.17 it/s\n",
    "\n",
    "#Conclusion: It is worth trying Numba!"
   ]
  }
 ],
 "metadata": {
  "kernelspec": {
   "display_name": "Python 3",
   "language": "python",
   "name": "python3"
  },
  "language_info": {
   "codemirror_mode": {
    "name": "ipython",
    "version": 3
   },
   "file_extension": ".py",
   "mimetype": "text/x-python",
   "name": "python",
   "nbconvert_exporter": "python",
   "pygments_lexer": "ipython3",
   "version": "3.8.5"
  }
 },
 "nbformat": 4,
 "nbformat_minor": 5
}
