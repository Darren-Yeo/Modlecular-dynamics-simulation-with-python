{
 "cells": [
  {
   "cell_type": "code",
   "execution_count": 1,
   "id": "8461fd2d",
   "metadata": {},
   "outputs": [
    {
     "name": "stdout",
     "output_type": "stream",
     "text": [
      "3.8.5\n"
     ]
    }
   ],
   "source": [
    "from platform import python_version\n",
    "\n",
    "print(python_version())\n"
   ]
  },
  {
   "cell_type": "code",
   "execution_count": 2,
   "id": "64c65a29",
   "metadata": {},
   "outputs": [
    {
     "name": "stdout",
     "output_type": "stream",
     "text": [
      "Requirement already satisfied: tqdm in ./lib/python3.8/site-packages (4.61.0)\n",
      "\u001b[33mWARNING: You are using pip version 21.0.1; however, version 21.1.2 is available.\n",
      "You should consider upgrading via the '/home/darrenyeo/python/python/bin/python -m pip install --upgrade pip' command.\u001b[0m\n",
      "Note: you may need to restart the kernel to use updated packages.\n"
     ]
    }
   ],
   "source": [
    "pip install tqdm"
   ]
  },
  {
   "cell_type": "code",
   "execution_count": 2,
   "id": "eda3f68f",
   "metadata": {},
   "outputs": [],
   "source": [
    "from tqdm.notebook import tqdm"
   ]
  },
  {
   "cell_type": "code",
   "execution_count": 3,
   "id": "f9c74742",
   "metadata": {},
   "outputs": [],
   "source": [
    "import numpy as np\n",
    "import matplotlib.pyplot as plt\n",
    "import scipy as scp\n",
    "from scipy import constants"
   ]
  },
  {
   "cell_type": "code",
   "execution_count": 7,
   "id": "8cba8202",
   "metadata": {},
   "outputs": [],
   "source": [
    "#Global variables\n",
    "L = 10 #unit:nm length of the box\n",
    "N = 100#100 #unit:numbers\n",
    "m = 39.948 # unit: a.m.u\n",
    "T = 100 #unit:kelvin\n",
    "KB = constants.R*10**-3  #unit KJ/mol.K\n",
    "dt = 10**-3 #unit:ps\n",
    "n_steps =1000 #unitness\n",
    "epsilon = 1\n",
    "sigma = 0.34"
   ]
  },
  {
   "cell_type": "code",
   "execution_count": 93,
   "id": "6872386a",
   "metadata": {},
   "outputs": [
    {
     "data": {
      "text/plain": [
       "0.008314462618"
      ]
     },
     "execution_count": 93,
     "metadata": {},
     "output_type": "execute_result"
    }
   ],
   "source": [
    "KB"
   ]
  },
  {
   "cell_type": "code",
   "execution_count": 8,
   "id": "ff8e43ef",
   "metadata": {},
   "outputs": [],
   "source": [
    "def write_file(FILE1, coords, n_iter):\n",
    "    \n",
    "    '''\n",
    "    \n",
    "    This function is used to save obtained coordinates into the PyMol readable format PDB.\n",
    "    It also writes several other interesting stuff to plain .txt files.\n",
    "    \n",
    "    FILE1 := Coordinaten File Name (Should end with .pdb)\n",
    "    n_iter := Number of step\n",
    "    \n",
    "    '''\n",
    "\n",
    "\n",
    "    #Coordinates are round to the second decimal position to faciliate saving\n",
    "    round_ = 2\n",
    "\n",
    "    #Write head for each frame   \n",
    "    FILE1.write('MODEL {}\\n'.format(n_iter)) #Start of a frame\n",
    "    N = coords.shape[0] #Get number of atoms\n",
    "    \n",
    "    \n",
    "    #Just iterate over all coordinates and write them down line per line\n",
    "    for i in range(N):\n",
    "        \n",
    "        #The PDB-formate is really strict the line below is from: https://cupnet.net/pdb-format/\n",
    " \n",
    "        #ATOM  #ID   #NAME     #RESN      #RESID          #X    #Y     #Z\n",
    "        coord_str = \"{:6s}{:5d} {:^4s}{:1s}{:3s} {:1s}{:4d}{:1s}   {:8.3f}{:8.3f}{:8.3f}{:6.2f}{:6.2f}          {:>2s}{:2s}\\n\".format('ATOM', int(i),\n",
    "                                                                                                                         'PAR', ' ', 'ARG',\n",
    "                                                                                                                         ' ', int(i), ' ',\n",
    "                                                                                                                         np.round(coords[i][0], round_)*10,\n",
    "                                                                                                                         np.round(coords[i][1], round_)*10,\n",
    "                                                                                                                         np.round(coords[i][2], round_)*10,\n",
    "                                                                                                                          1.0, 1.0, 'Ar', ' ')\n",
    " \n",
    " \n",
    "        FILE1.write(coord_str) #Write coordinates\n",
    "    FILE1.write('TER\\nENDMDL\\n') #End of a frame"
   ]
  },
  {
   "cell_type": "markdown",
   "id": "8d759c75",
   "metadata": {},
   "source": [
    "# Initializing positions and velocity in box for N = 100."
   ]
  },
  {
   "cell_type": "code",
   "execution_count": 127,
   "id": "37381015",
   "metadata": {},
   "outputs": [],
   "source": [
    "def init_pos():\n",
    "    \"\"\"initialize position of atoms within L in x, y, z coordinates where L = 10\n",
    "    Border and grid set to be \"smaller\" than the box size where L = 10 \"\"\"\n",
    "    scale = pressure_coupling()\n",
    "    coord =[]\n",
    "    border= 4*sigma # no atoms will generate that are <4*sigma\n",
    "    Grid = L-border # no atoms will generate that are > L-(4*sigma)\n",
    "    for i in range(N):\n",
    "        coordinates = [np.random.choice(np.arange(border,Grid,0.1)), np.random.choice(np.arange(border,Grid,0.1)), np.random.choice(np.arange(border,Grid,0.1))]\n",
    "        coord.append(coordinates)\n",
    "        \n",
    "    for i in np.array(coord):\n",
    "        for k in range(3):\n",
    "            scaled_coord =np.array(coord[i,k]) *scale #ERROR WHY???\n",
    "    \n",
    "    return np.array(scaled_coord)\n",
    "\n",
    "\n",
    "#return x, y, z # pos.shape =(Nx3)\n",
    "#keine Überlappung, Teilchen in der Box"
   ]
  },
  {
   "cell_type": "code",
   "execution_count": 105,
   "id": "953760b9",
   "metadata": {},
   "outputs": [
    {
     "data": {
      "text/plain": [
       "0.992593793179033"
      ]
     },
     "execution_count": 105,
     "metadata": {},
     "output_type": "execute_result"
    }
   ],
   "source": [
    "pressure_coupling()"
   ]
  },
  {
   "cell_type": "markdown",
   "id": "6460250f",
   "metadata": {},
   "source": [
    "# Test for scaling "
   ]
  },
  {
   "cell_type": "code",
   "execution_count": 10,
   "id": "d66e3bfe",
   "metadata": {},
   "outputs": [],
   "source": [
    "#def init_pos():\n",
    "#    \"\"\"initialize position of atoms within L in x, y, z coordinates where L = 2\n",
    "#    Border and grid set to be \"smaller\" than the box size where L = 2 \"\"\"\n",
    "#    coord =[]\n",
    "#    border= 2*sigma # no atoms will generate that are <2*sigma\n",
    "#    Grid = L-border # no atoms will generate that are > L-(2*sigma)\n",
    "#    for i in range(N):\n",
    "#        coordinates = [np.random.choice(np.arange(border,Grid,0.1)), np.random.choice(np.arange(border,Grid,0.1)), np.random.choice(np.arange(border,Grid,0.1))]\n",
    "#        coord.append(coordinates)\n",
    "    \n",
    "#    return np.array(coord)"
   ]
  },
  {
   "cell_type": "code",
   "execution_count": 129,
   "id": "3a70eb41",
   "metadata": {},
   "outputs": [
    {
     "ename": "TypeError",
     "evalue": "list indices must be integers or slices, not tuple",
     "output_type": "error",
     "traceback": [
      "\u001b[0;31m---------------------------------------------------------------------------\u001b[0m",
      "\u001b[0;31mTypeError\u001b[0m                                 Traceback (most recent call last)",
      "\u001b[0;32m<ipython-input-129-494a69bbb96c>\u001b[0m in \u001b[0;36m<module>\u001b[0;34m\u001b[0m\n\u001b[0;32m----> 1\u001b[0;31m \u001b[0minitpos\u001b[0m\u001b[0;34m=\u001b[0m\u001b[0minit_pos\u001b[0m\u001b[0;34m(\u001b[0m\u001b[0;34m)\u001b[0m\u001b[0;34m\u001b[0m\u001b[0;34m\u001b[0m\u001b[0m\n\u001b[0m\u001b[1;32m      2\u001b[0m \u001b[0minitpos\u001b[0m\u001b[0;34m\u001b[0m\u001b[0;34m\u001b[0m\u001b[0m\n",
      "\u001b[0;32m<ipython-input-127-65f947b6dcaf>\u001b[0m in \u001b[0;36minit_pos\u001b[0;34m()\u001b[0m\n\u001b[1;32m     12\u001b[0m     \u001b[0;32mfor\u001b[0m \u001b[0mi\u001b[0m \u001b[0;32min\u001b[0m \u001b[0mnp\u001b[0m\u001b[0;34m.\u001b[0m\u001b[0marray\u001b[0m\u001b[0;34m(\u001b[0m\u001b[0mcoord\u001b[0m\u001b[0;34m)\u001b[0m\u001b[0;34m:\u001b[0m\u001b[0;34m\u001b[0m\u001b[0;34m\u001b[0m\u001b[0m\n\u001b[1;32m     13\u001b[0m         \u001b[0;32mfor\u001b[0m \u001b[0mk\u001b[0m \u001b[0;32min\u001b[0m \u001b[0mrange\u001b[0m\u001b[0;34m(\u001b[0m\u001b[0;36m3\u001b[0m\u001b[0;34m)\u001b[0m\u001b[0;34m:\u001b[0m\u001b[0;34m\u001b[0m\u001b[0;34m\u001b[0m\u001b[0m\n\u001b[0;32m---> 14\u001b[0;31m             \u001b[0mscaled_coord\u001b[0m \u001b[0;34m=\u001b[0m\u001b[0mnp\u001b[0m\u001b[0;34m.\u001b[0m\u001b[0marray\u001b[0m\u001b[0;34m(\u001b[0m\u001b[0mcoord\u001b[0m\u001b[0;34m[\u001b[0m\u001b[0mi\u001b[0m\u001b[0;34m,\u001b[0m\u001b[0mk\u001b[0m\u001b[0;34m]\u001b[0m\u001b[0;34m[\u001b[0m\u001b[0;34m:\u001b[0m\u001b[0;34m,\u001b[0m\u001b[0;36m2\u001b[0m\u001b[0;34m]\u001b[0m\u001b[0;34m)\u001b[0m \u001b[0;34m*\u001b[0m\u001b[0mscale\u001b[0m\u001b[0;34m\u001b[0m\u001b[0;34m\u001b[0m\u001b[0m\n\u001b[0m\u001b[1;32m     15\u001b[0m \u001b[0;34m\u001b[0m\u001b[0m\n\u001b[1;32m     16\u001b[0m     \u001b[0;32mreturn\u001b[0m \u001b[0mnp\u001b[0m\u001b[0;34m.\u001b[0m\u001b[0marray\u001b[0m\u001b[0;34m(\u001b[0m\u001b[0mscaled_coord\u001b[0m\u001b[0;34m)\u001b[0m\u001b[0;34m\u001b[0m\u001b[0;34m\u001b[0m\u001b[0m\n",
      "\u001b[0;31mTypeError\u001b[0m: list indices must be integers or slices, not tuple"
     ]
    }
   ],
   "source": [
    "initpos=init_pos()\n",
    "initpos"
   ]
  },
  {
   "cell_type": "code",
   "execution_count": 14,
   "id": "6c07aa56",
   "metadata": {},
   "outputs": [],
   "source": [
    "def init_vel(V):\n",
    "    \"\"\"initialize random velocities of the atoms\"\"\"\n",
    "    velocity = np.random.normal(0, np.sqrt(KB*T/m),(V,3))\n",
    "    \n",
    "    return velocity\n",
    "\n",
    "#vel.shape =(Nx3)\n",
    "#zufällig verteilt"
   ]
  },
  {
   "cell_type": "markdown",
   "id": "c89dea79",
   "metadata": {},
   "source": [
    "# Day 2"
   ]
  },
  {
   "cell_type": "code",
   "execution_count": 138,
   "id": "83e1da77",
   "metadata": {},
   "outputs": [],
   "source": [
    "#vel = init_vel(1000)\n",
    "#vel"
   ]
  },
  {
   "cell_type": "code",
   "execution_count": 15,
   "id": "39f5c766",
   "metadata": {},
   "outputs": [
    {
     "ename": "NameError",
     "evalue": "name 'vel' is not defined",
     "output_type": "error",
     "traceback": [
      "\u001b[0;31m---------------------------------------------------------------------------\u001b[0m",
      "\u001b[0;31mNameError\u001b[0m                                 Traceback (most recent call last)",
      "\u001b[0;32m<ipython-input-15-56dca4822a2e>\u001b[0m in \u001b[0;36m<module>\u001b[0;34m\u001b[0m\n\u001b[0;32m----> 1\u001b[0;31m \u001b[0mnp\u001b[0m\u001b[0;34m.\u001b[0m\u001b[0msqrt\u001b[0m\u001b[0;34m(\u001b[0m\u001b[0mnp\u001b[0m\u001b[0;34m.\u001b[0m\u001b[0msum\u001b[0m\u001b[0;34m(\u001b[0m\u001b[0mvel\u001b[0m\u001b[0;34m**\u001b[0m\u001b[0;36m2\u001b[0m\u001b[0;34m,\u001b[0m \u001b[0;36m1\u001b[0m\u001b[0;34m)\u001b[0m\u001b[0;34m)\u001b[0m\u001b[0;34m\u001b[0m\u001b[0;34m\u001b[0m\u001b[0m\n\u001b[0m",
      "\u001b[0;31mNameError\u001b[0m: name 'vel' is not defined"
     ]
    }
   ],
   "source": [
    "np.sqrt(np.sum(vel**2, 1))"
   ]
  },
  {
   "cell_type": "code",
   "execution_count": 17,
   "id": "5a24fabb",
   "metadata": {},
   "outputs": [],
   "source": [
    "def initialization():\n",
    "    pos=init_pos()\n",
    "    vel=init_vel\n",
    "    file_name=open(\"tmp.pdb\", \"w\")\n",
    "    write_file(file_name, pos, 1)# change 1 to n_iter"
   ]
  },
  {
   "cell_type": "code",
   "execution_count": 18,
   "id": "e45a412e",
   "metadata": {},
   "outputs": [],
   "source": [
    "def hist_plot(file_name, vels):\n",
    "    fig, ax = plt.subplots(2,2)\n",
    "    y_axes = ['Freq', 'Freq', 'Freq', 'Prob density']\n",
    "    x_axes = ['Vx', 'Vy', 'Vz', 'V']\n",
    "    title =['Hist Vx', 'Hist Vy', 'Hist Vz', 'Maxwell boltzman distribution']\n",
    "    c=0\n",
    "    for i in range(2):\n",
    "        for j in range(2):\n",
    "            if c !=3:\n",
    "                \n",
    "                ax[i,j].hist(vels[:,c], bins =20, density=True)\n",
    "                ax[i,j].set_title(title[c])\n",
    "                ax[i,j].set_xlabel(x_axes[c])\n",
    "                ax[i,j].set_ylabel(y_axes[c])\n",
    "            else:\n",
    "                ax[i,j].hist(np.sqrt(np.sum(vel**2, 1)), bins =20, density=True)\n",
    "                ax[i,j].set_title(title[c])\n",
    "                ax[i,j].set_xlabel(x_axes[c])\n",
    "                ax[i,j].set_ylabel(y_axes[c])\n",
    "                    \n",
    "            c+=1\n",
    "    plt.tight_layout()\n",
    "            \n",
    "        \n"
   ]
  },
  {
   "cell_type": "code",
   "execution_count": 19,
   "id": "c42e5f28",
   "metadata": {},
   "outputs": [
    {
     "ename": "NameError",
     "evalue": "name 'vel' is not defined",
     "output_type": "error",
     "traceback": [
      "\u001b[0;31m---------------------------------------------------------------------------\u001b[0m",
      "\u001b[0;31mNameError\u001b[0m                                 Traceback (most recent call last)",
      "\u001b[0;32m<ipython-input-19-ba1427772f87>\u001b[0m in \u001b[0;36m<module>\u001b[0;34m\u001b[0m\n\u001b[0;32m----> 1\u001b[0;31m \u001b[0mhist_plot\u001b[0m\u001b[0;34m(\u001b[0m\u001b[0;34m\"str\"\u001b[0m\u001b[0;34m,\u001b[0m \u001b[0mvel\u001b[0m\u001b[0;34m)\u001b[0m\u001b[0;34m\u001b[0m\u001b[0;34m\u001b[0m\u001b[0m\n\u001b[0m",
      "\u001b[0;31mNameError\u001b[0m: name 'vel' is not defined"
     ]
    }
   ],
   "source": [
    "hist_plot(\"str\", vel)"
   ]
  },
  {
   "cell_type": "markdown",
   "id": "d4cb8191",
   "metadata": {},
   "source": [
    "# Test atoms for algorithms"
   ]
  },
  {
   "cell_type": "code",
   "execution_count": 20,
   "id": "6acbcced",
   "metadata": {},
   "outputs": [],
   "source": [
    "def test_pos():\n",
    "    \"\"\"For testing of the different boundaries\"\"\"\n",
    "    pos = np.array([[1,5,5], [9,5,5]])\n",
    "    \n",
    "    return pos"
   ]
  },
  {
   "cell_type": "code",
   "execution_count": 21,
   "id": "4e5b41dd",
   "metadata": {},
   "outputs": [],
   "source": [
    "def test_vel():\n",
    "    \"\"\"For testing of the different boundaries\"\"\"\n",
    "    vel = np.array([[0,0,0], [0,0,0]])\n",
    "    \n",
    "    return vel\n"
   ]
  },
  {
   "cell_type": "markdown",
   "id": "b267ed3e",
   "metadata": {},
   "source": [
    "# Defining Boundaries and initialization of force"
   ]
  },
  {
   "cell_type": "code",
   "execution_count": 22,
   "id": "967fd0a0",
   "metadata": {},
   "outputs": [],
   "source": [
    "def no_bounds(pos, vel):\n",
    "    \"\"\"initialisation for wall potential\"\"\"\n",
    "    return pos, vel"
   ]
  },
  {
   "cell_type": "code",
   "execution_count": 23,
   "id": "87febeb0",
   "metadata": {},
   "outputs": [],
   "source": [
    "def compute_force(pos): # initialised to zero at the beginning of the simulation-- will increase later\n",
    "    \"\"\"set forces to 0\"\"\"\n",
    "    pos = np.zeros((N,3))\n",
    "    return np.zeros(pos.shape)\n"
   ]
  },
  {
   "cell_type": "code",
   "execution_count": 24,
   "id": "30fdef54",
   "metadata": {},
   "outputs": [],
   "source": [
    "def pbc(pos, vel): #velocity here does not change, wrote it this way to accomodate Angle function(change in velocity)\n",
    "    \"\"\"Periodic boundary conditions, ensures that any atoms that move out of the box are placed back into the box again\"\"\"\n",
    "    for i in range(N):\n",
    "        for j in range(3):\n",
    "            if pos[i,j]<0:\n",
    "                pos[i,j] = L+pos[i,j] #pos[i,j] is negative, hence sign should be + so that pos[i,j] <L                \n",
    "                \n",
    "            elif pos[i,j]>L:\n",
    "                pos[i,j] = pos[i,j]-L\n",
    "                \n",
    "    return pos, vel"
   ]
  },
  {
   "cell_type": "code",
   "execution_count": null,
   "id": "9dc8c8fc",
   "metadata": {},
   "outputs": [],
   "source": [
    "def pbc(pos, vel): \n",
    "    pos = np.where(pos>0, pos ,L+pos) #for all positions of atoms bigger than 0, stay as it is. otherwise plus L to be in the box \n",
    "    pos = np.where(pos<L, pos, pos-L) #for all positions of atoms smaller than L, stay as it is. otherwise minus L to be in the box\n",
    "    \n",
    "    return pos"
   ]
  },
  {
   "cell_type": "code",
   "execution_count": 25,
   "id": "5b29f223",
   "metadata": {},
   "outputs": [],
   "source": [
    "def Angle(pos, vel):\n",
    "    \"\"\"Boundary where particles bounces off the wall at an angle\"\"\"\n",
    "    for i in range(N):\n",
    "        for j in range(3):\n",
    "            if pos[i,j]<0:\n",
    "                pos[i,j] = pos[i,j]*(-1) #When particles in x, y, z coodrinates outside of the \"box\", pos<0. angle reflection has to be same\n",
    "                vel[i,j]=  vel[i,j]*(-1)\n",
    "                \n",
    "            elif pos[i,j]>L:\n",
    "                pos[i,j] = 2*L-pos[i,j] #When particles in x, y, z coodrinates outside of the \"box\", pos>L. angle reflection has to be same\n",
    "                vel[i,j]=  vel[i,j]*(-1)\n",
    "                \n",
    "    return pos, vel"
   ]
  },
  {
   "cell_type": "code",
   "execution_count": 21,
   "id": "e7391acf",
   "metadata": {},
   "outputs": [],
   "source": [
    "def Angle(pos, vel):\n",
    "    pos=np.where(pos>0, pos, pos*(-1))\n",
    "    "
   ]
  },
  {
   "cell_type": "code",
   "execution_count": 26,
   "id": "d2bff3a0",
   "metadata": {},
   "outputs": [],
   "source": [
    "def wall_force(pos):\n",
    "    \"\"\"Wall potential repulsion (F) according to lennard jones potential, only the repulsion part of the equation is taken into accound\"\"\"\n",
    "    \n",
    "    force = np.zeros((N,3))\n",
    "    for i in range(N):\n",
    "        for j in range(3):\n",
    "            if pos[i,j]<(4*sigma):\n",
    "                force[i,j] = 48*(epsilon/sigma)*((sigma/(np.absolute(pos[i,j]))**13))\n",
    "                \n",
    "                \n",
    "                \n",
    "            elif pos[i,j]>(L-(4*sigma)):\n",
    "                force[i,j] = -48*(epsilon/sigma)*((sigma/(L-pos[i,j]))**13) #- sign, because the force needs to be in the negative direction as it repels from the right side of the box\n",
    "                \n",
    "                \n",
    "    return force   "
   ]
  },
  {
   "cell_type": "markdown",
   "id": "afe5f95d",
   "metadata": {},
   "source": [
    "# Temperature and pressure coupling"
   ]
  },
  {
   "cell_type": "code",
   "execution_count": 77,
   "id": "21e56a28",
   "metadata": {},
   "outputs": [],
   "source": [
    "def temp(vel):\n",
    "    \"\"\"Returns the current temperature of the system\"\"\"\n",
    "    KE = e_kin(vel)\n",
    "    temp = (2*KE)/(3*N*KB)\n",
    "    \n",
    "    return temp"
   ]
  },
  {
   "cell_type": "code",
   "execution_count": 82,
   "id": "6b77bfcd",
   "metadata": {},
   "outputs": [],
   "source": [
    "def berendsen_temp(vel):\n",
    "    \"\"\"Berendsen thermostat\"\"\"\n",
    "    tau = 0.1 #ps, tau referenced online for 0.1-0.4 ps for dt of 1fs(femtosecond)\n",
    "    temp_new = temp(vel)\n",
    "    scale = np.sqrt(1+(dt/tau)*(T/temp_new-1))\n",
    "    \n",
    "    \n",
    "    return scale "
   ]
  },
  {
   "cell_type": "code",
   "execution_count": 88,
   "id": "386bbaef",
   "metadata": {},
   "outputs": [],
   "source": [
    "def pressure():\n",
    "    \"\"\"Ideal gas law\"\"\"\n",
    "    P=(N*KB*T)/L**3\n",
    "    \n",
    "    return P"
   ]
  },
  {
   "cell_type": "code",
   "execution_count": 95,
   "id": "56f1f816",
   "metadata": {},
   "outputs": [],
   "source": [
    "def pressure_coupling():\n",
    "    \"\"\"Berendsen Barostat\"\"\"\n",
    "    taup = 5\n",
    "    P0 = 1\n",
    "    P = pressure()\n",
    "    scale = (1 - 1/ KB* dt / taup * (P0 - P) )**(1./3)\n",
    "    \n",
    "    return scale"
   ]
  },
  {
   "cell_type": "code",
   "execution_count": 92,
   "id": "8b6498ad",
   "metadata": {},
   "outputs": [
    {
     "data": {
      "text/plain": [
       "0.08314462618"
      ]
     },
     "execution_count": 92,
     "metadata": {},
     "output_type": "execute_result"
    }
   ],
   "source": []
  },
  {
   "cell_type": "markdown",
   "id": "ff9b81b6",
   "metadata": {},
   "source": [
    "# Algorithms"
   ]
  },
  {
   "cell_type": "code",
   "execution_count": 31,
   "id": "72942add",
   "metadata": {},
   "outputs": [],
   "source": [
    "def Euler(pos, vel, boundary):\n",
    "    \"\"\"Euler algorithm, kraft frei\"\"\"\n",
    "    pos_new = pos+ vel*dt\n",
    "    pos_new, vel_new =boundary(pos_new, vel)       \n",
    "        \n",
    "    \n",
    "    \n",
    "    return pos_new"
   ]
  },
  {
   "cell_type": "code",
   "execution_count": 32,
   "id": "45332541",
   "metadata": {},
   "outputs": [],
   "source": [
    "def Verlet(pos, pos_old, vel, force, boundary):\n",
    "    \"\"\"Verlet algorithm\"\"\"\n",
    "    force = Interacting_atoms(pos) \n",
    "    #force = force + wall_force(pos) #+In order to implement wall potential\n",
    "    pos_new = 2*pos - pos_old + force/m * dt**2\n",
    "    vel = ((pos_new  - pos_old)/2*dt)\n",
    "    pos_new, vel_new =boundary(pos_new, vel)\n",
    "    \n",
    "    return pos_new, pos, vel_new"
   ]
  },
  {
   "cell_type": "code",
   "execution_count": 26,
   "id": "09e76e62",
   "metadata": {},
   "outputs": [],
   "source": [
    "#def Velocity_verlet(pos, vel, boundary):\n",
    " #   \"\"\"Initial Velocity Verlet for pbc and angle reflection\"\"\"\n",
    " #   force = Force(pos)\n",
    " #   pos_new = pos + vel*dt + (force/(2*m))*dt**2 \n",
    " #   force_new = Force(pos_new)\n",
    " #   vel_new = vel + ((force_new + force)/(2*m))*dt\n",
    " #   pos_new =boundary(pos_new)\n",
    "    \n",
    " #   return pos_new, vel_new"
   ]
  },
  {
   "cell_type": "code",
   "execution_count": 33,
   "id": "1c583e27",
   "metadata": {},
   "outputs": [],
   "source": [
    "def Velocity_verlet(pos, vel, boundary):\n",
    "    \"\"\"Velocity Verlet to run with Wall boundary repulsion according to lennard jones potential.\n",
    "    Only repulsion is taken into account. Interaction of atoms according to LJ included\"\"\"\n",
    "    #force = compute_force(pos) + wall_force(pos) #when computing forces\n",
    "    force = Interacting_atoms(pos) \n",
    "    pos_new = pos + vel*dt + (force/(2*m))*dt**2  # Veleocity verlet algorithm for position\n",
    "    #force_new = compute_force(pos_new) + wall_force(pos_new)\n",
    "    force_new = Interacting_atoms(pos_new)\n",
    "    vel_new = vel + ((force_new + force)/(2*m))*dt # Veleocity verlet algorithm for velocity\n",
    "    pos_new, vel_new =boundary(pos_new, vel_new)\n",
    "    \n",
    "    return pos_new, vel_new"
   ]
  },
  {
   "cell_type": "code",
   "execution_count": 26,
   "id": "33d8700d",
   "metadata": {},
   "outputs": [],
   "source": [
    "#def Leapfrog(pos, vel, boundary):\n",
    "#    \"\"\"Leapfrog algorithm\"\"\"\n",
    "#    force = Interacting_atoms(pos) #when computing forces, this will not be correct\n",
    "#    #force = compute_force(pos) + wall_force(pos) # in order to implement wall_force repulsion   \n",
    "#    vel_new = vel + dt*(force/m)\n",
    "#    pos_new = pos + dt*vel_new\n",
    "#    pos_new, vel_new =boundary(pos_new, vel_new)\n",
    "    #print(force)\n",
    "    \n",
    "#    return pos_new, vel_new\n"
   ]
  },
  {
   "cell_type": "code",
   "execution_count": 84,
   "id": "e4cdb72d",
   "metadata": {},
   "outputs": [],
   "source": [
    "def Leapfrog(pos, vel, boundary):\n",
    "    \"\"\"Leapfrog algorithm\"\"\"\n",
    "    force = Interacting_atoms(pos) #when computing forces, this will not be correct\n",
    "    #force = compute_force(pos) + wall_force(pos) # in order to implement wall_force repulsion   \n",
    "    \n",
    "    scale = berendsen_temp(vel) #Scale value for berendsen thermostat\n",
    "    \n",
    "    \n",
    "    vel_new = vel + dt*(force/m)\n",
    "    vel_new2 = scale*vel_new #scale value taken into account\n",
    "    pos_new = pos + dt*vel_new2\n",
    "    pos_new, vel_new2 =boundary(pos_new, vel_new2)\n",
    "    #print(force)\n",
    "    \n",
    "    return pos_new, vel_new2\n"
   ]
  },
  {
   "cell_type": "code",
   "execution_count": 35,
   "id": "0e693239",
   "metadata": {},
   "outputs": [],
   "source": [
    "def get_positions(pos1, pos2):\n",
    "    \"\"\"Return der direction of r and the absolute value of r (Distance)\"\"\"\n",
    "\n",
    "    r_vector = (pos1 - pos2) # positions in x,y,z coordinates\n",
    "    \n",
    "    if r_vector[0] > L/2:\n",
    "        r_vector[0] = r_vector[0] -L\n",
    "    elif r_vector[0] < -L/2:\n",
    "        r_vector[0] = L + r_vector[0]\n",
    "    \n",
    "    if r_vector[1] > L/2:\n",
    "        r_vector[1] = r_vector[1] -L\n",
    "    elif r_vector[1] < -L/2:\n",
    "        r_vector[1] = L + r_vector[1]\n",
    "        \n",
    "    if r_vector[2] > L/2:\n",
    "        r_vector[2] = r_vector[2] -L\n",
    "    elif r_vector[2] < -L/2:\n",
    "        r_vector[2] = L + r_vector[2]\n",
    "        \n",
    "        \n",
    "    absolute_r = (np.sqrt(r_vector[0]**2 + r_vector[1]**2 +r_vector[2]**2)) #obtain the absolute positions of r \n",
    "    \n",
    "    return r_vector, absolute_r\n",
    "    "
   ]
  },
  {
   "cell_type": "code",
   "execution_count": null,
   "id": "a773cc17",
   "metadata": {},
   "outputs": [],
   "source": [
    "#def get_positions(pos1, pos2):\n",
    "#    \"\"\"Rewritten not tested yet ,Return der direction of r and the absolute value of r (Distance)\"\"\"\n",
    "\n",
    "#    r_vector = (pos1 - pos2) # positions in x,y,z coordinates\n",
    "    \n",
    "#    r_vector = np.where(r_vector<L/2, r_vector, r_vector-L)\n",
    "#    r_vector = np.where(r_vector> -L/2, r_vector, L+r_vector)\n",
    "    \n",
    "#    absolute_r = (np.sqrt(r_vector[0]**2 + r_vector[1]**2 +r_vector[2]**2)) #obtain the absolute positions of r \n",
    "    \n",
    "#    return r_vector, absolute_r"
   ]
  },
  {
   "cell_type": "markdown",
   "id": "110eab2e",
   "metadata": {},
   "source": [
    "# Energy calculation of the system"
   ]
  },
  {
   "cell_type": "code",
   "execution_count": 60,
   "id": "3aff85ae",
   "metadata": {},
   "outputs": [],
   "source": [
    "def e_kin(vel):\n",
    "    \"\"\"Return the kinetic enery of the system\"\"\"\n",
    "    vel = init_vel(1000)\n",
    "    KE = np.sum(1/2*m*vel**2)\n",
    "    \n",
    "    return KE"
   ]
  },
  {
   "cell_type": "code",
   "execution_count": 37,
   "id": "c0ab7d93",
   "metadata": {},
   "outputs": [],
   "source": [
    "def e_pot(pos):\n",
    "    \"\"\"Function that calculate the potential energy according to LJ potential\"\"\"\n",
    "    PE =0\n",
    "    for i in range(N):\n",
    "        for j in range(N):\n",
    "            if i <= j:\n",
    "                continue\n",
    "    \n",
    "            else:\n",
    "                r_vector, absolute_r = get_positions(pos[i],pos[j])\n",
    "                \n",
    "                PE = PE + 4*epsilon*((sigma/absolute_r)**12 - (sigma/absolute_r)**6)\n",
    "    \n",
    "    return PE"
   ]
  },
  {
   "cell_type": "code",
   "execution_count": 38,
   "id": "e706cc6f",
   "metadata": {},
   "outputs": [],
   "source": [
    "def total_energy(pos, vel):\n",
    "    \"\"\"Total energy of the system from KE and PE\"\"\"\n",
    "    \n",
    "    TE = np.sum(e_kin(vel) + e_pot(pos))\n",
    "    \n",
    "    \n",
    "    return TE\n",
    "    "
   ]
  },
  {
   "cell_type": "code",
   "execution_count": 39,
   "id": "9cd3aeac",
   "metadata": {},
   "outputs": [],
   "source": [
    "def Interacting_atoms(pos):\n",
    "    \"\"\"function that describes interaction between atoms according to LJ potential (Force)\"\"\"\n",
    "    force = np.zeros((N,3))\n",
    "    for i in range(N): # Loop over all atoms\n",
    "        for j in range(N): #Loop over all other atoms (interacting atoms)\n",
    "            if i == j: #Skip self forces\n",
    "                continue\n",
    "            else: #sum of all forces where i != to J\n",
    "            \n",
    "                \n",
    "                r_vector, absolute_r = get_positions(pos[i],pos[j]) #calling the get_positions function to calculate force between two atoms (i and j) index representing each atom in i and each atom in \n",
    "                \n",
    "                for k in range(3):\n",
    "                    force[i,k] += 24*(epsilon/sigma)*(2*((sigma/(absolute_r))**13)-(sigma/(absolute_r))**7)*r_vector[k]/absolute_r#compute force to each particle\n",
    "                #Force_vector = negative derivative of potential * r_vector/absolute value of r, where r = distance between two atoms\n",
    "            \n",
    "    \n",
    "    return force       "
   ]
  },
  {
   "cell_type": "markdown",
   "id": "58919eb8",
   "metadata": {},
   "source": [
    "# Neighbor List"
   ]
  },
  {
   "cell_type": "code",
   "execution_count": 40,
   "id": "32bd0e63",
   "metadata": {},
   "outputs": [],
   "source": [
    "def Neighbor_list(pos):\n",
    "    \"\"\"omits atoms in the simulation when they are too far away \n",
    "    to save computing time. Atoms that too far away are determined by\n",
    "    the cut off value.\"\"\"\n",
    "    Rc = 1  #Cut off value radius of i, units nm\n",
    "    neighbors=[]\n",
    "    for i in range(N):\n",
    "        list_2 =[]\n",
    "        for j in range(N):\n",
    "            if i==j: #Skip self forces\n",
    "                continue\n",
    "            \n",
    "            \n",
    "            else:\n",
    "                r_vector, absolute_r = get_positions(pos[i],pos[j])\n",
    "                \n",
    "                if absolute_r < Rc:\n",
    "                    list_2.append(j)\n",
    "        \n",
    "        neighbors.append(list_2.copy())\n",
    "    \n",
    "    return neighbors\n",
    "                         "
   ]
  },
  {
   "cell_type": "markdown",
   "id": "1e5e6083",
   "metadata": {},
   "source": [
    "# Main function"
   ]
  },
  {
   "cell_type": "code",
   "execution_count": 85,
   "id": "2ba655e9",
   "metadata": {},
   "outputs": [],
   "source": [
    "def main(mode):\n",
    "    \"\"\"Run euler algorithm\"\"\"\n",
    "    pos=init_pos()\n",
    "    vel=init_vel(N)\n",
    "    #pos=test_pos()\n",
    "    #vel=test_vel()\n",
    "    file_name=open(\"read.pdb\", \"w\")\n",
    "    file_name.write('CRYST1'+str(\"{0:9.3f}{0:9.3f}{0:9.3f}\").format(L*10,L*10,L*10)+'  90.00  90.00  90.00 P 1           1\\n')\n",
    "    write_file(file_name, pos, 0)\n",
    "    if mode == 0:\n",
    "        \"\"\"Run euler algorithm\"\"\"\n",
    "        for n_iter in range(n_steps):\n",
    "            pos=Euler(pos, vel, pbc)\n",
    "            if n_iter%50 ==0:\n",
    "                write_file(file_name, pos, n_iter)\n",
    "            KE = e_kin(vel)\n",
    "            \n",
    "            \n",
    "    if mode == 1:\n",
    "        \"\"\"Run verlet algorithm\"\"\"\n",
    "        dist_atoms = []\n",
    "        PE =[]\n",
    "        KE =[]\n",
    "        TE =[]\n",
    "        pos_old = pos\n",
    "        pos = Euler(pos, vel, pbc)\n",
    "        for n_iter in tqdm(range(n_steps)):\n",
    "            force=Interacting_atoms(pos)\n",
    "            #force=compute_force(pos)\n",
    "            #force+=wall_force(pos)\n",
    "            pos, pos_old, vel=Verlet(pos, pos_old, vel, force, pbc)\n",
    "            #pos, pos_old=Verlet(pos, pos_old, vel, force, no_bounds)\n",
    "            if n_iter%50 ==0:\n",
    "                NL = Neighbor_list(pos)\n",
    "                write_file(file_name, pos, n_iter)\n",
    "                \n",
    "            dist_atoms.append(get_positions(pos[0], pos[1])[1])\n",
    "            PE.append(e_pot(pos))\n",
    "            KE.append(e_kin(vel))\n",
    "            TE.append(total_energy(pos, vel))\n",
    "            \n",
    "            \n",
    "            \n",
    "    if mode == 2:\n",
    "        \"\"\"Run verlocity verlet algorithm\"\"\"\n",
    "        dist_atoms = []\n",
    "        PE =[]\n",
    "        KE =[]\n",
    "        TE =[]\n",
    "        for n_iter in tqdm(range(n_steps)):\n",
    "            pos, vel = Velocity_verlet(pos, vel, pbc)            \n",
    "            #pos, vel = Velocity_verlet(pos, vel, no_bounds) #no_bounds to implement wall_force boundary. \n",
    "            if n_iter%10 ==0:\n",
    "                NL = Neighbor_list(pos)\n",
    "                write_file(file_name, pos, n_iter)\n",
    "                \n",
    "                \n",
    "            dist_atoms.append(get_positions(pos[0], pos[1])[1])\n",
    "            PE.append(e_pot(pos))\n",
    "            KE.append(e_kin(vel))\n",
    "            TE.append(total_energy(pos, vel))\n",
    "            \n",
    "            \n",
    "            \n",
    "    \n",
    "    if mode == 3:\n",
    "        \"\"\"Run leapfrog algorithm\"\"\"\n",
    "        dist_atoms = []\n",
    "        PE =[]\n",
    "        KE =[]\n",
    "        TE =[]\n",
    "        Temp =[]\n",
    "        for n_iter in tqdm(range(n_steps)):\n",
    "            pos, vel = Leapfrog(pos, vel, pbc)\n",
    "            #pos, vel = Leapfrog(pos, vel, no_bounds) #to implement wall_force boundary\n",
    "            if n_iter%10 ==0:\n",
    "                NL = Neighbor_list(pos)\n",
    "                write_file(file_name, pos, n_iter)\n",
    "            \n",
    "\n",
    "            dist_atoms.append(get_positions(pos[0], pos[1])[1])\n",
    "            PE.append(e_pot(pos))\n",
    "            KE.append(e_kin(vel))\n",
    "            TE.append(total_energy(pos, vel))\n",
    "            Temp.append(temp(vel))\n",
    "            \n",
    "            \n",
    "            \n",
    "            \n",
    "\n",
    "            \n",
    "            \n",
    "    file_name.close()\n",
    "    return dist_atoms, PE, KE, TE, NL, Temp"
   ]
  },
  {
   "cell_type": "code",
   "execution_count": null,
   "id": "ce2b71de",
   "metadata": {},
   "outputs": [],
   "source": [
    "initialization()"
   ]
  },
  {
   "cell_type": "markdown",
   "id": "72c9f08f",
   "metadata": {},
   "source": [
    "# Leapfrog"
   ]
  },
  {
   "cell_type": "code",
   "execution_count": 99,
   "id": "5699622b",
   "metadata": {},
   "outputs": [
    {
     "data": {
      "application/vnd.jupyter.widget-view+json": {
       "model_id": "226e4d75dd11440eb2f97ded468cf3a6",
       "version_major": 2,
       "version_minor": 0
      },
      "text/plain": [
       "  0%|          | 0/1000 [00:00<?, ?it/s]"
      ]
     },
     "metadata": {},
     "output_type": "display_data"
    }
   ],
   "source": [
    "dist_atoms, PE, KE, TE, NL, Temp =main(3)\n",
    "#main(3)\n"
   ]
  },
  {
   "cell_type": "code",
   "execution_count": 100,
   "id": "41428896",
   "metadata": {},
   "outputs": [
    {
     "name": "stdout",
     "output_type": "stream",
     "text": [
      "[1033.26614886 1038.58455152  961.87368059 1012.63720102 1009.42562353\n",
      " 1011.43125205  997.87338806  972.15707738  982.4275249   961.18417677\n",
      " 1015.94834258 1029.70613366  996.25812351 1033.78910808 1036.70911746\n",
      " 1013.7778122  1024.34313615 1004.97326929 1004.11372294  961.58891014\n",
      "  975.24824315  970.32220262 1012.28750004  999.02787831 1010.88203503\n",
      "  990.88710894  980.84242893  957.3450754  1007.81899342  957.3800442\n",
      " 1021.06197457 1029.97183644  988.4202284   975.0967611  1021.06389007\n",
      " 1011.82764133 1015.49185     995.46436846  973.5747019  1004.77956911\n",
      "  947.02564491  967.23774407  993.55399565 1001.32497535  993.06613601\n",
      "  965.11391283 1036.4325761   984.50417902  998.93401577  993.59186559\n",
      "  984.83543528 1027.02757086 1040.28976709 1012.79437708 1072.84773914\n",
      " 1014.93760358  957.1806304   982.25545215 1036.32746411  963.36004225\n",
      " 1011.22171182 1028.38068815  988.88636363 1026.78574645 1007.09775378\n",
      "  989.9561117   998.4247717  1031.85869478  980.1384633  1003.12833243\n",
      "  948.19511588  997.82056435  966.08462979  993.4111828  1005.56388903\n",
      " 1010.90866721 1049.87272999 1012.36594532  980.60265037 1054.43830461\n",
      " 1022.18825507 1006.27235649 1025.75207608 1030.50966    1053.58520399\n",
      " 1037.45707647  980.15536701 1003.42717961  999.79128393  942.92483617\n",
      "  963.6025152  1023.54571493  982.53936865 1005.88864886  996.03638575\n",
      " 1010.30605817  983.39619454 1010.07943173 1001.32980115 1010.67022147\n",
      " 1026.21189841 1000.04997079 1001.0375248   996.84975606  990.60537888\n",
      "  996.93118487 1015.08972356 1044.71025568 1020.15232035 1004.14474849\n",
      " 1011.39906651 1035.56885096  994.25747846 1046.95617097  980.43917832\n",
      "  955.20130235  992.31832157  967.75008731  957.3859256  1028.83967867\n",
      "  987.62250713 1009.33190531 1022.29997301  954.74415298 1032.5167552\n",
      " 1031.5563221   989.36396824  972.34074074 1050.47706556 1003.65854427\n",
      "  972.45037918 1009.00009667  985.86603798 1045.95852484  976.72887047\n",
      "  986.22955219 1021.8072986  1027.56190558 1031.28850476 1048.5120915\n",
      "  991.02178744 1030.92010037 1022.03580734  996.90800513  966.91825918\n",
      " 1080.64474001 1046.89751233  991.01441921  963.3347604  1009.2496097\n",
      " 1003.34871184 1010.68147367  992.13164346 1002.57367194 1029.36091351\n",
      " 1026.41078416  989.53258332  985.8757265  1010.48336849  989.93212373\n",
      "  992.24704584 1011.28169999  963.56430138  994.21115293 1005.78469602\n",
      "  972.46427891 1019.23925664 1019.58062639  983.05042756 1037.64441377\n",
      " 1006.77892836  961.04531322 1032.34240239  997.16143866 1028.5024256\n",
      "  991.56600583 1027.76631364  987.17460485  983.35350198 1009.05712609\n",
      "  949.3151974  1009.85473318  986.88923427  955.79792775 1006.46521316\n",
      "  972.19100704  950.52714531 1000.55291352 1002.04567715  995.3338575\n",
      " 1004.46572871 1049.14367569  923.0374844   966.15020627  937.88117055\n",
      "  990.31673049  995.58309155  978.75539654 1017.79509988 1016.3064539\n",
      "  996.55397462 1015.04809893  967.44364029  950.00888722  964.7530097\n",
      "  968.79435941  960.24299551  989.82992815  990.59606743 1008.73995192\n",
      " 1018.21559931 1047.4892826   998.84811853 1023.32536019  994.28873985\n",
      "  962.53206775  988.9634262  1033.60731478  975.32463518  978.21067336\n",
      "  988.80171569  952.02232887 1004.01842758  994.38000775  985.45703131\n",
      " 1002.84313835 1023.44721423  989.504006   1024.47086425 1025.66090486\n",
      " 1061.74802257 1015.49953588 1032.75094361 1015.89277379  991.02645434\n",
      " 1000.12339288 1023.82322766  967.22462612 1031.49890041  969.71778223\n",
      " 1026.57009697  978.01750223 1034.09161363  990.86294801 1014.49715259\n",
      "  959.82186355 1018.66895942  977.00678978  977.58935158 1029.81014761\n",
      " 1015.49884161 1002.27560593 1011.89153481  985.78657838  980.75024851\n",
      "  919.73640434 1002.56630762  936.91757546  983.21487168  991.51325713\n",
      "  962.45728576 1011.88389831  945.82998189 1000.74097503 1039.04866212\n",
      " 1066.9070709  1002.45006325  994.3092152   989.71545848  995.4966921\n",
      " 1068.4230592   999.69702903 1049.51200584  964.4487567   985.75218442\n",
      "  983.05614333 1004.88256258  990.40972352 1001.09952322  956.87404111\n",
      " 1034.19982386 1019.33404061  984.40938746 1011.88139885 1004.88101855\n",
      " 1001.80795156  952.05083369  978.95340135  937.16350021 1031.46212624\n",
      "  981.63469322 1010.17068326  975.91183979  998.58508046 1003.9328471\n",
      "  995.76643741  997.49057907 1000.18214681  955.32572655 1013.46551463\n",
      "  983.36165085 1040.17056037 1004.46217452  987.81486107  998.63190653\n",
      " 1026.25410546  975.97683887 1005.88489595 1010.62421534  978.27157898\n",
      " 1064.9334544  1005.84548769  996.36388252 1053.22320904  964.87421188\n",
      "  969.04175627  979.95371807  998.806781   1018.16145404  961.44961323\n",
      " 1037.58703563 1011.8090963   981.76156987 1023.28278123  962.92768739\n",
      " 1012.76971953 1042.94148864 1027.23711082 1024.53729313 1022.31618529\n",
      " 1013.18723381  999.85655189  988.64048134 1015.78248919  975.89875472\n",
      "  947.10387896  991.06904154  975.86240239  943.82495356  998.90442376\n",
      " 1004.8608057  1010.83852688  991.15742627  980.05431388  976.4367807\n",
      "  959.9982559  1010.11264457  998.26658307 1025.50452127  976.77991711\n",
      "  983.10461147 1075.01091042  991.01469763  941.3575435   997.51677708\n",
      "  981.41940908  972.1382364  1000.7466432   962.81093683  999.24523614\n",
      "  991.63550216 1055.42837642  979.71203578  990.60356088 1043.40505234\n",
      " 1007.13814681 1026.69608408 1010.09601197  943.93174394  982.97856574\n",
      "  974.46341629  984.16920327  986.71855124 1022.03407365  970.04855484\n",
      "  952.92560975 1049.94474462  987.22269148  996.04325851 1022.17472174\n",
      "  976.64064074  980.10269512  961.66987595  991.69752927 1001.82604497\n",
      "  983.63623851  999.5772902  1015.19063537 1001.97607873  988.89495652\n",
      " 1011.68285358 1044.46984717  950.0775201  1012.19748572 1037.19392433\n",
      "  997.63268652 1000.94019697 1007.99933798  953.34458588  968.1635613\n",
      " 1011.20614023  954.8008634  1000.61957066 1019.06587158 1018.59399224\n",
      "  997.17442622  967.25803348 1004.07759264 1009.06502388 1009.08109697\n",
      " 1049.53567709 1042.40951339 1009.1300253   993.04895173  995.48576588\n",
      "  918.7684369   982.98487605  995.17761699  985.48822858 1008.67792072\n",
      " 1008.77908464  997.75551886 1008.66055793  987.39926649  986.77885032\n",
      "  979.37732993 1020.8134075   985.37457106 1004.02981566 1000.27676013\n",
      " 1019.32203584  980.59774286 1020.18987039  977.82122971 1022.62618498\n",
      " 1021.29036673  991.35360402 1012.22054766 1035.53661553 1008.65689244\n",
      " 1033.28277566 1003.47589811  958.46759748 1016.20951083  985.19595285\n",
      "  989.1237237   993.63973026  951.19404432  989.72648991  951.18832907\n",
      " 1014.44569755  988.10016575 1024.1350678  1016.70068427  990.23672043\n",
      " 1031.73097096 1032.4720178  1008.80314559  973.44293346  982.88874501\n",
      " 1043.38087353 1092.1036353   951.05291272  985.40645764  959.86757699\n",
      " 1036.73786781  997.94071882 1019.00109778  974.27021804 1028.40698753\n",
      "  989.14914201  995.82626598  979.77337936 1001.60595885 1024.79935632\n",
      "  952.92722519 1030.29410093 1018.7356587   985.03219084  985.06073643\n",
      "  950.39296936  966.39891906  970.02082435 1045.86403058  960.41496765\n",
      "  969.58573348 1037.47192817 1027.68480173 1031.14026718  980.98123454\n",
      "  980.85731331  987.35102169 1015.64930668  967.9626636   961.27086766\n",
      " 1007.60887439 1019.96504593  972.94834136  941.40556948  983.11031849\n",
      " 1016.5266736  1040.05326232  964.40799474 1033.85961889  978.92571772\n",
      "  973.10674929 1048.37086567 1006.65079978 1008.7547116  1028.8671398\n",
      " 1015.74089111 1004.27227448  999.98064732  979.69050745  968.11626702\n",
      "  977.47927064 1025.85343272  996.7507317  1021.62426215  995.91230515\n",
      "  974.44474562  993.19878669 1013.30819938  985.91601817 1023.11969178\n",
      "  987.28711167  976.57720829  983.54062959 1005.4907419   972.6115673\n",
      "  991.90001645 1038.75407565 1022.62488787  988.61754258 1025.90646791\n",
      " 1004.12194721  981.76732684  954.65940498 1004.79419343 1046.03313073\n",
      "  994.3223001   999.73536952  988.61017118 1014.01541772 1024.09878877\n",
      " 1009.4087259  1010.09441844 1036.50622333  984.2534076  1027.42759717\n",
      "  999.56071579 1011.72195424  973.53324856 1000.56090565  985.12436237\n",
      " 1051.10224108 1016.7751225  1004.72836855  996.86867409  987.31101378\n",
      "  980.85852819 1033.69294082  948.57748186  980.29741383 1000.2889034\n",
      "  992.09916464  929.87797255 1014.16246726 1013.85632975 1004.54893324\n",
      " 1005.62463998 1021.498127    971.10674284 1021.51463039  994.78499293\n",
      " 1039.34141011  982.16091879  990.92392849  978.49053396  973.63652908\n",
      " 1014.31008939 1041.32647609  976.45336246 1027.31977358  974.23083087\n",
      " 1010.24055843  943.94441818  995.15819096  978.06384332  975.97551567\n",
      "  954.26879653  981.37619518 1013.48368688  970.24119222  936.18207613\n",
      "  954.96099812  981.44120258 1011.52018117 1004.7766876   969.44867758\n",
      "  989.95275972  993.145952    964.22966129  979.55336088 1018.81659398\n",
      " 1031.59657225 1024.32131668  966.72817775 1015.01644773 1025.07595876\n",
      "  962.22784644  957.46693656  963.58265562  984.88650457 1015.12876457\n",
      " 1023.29935099 1014.25474641  985.97164007 1032.62973713 1031.42355256\n",
      "  977.87624932  978.66043555  994.09077372  985.2388285   983.15749404\n",
      "  986.75991577  965.41003759  958.17990556 1022.69128813 1021.34083837\n",
      "  990.39598666 1017.48116349 1030.1057105   994.41612237  995.47370642\n",
      " 1015.45784465 1014.99928981  951.62986812 1023.13804225  999.48122636\n",
      "  989.02054572  971.66482526 1013.75485197  967.61029368 1044.38002011\n",
      " 1034.22863259 1009.81708215  979.05525333  985.96144501 1000.38164044\n",
      "  987.0868037  1018.16330344 1029.21790137 1040.09992166  994.36071671\n",
      " 1010.64686676  998.35288137  977.09461535 1002.62813276 1066.19368095\n",
      "  993.41932959  985.37237239  985.2907451  1061.0956337   994.75899477\n",
      " 1039.94353579  975.51814641 1021.00848657 1018.0991021  1021.24332951\n",
      " 1031.86342666 1006.32985579 1007.67571349 1002.41906715 1043.6961879\n",
      " 1034.71534762 1016.0928987  1025.4307864   980.97197916  999.07221215\n",
      "  984.88156204 1004.21101598  999.406112    978.03346527 1015.49301435\n",
      "  988.92876858 1007.15307708 1025.27052219  967.45193951 1043.31764394\n",
      " 1067.02044655 1004.48964735  993.9458343   953.63880945  952.89988031\n",
      "  987.78964992 1016.95564724  994.06839994  988.36799952 1019.25388795\n",
      " 1039.62271685  976.99903036  976.23120715 1013.64364748  986.87338743\n",
      "  985.88731866 1002.87246725  994.6086709  1028.60871923 1054.50595804\n",
      "  977.80889486 1010.42104308 1019.70069309  965.51179732 1000.46325801\n",
      "  999.87018988  965.92362702 1010.11029394 1036.96761753 1023.98649736\n",
      " 1016.32957104  999.72207847  994.16943176  999.04236079 1029.15177123\n",
      " 1016.25403627 1013.01889348 1026.88611235 1003.21668595  995.86075719\n",
      "  986.41634815  971.36600142  963.86061462 1003.95261246 1010.76401184\n",
      " 1050.38306864  991.5676071  1000.61373648 1013.17058338  943.6463562\n",
      " 1008.66578357 1022.28436166 1004.72484967 1020.08119969 1032.11732215\n",
      " 1019.5603968   988.15945355 1015.20361767  999.25005532 1018.55683772\n",
      "  999.88879306 1019.48756709 1004.38697357  985.94490187 1031.2436467\n",
      " 1002.02236238  997.51667379 1031.18398722 1014.9945456  1027.33103741\n",
      "  981.64824523  975.2383081   985.80640985  980.29575847  974.49540271\n",
      "  996.79007195 1006.54326898 1000.40460126  975.68839384  975.79096241\n",
      " 1005.33391315  985.86963162 1028.63787943  961.36418052 1026.30192952\n",
      "  991.58497777  992.89452662  993.08159836  959.62320681 1046.89959679\n",
      " 1001.92404904 1004.08196684  957.7950298  1019.98336406 1029.25993571\n",
      "  982.36227705 1052.0083012  1006.09294004  987.02656109 1000.42787645\n",
      " 1011.87302032  976.26105464  969.9631913   971.89814372  970.33695761\n",
      " 1010.80223282 1029.53430271  974.84912571  993.56399955  984.99813154\n",
      " 1038.85956256  993.04329614  998.46121083  980.77782466 1028.27028087\n",
      " 1007.54580988  959.52772969 1013.68547262  972.08117405  968.10801271\n",
      " 1024.2326193   987.40499492  981.62851094 1028.38224532  994.13583461\n",
      "  994.48080958  982.32607408  966.61299691  988.13938919  987.00728851\n",
      " 1000.34339758 1034.6463566   992.56148047  965.41954776  994.38671368\n",
      "  975.86507911 1024.62288594 1046.94129689 1011.73145121  998.01022412\n",
      " 1018.00618086 1052.40380475  970.21365096 1028.34156803 1015.91155012\n",
      " 1034.51902365  976.31476648 1000.5171489  1036.27711399 1046.88933339\n",
      "  995.64611736  983.71747852  975.65202976 1048.02331278  977.31393465\n",
      "  988.06473003  961.80573366 1012.96448804  981.24661332  979.18466326\n",
      " 1023.08634349 1011.68549249 1010.66693838 1031.75852833 1049.75589428\n",
      " 1023.06786651 1005.97744784  969.06636806 1016.80682131 1035.81609362\n",
      " 1027.17551976  976.2158839   960.49055841  984.60988165  987.77258775\n",
      " 1013.20430878  966.7163064  1027.15225829 1015.19797397  987.4267043\n",
      "  973.61830603  990.9250032   986.62958549 1034.27352944 1004.03758448\n",
      " 1006.38863828  977.60704869 1021.02369088  992.84666943  986.25308945\n",
      " 1027.0019264   990.32967032 1031.42355737 1023.74192739  970.25418682\n",
      " 1030.2290971  1030.92103603  947.41291878  997.18569337  992.43424727\n",
      "  974.46877822  999.49889394  992.87929135  997.07945576 1002.68100634\n",
      "  993.4413127   966.22980952  969.93063846  984.39458838 1030.14323853\n",
      " 1006.53710001 1007.0220474   940.70847541 1004.59176525  994.98482334\n",
      " 1009.04587596 1012.35274971  988.06091903  975.48602329  938.73625202\n",
      "  971.08600473  994.26412637  979.88831295 1033.91682948  959.24686443\n",
      " 1009.84642681  982.19707995 1022.99435841 1002.56366162  990.04963809\n",
      " 1032.64140074  981.35267838 1011.69244832 1002.06043035 1006.09923597\n",
      "  980.56717501 1014.58026484  975.31913787 1009.59339642 1008.67522392\n",
      "  991.94276978 1022.39032401  993.01624437 1013.17077554  971.63881484\n",
      "  951.75626227  987.1658497   992.87611446 1029.67373967 1042.74175745\n",
      " 1029.27347892  998.68393984 1001.63545831  992.53550985 1019.50916063\n",
      " 1014.53606426  997.38448281  985.58919626  999.95389076  953.36845146\n",
      "  992.44287628  985.38049344  959.8069161  1031.65667276  979.74406904\n",
      " 1009.76557279 1031.26542358  994.55343357 1006.38029438  983.98917686\n",
      " 1030.17013674  966.4185147  1036.99060589 1038.86326243  981.00266282\n",
      "  979.31335691 1048.39824799  981.5727961   989.8544761   996.00224406\n",
      "  999.80517097 1003.64969593 1007.35395119 1007.14689022  998.58441046\n",
      "  980.93705081  988.94045825  996.81750872 1007.39115896 1014.45848811\n",
      "  980.9741382   971.59789456  997.8940725  1009.56584089  938.99020114\n",
      " 1032.78321413 1012.55954807 1026.50945394  987.1418923   995.04145855\n",
      " 1019.07515195 1022.6805488   997.82351373 1012.31974308  997.97646728\n",
      "  961.57752105  999.63200017  988.34131091 1009.47973694 1009.83439998]\n"
     ]
    }
   ],
   "source": [
    "#print(np.array(dist_atoms))\n",
    "#print(np.array(PE))\n",
    "#print(np.array(KE))\n",
    "#print(np.array(TE))\n",
    "print(np.array(Temp))\n",
    "#plt.plot(KE)\n"
   ]
  },
  {
   "cell_type": "code",
   "execution_count": 55,
   "id": "f0cf5ccc",
   "metadata": {},
   "outputs": [
    {
     "name": "stdout",
     "output_type": "stream",
     "text": [
      "[list([33]) list([34, 52]) list([]) list([21]) list([]) list([83])\n",
      " list([]) list([]) list([58]) list([78]) list([]) list([24]) list([])\n",
      " list([16]) list([]) list([]) list([13, 80]) list([]) list([87])\n",
      " list([28]) list([]) list([3, 93]) list([32]) list([]) list([11]) list([])\n",
      " list([]) list([]) list([19]) list([44, 89, 98]) list([]) list([])\n",
      " list([22]) list([0]) list([1, 52, 97]) list([]) list([]) list([84])\n",
      " list([]) list([]) list([]) list([46]) list([]) list([]) list([29, 89])\n",
      " list([]) list([41]) list([]) list([88]) list([]) list([]) list([])\n",
      " list([1, 34, 97]) list([]) list([86]) list([]) list([]) list([90])\n",
      " list([8, 74]) list([]) list([66]) list([]) list([]) list([]) list([])\n",
      " list([]) list([60]) list([]) list([71]) list([]) list([]) list([68])\n",
      " list([]) list([]) list([58]) list([]) list([]) list([]) list([9])\n",
      " list([]) list([16]) list([89]) list([]) list([5]) list([37]) list([])\n",
      " list([54]) list([18, 96]) list([48]) list([29, 44, 81, 98])\n",
      " list([57, 95]) list([]) list([]) list([21]) list([]) list([90])\n",
      " list([87]) list([34, 52]) list([29, 89]) list([])]\n"
     ]
    },
    {
     "name": "stderr",
     "output_type": "stream",
     "text": [
      "<ipython-input-55-9fb7a1d4abbb>:1: VisibleDeprecationWarning: Creating an ndarray from ragged nested sequences (which is a list-or-tuple of lists-or-tuples-or ndarrays with different lengths or shapes) is deprecated. If you meant to do this, you must specify 'dtype=object' when creating the ndarray.\n",
      "  print(np.array(NL))\n"
     ]
    }
   ],
   "source": [
    "print(np.array(NL))"
   ]
  },
  {
   "cell_type": "code",
   "execution_count": 259,
   "id": "385aa6b6",
   "metadata": {},
   "outputs": [
    {
     "data": {
      "image/png": "[encoded data removed]",
      "text/plain": [
       "<Figure size 432x288 with 4 Axes>"
      ]
     },
     "metadata": {
      "needs_background": "light"
     },
     "output_type": "display_data"
    }
   ],
   "source": [
    "fig, axs = plt.subplots(2, 2)\n",
    "axs[0, 0].plot(PE)\n",
    "axs[0, 0].set_title('PE')\n",
    "axs[0, 0].set_xlabel('Time step')\n",
    "axs[0, 0].set_ylabel('PE')\n",
    "\n",
    "axs[0, 1].plot(KE, 'tab:orange')\n",
    "axs[0, 1].set_title('KE')\n",
    "axs[0, 1].set_xlabel('Time step')\n",
    "axs[0, 1].set_ylabel('KE')\n",
    "\n",
    "axs[1, 0].plot(PE,'tab:blue')\n",
    "axs[1, 0].plot(KE, 'tab:orange')\n",
    "axs[1, 0].set_title('PE and KE')\n",
    "axs[1, 0].set_xlabel('Time step')\n",
    "axs[1, 0].set_ylabel('Energy')\n",
    "\n",
    "axs[1, 1].plot(TE, 'tab:red')\n",
    "axs[1, 1].set_title('TE')\n",
    "axs[1, 1].set_xlabel('Time step')\n",
    "axs[1, 1].set_ylabel('TE')\n",
    "\n",
    "plt.tight_layout()"
   ]
  },
  {
   "cell_type": "code",
   "execution_count": 182,
   "id": "063a02ad",
   "metadata": {},
   "outputs": [
    {
     "data": {
      "text/plain": [
       "[-0.006169671981265225,\n",
       " -0.006169671981265207,\n",
       " -0.006169671981265181,\n",
       " -0.006169671981265206,\n",
       " -0.0061696719812652226,\n",
       " -0.006169671981265225,\n",
       " -0.00616967198126522,\n",
       " -0.006169671981265199,\n",
       " -0.006169671981265171,\n",
       " -0.006169671981265196,\n",
       " -0.0061696719812652095,\n",
       " -0.006169671981265211,\n",
       " -0.006169671981265204,\n",
       " -0.006169671981265183,\n",
       " -0.006169671981265152,\n",
       " -0.006169671981265175,\n",
       " -0.006169671981265188,\n",
       " -0.006169671981265188,\n",
       " -0.006169671981265178,\n",
       " -0.006169671981265155,\n",
       " -0.006169671981265124,\n",
       " -0.006169671981265144,\n",
       " -0.006169671981265157,\n",
       " -0.006169671981265154,\n",
       " -0.006169671981265144,\n",
       " -0.0061696719812651185,\n",
       " -0.006169671981265085,\n",
       " -0.006169671981265104,\n",
       " -0.006169671981265115,\n",
       " -0.0061696719812651115,\n",
       " -0.006169671981265099,\n",
       " -0.0061696719812650725,\n",
       " -0.006169671981265038,\n",
       " -0.006169671981265054,\n",
       " -0.006169671981265064,\n",
       " -0.006169671981265059,\n",
       " -0.006169671981265045,\n",
       " -0.006169671981265016,\n",
       " -0.00616967198126498,\n",
       " -0.006169671981264996,\n",
       " -0.006169671981265003,\n",
       " -0.006169671981264996,\n",
       " -0.006169671981264981,\n",
       " -0.006169671981264952,\n",
       " -0.00616967198126498,\n",
       " -0.006169671981264994,\n",
       " -0.006169671981265,\n",
       " -0.006169671981264991,\n",
       " -0.006169671981264974,\n",
       " -0.006169671981264943,\n",
       " -0.00616967198126497,\n",
       " -0.006169671981264981,\n",
       " -0.006169671981264987,\n",
       " -0.006169671981264976,\n",
       " -0.006169671981264958,\n",
       " -0.006169671981264925,\n",
       " -0.006169671981264944,\n",
       " -0.006169671981264961,\n",
       " -0.006169671981264957,\n",
       " -0.006169671981264952,\n",
       " -0.006169671981264926,\n",
       " -0.006169671981264897,\n",
       " -0.0061696719812649155,\n",
       " -0.00616967198126493,\n",
       " -0.006169671981264925,\n",
       " -0.006169671981264918,\n",
       " -0.00616967198126489,\n",
       " -0.00616967198126486,\n",
       " -0.0061696719812648765,\n",
       " -0.006169671981264884,\n",
       " -0.006169671981264883,\n",
       " -0.006169671981264869,\n",
       " -0.006169671981264845,\n",
       " -0.006169671981264808,\n",
       " -0.006169671981264828,\n",
       " -0.006169671981264835,\n",
       " -0.006169671981264832,\n",
       " -0.006169671981264816,\n",
       " -0.0061696719812647915,\n",
       " -0.006169671981264752,\n",
       " -0.006169671981264771,\n",
       " -0.006169671981264775,\n",
       " -0.0061696719812647715,\n",
       " -0.0061696719812647524,\n",
       " -0.006169671981264726,\n",
       " -0.0061696719812647524,\n",
       " -0.006169671981264769,\n",
       " -0.006169671981264772,\n",
       " -0.006169671981264767,\n",
       " -0.006169671981264748,\n",
       " -0.0061696719812647195,\n",
       " -0.006169671981264743,\n",
       " -0.006169671981264759,\n",
       " -0.00616967198126476,\n",
       " -0.006169671981264747,\n",
       " -0.0061696719812647325,\n",
       " -0.006169671981264696,\n",
       " -0.0061696719812647256,\n",
       " -0.0061696719812647325,\n",
       " -0.006169671981264733,\n",
       " -0.006169671981264724,\n",
       " -0.006169671981264702,\n",
       " -0.006169671981264671,\n",
       " -0.00616967198126469,\n",
       " -0.006169671981264704,\n",
       " -0.006169671981264701,\n",
       " -0.006169671981264692,\n",
       " -0.0061696719812646674,\n",
       " -0.0061696719812646345,\n",
       " -0.006169671981264654,\n",
       " -0.006169671981264665,\n",
       " -0.0061696719812646605,\n",
       " -0.006169671981264649,\n",
       " -0.006169671981264623,\n",
       " -0.0061696719812645885,\n",
       " -0.006169671981264607,\n",
       " -0.006169671981264616,\n",
       " -0.006169671981264611,\n",
       " -0.006169671981264591,\n",
       " -0.0061696719812645694,\n",
       " -0.006169671981264527,\n",
       " -0.0061696719812645495,\n",
       " -0.006169671981264552,\n",
       " -0.00616967198126455,\n",
       " -0.00616967198126453,\n",
       " -0.006169671981264501,\n",
       " -0.0061696719812645295,\n",
       " -0.006169671981264544,\n",
       " -0.00616967198126455,\n",
       " -0.0061696719812645425,\n",
       " -0.006169671981264525,\n",
       " -0.006169671981264495,\n",
       " -0.006169671981264522,\n",
       " -0.006169671981264535,\n",
       " -0.006169671981264539,\n",
       " -0.006169671981264529,\n",
       " -0.006169671981264511,\n",
       " -0.006169671981264479,\n",
       " -0.006169671981264498,\n",
       " -0.006169671981264516,\n",
       " -0.006169671981264512,\n",
       " -0.006169671981264501,\n",
       " -0.006169671981264481,\n",
       " -0.006169671981264447,\n",
       " -0.006169671981264471,\n",
       " -0.006169671981264481,\n",
       " -0.006169671981264483,\n",
       " -0.006169671981264469,\n",
       " -0.006169671981264449,\n",
       " -0.0061696719812644124,\n",
       " -0.006169671981264435,\n",
       " -0.006169671981264444,\n",
       " -0.006169671981264443,\n",
       " -0.006169671981264429,\n",
       " -0.006169671981264399,\n",
       " -0.006169671981264368,\n",
       " -0.006169671981264383,\n",
       " -0.006169671981264396,\n",
       " -0.006169671981264387,\n",
       " -0.0061696719812643725,\n",
       " -0.0061696719812643465,\n",
       " -0.006169671981264308,\n",
       " -0.0061696719812643274,\n",
       " -0.006169671981264332,\n",
       " -0.006169671981264329,\n",
       " -0.006169671981264312,\n",
       " -0.006169671981264286,\n",
       " -0.00616967198126431,\n",
       " -0.006169671981264328,\n",
       " -0.006169671981264332,\n",
       " -0.006169671981264321,\n",
       " -0.0061696719812643075,\n",
       " -0.006169671981264274,\n",
       " -0.006169671981264298,\n",
       " -0.006169671981264315,\n",
       " -0.006169671981264316,\n",
       " -0.006169671981264308,\n",
       " -0.006169671981264288,\n",
       " -0.00616967198126426,\n",
       " -0.006169671981264282,\n",
       " -0.006169671981264297,\n",
       " -0.006169671981264296,\n",
       " -0.006169671981264282,\n",
       " -0.006169671981264266,\n",
       " -0.006169671981264229,\n",
       " -0.00616967198126425,\n",
       " -0.006169671981264263,\n",
       " -0.006169671981264262,\n",
       " -0.006169671981264252,\n",
       " -0.006169671981264227,\n",
       " -0.006169671981264196,\n",
       " -0.006169671981264215,\n",
       " -0.006169671981264227,\n",
       " -0.006169671981264223,\n",
       " -0.006169671981264206,\n",
       " -0.006169671981264185,\n",
       " -0.006169671981264145,\n",
       " -0.0061696719812641704,\n",
       " -0.006169671981264174,\n",
       " -0.006169671981264168,\n",
       " -0.006169671981264156,\n",
       " -0.006169671981264129,\n",
       " -0.006169671981264093,\n",
       " -0.00616967198126411,\n",
       " -0.0061696719812641175,\n",
       " -0.006169671981264111,\n",
       " -0.006169671981264098,\n",
       " -0.006169671981264067,\n",
       " -0.006169671981264091,\n",
       " -0.006169671981264106,\n",
       " -0.006169671981264112,\n",
       " -0.0061696719812641045,\n",
       " -0.006169671981264088,\n",
       " -0.006169671981264058,\n",
       " -0.0061696719812640854,\n",
       " -0.006169671981264098,\n",
       " -0.006169671981264104,\n",
       " -0.006169671981264093,\n",
       " -0.006169671981264071,\n",
       " -0.006169671981264045,\n",
       " -0.006169671981264064,\n",
       " -0.006169671981264075,\n",
       " -0.006169671981264079,\n",
       " -0.006169671981264068,\n",
       " -0.006169671981264049,\n",
       " -0.006169671981264015,\n",
       " -0.0061696719812640395,\n",
       " -0.006169671981264049,\n",
       " -0.006169671981264045,\n",
       " -0.006169671981264038,\n",
       " -0.006169671981264012,\n",
       " -0.006169671981263976,\n",
       " -0.006169671981264,\n",
       " -0.006169671981264007,\n",
       " -0.006169671981264007,\n",
       " -0.006169671981263993,\n",
       " -0.006169671981263971,\n",
       " -0.006169671981263934,\n",
       " -0.00616967198126395,\n",
       " -0.006169671981263962,\n",
       " -0.0061696719812639545,\n",
       " -0.006169671981263939,\n",
       " -0.006169671981263915,\n",
       " -0.006169671981263876,\n",
       " -0.0061696719812638955,\n",
       " -0.0061696719812639,\n",
       " -0.006169671981263898,\n",
       " -0.00616967198126388,\n",
       " -0.006169671981263849,\n",
       " -0.006169671981263881,\n",
       " -0.006169671981263893,\n",
       " -0.006169671981263896,\n",
       " -0.006169671981263892,\n",
       " -0.006169671981263874,\n",
       " -0.006169671981263845,\n",
       " -0.00616967198126387,\n",
       " -0.006169671981263881,\n",
       " -0.0061696719812638886,\n",
       " -0.006169671981263876,\n",
       " -0.0061696719812638565,\n",
       " -0.006169671981263827,\n",
       " -0.00616967198126385,\n",
       " -0.006169671981263865,\n",
       " -0.006169671981263866,\n",
       " -0.006169671981263851,\n",
       " -0.006169671981263836,\n",
       " -0.006169671981263799,\n",
       " -0.006169671981263821,\n",
       " -0.006169671981263833,\n",
       " -0.006169671981263833,\n",
       " -0.0061696719812638235,\n",
       " -0.006169671981263799,\n",
       " -0.006169671981263767,\n",
       " -0.006169671981263787,\n",
       " -0.006169671981263793,\n",
       " -0.0061696719812637905,\n",
       " -0.006169671981263778,\n",
       " -0.006169671981263753,\n",
       " -0.00616967198126372,\n",
       " -0.0061696719812637385,\n",
       " -0.006169671981263748,\n",
       " -0.006169671981263744,\n",
       " -0.0061696719812637255,\n",
       " -0.006169671981263705,\n",
       " -0.006169671981263663,\n",
       " -0.00616967198126368,\n",
       " -0.006169671981263688,\n",
       " -0.006169671981263683,\n",
       " -0.006169671981263667,\n",
       " -0.00616967198126364,\n",
       " -0.006169671981263663,\n",
       " -0.006169671981263685,\n",
       " -0.006169671981263686,\n",
       " -0.006169671981263678,\n",
       " -0.006169671981263661,\n",
       " -0.006169671981263632,\n",
       " -0.00616967198126366,\n",
       " -0.0061696719812636735,\n",
       " -0.006169671981263672,\n",
       " -0.006169671981263663,\n",
       " -0.006169671981263645,\n",
       " -0.006169671981263614,\n",
       " -0.00616967198126364,\n",
       " -0.006169671981263652,\n",
       " -0.006169671981263656,\n",
       " -0.006169671981263645,\n",
       " -0.00616967198126362,\n",
       " -0.006169671981263586,\n",
       " -0.006169671981263611,\n",
       " -0.006169671981263621,\n",
       " -0.006169671981263623,\n",
       " -0.006169671981263612,\n",
       " -0.006169671981263591,\n",
       " -0.0061696719812635555,\n",
       " -0.006169671981263573,\n",
       " -0.0061696719812635815,\n",
       " -0.006169671981263582,\n",
       " -0.0061696719812635685,\n",
       " -0.006169671981263546,\n",
       " -0.0061696719812635095,\n",
       " -0.006169671981263525,\n",
       " -0.006169671981263538,\n",
       " -0.006169671981263531,\n",
       " -0.006169671981263516,\n",
       " -0.006169671981263491,\n",
       " -0.006169671981263453,\n",
       " -0.006169671981263473,\n",
       " -0.006169671981263478,\n",
       " -0.0061696719812634705,\n",
       " -0.006169671981263452,\n",
       " -0.006169671981263428,\n",
       " -0.006169671981263455,\n",
       " -0.006169671981263472,\n",
       " -0.0061696719812634766,\n",
       " -0.006169671981263466,\n",
       " -0.006169671981263454,\n",
       " -0.00616967198126342,\n",
       " -0.006169671981263445,\n",
       " -0.006169671981263463,\n",
       " -0.006169671981263464,\n",
       " -0.006169671981263458,\n",
       " -0.006169671981263438,\n",
       " -0.006169671981263405,\n",
       " -0.006169671981263428,\n",
       " -0.006169671981263443,\n",
       " -0.006169671981263443,\n",
       " -0.006169671981263436,\n",
       " -0.006169671981263414,\n",
       " -0.006169671981263378,\n",
       " -0.0061696719812634,\n",
       " -0.006169671981263412,\n",
       " -0.0061696719812634115,\n",
       " -0.006169671981263403,\n",
       " -0.006169671981263379,\n",
       " -0.006169671981263341,\n",
       " -0.006169671981263368,\n",
       " -0.006169671981263373,\n",
       " -0.006169671981263372,\n",
       " -0.006169671981263361,\n",
       " -0.006169671981263336,\n",
       " -0.006169671981263302,\n",
       " -0.0061696719812633204,\n",
       " -0.006169671981263326,\n",
       " -0.006169671981263322,\n",
       " -0.006169671981263309,\n",
       " -0.006169671981263282,\n",
       " -0.006169671981263248,\n",
       " -0.006169671981263265,\n",
       " -0.006169671981263267,\n",
       " -0.006169671981263262,\n",
       " -0.006169671981263248,\n",
       " -0.006169671981263219,\n",
       " -0.006169671981263249,\n",
       " -0.006169671981263264,\n",
       " -0.006169671981263266,\n",
       " -0.006169671981263259,\n",
       " -0.006169671981263243,\n",
       " -0.006169671981263213,\n",
       " -0.0061696719812632415,\n",
       " -0.0061696719812632545,\n",
       " -0.0061696719812632545,\n",
       " -0.006169671981263247,\n",
       " -0.0061696719812632285,\n",
       " -0.006169671981263198,\n",
       " -0.006169671981263223,\n",
       " -0.006169671981263235,\n",
       " -0.006169671981263234,\n",
       " -0.006169671981263223,\n",
       " -0.006169671981263205,\n",
       " -0.006169671981263172,\n",
       " -0.006169671981263197,\n",
       " -0.006169671981263208,\n",
       " -0.006169671981263203,\n",
       " -0.006169671981263192,\n",
       " -0.006169671981263171,\n",
       " -0.006169671981263136,\n",
       " -0.00616967198126316,\n",
       " -0.0061696719812631695,\n",
       " -0.006169671981263164,\n",
       " -0.00616967198126315,\n",
       " -0.006169671981263129,\n",
       " -0.006169671981263092,\n",
       " -0.006169671981263114,\n",
       " -0.006169671981263121,\n",
       " -0.006169671981263115,\n",
       " -0.006169671981263099,\n",
       " -0.006169671981263076,\n",
       " -0.006169671981263038,\n",
       " -0.0061696719812630585,\n",
       " -0.006169671981263064,\n",
       " -0.006169671981263056,\n",
       " -0.0061696719812630385,\n",
       " -0.006169671981263014,\n",
       " -0.00616967198126304,\n",
       " -0.006169671981263059,\n",
       " -0.006169671981263064,\n",
       " -0.006169671981263053,\n",
       " -0.006169671981263035,\n",
       " -0.006169671981263009,\n",
       " -0.006169671981263034,\n",
       " -0.006169671981263045,\n",
       " -0.006169671981263047,\n",
       " -0.006169671981263041,\n",
       " -0.006169671981263022,\n",
       " -0.006169671981262993,\n",
       " -0.006169671981263017,\n",
       " -0.006169671981263027,\n",
       " -0.006169671981263026,\n",
       " -0.00616967198126302,\n",
       " -0.006169671981262999,\n",
       " -0.006169671981262967,\n",
       " -0.00616967198126299,\n",
       " -0.006169671981262998,\n",
       " -0.006169671981262998,\n",
       " -0.006169671981262989,\n",
       " -0.006169671981262966,\n",
       " -0.0061696719812629345,\n",
       " -0.006169671981262955,\n",
       " -0.006169671981262961,\n",
       " -0.006169671981262959,\n",
       " -0.006169671981262948,\n",
       " -0.006169671981262924,\n",
       " -0.006169671981262884,\n",
       " -0.006169671981262904,\n",
       " -0.006169671981262914,\n",
       " -0.006169671981262909,\n",
       " -0.006169671981262899,\n",
       " -0.006169671981262872,\n",
       " -0.006169671981262831,\n",
       " -0.006169671981262849,\n",
       " -0.006169671981262858,\n",
       " -0.006169671981262852,\n",
       " -0.006169671981262839,\n",
       " -0.00616967198126281,\n",
       " -0.006169671981262835,\n",
       " -0.00616967198126285,\n",
       " -0.006169671981262858,\n",
       " -0.00616967198126285,\n",
       " -0.0061696719812628295,\n",
       " -0.0061696719812628,\n",
       " -0.006169671981262829,\n",
       " -0.0061696719812628425,\n",
       " -0.006169671981262849,\n",
       " -0.006169671981262839,\n",
       " -0.0061696719812628165,\n",
       " -0.006169671981262785,\n",
       " -0.006169671981262812,\n",
       " -0.006169671981262824,\n",
       " -0.0061696719812628234,\n",
       " -0.006169671981262813,\n",
       " -0.006169671981262794,\n",
       " -0.006169671981262762,\n",
       " -0.006169671981262787,\n",
       " -0.006169671981262798,\n",
       " -0.006169671981262795,\n",
       " -0.0061696719812627835,\n",
       " -0.006169671981262763,\n",
       " -0.006169671981262728,\n",
       " -0.006169671981262745,\n",
       " -0.006169671981262754,\n",
       " -0.006169671981262756,\n",
       " -0.006169671981262742,\n",
       " -0.006169671981262721,\n",
       " -0.006169671981262685,\n",
       " -0.006169671981262701,\n",
       " -0.006169671981262709,\n",
       " -0.006169671981262707,\n",
       " -0.006169671981262693,\n",
       " -0.006169671981262664,\n",
       " -0.006169671981262632,\n",
       " -0.0061696719812626465,\n",
       " -0.0061696719812626526,\n",
       " -0.00616967198126265,\n",
       " -0.0061696719812626335,\n",
       " -0.006169671981262603,\n",
       " -0.00616967198126263,\n",
       " -0.006169671981262648,\n",
       " -0.006169671981262653,\n",
       " -0.006169671981262643,\n",
       " -0.006169671981262625,\n",
       " -0.006169671981262599,\n",
       " -0.006169671981262625,\n",
       " -0.006169671981262636,\n",
       " -0.006169671981262645,\n",
       " -0.0061696719812626335,\n",
       " -0.0061696719812626135,\n",
       " -0.006169671981262585,\n",
       " -0.006169671981262609,\n",
       " -0.006169671981262619,\n",
       " -0.0061696719812626205,\n",
       " -0.006169671981262613,\n",
       " -0.006169671981262592,\n",
       " -0.006169671981262555,\n",
       " -0.006169671981262579,\n",
       " -0.006169671981262593,\n",
       " -0.006169671981262592,\n",
       " -0.006169671981262584,\n",
       " -0.006169671981262561,\n",
       " -0.006169671981262523,\n",
       " -0.006169671981262543,\n",
       " -0.006169671981262556,\n",
       " -0.0061696719812625546,\n",
       " -0.006169671981262539,\n",
       " -0.006169671981262514,\n",
       " -0.00616967198126248,\n",
       " -0.0061696719812625,\n",
       " -0.006169671981262505,\n",
       " -0.006169671981262501,\n",
       " -0.0061696719812624895,\n",
       " -0.006169671981262463,\n",
       " -0.006169671981262428,\n",
       " -0.006169671981262445,\n",
       " -0.006169671981262449,\n",
       " -0.006169671981262444,\n",
       " -0.006169671981262431,\n",
       " -0.006169671981262403,\n",
       " -0.006169671981262427,\n",
       " -0.0061696719812624435,\n",
       " -0.0061696719812624505,\n",
       " -0.006169671981262444,\n",
       " -0.006169671981262423,\n",
       " -0.006169671981262394,\n",
       " -0.006169671981262422,\n",
       " -0.006169671981262436,\n",
       " -0.006169671981262437,\n",
       " -0.006169671981262428,\n",
       " -0.006169671981262412,\n",
       " -0.00616967198126238,\n",
       " -0.006169671981262407,\n",
       " -0.00616967198126242,\n",
       " -0.006169671981262418,\n",
       " -0.006169671981262409,\n",
       " -0.006169671981262391,\n",
       " -0.006169671981262358,\n",
       " -0.006169671981262378,\n",
       " -0.006169671981262388,\n",
       " -0.0061696719812623915,\n",
       " -0.006169671981262379,\n",
       " -0.006169671981262353,\n",
       " -0.0061696719812623195,\n",
       " -0.006169671981262344,\n",
       " -0.0061696719812623525,\n",
       " -0.006169671981262347,\n",
       " -0.006169671981262335,\n",
       " -0.006169671981262313,\n",
       " -0.006169671981262277,\n",
       " -0.0061696719812622995,\n",
       " -0.006169671981262307,\n",
       " -0.0061696719812623,\n",
       " -0.006169671981262286,\n",
       " -0.006169671981262263,\n",
       " -0.006169671981262225,\n",
       " -0.006169671981262241,\n",
       " -0.006169671981262246,\n",
       " -0.006169671981262245,\n",
       " -0.006169671981262228,\n",
       " -0.006169671981262197,\n",
       " -0.006169671981262225,\n",
       " -0.006169671981262243,\n",
       " -0.006169671981262248,\n",
       " -0.006169671981262239,\n",
       " -0.006169671981262221,\n",
       " -0.0061696719812621955,\n",
       " -0.006169671981262221,\n",
       " -0.006169671981262231,\n",
       " -0.0061696719812622345,\n",
       " -0.006169671981262229,\n",
       " -0.006169671981262209,\n",
       " -0.006169671981262176,\n",
       " -0.0061696719812622,\n",
       " -0.006169671981262216,\n",
       " -0.006169671981262218,\n",
       " -0.006169671981262205,\n",
       " -0.006169671981262184,\n",
       " -0.006169671981262155,\n",
       " -0.006169671981262176,\n",
       " -0.00616967198126219,\n",
       " -0.00616967198126219,\n",
       " -0.006169671981262176,\n",
       " -0.006169671981262153,\n",
       " -0.006169671981262122,\n",
       " -0.0061696719812621426,\n",
       " -0.0061696719812621495,\n",
       " -0.006169671981262148,\n",
       " -0.006169671981262137,\n",
       " -0.006169671981262113,\n",
       " -0.006169671981262075,\n",
       " -0.006169671981262095,\n",
       " -0.006169671981262105,\n",
       " -0.006169671981262102,\n",
       " -0.006169671981262084,\n",
       " -0.0061696719812620576,\n",
       " -0.006169671981262023,\n",
       " -0.006169671981262041,\n",
       " -0.006169671981262044,\n",
       " -0.00616967198126204,\n",
       " -0.006169671981262026,\n",
       " -0.006169671981261999,\n",
       " -0.006169671981262023,\n",
       " -0.0061696719812620385,\n",
       " -0.006169671981262046,\n",
       " -0.00616967198126204,\n",
       " -0.006169671981262019,\n",
       " -0.00616967198126199,\n",
       " -0.0061696719812620185,\n",
       " -0.006169671981262033,\n",
       " -0.006169671981262033,\n",
       " -0.006169671981262025,\n",
       " -0.006169671981262009,\n",
       " -0.006169671981261977,\n",
       " -0.006169671981261999,\n",
       " -0.006169671981262012,\n",
       " -0.006169671981262017,\n",
       " -0.006169671981262006,\n",
       " -0.006169671981261982,\n",
       " -0.006169671981261949,\n",
       " -0.006169671981261976,\n",
       " -0.006169671981261986,\n",
       " -0.006169671981261984,\n",
       " -0.006169671981261972,\n",
       " -0.006169671981261953,\n",
       " -0.006169671981261919,\n",
       " -0.006169671981261936,\n",
       " -0.006169671981261946,\n",
       " -0.006169671981261947,\n",
       " -0.006169671981261934,\n",
       " -0.006169671981261907,\n",
       " -0.006169671981261871,\n",
       " -0.006169671981261894,\n",
       " -0.006169671981261901,\n",
       " -0.006169671981261895,\n",
       " -0.00616967198126188,\n",
       " -0.006169671981261857,\n",
       " -0.006169671981261821,\n",
       " -0.0061696719812618355,\n",
       " -0.006169671981261842,\n",
       " -0.00616967198126184,\n",
       " -0.006169671981261824,\n",
       " -0.006169671981261798,\n",
       " -0.006169671981261819,\n",
       " -0.006169671981261839,\n",
       " -0.006169671981261844,\n",
       " -0.006169671981261834,\n",
       " -0.006169671981261816,\n",
       " -0.00616967198126179,\n",
       " -0.006169671981261816,\n",
       " -0.006169671981261829,\n",
       " -0.006169671981261831,\n",
       " -0.006169671981261826,\n",
       " -0.006169671981261806,\n",
       " -0.006169671981261772,\n",
       " -0.006169671981261797,\n",
       " -0.006169671981261812,\n",
       " -0.006169671981261814,\n",
       " -0.006169671981261802,\n",
       " -0.00616967198126178,\n",
       " -0.0061696719812617505,\n",
       " -0.006169671981261773,\n",
       " -0.006169671981261782,\n",
       " -0.006169671981261783,\n",
       " -0.006169671981261774,\n",
       " -0.0061696719812617505,\n",
       " -0.006169671981261714,\n",
       " -0.006169671981261735,\n",
       " -0.006169671981261747,\n",
       " -0.006169671981261746,\n",
       " -0.00616967198126173,\n",
       " -0.006169671981261706,\n",
       " -0.0061696719812616724,\n",
       " -0.006169671981261692,\n",
       " -0.006169671981261697,\n",
       " -0.006169671981261694,\n",
       " -0.006169671981261683,\n",
       " -0.006169671981261657,\n",
       " -0.006169671981261616,\n",
       " -0.006169671981261634,\n",
       " -0.006169671981261644,\n",
       " -0.006169671981261639,\n",
       " -0.006169671981261619,\n",
       " -0.006169671981261591,\n",
       " -0.006169671981261622,\n",
       " -0.006169671981261639,\n",
       " -0.0061696719812616395,\n",
       " -0.006169671981261633,\n",
       " -0.0061696719812616195,\n",
       " -0.006169671981261589,\n",
       " -0.006169671981261613,\n",
       " -0.006169671981261627,\n",
       " -0.006169671981261633,\n",
       " -0.006169671981261626,\n",
       " -0.006169671981261603,\n",
       " -0.006169671981261572,\n",
       " -0.006169671981261599,\n",
       " -0.006169671981261613,\n",
       " -0.006169671981261612,\n",
       " -0.0061696719812616005,\n",
       " -0.006169671981261578,\n",
       " -0.006169671981261551,\n",
       " -0.00616967198126157,\n",
       " -0.006169671981261581,\n",
       " -0.006169671981261578,\n",
       " -0.006169671981261567,\n",
       " -0.0061696719812615475,\n",
       " -0.006169671981261513,\n",
       " -0.006169671981261532,\n",
       " -0.006169671981261541,\n",
       " -0.006169671981261542,\n",
       " -0.006169671981261529,\n",
       " -0.0061696719812615024,\n",
       " -0.006169671981261466,\n",
       " -0.0061696719812614894,\n",
       " -0.006169671981261497,\n",
       " -0.006169671981261491,\n",
       " -0.0061696719812614756,\n",
       " -0.006169671981261454,\n",
       " -0.006169671981261417,\n",
       " -0.006169671981261431,\n",
       " -0.006169671981261437,\n",
       " -0.006169671981261436,\n",
       " -0.006169671981261419,\n",
       " -0.006169671981261389,\n",
       " -0.006169671981261417,\n",
       " -0.006169671981261436,\n",
       " -0.006169671981261441,\n",
       " -0.0061696719812614305,\n",
       " -0.006169671981261413,\n",
       " -0.006169671981261387,\n",
       " -0.006169671981261412,\n",
       " -0.006169671981261425,\n",
       " -0.006169671981261427,\n",
       " -0.006169671981261417,\n",
       " -0.006169671981261397,\n",
       " -0.006169671981261369,\n",
       " -0.006169671981261393,\n",
       " -0.0061696719812614036,\n",
       " -0.006169671981261404,\n",
       " -0.006169671981261398,\n",
       " -0.006169671981261377,\n",
       " -0.006169671981261342,\n",
       " -0.006169671981261364,\n",
       " -0.006169671981261379,\n",
       " -0.006169671981261378,\n",
       " -0.0061696719812613645,\n",
       " -0.006169671981261342,\n",
       " -0.006169671981261311,\n",
       " -0.006169671981261332,\n",
       " -0.006169671981261338,\n",
       " -0.006169671981261337,\n",
       " -0.006169671981261327,\n",
       " -0.006169671981261302,\n",
       " -0.006169671981261263,\n",
       " -0.006169671981261282,\n",
       " -0.006169671981261294,\n",
       " -0.006169671981261291,\n",
       " -0.0061696719812612735,\n",
       " -0.006169671981261248,\n",
       " -0.006169671981261214,\n",
       " -0.006169671981261231,\n",
       " -0.006169671981261234,\n",
       " -0.00616967198126123,\n",
       " -0.006169671981261216,\n",
       " -0.006169671981261189,\n",
       " -0.006169671981261214,\n",
       " -0.006169671981261229,\n",
       " -0.006169671981261232,\n",
       " -0.006169671981261226,\n",
       " -0.00616967198126121,\n",
       " -0.006169671981261181,\n",
       " -0.006169671981261204,\n",
       " -0.006169671981261219,\n",
       " -0.006169671981261224,\n",
       " -0.006169671981261216,\n",
       " -0.0061696719812611945,\n",
       " -0.006169671981261163,\n",
       " -0.00616967198126119,\n",
       " -0.006169671981261204,\n",
       " -0.006169671981261202,\n",
       " -0.006169671981261193,\n",
       " -0.006169671981261174,\n",
       " -0.006169671981261142,\n",
       " -0.006169671981261161,\n",
       " -0.006169671981261173,\n",
       " -0.006169671981261169,\n",
       " -0.006169671981261158,\n",
       " -0.006169671981261138,\n",
       " -0.006169671981261104,\n",
       " -0.0061696719812611225,\n",
       " -0.006169671981261132,\n",
       " -0.006169671981261133,\n",
       " -0.006169671981261121,\n",
       " -0.006169671981261093,\n",
       " -0.0061696719812610575,\n",
       " -0.00616967198126108,\n",
       " -0.006169671981261089,\n",
       " -0.006169671981261082,\n",
       " -0.006169671981261067,\n",
       " -0.006169671981261044,\n",
       " -0.006169671981261007,\n",
       " -0.006169671981261022,\n",
       " -0.006169671981261027,\n",
       " -0.006169671981261026,\n",
       " -0.00616967198126101,\n",
       " -0.0061696719812609786,\n",
       " -0.006169671981261006,\n",
       " -0.006169671981261019,\n",
       " -0.0061696719812610245,\n",
       " -0.006169671981261022,\n",
       " -0.006169671981261004,\n",
       " -0.006169671981260972,\n",
       " -0.006169671981260998,\n",
       " -0.006169671981261014,\n",
       " -0.0061696719812610185,\n",
       " -0.006169671981261006,\n",
       " -0.006169671981260986,\n",
       " -0.0061696719812609595,\n",
       " -0.006169671981260984,\n",
       " -0.0061696719812609924,\n",
       " -0.006169671981260995,\n",
       " -0.006169671981260988,\n",
       " -0.006169671981260967,\n",
       " -0.006169671981260932,\n",
       " -0.006169671981260953,\n",
       " -0.006169671981260962,\n",
       " -0.006169671981260962,\n",
       " -0.006169671981260954,\n",
       " -0.006169671981260931,\n",
       " -0.006169671981260894,\n",
       " -0.006169671981260915,\n",
       " -0.006169671981260928,\n",
       " -0.006169671981260926,\n",
       " -0.006169671981260909,\n",
       " -0.006169671981260887,\n",
       " -0.006169671981260853,\n",
       " -0.006169671981260872,\n",
       " -0.006169671981260877,\n",
       " -0.0061696719812608745,\n",
       " -0.006169671981260862,\n",
       " -0.006169671981260836,\n",
       " -0.0061696719812607955,\n",
       " -0.006169671981260814,\n",
       " -0.006169671981260823,\n",
       " -0.006169671981260818,\n",
       " -0.006169671981260798,\n",
       " -0.006169671981260771,\n",
       " -0.0061696719812607955,\n",
       " -0.006169671981260811,\n",
       " -0.006169671981260819,\n",
       " -0.006169671981260813,\n",
       " -0.006169671981260792,\n",
       " -0.006169671981260763,\n",
       " -0.006169671981260792,\n",
       " -0.006169671981260806,\n",
       " -0.006169671981260807,\n",
       " -0.006169671981260797,\n",
       " -0.006169671981260782,\n",
       " -0.0061696719812607504,\n",
       " -0.006169671981260771,\n",
       " -0.006169671981260785,\n",
       " -0.0061696719812607895,\n",
       " -0.006169671981260773,\n",
       " -0.006169671981260756,\n",
       " -0.006169671981260723,\n",
       " -0.006169671981260742,\n",
       " -0.006169671981260753,\n",
       " -0.006169671981260756,\n",
       " -0.006169671981260744,\n",
       " -0.006169671981260718,\n",
       " -0.0061696719812606845,\n",
       " -0.006169671981260708,\n",
       " -0.006169671981260718,\n",
       " -0.006169671981260714,\n",
       " -0.0061696719812607,\n",
       " -0.006169671981260679,\n",
       " -0.006169671981260644,\n",
       " -0.006169671981260659,\n",
       " -0.006169671981260667,\n",
       " -0.006169671981260667,\n",
       " -0.006169671981260652,\n",
       " -0.006169671981260624,\n",
       " -0.006169671981260586,\n",
       " -0.0061696719812606065,\n",
       " -0.0061696719812606125,\n",
       " -0.006169671981260604,\n",
       " -0.006169671981260588,\n",
       " -0.006169671981260558,\n",
       " -0.006169671981260585,\n",
       " -0.006169671981260604,\n",
       " -0.006169671981260609,\n",
       " -0.006169671981260599,\n",
       " -0.006169671981260581,\n",
       " -0.006169671981260554,\n",
       " -0.0061696719812605804,\n",
       " -0.006169671981260592,\n",
       " -0.006169671981260594,\n",
       " -0.00616967198126059,\n",
       " -0.00616967198126057,\n",
       " -0.006169671981260535,\n",
       " -0.0061696719812605605,\n",
       " -0.006169671981260569,\n",
       " -0.006169671981260571,\n",
       " -0.006169671981260565,\n",
       " -0.006169671981260543,\n",
       " -0.006169671981260507,\n",
       " -0.006169671981260529,\n",
       " -0.006169671981260544,\n",
       " -0.006169671981260544,\n",
       " -0.006169671981260529,\n",
       " -0.006169671981260506,\n",
       " -0.006169671981260475,\n",
       " -0.0061696719812604954,\n",
       " -0.006169671981260503,\n",
       " -0.006169671981260501,\n",
       " -0.00616967198126049,\n",
       " -0.006169671981260466,\n",
       " -0.006169671981260427,\n",
       " -0.006169671981260446,\n",
       " -0.006169671981260457,\n",
       " -0.006169671981260454,\n",
       " -0.006169671981260436,\n",
       " -0.00616967198126041,\n",
       " -0.006169671981260375,\n",
       " -0.006169671981260393,\n",
       " -0.006169671981260396,\n",
       " -0.0061696719812603905,\n",
       " -0.0061696719812603705,\n",
       " -0.006169671981260343,\n",
       " -0.006169671981260374,\n",
       " -0.00616967198126039,\n",
       " -0.0061696719812603905,\n",
       " -0.006169671981260385,\n",
       " -0.006169671981260369,\n",
       " -0.006169671981260339,\n",
       " -0.006169671981260363,\n",
       " -0.006169671981260377,\n",
       " -0.006169671981260383,\n",
       " -0.006169671981260374,\n",
       " -0.0061696719812603515,\n",
       " -0.006169671981260319,\n",
       " -0.006169671981260347,\n",
       " -0.006169671981260353,\n",
       " -0.006169671981260358,\n",
       " -0.006169671981260348,\n",
       " -0.006169671981260323,\n",
       " -0.006169671981260291,\n",
       " -0.006169671981260317,\n",
       " -0.006169671981260327,\n",
       " -0.006169671981260325,\n",
       " -0.006169671981260312,\n",
       " -0.006169671981260292,\n",
       " -0.006169671981260258,\n",
       " -0.006169671981260276,\n",
       " -0.0061696719812602855,\n",
       " -0.006169671981260286,\n",
       " -0.006169671981260273,\n",
       " -0.006169671981260245,\n",
       " -0.006169671981260209,\n",
       " -0.006169671981260232,\n",
       " -0.006169671981260239,\n",
       " -0.006169671981260233,\n",
       " -0.006169671981260217,\n",
       " -0.0061696719812601945,\n",
       " -0.006169671981260156,\n",
       " -0.006169671981260171,\n",
       " -0.006169671981260177,\n",
       " -0.0061696719812601745,\n",
       " -0.006169671981260158,\n",
       " -0.006169671981260127,\n",
       " -0.0061696719812601546,\n",
       " -0.006169671981260167,\n",
       " -0.006169671981260172,\n",
       " -0.0061696719812601684,\n",
       " -0.006169671981260149,\n",
       " -0.006169671981260117,\n",
       " -0.006169671981260142,\n",
       " -0.00616967198126016,\n",
       " -0.006169671981260162,\n",
       " -0.006169671981260151,\n",
       " -0.006169671981260131,\n",
       " -0.0061696719812601025,\n",
       " -0.006169671981260127,\n",
       " ...]"
      ]
     },
     "execution_count": 182,
     "metadata": {},
     "output_type": "execute_result"
    }
   ],
   "source": [
    "\n",
    "TE_2\n",
    "\n",
    "\n",
    "\n"
   ]
  },
  {
   "cell_type": "code",
   "execution_count": 183,
   "id": "177f923e",
   "metadata": {},
   "outputs": [
    {
     "data": {
      "text/plain": [
       "[-0.006169672015462122,\n",
       " -0.006169672049659015,\n",
       " -0.0061696720838559016,\n",
       " -0.006169672118052786,\n",
       " -0.006169672152249728,\n",
       " -0.0061696721864466595,\n",
       " -0.006169672220643589,\n",
       " -0.006169672254840558,\n",
       " -0.006169672289037513,\n",
       " -0.006169672323234502,\n",
       " -0.006169672357431521,\n",
       " -0.006169672391628568,\n",
       " -0.006169672425825624,\n",
       " -0.006169672460022688,\n",
       " -0.006169672494219743,\n",
       " -0.006169672528416852,\n",
       " -0.006169672562613991,\n",
       " -0.006169672596811151,\n",
       " -0.006169672631008389,\n",
       " -0.006169672665205621,\n",
       " -0.006169672699402895,\n",
       " -0.006169672733600196,\n",
       " -0.006169672767797569,\n",
       " -0.006169672801994933,\n",
       " -0.006169672836192398,\n",
       " -0.006169672870389881,\n",
       " -0.006169672904587425,\n",
       " -0.006169672938785007,\n",
       " -0.006169672972982602,\n",
       " -0.006169673007180257,\n",
       " -0.006169673041378005,\n",
       " -0.0061696730755757614,\n",
       " -0.006169673109773631,\n",
       " -0.006169673143971519,\n",
       " -0.006169673178169462,\n",
       " -0.006169673212367503,\n",
       " -0.006169673246565599,\n",
       " -0.0061696732807637305,\n",
       " -0.006169673314961926,\n",
       " -0.006169673349160218,\n",
       " -0.006169673383358582,\n",
       " -0.006169673417557035,\n",
       " -0.006169673451755546,\n",
       " -0.006169673485954154,\n",
       " -0.006169673520152809,\n",
       " -0.006169673554351546,\n",
       " -0.006169673588550394,\n",
       " -0.0061696736227493075,\n",
       " -0.006169673656948311,\n",
       " -0.00616967369114737,\n",
       " -0.006169673725346566,\n",
       " -0.00616967375954586,\n",
       " -0.006169673793745202,\n",
       " -0.006169673827944624,\n",
       " -0.006169673862144202,\n",
       " -0.006169673896343823,\n",
       " -0.006169673930543576,\n",
       " -0.006169673964743406,\n",
       " -0.006169673998943342,\n",
       " -0.006169674033143383,\n",
       " -0.00616967406734355,\n",
       " -0.006169674101543795,\n",
       " -0.006169674135744195,\n",
       " -0.00616967416994469,\n",
       " -0.006169674204145292,\n",
       " -0.006169674238346023,\n",
       " -0.006169674272546877,\n",
       " -0.006169674306747802,\n",
       " -0.006169674340948874,\n",
       " -0.006169674375150095,\n",
       " -0.006169674409351409,\n",
       " -0.006169674443552885,\n",
       " -0.0061696744777544575,\n",
       " -0.006169674511956134,\n",
       " -0.00616967454615798,\n",
       " -0.006169674580359931,\n",
       " -0.006169674614562056,\n",
       " -0.0061696746487642845,\n",
       " -0.006169674682966683,\n",
       " -0.006169674717169184,\n",
       " -0.006169674751371846,\n",
       " -0.006169674785574669,\n",
       " -0.006169674819777647,\n",
       " -0.006169674853980771,\n",
       " -0.006169674888184039,\n",
       " -0.006169674922387442,\n",
       " -0.006169674956590968,\n",
       " -0.00616967499079468,\n",
       " -0.006169675024998557,\n",
       " -0.006169675059202599,\n",
       " -0.006169675093406787,\n",
       " -0.00616967512761111,\n",
       " -0.006169675161815623,\n",
       " -0.006169675196020307,\n",
       " -0.006169675230225141,\n",
       " -0.006169675264430124,\n",
       " -0.006169675298635291,\n",
       " -0.00616967533284063,\n",
       " -0.006169675367046115,\n",
       " -0.006169675401251804,\n",
       " -0.006169675435457663,\n",
       " -0.006169675469663675,\n",
       " -0.006169675503869885,\n",
       " -0.006169675538076271,\n",
       " -0.00616967557228287,\n",
       " -0.006169675606489652,\n",
       " -0.0061696756406966,\n",
       " -0.0061696756749037495,\n",
       " -0.006169675709111074,\n",
       " -0.006169675743318609,\n",
       " -0.0061696757775263214,\n",
       " -0.006169675811734246,\n",
       " -0.006169675845942358,\n",
       " -0.006169675880150685,\n",
       " -0.006169675914359199,\n",
       " -0.006169675948567928,\n",
       " -0.006169675982776895,\n",
       " -0.006169676016986081,\n",
       " -0.006169676051195435,\n",
       " -0.006169676085404988,\n",
       " -0.006169676119614768,\n",
       " -0.006169676153824736,\n",
       " -0.006169676188034922,\n",
       " -0.006169676222245341,\n",
       " -0.006169676256455962,\n",
       " -0.006169676290666858,\n",
       " -0.0061696763248779325,\n",
       " -0.0061696763590892685,\n",
       " -0.0061696763933008205,\n",
       " -0.006169676427512608,\n",
       " -0.006169676461724581,\n",
       " -0.006169676495936822,\n",
       " -0.0061696765301492845,\n",
       " -0.006169676564361982,\n",
       " -0.0061696765985749255,\n",
       " -0.006169676632788141,\n",
       " -0.006169676667001564,\n",
       " -0.006169676701215214,\n",
       " -0.006169676735429099,\n",
       " -0.006169676769643224,\n",
       " -0.006169676803857607,\n",
       " -0.006169676838072253,\n",
       " -0.006169676872287173,\n",
       " -0.006169676906502301,\n",
       " -0.00616967694071771,\n",
       " -0.006169676974933408,\n",
       " -0.006169677009149334,\n",
       " -0.006169677043365553,\n",
       " -0.006169677077582002,\n",
       " -0.006169677111798686,\n",
       " -0.006169677146015675,\n",
       " -0.006169677180232892,\n",
       " -0.006169677214450408,\n",
       " -0.00616967724866822,\n",
       " -0.006169677282886257,\n",
       " -0.006169677317104584,\n",
       " -0.0061696773513231955,\n",
       " -0.0061696773855420845,\n",
       " -0.006169677419761246,\n",
       " -0.0061696774539806735,\n",
       " -0.006169677488200422,\n",
       " -0.006169677522420413,\n",
       " -0.006169677556640709,\n",
       " -0.006169677590861299,\n",
       " -0.006169677625082164,\n",
       " -0.0061696776593033595,\n",
       " -0.006169677693524817,\n",
       " -0.006169677727746572,\n",
       " -0.006169677761968617,\n",
       " -0.006169677796190999,\n",
       " -0.0061696778304136425,\n",
       " -0.00616967786463658,\n",
       " -0.0061696778988598764,\n",
       " -0.006169677933083428,\n",
       " -0.006169677967307295,\n",
       " -0.006169678001531513,\n",
       " -0.006169678035755999,\n",
       " -0.006169678069980789,\n",
       " -0.006169678104205931,\n",
       " -0.006169678138431391,\n",
       " -0.006169678172657154,\n",
       " -0.006169678206883254,\n",
       " -0.006169678241109661,\n",
       " -0.006169678275336414,\n",
       " -0.006169678309563483,\n",
       " -0.006169678343790897,\n",
       " -0.006169678378018639,\n",
       " -0.00616967841224667,\n",
       " -0.006169678446475085,\n",
       " -0.0061696784807037846,\n",
       " -0.00616967851493287,\n",
       " -0.006169678549162232,\n",
       " -0.006169678583391975,\n",
       " -0.006169678617622053,\n",
       " -0.006169678651852502,\n",
       " -0.006169678686083273,\n",
       " -0.0061696787203144015,\n",
       " -0.006169678754545837,\n",
       " -0.006169678788777672,\n",
       " -0.006169678823009867,\n",
       " -0.0061696788572423765,\n",
       " -0.006169678891475221,\n",
       " -0.0061696789257084175,\n",
       " -0.006169678959941993,\n",
       " -0.00616967899417596,\n",
       " -0.0061696790284102715,\n",
       " -0.006169679062644941,\n",
       " -0.006169679096879993,\n",
       " -0.006169679131115437,\n",
       " -0.006169679165351219,\n",
       " -0.0061696791995873605,\n",
       " -0.006169679233823859,\n",
       " -0.006169679268060742,\n",
       " -0.006169679302298011,\n",
       " -0.006169679336535678,\n",
       " -0.006169679370773748,\n",
       " -0.00616967940501217,\n",
       " -0.006169679439251009,\n",
       " -0.006169679473490206,\n",
       " -0.006169679507729777,\n",
       " -0.006169679541969778,\n",
       " -0.006169679576210154,\n",
       " -0.006169679610450913,\n",
       " -0.006169679644692044,\n",
       " -0.006169679678933621,\n",
       " -0.006169679713175578,\n",
       " -0.006169679747417907,\n",
       " -0.006169679781660679,\n",
       " -0.006169679815903825,\n",
       " -0.006169679850147409,\n",
       " -0.006169679884391354,\n",
       " -0.006169679918635722,\n",
       " -0.006169679952880516,\n",
       " -0.0061696799871257145,\n",
       " -0.006169680021371315,\n",
       " -0.006169680055617313,\n",
       " -0.006169680089863759,\n",
       " -0.006169680124110643,\n",
       " -0.006169680158357956,\n",
       " -0.006169680192605688,\n",
       " -0.006169680226853813,\n",
       " -0.006169680261102397,\n",
       " -0.006169680295351416,\n",
       " -0.006169680329600859,\n",
       " -0.006169680363850702,\n",
       " -0.006169680398101,\n",
       " -0.006169680432351728,\n",
       " -0.006169680466602872,\n",
       " -0.006169680500854477,\n",
       " -0.006169680535106519,\n",
       " -0.006169680569358973,\n",
       " -0.006169680603611892,\n",
       " -0.0061696806378652375,\n",
       " -0.006169680672119057,\n",
       " -0.00616968070637333,\n",
       " -0.00616968074062802,\n",
       " -0.006169680774883178,\n",
       " -0.006169680809138826,\n",
       " -0.006169680843394943,\n",
       " -0.006169680877651497,\n",
       " -0.00616968091190853,\n",
       " -0.006169680946165992,\n",
       " -0.006169680980423932,\n",
       " -0.006169681014682312,\n",
       " -0.0061696810489411625,\n",
       " -0.006169681083200516,\n",
       " -0.006169681117460328,\n",
       " -0.006169681151720632,\n",
       " -0.006169681185981394,\n",
       " -0.006169681220242632,\n",
       " -0.006169681254504375,\n",
       " -0.006169681288766588,\n",
       " -0.006169681323029291,\n",
       " -0.006169681357292434,\n",
       " -0.006169681391556048,\n",
       " -0.006169681425820156,\n",
       " -0.006169681460084765,\n",
       " -0.0061696814943498456,\n",
       " -0.006169681528615472,\n",
       " -0.006169681562881599,\n",
       " -0.006169681597148175,\n",
       " -0.006169681631415292,\n",
       " -0.006169681665682886,\n",
       " -0.006169681699950974,\n",
       " -0.0061696817342195755,\n",
       " -0.006169681768488694,\n",
       " -0.006169681802758288,\n",
       " -0.00616968183702842,\n",
       " -0.006169681871299047,\n",
       " -0.006169681905570162,\n",
       " -0.00616968193984179,\n",
       " -0.006169681974113928,\n",
       " -0.0061696820083865815,\n",
       " -0.006169682042659764,\n",
       " -0.006169682076933471,\n",
       " -0.006169682111207709,\n",
       " -0.006169682145482486,\n",
       " -0.006169682179757794,\n",
       " -0.006169682214033644,\n",
       " -0.006169682248310029,\n",
       " -0.006169682282586885,\n",
       " -0.00616968231686427,\n",
       " -0.006169682351142262,\n",
       " -0.006169682385420772,\n",
       " -0.0061696824196998115,\n",
       " -0.006169682453979368,\n",
       " -0.006169682488259504,\n",
       " -0.00616968252254014,\n",
       " -0.006169682556821342,\n",
       " -0.006169682591103096,\n",
       " -0.006169682625385396,\n",
       " -0.006169682659668235,\n",
       " -0.006169682693951654,\n",
       " -0.0061696827282355805,\n",
       " -0.006169682762520074,\n",
       " -0.006169682796805114,\n",
       " -0.006169682831090753,\n",
       " -0.006169682865376975,\n",
       " -0.0061696828996637585,\n",
       " -0.006169682933951092,\n",
       " -0.006169682968238954,\n",
       " -0.006169683002527395,\n",
       " -0.006169683036816451,\n",
       " -0.006169683071106044,\n",
       " -0.0061696831053962104,\n",
       " -0.006169683139686934,\n",
       " -0.006169683173978252,\n",
       " -0.006169683208270143,\n",
       " -0.006169683242562645,\n",
       " -0.00616968327685573,\n",
       " -0.006169683311149371,\n",
       " -0.006169683345443608,\n",
       " -0.006169683379738407,\n",
       " -0.006169683414033811,\n",
       " -0.006169683448329848,\n",
       " -0.006169683482626484,\n",
       " -0.006169683516923696,\n",
       " -0.00616968355122151,\n",
       " -0.006169683585519889,\n",
       " -0.006169683619818865,\n",
       " -0.006169683654118471,\n",
       " -0.006169683688418664,\n",
       " -0.0061696837227194785,\n",
       " -0.006169683757020868,\n",
       " -0.006169683791322927,\n",
       " -0.006169683825625555,\n",
       " -0.006169683859928831,\n",
       " -0.00616968389423272,\n",
       " -0.006169683928537245,\n",
       " -0.006169683962842351,\n",
       " -0.006169683997148075,\n",
       " -0.006169684031454418,\n",
       " -0.0061696840657614145,\n",
       " -0.0061696841000690094,\n",
       " -0.006169684134377219,\n",
       " -0.006169684168686062,\n",
       " -0.006169684202995552,\n",
       " -0.0061696842373057045,\n",
       " -0.006169684271616469,\n",
       " -0.006169684305927852,\n",
       " -0.006169684340239869,\n",
       " -0.006169684374552529,\n",
       " -0.006169684408865844,\n",
       " -0.006169684443179824,\n",
       " -0.006169684477494407,\n",
       " -0.0061696845118096675,\n",
       " -0.006169684546125548,\n",
       " -0.00616968458044212,\n",
       " -0.006169684614759317,\n",
       " -0.006169684649077146,\n",
       " -0.006169684683395683,\n",
       " -0.006169684717714847,\n",
       " -0.0061696847520346515,\n",
       " -0.0061696847863551615,\n",
       " -0.006169684820676308,\n",
       " -0.0061696848549981555,\n",
       " -0.006169684889320635,\n",
       " -0.00616968492364381,\n",
       " -0.006169684957967609,\n",
       " -0.0061696849922920904,\n",
       " -0.006169685026617255,\n",
       " -0.006169685060943083,\n",
       " -0.006169685095269586,\n",
       " -0.006169685129596802,\n",
       " -0.006169685163924669,\n",
       " -0.00616968519825323,\n",
       " -0.0061696852325824865,\n",
       " -0.0061696852669124195,\n",
       " -0.006169685301243011,\n",
       " -0.006169685335574318,\n",
       " -0.006169685369906329,\n",
       " -0.006169685404239022,\n",
       " -0.006169685438572449,\n",
       " -0.006169685472906523,\n",
       " -0.006169685507241295,\n",
       " -0.006169685541576808,\n",
       " -0.0061696855759129825,\n",
       " -0.00616968561024985,\n",
       " -0.006169685644587466,\n",
       " -0.006169685678925811,\n",
       " -0.006169685713264845,\n",
       " -0.006169685747604552,\n",
       " -0.006169685781944974,\n",
       " -0.006169685816286152,\n",
       " -0.006169685850628046,\n",
       " -0.006169685884970642,\n",
       " -0.006169685919313969,\n",
       " -0.006169685953658002,\n",
       " -0.0061696859880027675,\n",
       " -0.006169686022348243,\n",
       " -0.006169686056694452,\n",
       " -0.00616968609104137,\n",
       " -0.00616968612538902,\n",
       " -0.006169686159737438,\n",
       " -0.006169686194086582,\n",
       " -0.006169686228436489,\n",
       " -0.006169686262787116,\n",
       " -0.006169686297138483,\n",
       " -0.006169686331490563,\n",
       " -0.006169686365843373,\n",
       " -0.006169686400196936,\n",
       " -0.006169686434551278,\n",
       " -0.006169686468906358,\n",
       " -0.006169686503262193,\n",
       " -0.006169686537618806,\n",
       " -0.00616968657197615,\n",
       " -0.006169686606334242,\n",
       " -0.006169686640693101,\n",
       " -0.006169686675052748,\n",
       " -0.006169686709413129,\n",
       " -0.006169686743774255,\n",
       " -0.006169686778136151,\n",
       " -0.006169686812498816,\n",
       " -0.006169686846862281,\n",
       " -0.006169686881226477,\n",
       " -0.006169686915591479,\n",
       " -0.006169686949957245,\n",
       " -0.006169686984323778,\n",
       " -0.006169687018691078,\n",
       " -0.006169687053059158,\n",
       " -0.006169687087428029,\n",
       " -0.006169687121797685,\n",
       " -0.006169687156168144,\n",
       " -0.006169687190539333,\n",
       " -0.0061696872249113275,\n",
       " -0.0061696872592841255,\n",
       " -0.006169687293657725,\n",
       " -0.0061696873280321345,\n",
       " -0.00616968736240728,\n",
       " -0.006169687396783233,\n",
       " -0.0061696874311599785,\n",
       " -0.006169687465537524,\n",
       " -0.00616968749991593,\n",
       " -0.006169687534295114,\n",
       " -0.006169687568675087,\n",
       " -0.006169687603055896,\n",
       " -0.0061696876374374736,\n",
       " -0.006169687671819867,\n",
       " -0.006169687706203075,\n",
       " -0.00616968774058709,\n",
       " -0.006169687774971954,\n",
       " -0.006169687809357667,\n",
       " -0.006169687843744137,\n",
       " -0.006169687878131427,\n",
       " -0.006169687912519586,\n",
       " -0.006169687946908528,\n",
       " -0.006169687981298301,\n",
       " -0.0061696880156889575,\n",
       " -0.0061696880500804185,\n",
       " -0.006169688084472713,\n",
       " -0.006169688118865835,\n",
       " -0.006169688153259822,\n",
       " -0.006169688187654589,\n",
       " -0.006169688222050247,\n",
       " -0.006169688256446699,\n",
       " -0.006169688290844057,\n",
       " -0.006169688325242227,\n",
       " -0.00616968835964125,\n",
       " -0.006169688394041097,\n",
       " -0.006169688428441806,\n",
       " -0.006169688462843349,\n",
       " -0.0061696884972457545,\n",
       " -0.006169688531649071,\n",
       " -0.006169688566053184,\n",
       " -0.006169688600458205,\n",
       " -0.006169688634864097,\n",
       " -0.00616968866927082,\n",
       " -0.006169688703678408,\n",
       " -0.006169688738086889,\n",
       " -0.006169688772496234,\n",
       " -0.006169688806906456,\n",
       " -0.006169688841317528,\n",
       " -0.006169688875729467,\n",
       " -0.006169688910142301,\n",
       " -0.0061696889445559955,\n",
       " -0.006169688978970559,\n",
       " -0.006169689013386026,\n",
       " -0.006169689047802345,\n",
       " -0.006169689082219544,\n",
       " -0.006169689116637633,\n",
       " -0.006169689151056635,\n",
       " -0.0061696891854765,\n",
       " -0.006169689219897253,\n",
       " -0.0061696892543188974,\n",
       " -0.006169689288741459,\n",
       " -0.006169689323164943,\n",
       " -0.006169689357589302,\n",
       " -0.006169689392014549,\n",
       " -0.006169689426440692,\n",
       " -0.006169689460867745,\n",
       " -0.006169689495295714,\n",
       " -0.0061696895297246096,\n",
       " -0.00616968956415438,\n",
       " -0.006169689598585088,\n",
       " -0.006169689633016676,\n",
       " -0.006169689667449217,\n",
       " -0.006169689701882657,\n",
       " -0.006169689736317051,\n",
       " -0.006169689770752345,\n",
       " -0.006169689805188535,\n",
       " -0.006169689839625694,\n",
       " -0.006169689874063751,\n",
       " -0.006169689908502777,\n",
       " -0.0061696899429426934,\n",
       " -0.0061696899773835715,\n",
       " -0.006169690011825341,\n",
       " -0.006169690046268067,\n",
       " -0.006169690080711734,\n",
       " -0.006169690115156336,\n",
       " -0.006169690149601877,\n",
       " -0.006169690184048337,\n",
       " -0.006169690218495782,\n",
       " -0.00616969025294413,\n",
       " -0.0061696902873934435,\n",
       " -0.0061696903218437,\n",
       " -0.006169690356294891,\n",
       " -0.006169690390747074,\n",
       " -0.0061696904252002225,\n",
       " -0.006169690459654338,\n",
       " -0.0061696904941093925,\n",
       " -0.00616969052856537,\n",
       " -0.0061696905630223235,\n",
       " -0.006169690597480229,\n",
       " -0.006169690631939135,\n",
       " -0.006169690666399014,\n",
       " -0.006169690700859859,\n",
       " -0.006169690735321637,\n",
       " -0.006169690769784392,\n",
       " -0.006169690804248163,\n",
       " -0.006169690838712864,\n",
       " -0.006169690873178597,\n",
       " -0.006169690907645278,\n",
       " -0.006169690942112929,\n",
       " -0.0061696909765816,\n",
       " -0.006169691011051259,\n",
       " -0.006169691045521873,\n",
       " -0.006169691079993477,\n",
       " -0.006169691114466106,\n",
       " -0.006169691148939722,\n",
       " -0.006169691183414299,\n",
       " -0.006169691217889857,\n",
       " -0.0061696912523664365,\n",
       " -0.0061696912868440005,\n",
       " -0.00616969132132257,\n",
       " -0.006169691355802175,\n",
       " -0.006169691390282774,\n",
       " -0.0061696914247644,\n",
       " -0.006169691459247005,\n",
       " -0.00616969149373061,\n",
       " -0.006169691528215249,\n",
       " -0.00616969156270087,\n",
       " -0.0061696915971875595,\n",
       " -0.006169691631675208,\n",
       " -0.006169691666163898,\n",
       " -0.006169691700653591,\n",
       " -0.006169691735144358,\n",
       " -0.006169691769636158,\n",
       " -0.006169691804128932,\n",
       " -0.006169691838622774,\n",
       " -0.006169691873117623,\n",
       " -0.006169691907613489,\n",
       " -0.006169691942110395,\n",
       " -0.006169691976608344,\n",
       " -0.006169692011107346,\n",
       " -0.006169692045607348,\n",
       " -0.006169692080108425,\n",
       " -0.006169692114610518,\n",
       " -0.006169692149113692,\n",
       " -0.006169692183617901,\n",
       " -0.006169692218123135,\n",
       " -0.006169692252629406,\n",
       " -0.006169692287136785,\n",
       " -0.006169692321645208,\n",
       " -0.00616969235615467,\n",
       " -0.0061696923906651765,\n",
       " -0.006169692425176797,\n",
       " -0.006169692459689454,\n",
       " -0.006169692494203151,\n",
       " -0.00616969252871795,\n",
       " -0.0061696925632337765,\n",
       " -0.006169692597750706,\n",
       " -0.006169692632268651,\n",
       " -0.006169692666787677,\n",
       " -0.006169692701307775,\n",
       " -0.006169692735829005,\n",
       " -0.006169692770351289,\n",
       " -0.006169692804874623,\n",
       " -0.006169692839399051,\n",
       " -0.006169692873924563,\n",
       " -0.0061696929084511555,\n",
       " -0.006169692942978874,\n",
       " -0.006169692977507635,\n",
       " -0.006169693012037494,\n",
       " -0.0061696930465684335,\n",
       " -0.006169693081100501,\n",
       " -0.006169693115633672,\n",
       " -0.006169693150167938,\n",
       " -0.006169693184703275,\n",
       " -0.006169693219239722,\n",
       " -0.006169693253777265,\n",
       " -0.006169693288315943,\n",
       " -0.006169693322855736,\n",
       " -0.006169693357396612,\n",
       " -0.00616969339193862,\n",
       " -0.006169693426481728,\n",
       " -0.006169693461025905,\n",
       " -0.006169693495571198,\n",
       " -0.006169693530117645,\n",
       " -0.0061696935646652,\n",
       " -0.006169693599213849,\n",
       " -0.00616969363376362,\n",
       " -0.006169693668314541,\n",
       " -0.0061696937028665865,\n",
       " -0.0061696937374197845,\n",
       " -0.006169693771974098,\n",
       " -0.006169693806529557,\n",
       " -0.00616969384108613,\n",
       " -0.006169693875643838,\n",
       " -0.006169693910202707,\n",
       " -0.006169693944762706,\n",
       " -0.006169693979323846,\n",
       " -0.006169694013886105,\n",
       " -0.00616969404844949,\n",
       " -0.006169694083014022,\n",
       " -0.0061696941175797375,\n",
       " -0.0061696941521465765,\n",
       " -0.006169694186714572,\n",
       " -0.00616969422128373,\n",
       " -0.006169694255854009,\n",
       " -0.006169694290425492,\n",
       " -0.006169694324998132,\n",
       " -0.006169694359571937,\n",
       " -0.006169694394146857,\n",
       " -0.006169694428722976,\n",
       " -0.006169694463300239,\n",
       " -0.006169694497878655,\n",
       " -0.006169694532458239,\n",
       " -0.006169694567038998,\n",
       " -0.006169694601620937,\n",
       " -0.006169694636204072,\n",
       " -0.0061696946707884065,\n",
       " -0.0061696947053738755,\n",
       " -0.0061696947399605614,\n",
       " -0.0061696947745484,\n",
       " -0.00616969480913745,\n",
       " -0.006169694843727658,\n",
       " -0.006169694878319091,\n",
       " -0.006169694912911685,\n",
       " -0.006169694947505501,\n",
       " -0.006169694982100476,\n",
       " -0.006169695016696672,\n",
       " -0.006169695051294019,\n",
       " -0.006169695085892578,\n",
       " -0.0061696951204923585,\n",
       " -0.006169695155093332,\n",
       " -0.0061696951896955165,\n",
       " -0.006169695224298886,\n",
       " -0.006169695258903503,\n",
       " -0.006169695293509299,\n",
       " -0.006169695328116324,\n",
       " -0.006169695362724573,\n",
       " -0.006169695397334026,\n",
       " -0.0061696954319446756,\n",
       " -0.006169695466556577,\n",
       " -0.006169695501169639,\n",
       " -0.0061696955357839894,\n",
       " -0.006169695570399545,\n",
       " -0.006169695605016281,\n",
       " -0.006169695639634247,\n",
       " -0.006169695674253501,\n",
       " -0.006169695708873942,\n",
       " -0.0061696957434956255,\n",
       " -0.006169695778118526,\n",
       " -0.0061696958127426945,\n",
       " -0.006169695847368095,\n",
       " -0.006169695881994707,\n",
       " -0.0061696959166225775,\n",
       " -0.006169695951251676,\n",
       " -0.00616969598588204,\n",
       " -0.006169696020513643,\n",
       " -0.006169696055146526,\n",
       " -0.006169696089780647,\n",
       " -0.006169696124415995,\n",
       " -0.006169696159052653,\n",
       " -0.006169696193690528,\n",
       " -0.006169696228329662,\n",
       " -0.0061696962629700725,\n",
       " -0.006169696297611728,\n",
       " -0.006169696332254667,\n",
       " -0.006169696366898842,\n",
       " -0.006169696401544285,\n",
       " -0.006169696436191028,\n",
       " -0.006169696470839028,\n",
       " -0.006169696505488308,\n",
       " -0.0061696965401388925,\n",
       " -0.00616969657479074,\n",
       " -0.006169696609443875,\n",
       " -0.006169696644098257,\n",
       " -0.006169696678753899,\n",
       " -0.006169696713410822,\n",
       " -0.006169696748069051,\n",
       " -0.006169696782728602,\n",
       " -0.006169696817389424,\n",
       " -0.006169696852051536,\n",
       " -0.0061696968867149485,\n",
       " -0.006169696921379619,\n",
       " -0.006169696956045621,\n",
       " -0.006169696990712901,\n",
       " -0.006169697025381476,\n",
       " -0.006169697060051348,\n",
       " -0.006169697094722533,\n",
       " -0.006169697129395048,\n",
       " -0.006169697164068884,\n",
       " -0.006169697198743997,\n",
       " -0.006169697233420452,\n",
       " -0.006169697268098192,\n",
       " -0.0061696973027772885,\n",
       " -0.006169697337457673,\n",
       " -0.006169697372139351,\n",
       " -0.006169697406822401,\n",
       " -0.00616969744150674,\n",
       " -0.0061696974761923885,\n",
       " -0.006169697510879392,\n",
       " -0.006169697545567697,\n",
       " -0.006169697580257358,\n",
       " -0.00616969761494831,\n",
       " -0.006169697649640619,\n",
       " -0.006169697684334268,\n",
       " -0.006169697719029267,\n",
       " -0.006169697753725595,\n",
       " -0.006169697788423247,\n",
       " -0.006169697823122284,\n",
       " -0.00616969785782263,\n",
       " -0.0061696978925243375,\n",
       " -0.006169697927227397,\n",
       " -0.006169697961931794,\n",
       " -0.006169697996637522,\n",
       " -0.006169698031344622,\n",
       " -0.006169698066053084,\n",
       " -0.006169698100762892,\n",
       " -0.006169698135474034,\n",
       " -0.006169698170186555,\n",
       " -0.006169698204900427,\n",
       " -0.006169698239615712,\n",
       " -0.006169698274332312,\n",
       " -0.006169698309050276,\n",
       " -0.006169698343769645,\n",
       " -0.0061696983784904,\n",
       " -0.006169698413212515,\n",
       " -0.0061696984479359665,\n",
       " -0.006169698482660854,\n",
       " -0.006169698517387091,\n",
       " -0.006169698552114713,\n",
       " -0.0061696985868436955,\n",
       " -0.006169698621574063,\n",
       " -0.006169698656305871,\n",
       " -0.006169698691039005,\n",
       " -0.006169698725773569,\n",
       " -0.006169698760509534,\n",
       " -0.006169698795246866,\n",
       " -0.006169698829985585,\n",
       " -0.006169698864725735,\n",
       " -0.006169698899467272,\n",
       " -0.00616969893421023,\n",
       " -0.006169698968954561,\n",
       " -0.006169699003700302,\n",
       " -0.006169699038447468,\n",
       " -0.006169699073196027,\n",
       " -0.006169699107945996,\n",
       " -0.00616969914269734,\n",
       " -0.0061696991774501326,\n",
       " -0.006169699212204347,\n",
       " -0.006169699246959988,\n",
       " -0.006169699281717014,\n",
       " -0.00616969931647545,\n",
       " -0.006169699351235309,\n",
       " -0.006169699385996598,\n",
       " -0.006169699420759351,\n",
       " -0.006169699455523502,\n",
       " -0.00616969949028907,\n",
       " -0.006169699525056066,\n",
       " -0.006169699559824506,\n",
       " -0.006169699594594402,\n",
       " -0.0061696996293657555,\n",
       " -0.00616969966413852,\n",
       " -0.00616969969891276,\n",
       " -0.0061696997336884276,\n",
       " -0.006169699768465516,\n",
       " -0.006169699803244046,\n",
       " -0.006169699838024012,\n",
       " -0.006169699872805489,\n",
       " -0.006169699907588414,\n",
       " -0.006169699942372784,\n",
       " -0.006169699977158605,\n",
       " -0.006169700011945878,\n",
       " -0.006169700046734597,\n",
       " -0.006169700081524763,\n",
       " -0.0061697001163164445,\n",
       " -0.006169700151109563,\n",
       " -0.006169700185904122,\n",
       " -0.006169700220700178,\n",
       " -0.006169700255497723,\n",
       " -0.006169700290296689,\n",
       " -0.006169700325097139,\n",
       " -0.0061697003598990465,\n",
       " -0.006169700394702488,\n",
       " -0.0061697004295073726,\n",
       " -0.006169700464313763,\n",
       " -0.006169700499121646,\n",
       " -0.0061697005339309986,\n",
       " -0.0061697005687418194,\n",
       " -0.006169700603554156,\n",
       " -0.006169700638367985,\n",
       " -0.006169700673183295,\n",
       " -0.0061697007080000685,\n",
       " -0.006169700742818354,\n",
       " -0.006169700777638132,\n",
       " -0.006169700812459442,\n",
       " -0.006169700847282271,\n",
       " -0.00616970088210659,\n",
       " -0.006169700916932373,\n",
       " -0.0061697009517596695,\n",
       " -0.006169700986588523,\n",
       " -0.006169701021418828,\n",
       " -0.006169701056250703,\n",
       " -0.006169701091084049,\n",
       " -0.006169701125918897,\n",
       " -0.006169701160755299,\n",
       " -0.006169701195593212,\n",
       " -0.0061697012304326665,\n",
       " -0.006169701265273645,\n",
       " -0.006169701300116168,\n",
       " -0.006169701334960213,\n",
       " -0.0061697013698057985,\n",
       " -0.006169701404652891,\n",
       " -0.006169701439501525,\n",
       " -0.00616970147435166,\n",
       " -0.006169701509203323,\n",
       " -0.006169701544056544,\n",
       " -0.006169701578911342,\n",
       " -0.006169701613767681,\n",
       " -0.006169701648625517,\n",
       " -0.006169701683484932,\n",
       " -0.006169701718345896,\n",
       " -0.006169701753208422,\n",
       " -0.006169701788072459,\n",
       " -0.0061697018229380325,\n",
       " -0.0061697018578051625,\n",
       " -0.006169701892673864,\n",
       " -0.006169701927544155,\n",
       " -0.006169701962415975,\n",
       " -0.0061697019972893515,\n",
       " -0.006169702032164293,\n",
       " -0.006169702067040818,\n",
       " -0.006169702101918926,\n",
       " -0.006169702136798571,\n",
       " -0.006169702171679825,\n",
       " -0.0061697022065626385,\n",
       " -0.006169702241447008,\n",
       " -0.006169702276332949,\n",
       " -0.006169702311220471,\n",
       " -0.006169702346109573,\n",
       " -0.0061697023810002565,\n",
       " -0.006169702415892535,\n",
       " -0.006169702450786402,\n",
       " -0.00616970248568187,\n",
       " -0.006169702520578933,\n",
       " -0.006169702555477586,\n",
       " -0.006169702590377838,\n",
       " -0.0061697026252796865,\n",
       " -0.006169702660183125,\n",
       " -0.006169702695088149,\n",
       " -0.006169702729994819,\n",
       " -0.006169702764903068,\n",
       " -0.006169702799812892,\n",
       " -0.006169702834724343,\n",
       " -0.006169702869637412,\n",
       " -0.0061697029045521,\n",
       " -0.006169702939468388,\n",
       " -0.006169702974386272,\n",
       " -0.0061697030093058,\n",
       " -0.0061697030442269575,\n",
       " -0.00616970307914974,\n",
       " -0.006169703114074128,\n",
       " -0.006169703149000108,\n",
       " -0.006169703183927725,\n",
       " -0.006169703218856969,\n",
       " -0.006169703253787881,\n",
       " -0.0061697032887203795,\n",
       " -0.006169703323654509,\n",
       " -0.0061697033585903175,\n",
       " -0.006169703393527714,\n",
       " -0.006169703428466815,\n",
       " -0.006169703463407519,\n",
       " -0.006169703498349876,\n",
       " -0.006169703533293856,\n",
       " -0.006169703568239506,\n",
       " -0.006169703603186795,\n",
       " -0.006169703638135758,\n",
       " -0.006169703673086363,\n",
       " -0.006169703708038592,\n",
       " -0.006169703742992469,\n",
       " -0.006169703777948034,\n",
       " -0.006169703812905255,\n",
       " -0.00616970384786416,\n",
       " -0.006169703882824718,\n",
       " -0.006169703917786894,\n",
       " -0.006169703952750781,\n",
       " -0.006169703987716345,\n",
       " -0.0061697040226835415,\n",
       " -0.006169704057652404,\n",
       " -0.006169704092622964,\n",
       " -0.006169704127595163,\n",
       " -0.006169704162569038,\n",
       " -0.006169704197544613,\n",
       " -0.006169704232521908,\n",
       " -0.006169704267500879,\n",
       " -0.006169704302481538,\n",
       " -0.006169704337463852,\n",
       " -0.006169704372447833,\n",
       " -0.006169704407433567,\n",
       " -0.0061697044424209365,\n",
       " -0.006169704477410026,\n",
       " -0.0061697045124007805,\n",
       " -0.006169704547393288,\n",
       " -0.006169704582387492,\n",
       " -0.006169704617383402,\n",
       " -0.006169704652380965,\n",
       " -0.006169704687380256,\n",
       " -0.006169704722381294,\n",
       " -0.006169704757384007,\n",
       " -0.006169704792388418,\n",
       " -0.00616970482739452,\n",
       " -0.006169704862402396,\n",
       " -0.006169704897411978,\n",
       " -0.00616970493242328,\n",
       " -0.006169704967436289,\n",
       " -0.00616970500245102,\n",
       " -0.006169705037467471,\n",
       " -0.00616970507248565,\n",
       " -0.006169705107505544,\n",
       " -0.006169705142527155,\n",
       " -0.0061697051775505525,\n",
       " -0.006169705212575663,\n",
       " -0.00616970524760248,\n",
       " -0.006169705282631074,\n",
       " -0.006169705317661362,\n",
       " -0.006169705352693417,\n",
       " -0.006169705387727218,\n",
       " -0.006169705422762762,\n",
       " -0.006169705457800038,\n",
       " -0.0061697054928390995,\n",
       " -0.00616970552787988,\n",
       " -0.006169705562922419,\n",
       " -0.0061697055979667145,\n",
       " -0.006169705633012752,\n",
       " -0.006169705668060569,\n",
       " -0.006169705703110168,\n",
       " -0.006169705738161519,\n",
       " -0.006169705773214607,\n",
       " -0.006169705808269488,\n",
       " -0.006169705843326133,\n",
       " -0.006169705878384521,\n",
       " -0.006169705913444705,\n",
       " -0.006169705948506655,\n",
       " -0.006169705983570352,\n",
       " -0.006169706018635839,\n",
       " -0.006169706053703086,\n",
       " -0.006169706088772135,\n",
       " -0.006169706123842968,\n",
       " -0.006169706158915605,\n",
       " -0.006169706193990032,\n",
       " -0.006169706229066221,\n",
       " -0.0061697062641441975,\n",
       " -0.006169706299223932,\n",
       " -0.006169706334305461,\n",
       " -0.006169706369388822,\n",
       " -0.006169706404473972,\n",
       " -0.006169706439560947,\n",
       " -0.006169706474649709,\n",
       " ...]"
      ]
     },
     "execution_count": 183,
     "metadata": {},
     "output_type": "execute_result"
    }
   ],
   "source": [
    "TE"
   ]
  },
  {
   "cell_type": "code",
   "execution_count": 179,
   "id": "fbcf3c9d",
   "metadata": {},
   "outputs": [
    {
     "data": {
      "text/plain": [
       "[<matplotlib.lines.Line2D at 0x7f3dec5a6700>]"
      ]
     },
     "execution_count": 179,
     "metadata": {},
     "output_type": "execute_result"
    },
    {
     "data": {
      "image/png": "[encoded data removed]",
      "text/plain": [
       "<Figure size 432x288 with 1 Axes>"
      ]
     },
     "metadata": {
      "needs_background": "light"
     },
     "output_type": "display_data"
    }
   ],
   "source": [
    "plt.plot(TE_2)\n"
   ]
  },
  {
   "cell_type": "code",
   "execution_count": 109,
   "id": "8ac2a852",
   "metadata": {},
   "outputs": [
    {
     "data": {
      "text/plain": [
       "0.3201377670453933"
      ]
     },
     "execution_count": 109,
     "metadata": {},
     "output_type": "execute_result"
    }
   ],
   "source": [
    "np.min(dist_atoms)"
   ]
  },
  {
   "cell_type": "markdown",
   "id": "60c0b8d0",
   "metadata": {},
   "source": [
    "# Velocity Verlet"
   ]
  },
  {
   "cell_type": "code",
   "execution_count": 176,
   "id": "3e6a2af9",
   "metadata": {},
   "outputs": [
    {
     "name": "stderr",
     "output_type": "stream",
     "text": [
      "100%|██████████| 10000000/10000000 [23:42<00:00, 7029.68it/s]\n"
     ]
    }
   ],
   "source": [
    "dist_atoms_2, PE_2, KE_2, TE_2, NL_2=main(2)"
   ]
  },
  {
   "cell_type": "code",
   "execution_count": 177,
   "id": "3912e6f4",
   "metadata": {},
   "outputs": [
    {
     "name": "stdout",
     "output_type": "stream",
     "text": [
      "[1.         1.         1.         ... 0.97983059 0.97983068 0.97983077]\n",
      "[-0.00616967 -0.00616967 -0.00616967 ... -0.00697058 -0.00697057\n",
      " -0.00697057]\n",
      "[3.41968964e-15 1.36787586e-14 3.07772067e-14 ... 8.00904923e-04\n",
      " 8.00901108e-04 8.00897292e-04]\n",
      "[-0.00616967 -0.00616967 -0.00616967 ... -0.00616967 -0.00616967\n",
      " -0.00616967]\n"
     ]
    }
   ],
   "source": [
    "print(np.array(dist_atoms_2))\n",
    "print(np.array(PE_2))\n",
    "print(np.array(KE_2))\n",
    "print(np.array(TE_2))"
   ]
  },
  {
   "cell_type": "code",
   "execution_count": 178,
   "id": "6e1027e0",
   "metadata": {},
   "outputs": [
    {
     "data": {
      "image/png": "[encoded data removed]",
      "text/plain": [
       "<Figure size 432x288 with 4 Axes>"
      ]
     },
     "metadata": {
      "needs_background": "light"
     },
     "output_type": "display_data"
    }
   ],
   "source": [
    "fig, axs = plt.subplots(2, 2)\n",
    "axs[0, 0].plot(PE_2)\n",
    "axs[0, 0].set_title('LJ-potential')\n",
    "axs[0, 0].set_xlabel('r')\n",
    "axs[0, 0].set_ylabel('PE')\n",
    "\n",
    "axs[0, 1].plot(KE_2, 'tab:orange')\n",
    "axs[0, 1].set_title('KE')\n",
    "axs[0, 1].set_xlabel('r')\n",
    "axs[0, 1].set_ylabel('KE')\n",
    "\n",
    "axs[1, 0].plot(TE_2, 'tab:green') # spikes in the total energy at 10^-3 timestep \n",
    "axs[1, 0].set_title('Total energy')\n",
    "axs[1, 0].set_xlabel('r')\n",
    "axs[1, 0].set_ylabel('TE')\n",
    "\n",
    "axs[1, 1].plot(PE_2,'tab:blue')\n",
    "axs[1, 1].plot(KE_2, 'tab:orange')\n",
    "axs[1, 1].set_title('PE and KE')\n",
    "axs[1, 1].set_xlabel('Time step')\n",
    "axs[1, 1].set_ylabel('Energy')\n",
    "\n",
    "plt.tight_layout()"
   ]
  },
  {
   "cell_type": "code",
   "execution_count": null,
   "id": "172c65d7",
   "metadata": {},
   "outputs": [],
   "source": []
  },
  {
   "cell_type": "markdown",
   "id": "7248e4db",
   "metadata": {},
   "source": [
    "# Verlet"
   ]
  },
  {
   "cell_type": "code",
   "execution_count": 164,
   "id": "3dedb5e1",
   "metadata": {},
   "outputs": [],
   "source": [
    "dist_atoms_1, PE_1, KE_1, TE_1, NL_1 =main(1)"
   ]
  },
  {
   "cell_type": "code",
   "execution_count": 166,
   "id": "db71355c",
   "metadata": {},
   "outputs": [
    {
     "name": "stdout",
     "output_type": "stream",
     "text": [
      "[1.         0.99999999 0.99999999 ... 0.97981737 0.97982633 0.97983528]\n",
      "[-0.00616967 -0.00616967 -0.00616967 ... -0.00697114 -0.00697076\n",
      " -0.00697038]\n",
      "[8.54922306e-24 7.69430075e-23 2.13730576e-22 ... 8.01850326e-16\n",
      " 8.01468522e-16 8.01086833e-16]\n",
      "[-0.00616967 -0.00616967 -0.00616967 ... -0.00697114 -0.00697076\n",
      " -0.00697038]\n"
     ]
    }
   ],
   "source": [
    "print(np.array(dist_atoms_1))\n",
    "print(np.array(PE_1))\n",
    "print(np.array(KE_1))\n",
    "print(np.array(TE_1))"
   ]
  },
  {
   "cell_type": "code",
   "execution_count": 75,
   "id": "0ab6557d",
   "metadata": {},
   "outputs": [
    {
     "data": {
      "text/plain": [
       "[[1], [0]]"
      ]
     },
     "execution_count": 75,
     "metadata": {},
     "output_type": "execute_result"
    }
   ],
   "source": [
    "NL_1"
   ]
  },
  {
   "cell_type": "code",
   "execution_count": 167,
   "id": "64fbdb28",
   "metadata": {},
   "outputs": [
    {
     "data": {
      "image/png": "[encoded data removed]",
      "text/plain": [
       "<Figure size 432x288 with 4 Axes>"
      ]
     },
     "metadata": {
      "needs_background": "light"
     },
     "output_type": "display_data"
    }
   ],
   "source": [
    "fig, axs = plt.subplots(2, 2)\n",
    "axs[0, 0].plot(PE_1)\n",
    "axs[0, 0].set_title('PE')\n",
    "axs[0, 0].set_xlabel('r')\n",
    "axs[0, 0].set_ylabel('PE')\n",
    "\n",
    "axs[0, 1].plot(KE_1, 'tab:orange')\n",
    "axs[0, 1].set_title('KE')\n",
    "axs[0, 1].set_xlabel('r')\n",
    "axs[0, 1].set_ylabel('KE')\n",
    "\n",
    "axs[1, 0].plot(TE_1, 'tab:green')\n",
    "axs[1, 0].set_title('Total energy')\n",
    "axs[1, 0].set_xlabel('r')\n",
    "axs[1, 0].set_ylabel('TE')\n",
    "\n",
    "\n",
    "\n",
    "plt.tight_layout()"
   ]
  },
  {
   "cell_type": "code",
   "execution_count": 168,
   "id": "93b3fa6c",
   "metadata": {},
   "outputs": [
    {
     "data": {
      "text/plain": [
       "[<matplotlib.lines.Line2D at 0x7f3de94b3460>]"
      ]
     },
     "execution_count": 168,
     "metadata": {},
     "output_type": "execute_result"
    },
    {
     "data": {
      "image/png": "[encoded data removed]",
      "text/plain": [
       "<Figure size 432x288 with 1 Axes>"
      ]
     },
     "metadata": {
      "needs_background": "light"
     },
     "output_type": "display_data"
    }
   ],
   "source": [
    "plt.plot(TE_1)\n",
    "plt.plot(KE_1)\n",
    "plt.plot(PE_1)"
   ]
  },
  {
   "cell_type": "code",
   "execution_count": null,
   "id": "ff5459e8",
   "metadata": {},
   "outputs": [],
   "source": [
    "#calculate interactions force pbc -- done\n",
    "#calculate potential energy\n",
    "#calculate kinetic energy plot\n",
    "#calculate total energy\n",
    "#vary the timesteps (different algorithms)\n",
    "#neighbouring scheme (see lecture today)"
   ]
  },
  {
   "cell_type": "markdown",
   "id": "046bc808",
   "metadata": {},
   "source": [
    "# Increasing particles verlocity verlet, with Pair list"
   ]
  },
  {
   "cell_type": "code",
   "execution_count": 317,
   "id": "d9159aaa",
   "metadata": {},
   "outputs": [
    {
     "name": "stderr",
     "output_type": "stream",
     "text": [
      "100%|██████████| 100/100 [00:00<00:00, 183.57it/s]\n"
     ]
    }
   ],
   "source": [
    "dist_atoms_0, PE_0, KE_0, TE_0, NL_0=main(2) # 1st simulation at N = 10, VV, Densitiy = 10/L**3 = 1.25, L=2"
   ]
  },
  {
   "cell_type": "code",
   "execution_count": 331,
   "id": "fbcb3821",
   "metadata": {},
   "outputs": [
    {
     "name": "stdout",
     "output_type": "stream",
     "text": [
      "[list([1, 9]) list([0, 9]) list([7]) list([]) list([]) list([]) list([])\n",
      " list([2]) list([1]) list([0, 1])]\n"
     ]
    },
    {
     "name": "stderr",
     "output_type": "stream",
     "text": [
      "<ipython-input-331-db0665297268>:1: VisibleDeprecationWarning: Creating an ndarray from ragged nested sequences (which is a list-or-tuple of lists-or-tuples-or ndarrays with different lengths or shapes) is deprecated. If you meant to do this, you must specify 'dtype=object' when creating the ndarray\n",
      "  print(np.array(NL_0))\n"
     ]
    }
   ],
   "source": [
    "print(NL_0)"
   ]
  },
  {
   "cell_type": "code",
   "execution_count": 343,
   "id": "d4330861",
   "metadata": {},
   "outputs": [
    {
     "name": "stderr",
     "output_type": "stream",
     "text": [
      "100%|██████████| 100/100 [00:38<00:00,  2.61it/s]\n"
     ]
    }
   ],
   "source": [
    "dist_atoms_1, PE_1, KE_1, TE_1, NL_1=main(2) # 2nd simulation at N = 20, vol = 20/1.25 = 16, L =cube root of vol(16) = "
   ]
  },
  {
   "cell_type": "code",
   "execution_count": 332,
   "id": "4de46d78",
   "metadata": {},
   "outputs": [
    {
     "name": "stdout",
     "output_type": "stream",
     "text": [
      "[list([1, 8, 9, 12, 13, 14, 16, 17, 19])\n",
      " list([0, 7, 9, 11, 14, 16, 17, 19]) list([5, 6, 10, 13]) list([11, 18])\n",
      " list([]) list([9, 10, 11]) list([2, 5, 10])\n",
      " list([1, 8, 9, 11, 12, 14, 16, 17, 19])\n",
      " list([0, 7, 9, 11, 12, 13, 14, 16, 17, 19])\n",
      " list([0, 1, 5, 7, 8, 11, 12, 13, 14, 16, 17, 19]) list([5])\n",
      " list([1, 3, 5, 7, 8, 9, 12, 14, 16])\n",
      " list([0, 7, 8, 9, 11, 13, 14, 16, 17, 19])\n",
      " list([0, 2, 8, 9, 10, 12, 14, 16, 17, 19])\n",
      " list([0, 1, 7, 8, 9, 11, 12, 13, 16, 17, 19]) list([])\n",
      " list([0, 1, 7, 8, 9, 11, 12, 13, 14, 17, 19])\n",
      " list([0, 1, 7, 8, 9, 12, 13, 14, 16, 19]) list([3])\n",
      " list([0, 1, 7, 8, 9, 12, 13, 14, 16, 17])]\n"
     ]
    },
    {
     "name": "stderr",
     "output_type": "stream",
     "text": [
      "<ipython-input-332-196c247b56cf>:1: VisibleDeprecationWarning: Creating an ndarray from ragged nested sequences (which is a list-or-tuple of lists-or-tuples-or ndarrays with different lengths or shapes) is deprecated. If you meant to do this, you must specify 'dtype=object' when creating the ndarray\n",
      "  print(np.array(NL_1))\n"
     ]
    }
   ],
   "source": [
    "print(NL_1)"
   ]
  },
  {
   "cell_type": "code",
   "execution_count": 344,
   "id": "80f84623",
   "metadata": {},
   "outputs": [
    {
     "name": "stderr",
     "output_type": "stream",
     "text": [
      "100%|██████████| 100/100 [00:38<00:00,  2.63it/s]\n"
     ]
    }
   ],
   "source": [
    "dist_atoms_2, PE_2, KE_2, TE_2, NL_2=main(2) # 3rd simulation at N = 100, vol = 100/1.25 = 80, L =cube root of vol(80) = "
   ]
  },
  {
   "cell_type": "code",
   "execution_count": 345,
   "id": "5c93a979",
   "metadata": {},
   "outputs": [
    {
     "name": "stdout",
     "output_type": "stream",
     "text": [
      "[[2, 13, 46, 58, 74, 81, 82, 89], [47, 74, 84, 89, 98], [0, 45, 47, 74, 81, 84], [19, 33, 40, 50, 52, 53, 77, 83, 99], [9, 11, 36, 56, 60, 69, 85, 99], [10, 23, 34, 44, 45, 70, 74, 79, 81, 91, 95], [], [10, 17, 18, 22, 45, 51, 57, 66, 67, 70, 72, 75], [48, 71, 97], [4, 11, 25, 41, 52, 65, 77, 85, 94, 99], [5, 7, 17, 20, 22, 33, 45, 54, 61, 64, 70, 72, 75, 79, 95], [4, 9, 25, 36, 52, 56, 65, 69, 85, 93, 94], [], [0, 24, 44, 46, 48, 58, 71, 81, 82, 87, 89, 97], [30, 31, 38, 76, 93], [24, 42, 44, 48, 63, 65, 86, 93, 94], [], [7, 10, 22, 57, 70, 72], [7, 22, 32, 62, 66, 70, 72, 75, 98], [3, 50, 51, 53, 60, 83, 99], [10, 23, 39, 43, 54, 61, 64, 68, 79, 95], [28, 29, 37, 41, 86, 88], [7, 10, 17, 18, 45, 47, 70, 98], [5, 20, 34, 39, 54, 61, 68, 79, 91, 95], [13, 15, 42, 44, 46, 48, 58, 63, 71, 79, 81, 87, 91], [9, 11, 33, 37, 40, 44, 50, 52, 63, 65, 85, 94], [], [], [21, 29, 41, 86], [21, 28, 37, 41, 86, 88], [14, 38, 59, 65, 76, 93, 94], [14, 38, 49, 55, 67, 78, 80, 92, 93], [18, 62, 66], [3, 10, 25, 37, 40, 43, 50, 51, 52, 54, 61, 64, 75, 83, 95], [5, 23, 39, 46, 58, 79, 91, 95], [], [4, 11, 38, 55, 56, 65, 69, 85], [21, 25, 29, 33, 40, 41, 42, 43, 44, 52, 54, 79, 86, 88, 95], [14, 30, 31, 36, 49, 55, 76, 78, 80, 93], [20, 23, 34, 46, 68, 79, 91, 95], [3, 25, 33, 37, 43, 50, 52, 54, 64, 83, 88, 95], [9, 21, 28, 29, 37, 77, 86, 88], [15, 24, 37, 44, 48, 63, 79, 86, 91, 95], [20, 33, 37, 40, 52, 54, 64, 79, 88, 95], [5, 13, 15, 24, 25, 37, 42, 48, 63, 79, 81, 87, 91, 95], [2, 5, 7, 10, 22, 47, 70, 74, 75, 79, 81], [0, 13, 24, 34, 39, 58, 91], [1, 2, 22, 45, 70, 74, 81, 84, 89, 98], [8, 13, 15, 24, 42, 44, 63, 71, 87, 93, 94, 97], [31, 38, 55, 56, 66, 67, 78, 80, 92, 93], [3, 19, 25, 33, 40, 51, 52, 53, 60, 83, 99], [7, 19, 33, 50, 60, 67, 72, 75, 83], [3, 9, 11, 25, 33, 37, 40, 43, 50, 83, 85, 99], [3, 19, 50, 83], [10, 20, 23, 33, 37, 40, 43, 61, 64, 79, 95], [31, 36, 38, 49, 56, 67, 69, 78, 80, 90], [4, 11, 36, 49, 55, 60, 67, 69, 80, 85, 99], [7, 17, 72], [0, 13, 24, 34, 46, 81, 91], [30, 93], [4, 19, 50, 51, 56, 69, 85, 99], [10, 20, 23, 33, 54, 64, 95], [18, 32, 66, 98], [15, 24, 25, 42, 44, 48, 71, 87, 92, 93, 94], [10, 20, 33, 40, 43, 54, 61, 83, 95], [9, 11, 15, 25, 30, 36, 85, 93, 94], [7, 18, 32, 49, 62, 67, 75, 80], [7, 31, 49, 51, 55, 56, 66, 75, 80, 92], [20, 23, 39], [4, 11, 36, 55, 56, 60, 85], [5, 7, 10, 17, 18, 22, 45, 47, 72, 74, 75, 81, 98], [8, 13, 24, 48, 63, 82, 87, 89, 97], [7, 10, 17, 18, 51, 57, 70, 75], [], [0, 1, 2, 5, 45, 47, 70, 81, 84, 87, 89], [7, 10, 18, 33, 45, 51, 66, 67, 70, 72], [14, 30, 38], [3, 9, 41, 99], [31, 38, 49, 55, 80, 90], [5, 10, 20, 23, 24, 34, 37, 39, 42, 43, 44, 45, 54, 81, 91, 95], [31, 38, 49, 55, 56, 66, 67, 78, 90], [0, 2, 5, 13, 24, 44, 45, 47, 58, 70, 74, 79, 87, 89], [0, 13, 71, 89, 97], [3, 19, 33, 40, 50, 51, 52, 53, 64], [1, 2, 47, 74, 89, 98], [4, 9, 11, 25, 36, 52, 56, 60, 65, 69, 94, 99], [15, 21, 28, 29, 37, 41, 42, 88], [13, 24, 44, 48, 63, 71, 74, 81, 89, 92, 97], [21, 29, 37, 40, 41, 43, 86], [0, 1, 13, 47, 71, 74, 81, 82, 84, 87, 97], [55, 78, 80], [5, 23, 24, 34, 39, 42, 44, 46, 58, 79, 95], [31, 49, 63, 67, 87, 93, 94], [11, 14, 15, 30, 31, 38, 48, 49, 59, 63, 65, 92, 94], [9, 11, 15, 25, 30, 48, 63, 65, 85, 92, 93], [5, 10, 20, 23, 33, 34, 37, 39, 40, 42, 43, 44, 54, 61, 64, 79, 91], [], [8, 13, 48, 71, 82, 87, 89], [1, 18, 22, 47, 62, 70, 84], [3, 4, 9, 19, 50, 52, 56, 60, 77, 85]]\n"
     ]
    }
   ],
   "source": [
    "print(NL_2)"
   ]
  },
  {
   "cell_type": "code",
   "execution_count": 98,
   "id": "c90dfb1f",
   "metadata": {},
   "outputs": [
    {
     "data": {
      "application/vnd.jupyter.widget-view+json": {
       "model_id": "e8235d490d314ea78b566734f26f2aa2",
       "version_major": 2,
       "version_minor": 0
      },
      "text/plain": [
       "  0%|          | 0/100 [00:00<?, ?it/s]"
      ]
     },
     "metadata": {},
     "output_type": "display_data"
    }
   ],
   "source": [
    "dist_atoms_3, PE_3, KE_3, TE_3, NL_3=main(2) # 4th simulation at N = 300, vol = 300/1.25 = 240, L =cube root of vol(240) = "
   ]
  },
  {
   "cell_type": "code",
   "execution_count": 100,
   "id": "55e5ba09",
   "metadata": {},
   "outputs": [
    {
     "name": "stderr",
     "output_type": "stream",
     "text": [
      "/home/darrenyeo/python/python/lib/python3.8/site-packages/numpy/core/_asarray.py:102: VisibleDeprecationWarning: Creating an ndarray from ragged nested sequences (which is a list-or-tuple of lists-or-tuples-or ndarrays with different lengths or shapes) is deprecated. If you meant to do this, you must specify 'dtype=object' when creating the ndarray.\n",
      "  return array(a, dtype, copy=False, order=order)\n"
     ]
    },
    {
     "data": {
      "text/plain": [
       "(300,)"
      ]
     },
     "execution_count": 100,
     "metadata": {},
     "output_type": "execute_result"
    }
   ],
   "source": [
    "np.shape(NL_3)"
   ]
  },
  {
   "cell_type": "code",
   "execution_count": 127,
   "id": "a999eaea",
   "metadata": {},
   "outputs": [
    {
     "data": {
      "application/vnd.jupyter.widget-view+json": {
       "model_id": "74c86abe4aa340b4879f09bd5b216f97",
       "version_major": 2,
       "version_minor": 0
      },
      "text/plain": [
       "  0%|          | 0/100 [00:00<?, ?it/s]"
      ]
     },
     "metadata": {},
     "output_type": "display_data"
    }
   ],
   "source": [
    "dist_atoms_4, PE_4, KE_4, TE_4, NL_4=main(2) # 5th simulation at N = 200, vol = 200/1.25 = 160, L =cube root of vol(160) = "
   ]
  },
  {
   "cell_type": "code",
   "execution_count": 130,
   "id": "aeb90607",
   "metadata": {},
   "outputs": [
    {
     "name": "stdout",
     "output_type": "stream",
     "text": [
      "[[34, 44, 60, 65, 71, 74, 75, 130, 154, 156, 177, 178, 188], [7, 18, 67, 77, 82, 101, 111, 160], [19, 23, 30, 72, 76, 110, 127], [], [34, 44, 58, 74, 83, 92, 104, 129, 144, 154, 171, 178, 184], [21, 61, 64, 109, 115, 132, 133, 143, 153, 166, 182], [91, 95, 97, 176, 179, 194], [1, 12, 26, 42, 67, 88, 101, 116, 146, 168], [45, 46, 55, 91, 117, 137, 161, 176, 190, 197], [36, 48, 60, 61, 65, 81, 83, 85, 130, 151, 156, 185], [27, 32, 41, 50, 63, 78, 93, 94, 108, 128, 174, 175, 186, 198], [102, 114, 187], [7, 22, 42, 45, 67, 88, 91, 97, 116, 141, 168, 176], [51, 54, 96, 125, 138, 139, 171], [20, 29, 84], [36, 52, 84, 109, 143, 146, 147, 151], [195], [27, 41, 49, 94, 174, 175, 186], [1, 67, 77, 82, 111, 160], [2, 23, 30, 50, 72, 76, 108, 110, 113, 127], [14, 25, 29, 84, 161, 181], [5, 52, 69, 115, 143, 147, 182], [12, 59, 81, 88, 116, 142, 162, 170, 176, 179, 194], [2, 19, 30, 72, 76], [], [20, 29, 46, 55, 120, 122, 137, 152, 161], [7, 36, 52, 69, 88, 142, 146, 147, 168, 169, 170], [10, 17, 32, 63, 78, 93, 94, 174, 175, 186, 191], [66, 104, 107, 129, 135, 144, 150, 187], [14, 20, 25, 84, 120, 122, 161], [2, 19, 23, 72, 76], [33, 41, 71, 90, 123, 167, 193, 196, 198], [10, 27, 48, 50, 63, 78, 85, 93, 128, 186, 198], [31, 40, 53, 71, 123, 167, 193, 196, 198], [0, 4, 44, 48, 65, 71, 74, 83, 130, 154, 178, 184, 185, 188], [41, 49, 94], [9, 15, 26, 48, 52, 78, 81, 85, 103, 128, 136, 142, 147, 151, 170], [], [40, 196], [51, 56, 96, 135], [33, 38, 53, 71, 167, 196], [10, 17, 31, 35, 49, 90, 94, 100, 123, 124, 175], [7, 12, 88, 91, 97, 116, 141, 168, 176], [], [0, 4, 34, 48, 53, 65, 71, 74, 83, 154, 167, 178, 184, 198], [8, 12, 46, 80, 88, 117, 142, 146, 161, 181], [8, 25, 45, 55, 117, 122, 161, 181, 190, 197], [87, 140, 150], [9, 32, 34, 36, 44, 59, 81, 83, 85, 92, 178], [17, 35, 41, 90, 94, 100, 124], [10, 19, 32, 78, 90, 93, 108, 113, 128, 166, 175], [13, 39, 54, 56, 96, 135, 171], [15, 21, 26, 36, 69, 80, 143, 146, 147, 169], [33, 40, 44, 71, 74, 144, 167, 178, 193, 196, 198], [13, 51, 56, 125, 138, 139, 149, 157], [8, 25, 46, 117, 161, 181, 197], [39, 51, 54, 58, 96, 135, 149, 189], [95, 140, 194], [4, 56, 104, 126, 129, 171, 189], [22, 48, 66, 81, 85, 89, 92, 162], [0, 9, 61, 65, 75, 98, 106, 121, 130, 151, 156, 185], [5, 9, 60, 64, 65, 68, 105, 106, 109, 130, 132, 133, 151, 153, 156], [111, 140, 159, 165, 172], [10, 27, 32, 78, 93, 94, 186, 191, 193, 198], [5, 61, 68, 109, 115, 132, 133, 153, 182], [0, 9, 34, 44, 60, 61, 71, 74, 75, 98, 121, 130, 151, 154, 156, 177, 178, 185, 188], [28, 59, 89, 92, 104, 107, 150, 171, 183], [1, 7, 12, 18, 77, 82, 88, 99, 101, 111, 116, 141, 160, 168, 170, 195], [61, 64, 105, 133, 151, 153, 156, 166], [21, 26, 52, 143, 146, 147, 169], [119, 148, 149, 155, 157, 180], [0, 31, 33, 34, 40, 44, 53, 65, 74, 75, 123, 167, 178, 188, 193, 196, 198], [2, 19, 23, 30, 110, 199], [158], [0, 4, 34, 44, 53, 65, 71, 83, 154, 177, 178, 184, 188], [0, 60, 65, 71, 98, 121, 130, 156, 177, 188], [2, 19, 23, 30], [1, 18, 67, 82, 101, 103, 111], [10, 27, 32, 36, 50, 63, 81, 85, 93, 103, 108, 128, 136, 170, 186], [], [45, 52, 117, 146, 181], [9, 22, 36, 48, 59, 78, 85, 89, 92, 103, 142, 162, 170], [1, 18, 67, 77, 101, 111, 174], [4, 9, 34, 44, 48, 74, 92, 130, 154, 171, 178, 184, 185], [14, 15, 20, 29, 106, 109], [9, 32, 36, 48, 59, 78, 81, 128, 130, 151], [119, 126, 145, 149, 154, 184, 189], [47], [7, 12, 22, 26, 42, 45, 67, 101, 103, 116, 142, 146, 162, 168, 170], [59, 66, 81, 103, 162, 165, 172, 183], [31, 41, 49, 50, 94, 100, 123, 124], [6, 8, 12, 42, 97, 116, 141, 176, 179], [4, 48, 59, 66, 81, 83, 125, 171], [10, 27, 32, 50, 63, 78, 108, 113, 128, 174, 175, 186], [10, 17, 27, 35, 41, 49, 63, 90, 123, 175, 193], [6, 57, 97, 159, 165, 172, 194, 195], [13, 39, 51, 56, 135], [6, 12, 42, 91, 95, 141, 176, 179, 194], [60, 65, 75, 121, 158, 177, 188], [67, 141, 160, 195], [41, 49, 90, 124], [1, 7, 67, 77, 82, 88, 103, 111, 116, 165, 168, 170, 195], [11, 107, 114, 187, 191], [36, 77, 78, 81, 88, 89, 101, 162, 168, 170, 186], [4, 28, 58, 66, 107, 129, 144, 150], [61, 68, 133, 136, 151, 153, 156, 166], [60, 61, 84, 109, 130, 133, 151, 153, 185], [28, 66, 102, 104, 114, 144, 150, 183, 191], [10, 19, 50, 78, 93, 113, 127, 128, 174, 175, 186], [5, 15, 61, 64, 84, 106, 132, 133, 143, 151, 153, 182], [2, 19, 72, 113, 127, 166, 199], [1, 18, 62, 67, 77, 82, 101, 165, 172, 195], [], [19, 50, 93, 108, 110, 127, 128, 169, 174, 186, 199], [11, 102, 107, 144, 187, 191], [5, 21, 64, 143, 182], [7, 12, 22, 42, 67, 88, 91, 101, 141, 162, 168, 170, 195], [8, 45, 46, 55, 80, 161, 181, 197], [], [70, 86, 145, 148, 149, 157, 180], [25, 29, 122, 137, 152, 161], [60, 65, 75, 98], [25, 29, 46, 120, 142, 152, 161, 181], [31, 33, 41, 71, 90, 94, 167, 193, 196, 198], [41, 49, 90, 100, 175], [13, 54, 92, 138, 139, 163, 171, 194], [58, 86, 145, 149, 184, 189], [2, 19, 108, 110, 113, 136, 143, 166], [10, 32, 36, 50, 78, 85, 93, 108, 113, 136, 143, 147, 169], [4, 28, 58, 104, 135, 150], [0, 9, 34, 60, 61, 65, 75, 83, 85, 106, 151, 154, 156, 185], [], [5, 61, 64, 109, 133, 153, 182], [5, 61, 64, 68, 105, 106, 109, 132, 153, 182], [], [28, 39, 51, 56, 96, 129, 150], [36, 78, 105, 127, 128, 143, 147, 151, 153, 166, 169], [8, 25, 120, 152, 163], [13, 54, 125, 139, 155, 163], [13, 54, 125, 138, 155, 163], [47, 57, 62, 159, 165, 172], [12, 42, 67, 91, 97, 99, 116], [22, 26, 36, 45, 81, 88, 122, 146, 162, 168, 170, 181], [5, 15, 21, 52, 69, 109, 115, 127, 128, 136, 147, 151, 153, 166, 169], [4, 28, 53, 104, 107, 114, 167, 191, 193], [86, 119, 126, 149, 180, 189], [7, 15, 26, 45, 52, 69, 80, 88, 142, 147, 168, 169, 170, 181], [15, 21, 26, 36, 52, 69, 128, 136, 143, 146, 169], [70, 119, 149, 155, 157, 189], [54, 56, 70, 86, 119, 126, 145, 148, 157, 180, 189], [28, 47, 66, 104, 107, 129, 135, 183], [9, 15, 36, 60, 61, 65, 68, 85, 105, 106, 109, 130, 136, 143, 153, 156], [25, 120, 122, 137, 161, 163], [5, 61, 64, 68, 105, 106, 109, 132, 133, 136, 143, 151, 156, 182], [0, 4, 34, 44, 65, 74, 83, 86, 130, 178, 184, 185, 188], [70, 138, 139, 148, 157], [0, 9, 60, 61, 65, 68, 75, 105, 130, 151, 153], [54, 70, 119, 148, 149, 155, 180], [73, 98], [62, 95, 140, 165, 172], [1, 18, 67, 99], [8, 20, 25, 29, 45, 46, 55, 117, 120, 122, 152, 181], [22, 59, 81, 88, 89, 103, 116, 142, 170], [125, 137, 138, 139, 152, 176, 179, 194], [], [62, 89, 95, 101, 111, 140, 159, 172, 195], [5, 50, 68, 105, 110, 127, 136, 143], [31, 33, 40, 44, 53, 71, 123, 144, 193, 196, 198], [7, 12, 26, 42, 67, 88, 101, 103, 116, 142, 146, 170], [26, 52, 69, 113, 128, 136, 143, 146, 147, 199], [22, 26, 36, 67, 78, 81, 88, 101, 103, 116, 142, 146, 162, 168], [4, 13, 51, 58, 66, 83, 92, 125, 189], [62, 89, 95, 111, 140, 159, 165, 183], [], [10, 17, 27, 82, 93, 108, 113, 175, 186], [10, 17, 27, 41, 50, 93, 94, 108, 124, 174, 186], [6, 8, 12, 22, 42, 91, 97, 163, 179, 194], [0, 65, 74, 75, 98, 188], [0, 4, 34, 44, 48, 53, 65, 71, 74, 83, 154, 184, 188], [6, 22, 91, 97, 163, 176, 194], [70, 119, 145, 149, 157, 189], [20, 45, 46, 55, 80, 117, 122, 142, 146, 161], [5, 21, 64, 109, 115, 132, 133, 153], [66, 89, 107, 150, 172, 191], [4, 34, 44, 74, 83, 86, 126, 154, 178, 188], [9, 34, 60, 65, 83, 106, 130, 154], [10, 17, 27, 32, 63, 78, 93, 103, 108, 113, 174, 175], [11, 28, 102, 114], [0, 34, 65, 71, 74, 75, 98, 154, 177, 178, 184], [56, 58, 86, 126, 145, 148, 149, 171, 180], [8, 46, 197], [27, 63, 102, 107, 114, 144, 183, 193], [], [31, 33, 53, 63, 71, 94, 123, 144, 167, 191, 198], [6, 22, 57, 95, 97, 125, 163, 176, 179], [16, 67, 95, 99, 101, 111, 116, 165], [31, 33, 38, 40, 53, 71, 123, 167], [8, 46, 55, 117, 190], [10, 31, 32, 33, 44, 53, 63, 71, 123, 167, 193], [72, 110, 113, 169]]\n"
     ]
    }
   ],
   "source": [
    "print(NL_4)"
   ]
  },
  {
   "cell_type": "code",
   "execution_count": 117,
   "id": "f3b0fc23",
   "metadata": {},
   "outputs": [
    {
     "data": {
      "application/vnd.jupyter.widget-view+json": {
       "model_id": "c3a4c55540284eeaa62c8f5a9d6de14c",
       "version_major": 2,
       "version_minor": 0
      },
      "text/plain": [
       "  0%|          | 0/100 [00:00<?, ?it/s]"
      ]
     },
     "metadata": {},
     "output_type": "display_data"
    }
   ],
   "source": [
    "dist_atoms_5, PE_5, KE_5, TE_5, NL_5=main(2) # 6th simulation at N = 500, vol = 500/1.25 = 400, L =cube root of vol(400) = "
   ]
  },
  {
   "cell_type": "code",
   "execution_count": 131,
   "id": "b9eab6d9",
   "metadata": {},
   "outputs": [
    {
     "name": "stdout",
     "output_type": "stream",
     "text": [
      "[[86, 247], [63, 211, 288, 306, 462], [65, 112, 200, 201, 233, 273, 364, 384, 409, 445, 470], [89, 112, 203, 425, 481], [52, 137, 154, 159, 186, 244, 451], [], [37, 71, 192, 316], [72, 84, 155, 169, 199, 382, 442], [98, 105, 170, 227, 258, 407], [11, 24, 43, 54, 112, 125, 200, 236, 273, 352, 355, 412, 470, 489], [196, 231, 252, 274, 348, 353, 460, 465, 483], [9, 33, 38, 43, 44, 131, 187, 228, 236, 273, 355, 364, 489], [30, 103, 147, 252, 348, 455, 460], [41, 86, 183, 292, 305, 331, 370, 454], [53, 145, 181, 223, 302, 354, 420], [144, 152, 189, 208, 268, 284, 326], [39, 272, 372, 388, 453], [190, 255, 360, 374], [109, 394], [77, 173, 323, 387, 428, 487], [42, 161, 165, 178, 191, 303, 333, 448, 473, 482], [29, 107, 137, 173, 256, 312, 335, 380, 469, 477, 486, 487], [85, 290, 308, 342, 378, 395, 430, 436, 437], [], [9, 94, 125, 188, 205, 489, 498], [40, 58, 126, 162, 281, 315, 317, 320, 366, 397, 445], [33, 38, 68, 81, 323, 373, 387, 400, 486, 487], [243, 309, 343, 356, 452], [182, 267, 413], [21, 67, 68, 81, 107, 173, 312, 335, 380, 387, 469, 477, 486, 487], [12, 87, 134, 135, 220, 231, 460], [149, 167, 375], [47, 69, 124, 144, 161, 196, 200, 268, 421, 422, 448, 482, 483], [11, 26, 38, 131, 228, 373, 400, 486], [106, 129, 157, 259, 359, 381, 414, 433, 480], [278], [232, 254, 336, 450], [6, 61, 71, 241, 319], [11, 26, 33, 120, 131, 193, 236, 373, 486], [16, 195, 339, 372, 385, 388], [25, 58, 111, 233, 250, 281, 317, 320, 366, 409, 427, 445], [13, 86, 292, 305, 331], [20, 115, 164, 178, 202, 267, 333], [9, 11, 44, 54, 187, 236, 273, 352, 355, 470, 489], [11, 43, 54, 145, 193, 236, 294, 349, 352, 355, 377, 470, 489], [72, 169, 209, 328, 418, 457, 488], [], [32, 78, 124, 161, 165, 178, 191, 196, 204, 274, 368, 377, 411, 422, 448, 465, 473, 482, 483], [146, 185, 347, 458], [], [78, 151, 230, 368, 403, 420, 496], [185, 190, 322, 458], [4, 159, 169, 451, 467, 488], [14, 92, 142, 223, 259, 302, 354, 485], [9, 43, 44, 78, 294, 352, 355, 371, 377, 412, 421, 422, 470, 489], [63, 120, 131, 426], [], [318, 415, 491], [25, 40, 103, 111, 126, 221, 229, 250, 317, 320, 366, 418], [101, 183, 370, 435, 444, 454], [83, 180, 386, 441], [37], [82, 299, 341, 429], [1, 55, 211, 426, 462], [258, 296], [2, 69, 189, 200, 201, 284, 315, 384], [], [29, 173, 312, 313, 335, 405, 428, 477, 487], [26, 29, 81, 173, 323, 335, 373, 387, 486, 487], [32, 65, 189, 200, 201, 281, 315, 326, 327, 422], [], [6, 37, 264, 316], [7, 45, 155, 169, 291, 328, 442], [96, 102, 321, 367], [], [129, 138, 148, 219, 285, 399], [474], [19, 387, 393, 428], [47, 50, 54, 161, 165, 175, 294, 352, 368, 371, 377, 412, 420, 421, 471], [81, 210, 245, 323, 387, 417], [101, 135, 150, 172, 183, 345, 370, 435, 459, 468], [26, 29, 68, 79, 323, 373, 387, 486, 487], [62, 106, 341, 429, 433], [60, 180, 313, 386, 441, 449], [7, 147, 278, 382, 442, 455], [22, 113, 194, 271, 290, 308, 342, 430, 437], [0, 13, 41, 247, 292, 331], [30, 101, 123, 135, 147, 345, 435, 455, 459], [], [3, 112, 364, 384], [], [104, 429], [53, 279, 329, 381, 401], [246, 340, 347, 350], [24, 112, 125, 203], [116, 118, 265, 293, 300, 303, 357, 363, 443], [73, 102, 222, 367], [], [8, 212, 301, 337], [], [277, 297, 298, 314, 430, 475], [59, 80, 87, 123, 135, 183, 345, 370, 434, 435, 440, 459], [73, 96, 141, 367], [12, 58, 169, 199, 250, 320, 348], [91, 337], [8, 170, 258, 407], [34, 82, 143, 157, 269, 341, 414, 433, 484], [21, 29, 137, 217, 241, 380, 400, 447, 469, 486], [202, 265, 346, 350], [18, 158, 394], [], [40, 58, 233, 250, 317, 409, 427, 445, 447], [2, 3, 9, 89, 94, 203, 273, 364, 425], [85, 266, 271, 308, 342, 395, 437], [132, 139, 156, 310, 324, 431, 480], [42, 164, 267, 499], [95, 118, 243, 293, 300, 363, 374, 408, 443, 452], [174, 298, 416, 453, 472], [95, 116, 240, 265, 293, 300, 303, 343, 357, 443, 452], [197, 235, 358, 423, 494], [38, 55, 131, 187, 372], [162, 213, 226, 229, 253, 390, 439], [135, 172, 231, 274, 353, 411, 435, 460, 465], [87, 101, 134, 345, 379, 383, 434, 435, 459], [32, 47, 161, 165, 168, 178, 196, 239, 268, 422, 448, 482, 483], [9, 24, 94, 187, 205, 249, 273, 355, 489], [25, 58, 317, 366], [153, 164, 202, 303, 333, 456], [152, 251, 334, 497, 499], [34, 75, 148, 157, 219, 285, 399], [163, 177, 270, 441], [11, 33, 38, 55, 120, 187, 236], [114, 139, 156, 188, 277, 298, 416, 431, 453, 480, 498], [197, 404, 415], [30, 123, 207, 220, 345, 351, 379, 383, 434, 459, 468], [30, 80, 87, 101, 122, 147, 172, 183, 231, 345, 435, 459, 460], [156, 277, 314], [4, 21, 107, 154, 159, 186, 256, 362, 365, 380], [75, 148, 219, 308], [114, 132, 156, 157, 195, 310, 359, 414, 431, 480], [160, 237, 292], [102, 179, 367, 393], [53, 145, 223, 282, 302, 354, 494], [106, 269, 337, 341, 414, 433, 484], [15, 32, 152, 239, 267, 268, 482], [14, 44, 142, 193, 223, 236, 282, 294, 302, 349, 354], [48, 185, 330, 347, 458], [12, 84, 87, 135, 252, 435, 455, 460], [75, 129, 138, 156, 219, 277, 399, 431], [31, 167], [80, 172, 183, 218, 237, 247, 292, 305, 331, 403, 493], [50, 230, 349, 403, 408, 420, 494, 496], [15, 128, 144, 251, 267, 334, 497, 499], [127, 369, 456], [4, 137, 159, 186, 244, 351, 455], [7, 72, 226, 291, 442], [114, 132, 136, 139, 148, 277, 310, 324, 431, 480], [34, 106, 129, 139, 206, 259, 359, 414, 431, 480], [109, 238, 304, 401, 438], [4, 52, 137, 154, 186, 244, 351, 382, 455], [140, 243, 360, 374, 424, 493], [20, 32, 47, 78, 124, 165, 178, 191, 196, 204, 268, 368, 422, 448, 473, 482, 483], [25, 121, 171, 229, 281, 315, 320, 327, 397, 439, 478], [130, 177, 386, 404, 410, 441], [42, 115, 127, 202, 267, 333, 499], [20, 47, 78, 124, 161, 178, 191, 196, 204, 368, 411, 448, 465, 473, 482, 483], [], [31, 149, 426], [124, 196, 198, 239, 327, 422, 448, 478, 483], [7, 45, 52, 72, 103, 199, 382, 418, 442], [8, 105, 227, 258, 407], [162, 281, 315, 326, 327, 397, 478], [80, 122, 135, 150, 183, 218, 231, 305, 403, 408], [19, 21, 29, 67, 68, 312, 313, 335, 387, 487], [117, 249, 272, 298, 416, 453, 472, 498], [78, 262, 368, 371, 471, 490], [], [130, 163, 179, 386, 393, 404, 410], [20, 42, 47, 124, 161, 165, 191, 196, 204, 239, 333, 368, 411, 448, 473, 482, 483], [141, 177, 386, 393, 404, 410, 474], [60, 83, 197, 358, 386, 441], [14, 205, 206, 352, 355, 371, 398, 412, 489], [28, 267, 346, 413], [13, 59, 80, 101, 135, 150, 172, 218, 305, 345, 370, 435, 454], [], [48, 51, 146, 322, 347, 458], [4, 137, 154, 159, 241, 319, 362, 365, 380, 451], [11, 43, 120, 125, 131, 205, 236, 249, 273], [24, 132, 195, 205, 206, 249, 272, 359, 416, 498], [15, 65, 69, 200, 201, 450], [17, 51, 322, 389], [20, 47, 161, 165, 178, 204, 368, 411, 448, 473, 482], [6, 275, 316, 466], [38, 44, 145, 236, 344, 349, 469], [85, 271], [39, 139, 188, 223, 259, 339, 359, 372, 385], [10, 32, 47, 124, 161, 165, 168, 178, 239, 268, 422, 448, 482, 483], [119, 133, 180, 344, 358, 494], [168, 239, 252, 353, 456, 483], [7, 103, 169, 250, 320], [2, 9, 32, 65, 69, 189, 201, 421, 422, 470, 489], [2, 65, 69, 189, 200, 315, 384], [42, 108, 127, 164, 333, 346, 350], [3, 94, 112, 425, 472], [47, 161, 165, 178, 191, 240, 274, 303, 353, 411, 465, 473], [24, 125, 181, 187, 188, 206, 223, 352, 355, 359, 398, 489], [157, 181, 188, 205, 223, 259, 359, 398], [134, 276, 351, 383, 434, 459], [15, 284, 326], [45, 457, 467, 488], [79, 234, 375, 428], [1, 63, 288, 306, 426, 462], [98], [121, 226, 229, 253, 439], [289, 295, 392, 440, 495], [], [], [107, 373, 400], [150, 172, 183, 283, 300, 305, 408, 454, 493], [75, 129, 138, 148, 277, 399], [30, 134, 256, 468], [58, 250, 317, 319, 362, 366, 418], [96, 367], [14, 53, 142, 145, 195, 205, 206, 259, 282, 302, 339, 359, 385, 485], [], [312, 313, 477], [121, 155, 213, 253, 291, 439], [8, 170, 258, 407], [11, 33, 273, 373, 400, 409, 447], [58, 121, 162, 213, 320, 439], [50, 151, 354, 403, 420, 464, 494, 496], [10, 30, 122, 135, 172, 274, 353, 460, 465], [36, 336, 450], [2, 40, 111, 273, 317, 364, 409, 445, 470], [210, 321], [119, 237, 423, 464, 493, 496], [9, 11, 38, 43, 44, 131, 145, 187, 193, 294, 302, 352, 355, 489], [140, 150, 235, 247, 292, 423, 493], [158, 304, 423, 438], [124, 144, 168, 178, 196, 198, 268, 422, 448, 483], [118, 204, 293, 300, 303, 357, 411], [37, 107, 186, 319, 362, 365, 451], [], [27, 116, 160, 300, 343, 356, 374, 424, 452], [4, 154, 159, 280, 351, 379, 382, 455], [79, 417, 491], [93, 287, 340, 389], [0, 86, 150, 237, 292, 305, 331], [], [125, 174, 187, 188, 272, 416, 472, 498], [40, 58, 103, 111, 199, 221, 320, 366, 418], [128, 152, 334, 497], [10, 12, 147, 198, 348, 353, 460], [121, 213, 226, 332, 390, 439], [36, 336, 490], [17, 279], [21, 137, 220, 380, 461, 469], [], [8, 64, 105, 170, 227, 407], [34, 53, 157, 195, 206, 223, 339, 359, 485], [275, 288, 306, 466], [], [175, 279, 329, 381, 471, 490, 492], [], [71], [95, 108, 118, 293, 303, 357, 443], [113, 342, 378, 395, 406, 436], [28, 42, 115, 144, 152, 164, 182, 499], [15, 32, 124, 144, 161, 196, 239, 422, 448, 482], [106, 143, 324, 414, 433], [130, 441], [85, 113, 194, 437], [16, 174, 188, 249, 372, 416, 453, 472], [2, 9, 11, 43, 112, 125, 187, 228, 233, 364, 409, 489], [10, 47, 122, 204, 231, 353, 411, 460, 465, 483], [192, 260, 316, 466], [207, 289, 295, 383, 434, 495], [100, 132, 136, 148, 156, 219, 314, 431], [35, 84, 280, 382, 455], [92, 255, 262, 329, 381, 492], [244, 278, 351, 379, 383, 434, 455], [25, 40, 69, 162, 171, 315, 327, 397, 478], [142, 145, 223, 302, 344, 354, 494], [218, 343, 452, 454], [15, 65, 208, 315, 326], [75, 129, 399], [], [246, 389], [1, 211, 260, 306], [214, 276, 295, 392, 495], [22, 85, 297, 342, 430, 437], [72, 155, 226], [13, 41, 86, 140, 150, 237, 247, 305, 331, 493], [95, 116, 118, 240, 265, 300, 303, 357, 408, 411, 443], [44, 54, 78, 145, 236, 349, 352, 355, 371, 377, 420], [214, 276, 289, 392, 495], [64, 463], [100, 290, 314, 430, 475], [100, 117, 132, 174, 314, 416, 453], [62], [95, 116, 118, 218, 240, 243, 293, 343, 408, 452], [98, 337, 341, 401, 484], [14, 53, 142, 145, 223, 236, 282, 339, 354], [20, 95, 118, 127, 204, 240, 265, 293, 333, 357, 411], [158, 238, 438], [13, 41, 150, 172, 183, 218, 247, 292, 331, 454, 493], [1, 211, 260, 288], [], [22, 85, 113, 138, 342, 395, 430, 437], [27, 454], [114, 139, 156, 324, 414, 431, 480], [], [21, 29, 67, 173, 225, 313, 477], [67, 83, 173, 225, 312, 405, 449], [100, 136, 277, 297, 298, 475], [25, 65, 69, 162, 171, 201, 281, 284, 326, 327, 384, 397, 478], [6, 71, 192, 275], [25, 40, 58, 111, 126, 221, 233, 366, 409, 445], [57, 361, 402, 415, 417, 491], [37, 186, 221, 241, 362, 365, 451], [25, 40, 58, 103, 162, 199, 229, 250, 418], [73, 234, 367], [51, 185, 190, 458], [19, 26, 68, 79, 81, 373, 387, 486, 487], [114, 156, 269, 310, 414, 431, 480], [425, 466, 481], [15, 69, 171, 208, 284, 315, 327, 478], [69, 162, 168, 171, 281, 315, 326, 397, 478], [45, 72, 457], [92, 262, 279, 381, 492], [146, 356, 363], [13, 41, 86, 150, 247, 292, 305, 454, 493], [253, 390], [20, 42, 127, 164, 178, 202, 303, 456], [128, 152, 251, 478, 497, 499], [21, 29, 67, 68, 173, 477, 487], [36, 232, 254, 450, 490], [98, 104, 143, 301, 341, 484], [], [39, 195, 223, 259, 302, 359, 372, 385, 485], [93, 246, 350, 443], [62, 82, 106, 143, 301, 337, 429, 433, 484], [22, 85, 113, 266, 290, 308, 378, 395, 430, 436, 437], [27, 118, 243, 283, 300, 356, 452], [193, 197, 282, 358, 469, 486], [80, 87, 101, 123, 134, 135, 183, 370, 434, 435, 440, 459, 468], [108, 182, 202, 350], [48, 93, 146, 185, 363, 458], [10, 12, 103, 252, 427, 460], [44, 145, 151, 193, 294, 354, 420, 494], [93, 108, 202, 340, 346], [134, 154, 159, 207, 244, 280, 379, 383, 434, 455], [9, 43, 44, 54, 78, 181, 205, 236, 294, 355, 371, 377, 398, 412, 421, 470, 489], [10, 122, 198, 204, 231, 252, 274, 411, 460, 465], [14, 53, 142, 145, 230, 282, 302, 349, 420, 464, 494], [9, 11, 43, 44, 54, 125, 181, 205, 236, 294, 352, 371, 377, 398, 412, 421, 470, 489], [27, 243, 330, 343, 363, 424, 452], [95, 118, 240, 265, 293, 303], [119, 180, 197, 344, 494], [34, 139, 157, 188, 195, 205, 206, 223, 259, 339, 480, 485], [17, 160, 374, 424], [318, 388, 463, 491], [137, 186, 221, 241, 319, 365, 380, 447, 451], [95, 116, 330, 347, 356, 374, 443, 458], [2, 11, 89, 112, 233, 273, 409, 425, 445], [137, 186, 241, 319, 362, 451, 467], [25, 40, 58, 126, 221, 250, 317, 418], [73, 96, 102, 141, 222, 321], [47, 50, 78, 161, 165, 175, 178, 191, 471, 473, 482], [153], [13, 59, 80, 101, 183, 345, 435, 440, 444, 454, 459], [54, 78, 175, 181, 294, 352, 355, 377, 398, 412, 421, 471, 489], [16, 39, 120, 195, 272, 339, 385, 388], [26, 33, 38, 68, 81, 217, 228, 323, 400, 486], [17, 116, 160, 243, 360, 363, 424], [31, 210], [], [44, 47, 54, 78, 294, 352, 355, 371, 412, 421, 422, 470], [22, 266, 342, 395, 436], [123, 134, 244, 280, 351, 383, 434, 455], [21, 29, 107, 137, 186, 256, 362, 469, 486], [34, 92, 262, 279, 329, 433], [7, 84, 159, 169, 244, 278, 442, 455], [123, 134, 207, 276, 280, 351, 379, 434, 459], [2, 65, 89, 201, 315, 445], [39, 195, 223, 339, 372, 388, 491], [60, 83, 163, 177, 179, 180, 393, 404, 441], [19, 26, 29, 68, 77, 79, 81, 173, 323, 486, 487], [16, 39, 361, 372, 385, 463, 491], [190, 246, 287, 492], [121, 253, 332, 439], [], [214, 289, 295, 476], [77, 141, 177, 179, 386, 404, 410], [18, 109], [22, 113, 266, 308, 342, 378, 406, 436], [], [25, 162, 171, 281, 315, 327], [181, 205, 206, 352, 355, 371, 412, 421, 489], [75, 129, 148, 219, 285], [26, 33, 107, 217, 228, 373, 426, 486], [92, 158, 301, 484, 485], [318, 417], [50, 150, 151, 172, 230, 408, 493], [133, 163, 177, 179, 386, 393, 410, 415, 474], [67, 313, 449], [266, 395], [8, 105, 170, 227, 258], [116, 151, 172, 218, 293, 300, 403, 493], [2, 40, 111, 228, 233, 273, 317, 364, 445, 447], [163, 177, 179, 393, 404, 415, 474], [47, 122, 165, 178, 191, 204, 240, 274, 293, 303, 353, 465, 473], [9, 54, 78, 181, 352, 355, 371, 377, 398, 421, 489], [28, 182], [34, 106, 139, 143, 157, 269, 310, 324, 431, 480], [57, 133, 318, 404, 410, 474], [117, 132, 174, 188, 249, 272, 298, 453, 472, 498], [79, 245, 318, 402, 491], [45, 58, 169, 221, 250, 320, 366, 488], [], [14, 50, 78, 151, 230, 294, 349, 354, 464, 496], [32, 54, 78, 200, 352, 355, 371, 377, 398, 412, 422, 470], [32, 47, 54, 69, 124, 161, 168, 196, 200, 239, 268, 377, 421, 448, 470, 482, 483], [119, 235, 237, 238, 438], [160, 243, 356, 360, 374], [3, 112, 203, 325, 364, 481], [55, 63, 167, 211, 400, 462], [40, 111, 348, 461], [19, 67, 77, 210], [62, 82, 91, 341], [22, 85, 100, 290, 297, 308, 342, 437, 475], [114, 132, 139, 148, 156, 157, 277, 310, 324, 414, 480], [], [34, 82, 106, 143, 269, 341, 381], [101, 123, 134, 207, 276, 280, 345, 351, 379, 383, 459], [59, 80, 87, 101, 122, 123, 135, 147, 183, 345, 370, 459], [22, 266, 342, 378, 395], [22, 85, 113, 271, 290, 308, 342, 430], [158, 238, 304, 423, 464], [121, 162, 213, 226, 229, 253, 390], [101, 214, 345, 370, 444], [60, 83, 130, 163, 180, 270, 386], [7, 72, 84, 155, 169, 382], [95, 116, 118, 265, 293, 340, 363], [59, 370, 440, 454], [2, 25, 40, 111, 233, 317, 364, 384, 409], [], [107, 111, 228, 362, 409], [20, 32, 47, 124, 161, 165, 168, 178, 191, 196, 239, 268, 422, 473, 482, 483], [83, 313, 405], [36, 189, 232, 336], [4, 52, 186, 241, 319, 362, 365, 467, 488], [27, 116, 118, 243, 283, 300, 343, 356], [16, 117, 132, 174, 272, 298, 416], [13, 59, 183, 218, 283, 305, 309, 331, 370, 444], [12, 84, 87, 147, 154, 159, 244, 278, 280, 351, 379, 382], [127, 153, 198, 333], [45, 209, 328, 488], [48, 51, 146, 185, 322, 347, 363], [80, 87, 101, 123, 134, 135, 207, 345, 370, 383, 434, 435, 468], [10, 12, 30, 122, 135, 147, 231, 252, 274, 348, 353, 465], [256, 427, 469], [1, 63, 211, 426], [296, 361, 388], [230, 235, 354, 420, 438, 494, 496], [10, 47, 122, 165, 204, 231, 274, 353, 411, 460, 483], [192, 260, 275, 325], [52, 209, 365, 451, 488], [80, 134, 220, 345, 459], [21, 29, 107, 193, 256, 344, 380, 461, 486, 487], [2, 9, 43, 44, 54, 200, 233, 352, 355, 377, 421, 422, 489], [78, 175, 262, 368, 371, 490], [117, 174, 203, 249, 272, 416], [20, 47, 161, 165, 178, 191, 204, 368, 411, 448, 482], [76, 179, 404, 410, 415], [100, 297, 314, 430], [392], [21, 29, 67, 225, 312, 335], [162, 168, 171, 281, 315, 326, 327, 334], [], [34, 114, 132, 139, 156, 157, 310, 324, 359, 414, 431], [3, 325, 425], [20, 32, 47, 124, 144, 161, 165, 178, 191, 196, 268, 368, 422, 448, 473, 483], [10, 32, 47, 124, 161, 165, 168, 178, 196, 198, 239, 274, 422, 448, 465, 482], [106, 143, 301, 337, 341, 401, 485], [53, 223, 259, 339, 359, 401, 484], [21, 26, 29, 33, 38, 68, 81, 107, 323, 344, 373, 380, 387, 400, 469, 487], [19, 21, 26, 29, 67, 68, 81, 173, 323, 335, 387, 469, 486], [45, 52, 209, 418, 451, 457, 467], [9, 11, 24, 43, 44, 54, 125, 181, 200, 205, 236, 273, 352, 355, 371, 398, 412, 470], [175, 254, 262, 336, 471], [57, 245, 318, 361, 385, 388, 417], [262, 279, 329, 389], [150, 160, 218, 235, 237, 292, 305, 331, 403, 408], [119, 142, 151, 197, 230, 282, 349, 354, 358, 464, 496], [214, 276, 289, 295], [50, 151, 230, 235, 420, 464, 494], [128, 152, 251, 334, 499], [24, 132, 174, 188, 249, 416], [115, 128, 152, 164, 267, 334, 497]]\n"
     ]
    }
   ],
   "source": [
    "print(NL_5)"
   ]
  },
  {
   "cell_type": "code",
   "execution_count": 80,
   "id": "7062b187",
   "metadata": {},
   "outputs": [
    {
     "data": {
      "application/vnd.jupyter.widget-view+json": {
       "model_id": "94343833cf15444993f08476788a2ef7",
       "version_major": 2,
       "version_minor": 0
      },
      "text/plain": [
       "HBox(children=(HTML(value=''), FloatProgress(value=0.0), HTML(value='')))"
      ]
     },
     "metadata": {},
     "output_type": "display_data"
    },
    {
     "name": "stdout",
     "output_type": "stream",
     "text": [
      "\n"
     ]
    },
    {
     "ename": "KeyboardInterrupt",
     "evalue": "",
     "output_type": "error",
     "traceback": [
      "\u001b[0;31m---------------------------------------------------------------------------\u001b[0m",
      "\u001b[0;31mKeyboardInterrupt\u001b[0m                         Traceback (most recent call last)",
      "\u001b[0;32m<ipython-input-80-a6dae2ae9e2e>\u001b[0m in \u001b[0;36m<module>\u001b[0;34m\u001b[0m\n\u001b[0;32m----> 1\u001b[0;31m \u001b[0mndist_atoms_6\u001b[0m\u001b[0;34m,\u001b[0m \u001b[0mPE_6\u001b[0m\u001b[0;34m,\u001b[0m \u001b[0mKE_6\u001b[0m\u001b[0;34m,\u001b[0m \u001b[0mTE_6\u001b[0m\u001b[0;34m,\u001b[0m \u001b[0mNL_6\u001b[0m\u001b[0;34m=\u001b[0m\u001b[0mmain\u001b[0m\u001b[0;34m(\u001b[0m\u001b[0;36m2\u001b[0m\u001b[0;34m)\u001b[0m \u001b[0;31m# 7th simulation at N = 700, vol = 700/1.25 = 560, L =cube root of vol(560) =\u001b[0m\u001b[0;34m\u001b[0m\u001b[0;34m\u001b[0m\u001b[0m\n\u001b[0m",
      "\u001b[0;32m<ipython-input-79-a89923643050>\u001b[0m in \u001b[0;36mmain\u001b[0;34m(mode)\u001b[0m\n\u001b[1;32m     49\u001b[0m         \u001b[0mTE\u001b[0m \u001b[0;34m=\u001b[0m\u001b[0;34m[\u001b[0m\u001b[0;34m]\u001b[0m\u001b[0;34m\u001b[0m\u001b[0;34m\u001b[0m\u001b[0m\n\u001b[1;32m     50\u001b[0m         \u001b[0;32mfor\u001b[0m \u001b[0mn_iter\u001b[0m \u001b[0;32min\u001b[0m \u001b[0mtqdm\u001b[0m\u001b[0;34m(\u001b[0m\u001b[0mrange\u001b[0m\u001b[0;34m(\u001b[0m\u001b[0mn_steps\u001b[0m\u001b[0;34m)\u001b[0m\u001b[0;34m)\u001b[0m\u001b[0;34m:\u001b[0m\u001b[0;34m\u001b[0m\u001b[0;34m\u001b[0m\u001b[0m\n\u001b[0;32m---> 51\u001b[0;31m             \u001b[0mpos\u001b[0m\u001b[0;34m,\u001b[0m \u001b[0mvel\u001b[0m \u001b[0;34m=\u001b[0m \u001b[0mVelocity_verlet\u001b[0m\u001b[0;34m(\u001b[0m\u001b[0mpos\u001b[0m\u001b[0;34m,\u001b[0m \u001b[0mvel\u001b[0m\u001b[0;34m,\u001b[0m \u001b[0mAngle\u001b[0m\u001b[0;34m)\u001b[0m\u001b[0;34m\u001b[0m\u001b[0;34m\u001b[0m\u001b[0m\n\u001b[0m\u001b[1;32m     52\u001b[0m             \u001b[0;31m#pos, vel = Velocity_verlet(pos, vel, no_bounds) #no_bounds to implement wall_force boundary.\u001b[0m\u001b[0;34m\u001b[0m\u001b[0;34m\u001b[0m\u001b[0;34m\u001b[0m\u001b[0m\n\u001b[1;32m     53\u001b[0m             \u001b[0;32mif\u001b[0m \u001b[0mn_iter\u001b[0m\u001b[0;34m%\u001b[0m\u001b[0;36m10\u001b[0m \u001b[0;34m==\u001b[0m\u001b[0;36m0\u001b[0m\u001b[0;34m:\u001b[0m\u001b[0;34m\u001b[0m\u001b[0;34m\u001b[0m\u001b[0m\n",
      "\u001b[0;32m<ipython-input-27-cdb3b97df79b>\u001b[0m in \u001b[0;36mVelocity_verlet\u001b[0;34m(pos, vel, boundary)\u001b[0m\n\u001b[1;32m      6\u001b[0m     \u001b[0mpos_new\u001b[0m \u001b[0;34m=\u001b[0m \u001b[0mpos\u001b[0m \u001b[0;34m+\u001b[0m \u001b[0mvel\u001b[0m\u001b[0;34m*\u001b[0m\u001b[0mdt\u001b[0m \u001b[0;34m+\u001b[0m \u001b[0;34m(\u001b[0m\u001b[0mforce\u001b[0m\u001b[0;34m/\u001b[0m\u001b[0;34m(\u001b[0m\u001b[0;36m2\u001b[0m\u001b[0;34m*\u001b[0m\u001b[0mm\u001b[0m\u001b[0;34m)\u001b[0m\u001b[0;34m)\u001b[0m\u001b[0;34m*\u001b[0m\u001b[0mdt\u001b[0m\u001b[0;34m**\u001b[0m\u001b[0;36m2\u001b[0m  \u001b[0;31m# Veleocity verlet algorithm for position\u001b[0m\u001b[0;34m\u001b[0m\u001b[0;34m\u001b[0m\u001b[0m\n\u001b[1;32m      7\u001b[0m     \u001b[0;31m#force_new = compute_force(pos_new) + wall_force(pos_new)\u001b[0m\u001b[0;34m\u001b[0m\u001b[0;34m\u001b[0m\u001b[0;34m\u001b[0m\u001b[0m\n\u001b[0;32m----> 8\u001b[0;31m     \u001b[0mforce_new\u001b[0m \u001b[0;34m=\u001b[0m \u001b[0mInteracting_atoms\u001b[0m\u001b[0;34m(\u001b[0m\u001b[0mpos_new\u001b[0m\u001b[0;34m)\u001b[0m\u001b[0;34m\u001b[0m\u001b[0;34m\u001b[0m\u001b[0m\n\u001b[0m\u001b[1;32m      9\u001b[0m     \u001b[0mvel_new\u001b[0m \u001b[0;34m=\u001b[0m \u001b[0mvel\u001b[0m \u001b[0;34m+\u001b[0m \u001b[0;34m(\u001b[0m\u001b[0;34m(\u001b[0m\u001b[0mforce_new\u001b[0m \u001b[0;34m+\u001b[0m \u001b[0mforce\u001b[0m\u001b[0;34m)\u001b[0m\u001b[0;34m/\u001b[0m\u001b[0;34m(\u001b[0m\u001b[0;36m2\u001b[0m\u001b[0;34m*\u001b[0m\u001b[0mm\u001b[0m\u001b[0;34m)\u001b[0m\u001b[0;34m)\u001b[0m\u001b[0;34m*\u001b[0m\u001b[0mdt\u001b[0m \u001b[0;31m# Veleocity verlet algorithm for velocity\u001b[0m\u001b[0;34m\u001b[0m\u001b[0;34m\u001b[0m\u001b[0m\n\u001b[1;32m     10\u001b[0m     \u001b[0mpos_new\u001b[0m\u001b[0;34m,\u001b[0m \u001b[0mvel_new\u001b[0m \u001b[0;34m=\u001b[0m\u001b[0mboundary\u001b[0m\u001b[0;34m(\u001b[0m\u001b[0mpos_new\u001b[0m\u001b[0;34m,\u001b[0m \u001b[0mvel_new\u001b[0m\u001b[0;34m)\u001b[0m\u001b[0;34m\u001b[0m\u001b[0;34m\u001b[0m\u001b[0m\n",
      "\u001b[0;32m<ipython-input-36-c30673ba5be2>\u001b[0m in \u001b[0;36mInteracting_atoms\u001b[0;34m(pos)\u001b[0m\n\u001b[1;32m     11\u001b[0m \u001b[0;34m\u001b[0m\u001b[0m\n\u001b[1;32m     12\u001b[0m                 \u001b[0;32mfor\u001b[0m \u001b[0mk\u001b[0m \u001b[0;32min\u001b[0m \u001b[0mrange\u001b[0m\u001b[0;34m(\u001b[0m\u001b[0;36m3\u001b[0m\u001b[0;34m)\u001b[0m\u001b[0;34m:\u001b[0m\u001b[0;34m\u001b[0m\u001b[0;34m\u001b[0m\u001b[0m\n\u001b[0;32m---> 13\u001b[0;31m                     \u001b[0mforce\u001b[0m\u001b[0;34m[\u001b[0m\u001b[0mi\u001b[0m\u001b[0;34m,\u001b[0m\u001b[0mk\u001b[0m\u001b[0;34m]\u001b[0m \u001b[0;34m+=\u001b[0m \u001b[0;36m24\u001b[0m\u001b[0;34m*\u001b[0m\u001b[0;34m(\u001b[0m\u001b[0mepsilon\u001b[0m\u001b[0;34m/\u001b[0m\u001b[0msigma\u001b[0m\u001b[0;34m)\u001b[0m\u001b[0;34m*\u001b[0m\u001b[0;34m(\u001b[0m\u001b[0;36m2\u001b[0m\u001b[0;34m*\u001b[0m\u001b[0;34m(\u001b[0m\u001b[0;34m(\u001b[0m\u001b[0msigma\u001b[0m\u001b[0;34m/\u001b[0m\u001b[0;34m(\u001b[0m\u001b[0mabsolute_r\u001b[0m\u001b[0;34m)\u001b[0m\u001b[0;34m)\u001b[0m\u001b[0;34m**\u001b[0m\u001b[0;36m13\u001b[0m\u001b[0;34m)\u001b[0m\u001b[0;34m-\u001b[0m\u001b[0;34m(\u001b[0m\u001b[0msigma\u001b[0m\u001b[0;34m/\u001b[0m\u001b[0;34m(\u001b[0m\u001b[0mabsolute_r\u001b[0m\u001b[0;34m)\u001b[0m\u001b[0;34m)\u001b[0m\u001b[0;34m**\u001b[0m\u001b[0;36m7\u001b[0m\u001b[0;34m)\u001b[0m\u001b[0;34m*\u001b[0m\u001b[0mr_vector\u001b[0m\u001b[0;34m[\u001b[0m\u001b[0mk\u001b[0m\u001b[0;34m]\u001b[0m\u001b[0;34m/\u001b[0m\u001b[0mabsolute_r\u001b[0m\u001b[0;31m#compute force to each particle\u001b[0m\u001b[0;34m\u001b[0m\u001b[0;34m\u001b[0m\u001b[0m\n\u001b[0m\u001b[1;32m     14\u001b[0m                 \u001b[0;31m#Force_vector = negative derivative of potential * r_vector/absolute value of r, where r = distance between two atoms\u001b[0m\u001b[0;34m\u001b[0m\u001b[0;34m\u001b[0m\u001b[0;34m\u001b[0m\u001b[0m\n\u001b[1;32m     15\u001b[0m \u001b[0;34m\u001b[0m\u001b[0m\n",
      "\u001b[0;31mKeyboardInterrupt\u001b[0m: "
     ]
    }
   ],
   "source": [
    "dist_atoms_6, PE_6, KE_6, TE_6, NL_6=main(2) # 7th simulation at N = 700, vol = 700/1.25 = 560, L =cube root of vol(560) = "
   ]
  },
  {
   "cell_type": "code",
   "execution_count": 74,
   "id": "06dfd9b2",
   "metadata": {},
   "outputs": [
    {
     "data": {
      "application/vnd.jupyter.widget-view+json": {
       "model_id": "aa9b3ce04e2445f7ba04fbc6b6ef8727",
       "version_major": 2,
       "version_minor": 0
      },
      "text/plain": [
       "  0%|          | 0/100 [00:00<?, ?it/s]"
      ]
     },
     "metadata": {},
     "output_type": "display_data"
    },
    {
     "ename": "KeyboardInterrupt",
     "evalue": "",
     "output_type": "error",
     "traceback": [
      "\u001b[0;31m---------------------------------------------------------------------------\u001b[0m",
      "\u001b[0;31mKeyboardInterrupt\u001b[0m                         Traceback (most recent call last)",
      "\u001b[0;32m<ipython-input-74-755fd00821c7>\u001b[0m in \u001b[0;36m<module>\u001b[0;34m\u001b[0m\n\u001b[0;32m----> 1\u001b[0;31m \u001b[0mdist_atoms_7\u001b[0m\u001b[0;34m,\u001b[0m \u001b[0mPE_7\u001b[0m\u001b[0;34m,\u001b[0m \u001b[0mKE_7\u001b[0m\u001b[0;34m,\u001b[0m \u001b[0mTE_7\u001b[0m\u001b[0;34m,\u001b[0m \u001b[0mNL_7\u001b[0m\u001b[0;34m=\u001b[0m\u001b[0mmain\u001b[0m\u001b[0;34m(\u001b[0m\u001b[0;36m2\u001b[0m\u001b[0;34m)\u001b[0m\u001b[0;31m# 8th simulation at N = 1000, vol = 1000/1.25 = 800, L =cube root of vol(800) =\u001b[0m\u001b[0;34m\u001b[0m\u001b[0;34m\u001b[0m\u001b[0m\n\u001b[0m",
      "\u001b[0;32m<ipython-input-72-c5d59d823094>\u001b[0m in \u001b[0;36mmain\u001b[0;34m(mode)\u001b[0m\n\u001b[1;32m     49\u001b[0m         \u001b[0mTE\u001b[0m \u001b[0;34m=\u001b[0m\u001b[0;34m[\u001b[0m\u001b[0;34m]\u001b[0m\u001b[0;34m\u001b[0m\u001b[0;34m\u001b[0m\u001b[0m\n\u001b[1;32m     50\u001b[0m         \u001b[0;32mfor\u001b[0m \u001b[0mn_iter\u001b[0m \u001b[0;32min\u001b[0m \u001b[0mtqdm\u001b[0m\u001b[0;34m(\u001b[0m\u001b[0mrange\u001b[0m\u001b[0;34m(\u001b[0m\u001b[0mn_steps\u001b[0m\u001b[0;34m)\u001b[0m\u001b[0;34m)\u001b[0m\u001b[0;34m:\u001b[0m\u001b[0;34m\u001b[0m\u001b[0;34m\u001b[0m\u001b[0m\n\u001b[0;32m---> 51\u001b[0;31m             \u001b[0mpos\u001b[0m\u001b[0;34m,\u001b[0m \u001b[0mvel\u001b[0m \u001b[0;34m=\u001b[0m \u001b[0mVelocity_verlet\u001b[0m\u001b[0;34m(\u001b[0m\u001b[0mpos\u001b[0m\u001b[0;34m,\u001b[0m \u001b[0mvel\u001b[0m\u001b[0;34m,\u001b[0m \u001b[0mpbc\u001b[0m\u001b[0;34m)\u001b[0m\u001b[0;34m\u001b[0m\u001b[0;34m\u001b[0m\u001b[0m\n\u001b[0m\u001b[1;32m     52\u001b[0m             \u001b[0;31m#pos, vel = Velocity_verlet(pos, vel, no_bounds) #no_bounds to implement wall_force boundary.\u001b[0m\u001b[0;34m\u001b[0m\u001b[0;34m\u001b[0m\u001b[0;34m\u001b[0m\u001b[0m\n\u001b[1;32m     53\u001b[0m             \u001b[0;32mif\u001b[0m \u001b[0mn_iter\u001b[0m\u001b[0;34m%\u001b[0m\u001b[0;36m10\u001b[0m \u001b[0;34m==\u001b[0m\u001b[0;36m0\u001b[0m\u001b[0;34m:\u001b[0m\u001b[0;34m\u001b[0m\u001b[0;34m\u001b[0m\u001b[0m\n",
      "\u001b[0;32m<ipython-input-23-cdb3b97df79b>\u001b[0m in \u001b[0;36mVelocity_verlet\u001b[0;34m(pos, vel, boundary)\u001b[0m\n\u001b[1;32m      3\u001b[0m     Only repulsion is taken into account. Interaction of atoms according to LJ included\"\"\"\n\u001b[1;32m      4\u001b[0m     \u001b[0;31m#force = compute_force(pos) + wall_force(pos) #when computing forces\u001b[0m\u001b[0;34m\u001b[0m\u001b[0;34m\u001b[0m\u001b[0;34m\u001b[0m\u001b[0m\n\u001b[0;32m----> 5\u001b[0;31m     \u001b[0mforce\u001b[0m \u001b[0;34m=\u001b[0m \u001b[0mInteracting_atoms\u001b[0m\u001b[0;34m(\u001b[0m\u001b[0mpos\u001b[0m\u001b[0;34m)\u001b[0m\u001b[0;34m\u001b[0m\u001b[0;34m\u001b[0m\u001b[0m\n\u001b[0m\u001b[1;32m      6\u001b[0m     \u001b[0mpos_new\u001b[0m \u001b[0;34m=\u001b[0m \u001b[0mpos\u001b[0m \u001b[0;34m+\u001b[0m \u001b[0mvel\u001b[0m\u001b[0;34m*\u001b[0m\u001b[0mdt\u001b[0m \u001b[0;34m+\u001b[0m \u001b[0;34m(\u001b[0m\u001b[0mforce\u001b[0m\u001b[0;34m/\u001b[0m\u001b[0;34m(\u001b[0m\u001b[0;36m2\u001b[0m\u001b[0;34m*\u001b[0m\u001b[0mm\u001b[0m\u001b[0;34m)\u001b[0m\u001b[0;34m)\u001b[0m\u001b[0;34m*\u001b[0m\u001b[0mdt\u001b[0m\u001b[0;34m**\u001b[0m\u001b[0;36m2\u001b[0m  \u001b[0;31m# Veleocity verlet algorithm for position\u001b[0m\u001b[0;34m\u001b[0m\u001b[0;34m\u001b[0m\u001b[0m\n\u001b[1;32m      7\u001b[0m     \u001b[0;31m#force_new = compute_force(pos_new) + wall_force(pos_new)\u001b[0m\u001b[0;34m\u001b[0m\u001b[0;34m\u001b[0m\u001b[0;34m\u001b[0m\u001b[0m\n",
      "\u001b[0;32m<ipython-input-29-810537280961>\u001b[0m in \u001b[0;36mInteracting_atoms\u001b[0;34m(pos)\u001b[0m\n\u001b[1;32m     12\u001b[0m \u001b[0;34m\u001b[0m\u001b[0m\n\u001b[1;32m     13\u001b[0m                 \u001b[0;32mfor\u001b[0m \u001b[0mk\u001b[0m \u001b[0;32min\u001b[0m \u001b[0mrange\u001b[0m\u001b[0;34m(\u001b[0m\u001b[0;36m3\u001b[0m\u001b[0;34m)\u001b[0m\u001b[0;34m:\u001b[0m\u001b[0;34m\u001b[0m\u001b[0;34m\u001b[0m\u001b[0m\n\u001b[0;32m---> 14\u001b[0;31m                     \u001b[0mforce\u001b[0m\u001b[0;34m[\u001b[0m\u001b[0mi\u001b[0m\u001b[0;34m,\u001b[0m\u001b[0mk\u001b[0m\u001b[0;34m]\u001b[0m \u001b[0;34m+=\u001b[0m \u001b[0;36m24\u001b[0m\u001b[0;34m*\u001b[0m\u001b[0;34m(\u001b[0m\u001b[0mepsilon\u001b[0m\u001b[0;34m/\u001b[0m\u001b[0msigma\u001b[0m\u001b[0;34m)\u001b[0m\u001b[0;34m*\u001b[0m\u001b[0;34m(\u001b[0m\u001b[0;36m2\u001b[0m\u001b[0;34m*\u001b[0m\u001b[0;34m(\u001b[0m\u001b[0;34m(\u001b[0m\u001b[0msigma\u001b[0m\u001b[0;34m/\u001b[0m\u001b[0;34m(\u001b[0m\u001b[0mabsolute_r\u001b[0m\u001b[0;34m)\u001b[0m\u001b[0;34m)\u001b[0m\u001b[0;34m**\u001b[0m\u001b[0;36m13\u001b[0m\u001b[0;34m)\u001b[0m\u001b[0;34m-\u001b[0m\u001b[0;34m(\u001b[0m\u001b[0msigma\u001b[0m\u001b[0;34m/\u001b[0m\u001b[0;34m(\u001b[0m\u001b[0mabsolute_r\u001b[0m\u001b[0;34m)\u001b[0m\u001b[0;34m)\u001b[0m\u001b[0;34m**\u001b[0m\u001b[0;36m7\u001b[0m\u001b[0;34m)\u001b[0m\u001b[0;34m*\u001b[0m\u001b[0mr_vector\u001b[0m\u001b[0;34m[\u001b[0m\u001b[0mk\u001b[0m\u001b[0;34m]\u001b[0m\u001b[0;34m/\u001b[0m\u001b[0mabsolute_r\u001b[0m\u001b[0;31m#compute force to each particle\u001b[0m\u001b[0;34m\u001b[0m\u001b[0;34m\u001b[0m\u001b[0m\n\u001b[0m\u001b[1;32m     15\u001b[0m                 \u001b[0;31m#Force_vector = negative derivative of potential * r_vector/absolute value of r, where r = distance between two atoms\u001b[0m\u001b[0;34m\u001b[0m\u001b[0;34m\u001b[0m\u001b[0;34m\u001b[0m\u001b[0m\n\u001b[1;32m     16\u001b[0m \u001b[0;34m\u001b[0m\u001b[0m\n",
      "\u001b[0;31mKeyboardInterrupt\u001b[0m: "
     ]
    }
   ],
   "source": [
    "dist_atoms_7, PE_7, KE_7, TE_7, NL_7=main(2)# 8th simulation at N = 1000, vol = 1000/1.25 = 800, L =cube root of vol(800) = "
   ]
  },
  {
   "cell_type": "markdown",
   "id": "9de64467",
   "metadata": {},
   "source": [
    "# Increasing particles verlocity verlet, without pair list VV"
   ]
  },
  {
   "cell_type": "code",
   "execution_count": 34,
   "id": "6f64b34c",
   "metadata": {},
   "outputs": [
    {
     "data": {
      "application/vnd.jupyter.widget-view+json": {
       "model_id": "f9e1bdcaf0ae4312ad056f4bfa09df5c",
       "version_major": 2,
       "version_minor": 0
      },
      "text/plain": [
       "  0%|          | 0/100 [00:00<?, ?it/s]"
      ]
     },
     "metadata": {},
     "output_type": "display_data"
    }
   ],
   "source": [
    "dist_atoms_0_nolist0, PE_0_nolist0, KE_0_nolist0, TE_0_nolist0=main(2) # 1st simulation at N = 10, VV, Densitiy = 10/L**3 = 1.25, L=2"
   ]
  },
  {
   "cell_type": "code",
   "execution_count": 37,
   "id": "ff76cc76",
   "metadata": {},
   "outputs": [
    {
     "data": {
      "application/vnd.jupyter.widget-view+json": {
       "model_id": "9441d1691a2b44c49e1cf5cc032dc38f",
       "version_major": 2,
       "version_minor": 0
      },
      "text/plain": [
       "  0%|          | 0/100 [00:00<?, ?it/s]"
      ]
     },
     "metadata": {},
     "output_type": "display_data"
    }
   ],
   "source": [
    "dist_atoms_1_nolist1, PE_1_nolist1, KE_1_nolist1, TE_1_nolist1,=main(2) # 2nd simulation at N = 20, vol = 20/1.25 = 16, L =cube root of vol(16) = "
   ]
  },
  {
   "cell_type": "code",
   "execution_count": 41,
   "id": "5945c525",
   "metadata": {},
   "outputs": [
    {
     "data": {
      "application/vnd.jupyter.widget-view+json": {
       "model_id": "8bdd8d48d9b34103abec79691682a06b",
       "version_major": 2,
       "version_minor": 0
      },
      "text/plain": [
       "  0%|          | 0/100 [00:00<?, ?it/s]"
      ]
     },
     "metadata": {},
     "output_type": "display_data"
    }
   ],
   "source": [
    "dist_atoms_2_nolist2, PE_2_nolist2, KE_2_nolist2, TE_2_nolist2,=main(2) # 3rd simulation at N = 100, vol = 100/1.25 = 80, L =cube root of vol(80) = "
   ]
  },
  {
   "cell_type": "code",
   "execution_count": 47,
   "id": "6ba572e7",
   "metadata": {},
   "outputs": [
    {
     "data": {
      "application/vnd.jupyter.widget-view+json": {
       "model_id": "b534b5db3186461fa22e1e68e0dd4bdb",
       "version_major": 2,
       "version_minor": 0
      },
      "text/plain": [
       "  0%|          | 0/100 [00:00<?, ?it/s]"
      ]
     },
     "metadata": {},
     "output_type": "display_data"
    }
   ],
   "source": [
    "dist_atoms_3_nolist3, PE_3_nolist3, KE_3_nolist3, TE_3_nolist3,=main(2) # 4th simulation at N = 200, vol = 200/1.25 = 160, L =cube root of vol(160) = "
   ]
  },
  {
   "cell_type": "code",
   "execution_count": 50,
   "id": "9cffc8b4",
   "metadata": {},
   "outputs": [
    {
     "data": {
      "application/vnd.jupyter.widget-view+json": {
       "model_id": "24ce34f1ed564b978d019f5ee8247d5d",
       "version_major": 2,
       "version_minor": 0
      },
      "text/plain": [
       "  0%|          | 0/100 [00:00<?, ?it/s]"
      ]
     },
     "metadata": {},
     "output_type": "display_data"
    }
   ],
   "source": [
    "dist_atoms_4_nolist4, PE_4_nolist4, KE_4_nolist4, TE_4_nolist4,=main(2)# 5th simulation at N = 300, vol = 300/1.25 = 240, L =cube root of vol(240) = "
   ]
  },
  {
   "cell_type": "code",
   "execution_count": 56,
   "id": "69d9a807",
   "metadata": {},
   "outputs": [
    {
     "data": {
      "application/vnd.jupyter.widget-view+json": {
       "model_id": "3f74cdbc610e49839e66de6c4459e3a6",
       "version_major": 2,
       "version_minor": 0
      },
      "text/plain": [
       "  0%|          | 0/100 [00:00<?, ?it/s]"
      ]
     },
     "metadata": {},
     "output_type": "display_data"
    }
   ],
   "source": [
    "dist_atoms_5_nolist5, PE_5_nolist5, KE_5_nolist5, TE_5_nolist5,=main(2)# 6th simulation at N = 500, vol = 500/1.25 = 400, L =cube root of vol(400) = "
   ]
  },
  {
   "cell_type": "code",
   "execution_count": 63,
   "id": "d8df8ae2",
   "metadata": {},
   "outputs": [
    {
     "data": {
      "application/vnd.jupyter.widget-view+json": {
       "model_id": "ac6008920a4c4a27adeb24286b5d4bc8",
       "version_major": 2,
       "version_minor": 0
      },
      "text/plain": [
       "  0%|          | 0/100 [00:00<?, ?it/s]"
      ]
     },
     "metadata": {},
     "output_type": "display_data"
    }
   ],
   "source": [
    "dist_atoms_6_nolist6, PE_6_nolist6, KE_6_nolist6, TE_6_nolist6,=main(2)# 7th simulation at N = 700, vol = 700/1.25 = 560, L =cube root of vol(560) = "
   ]
  },
  {
   "cell_type": "code",
   "execution_count": 69,
   "id": "b845c68f",
   "metadata": {},
   "outputs": [
    {
     "data": {
      "application/vnd.jupyter.widget-view+json": {
       "model_id": "91e6d91bc7634febbd18e02f4aed1a21",
       "version_major": 2,
       "version_minor": 0
      },
      "text/plain": [
       "  0%|          | 0/100 [00:00<?, ?it/s]"
      ]
     },
     "metadata": {},
     "output_type": "display_data"
    },
    {
     "ename": "KeyboardInterrupt",
     "evalue": "",
     "output_type": "error",
     "traceback": [
      "\u001b[0;31m---------------------------------------------------------------------------\u001b[0m",
      "\u001b[0;31mKeyboardInterrupt\u001b[0m                         Traceback (most recent call last)",
      "\u001b[0;32m<ipython-input-69-b5bd74029ace>\u001b[0m in \u001b[0;36m<module>\u001b[0;34m\u001b[0m\n\u001b[0;32m----> 1\u001b[0;31m \u001b[0mdist_atoms_7_nolist7\u001b[0m\u001b[0;34m,\u001b[0m \u001b[0mPE_7_nolist7\u001b[0m\u001b[0;34m,\u001b[0m \u001b[0mKE_7_nolist7\u001b[0m\u001b[0;34m,\u001b[0m \u001b[0mTE_7_nolist7\u001b[0m\u001b[0;34m,\u001b[0m\u001b[0;34m=\u001b[0m\u001b[0mmain\u001b[0m\u001b[0;34m(\u001b[0m\u001b[0;36m2\u001b[0m\u001b[0;34m)\u001b[0m\u001b[0;31m# 8th simulation at N = 700, vol = 700/1.25 = 560, L =cube root of vol(560) =\u001b[0m\u001b[0;34m\u001b[0m\u001b[0;34m\u001b[0m\u001b[0m\n\u001b[0m",
      "\u001b[0;32m<ipython-input-31-74176d410ee3>\u001b[0m in \u001b[0;36mmain\u001b[0;34m(mode)\u001b[0m\n\u001b[1;32m     49\u001b[0m         \u001b[0mTE\u001b[0m \u001b[0;34m=\u001b[0m\u001b[0;34m[\u001b[0m\u001b[0;34m]\u001b[0m\u001b[0;34m\u001b[0m\u001b[0;34m\u001b[0m\u001b[0m\n\u001b[1;32m     50\u001b[0m         \u001b[0;32mfor\u001b[0m \u001b[0mn_iter\u001b[0m \u001b[0;32min\u001b[0m \u001b[0mtqdm\u001b[0m\u001b[0;34m(\u001b[0m\u001b[0mrange\u001b[0m\u001b[0;34m(\u001b[0m\u001b[0mn_steps\u001b[0m\u001b[0;34m)\u001b[0m\u001b[0;34m)\u001b[0m\u001b[0;34m:\u001b[0m\u001b[0;34m\u001b[0m\u001b[0;34m\u001b[0m\u001b[0m\n\u001b[0;32m---> 51\u001b[0;31m             \u001b[0mpos\u001b[0m\u001b[0;34m,\u001b[0m \u001b[0mvel\u001b[0m \u001b[0;34m=\u001b[0m \u001b[0mVelocity_verlet\u001b[0m\u001b[0;34m(\u001b[0m\u001b[0mpos\u001b[0m\u001b[0;34m,\u001b[0m \u001b[0mvel\u001b[0m\u001b[0;34m,\u001b[0m \u001b[0mpbc\u001b[0m\u001b[0;34m)\u001b[0m\u001b[0;34m\u001b[0m\u001b[0;34m\u001b[0m\u001b[0m\n\u001b[0m\u001b[1;32m     52\u001b[0m             \u001b[0;31m#pos, vel = Velocity_verlet(pos, vel, no_bounds) #no_bounds to implement wall_force boundary.\u001b[0m\u001b[0;34m\u001b[0m\u001b[0;34m\u001b[0m\u001b[0;34m\u001b[0m\u001b[0m\n\u001b[1;32m     53\u001b[0m             \u001b[0;32mif\u001b[0m \u001b[0mn_iter\u001b[0m\u001b[0;34m%\u001b[0m\u001b[0;36m10\u001b[0m \u001b[0;34m==\u001b[0m\u001b[0;36m0\u001b[0m\u001b[0;34m:\u001b[0m\u001b[0;34m\u001b[0m\u001b[0;34m\u001b[0m\u001b[0m\n",
      "\u001b[0;32m<ipython-input-23-cdb3b97df79b>\u001b[0m in \u001b[0;36mVelocity_verlet\u001b[0;34m(pos, vel, boundary)\u001b[0m\n\u001b[1;32m      3\u001b[0m     Only repulsion is taken into account. Interaction of atoms according to LJ included\"\"\"\n\u001b[1;32m      4\u001b[0m     \u001b[0;31m#force = compute_force(pos) + wall_force(pos) #when computing forces\u001b[0m\u001b[0;34m\u001b[0m\u001b[0;34m\u001b[0m\u001b[0;34m\u001b[0m\u001b[0m\n\u001b[0;32m----> 5\u001b[0;31m     \u001b[0mforce\u001b[0m \u001b[0;34m=\u001b[0m \u001b[0mInteracting_atoms\u001b[0m\u001b[0;34m(\u001b[0m\u001b[0mpos\u001b[0m\u001b[0;34m)\u001b[0m\u001b[0;34m\u001b[0m\u001b[0;34m\u001b[0m\u001b[0m\n\u001b[0m\u001b[1;32m      6\u001b[0m     \u001b[0mpos_new\u001b[0m \u001b[0;34m=\u001b[0m \u001b[0mpos\u001b[0m \u001b[0;34m+\u001b[0m \u001b[0mvel\u001b[0m\u001b[0;34m*\u001b[0m\u001b[0mdt\u001b[0m \u001b[0;34m+\u001b[0m \u001b[0;34m(\u001b[0m\u001b[0mforce\u001b[0m\u001b[0;34m/\u001b[0m\u001b[0;34m(\u001b[0m\u001b[0;36m2\u001b[0m\u001b[0;34m*\u001b[0m\u001b[0mm\u001b[0m\u001b[0;34m)\u001b[0m\u001b[0;34m)\u001b[0m\u001b[0;34m*\u001b[0m\u001b[0mdt\u001b[0m\u001b[0;34m**\u001b[0m\u001b[0;36m2\u001b[0m  \u001b[0;31m# Veleocity verlet algorithm for position\u001b[0m\u001b[0;34m\u001b[0m\u001b[0;34m\u001b[0m\u001b[0m\n\u001b[1;32m      7\u001b[0m     \u001b[0;31m#force_new = compute_force(pos_new) + wall_force(pos_new)\u001b[0m\u001b[0;34m\u001b[0m\u001b[0;34m\u001b[0m\u001b[0;34m\u001b[0m\u001b[0m\n",
      "\u001b[0;32m<ipython-input-29-810537280961>\u001b[0m in \u001b[0;36mInteracting_atoms\u001b[0;34m(pos)\u001b[0m\n\u001b[1;32m      9\u001b[0m \u001b[0;34m\u001b[0m\u001b[0m\n\u001b[1;32m     10\u001b[0m \u001b[0;34m\u001b[0m\u001b[0m\n\u001b[0;32m---> 11\u001b[0;31m                 \u001b[0mr_vector\u001b[0m\u001b[0;34m,\u001b[0m \u001b[0mabsolute_r\u001b[0m \u001b[0;34m=\u001b[0m \u001b[0mget_positions\u001b[0m\u001b[0;34m(\u001b[0m\u001b[0mpos\u001b[0m\u001b[0;34m[\u001b[0m\u001b[0mi\u001b[0m\u001b[0;34m]\u001b[0m\u001b[0;34m,\u001b[0m\u001b[0mpos\u001b[0m\u001b[0;34m[\u001b[0m\u001b[0mj\u001b[0m\u001b[0;34m]\u001b[0m\u001b[0;34m)\u001b[0m \u001b[0;31m#calling the get_positions function to calculate force between two atoms (i and j) index representing each atom in i and each atom in\u001b[0m\u001b[0;34m\u001b[0m\u001b[0;34m\u001b[0m\u001b[0m\n\u001b[0m\u001b[1;32m     12\u001b[0m \u001b[0;34m\u001b[0m\u001b[0m\n\u001b[1;32m     13\u001b[0m                 \u001b[0;32mfor\u001b[0m \u001b[0mk\u001b[0m \u001b[0;32min\u001b[0m \u001b[0mrange\u001b[0m\u001b[0;34m(\u001b[0m\u001b[0;36m3\u001b[0m\u001b[0;34m)\u001b[0m\u001b[0;34m:\u001b[0m\u001b[0;34m\u001b[0m\u001b[0;34m\u001b[0m\u001b[0m\n",
      "\u001b[0;32m<ipython-input-25-6540439f0978>\u001b[0m in \u001b[0;36mget_positions\u001b[0;34m(pos1, pos2)\u001b[0m\n\u001b[1;32m     14\u001b[0m         \u001b[0mr_vector\u001b[0m\u001b[0;34m[\u001b[0m\u001b[0;36m1\u001b[0m\u001b[0;34m]\u001b[0m \u001b[0;34m=\u001b[0m \u001b[0mL\u001b[0m \u001b[0;34m+\u001b[0m \u001b[0mr_vector\u001b[0m\u001b[0;34m[\u001b[0m\u001b[0;36m1\u001b[0m\u001b[0;34m]\u001b[0m\u001b[0;34m\u001b[0m\u001b[0;34m\u001b[0m\u001b[0m\n\u001b[1;32m     15\u001b[0m \u001b[0;34m\u001b[0m\u001b[0m\n\u001b[0;32m---> 16\u001b[0;31m     \u001b[0;32mif\u001b[0m \u001b[0mr_vector\u001b[0m\u001b[0;34m[\u001b[0m\u001b[0;36m2\u001b[0m\u001b[0;34m]\u001b[0m \u001b[0;34m>\u001b[0m \u001b[0mL\u001b[0m\u001b[0;34m/\u001b[0m\u001b[0;36m2\u001b[0m\u001b[0;34m:\u001b[0m\u001b[0;34m\u001b[0m\u001b[0;34m\u001b[0m\u001b[0m\n\u001b[0m\u001b[1;32m     17\u001b[0m         \u001b[0mr_vector\u001b[0m\u001b[0;34m[\u001b[0m\u001b[0;36m2\u001b[0m\u001b[0;34m]\u001b[0m \u001b[0;34m=\u001b[0m \u001b[0mr_vector\u001b[0m\u001b[0;34m[\u001b[0m\u001b[0;36m2\u001b[0m\u001b[0;34m]\u001b[0m \u001b[0;34m-\u001b[0m\u001b[0mL\u001b[0m\u001b[0;34m\u001b[0m\u001b[0;34m\u001b[0m\u001b[0m\n\u001b[1;32m     18\u001b[0m     \u001b[0;32melif\u001b[0m \u001b[0mr_vector\u001b[0m\u001b[0;34m[\u001b[0m\u001b[0;36m2\u001b[0m\u001b[0;34m]\u001b[0m \u001b[0;34m<\u001b[0m \u001b[0;34m-\u001b[0m\u001b[0mL\u001b[0m\u001b[0;34m/\u001b[0m\u001b[0;36m2\u001b[0m\u001b[0;34m:\u001b[0m\u001b[0;34m\u001b[0m\u001b[0;34m\u001b[0m\u001b[0m\n",
      "\u001b[0;31mKeyboardInterrupt\u001b[0m: "
     ]
    }
   ],
   "source": [
    "dist_atoms_7_nolist7, PE_7_nolist7, KE_7_nolist7, TE_7_nolist7,=main(2)# 8th simulation at N = 1000, vol = 1000/1.25 = 800, L =cube root of vol(800) = "
   ]
  },
  {
   "cell_type": "markdown",
   "id": "92ec32d5",
   "metadata": {},
   "source": [
    "# Leapfrog scaling, increasing particles"
   ]
  },
  {
   "cell_type": "code",
   "execution_count": 185,
   "id": "a592d598",
   "metadata": {},
   "outputs": [
    {
     "data": {
      "application/vnd.jupyter.widget-view+json": {
       "model_id": "041d96c4b33645f48ccb85261156db4b",
       "version_major": 2,
       "version_minor": 0
      },
      "text/plain": [
       "  0%|          | 0/100 [00:00<?, ?it/s]"
      ]
     },
     "metadata": {},
     "output_type": "display_data"
    }
   ],
   "source": [
    "LF_dist_atoms_0, LF_PE_0, LF_KE_0, LF_TE_0, LF_NL_0=main(3) # 1st simulation at N = 10, LF, Densitiy = 10/L**3 = 1.25, L=2"
   ]
  },
  {
   "cell_type": "code",
   "execution_count": 186,
   "id": "3489916b",
   "metadata": {},
   "outputs": [
    {
     "data": {
      "text/plain": [
       "[[8], [8], [1, 9], [], [1, 6, 9], [], [7], [6, 8, 9], [0, 1, 7], [2, 4, 7]]"
      ]
     },
     "execution_count": 186,
     "metadata": {},
     "output_type": "execute_result"
    }
   ],
   "source": [
    "LF_NL_0"
   ]
  },
  {
   "cell_type": "code",
   "execution_count": 193,
   "id": "8459b4d2",
   "metadata": {},
   "outputs": [
    {
     "data": {
      "application/vnd.jupyter.widget-view+json": {
       "model_id": "106bd5c9db7044318c89394ede0e725b",
       "version_major": 2,
       "version_minor": 0
      },
      "text/plain": [
       "  0%|          | 0/100 [00:00<?, ?it/s]"
      ]
     },
     "metadata": {},
     "output_type": "display_data"
    }
   ],
   "source": [
    "LF_dist_atoms_1, LF_PE_1, LF_KE_1, LF_TE_1, LF_NL_1=main(3) # 2st simulation at N = 20, LF, vol = 20/1.25 = 16, L=cube root of vol(16)"
   ]
  },
  {
   "cell_type": "code",
   "execution_count": 194,
   "id": "67bb0776",
   "metadata": {},
   "outputs": [
    {
     "data": {
      "text/plain": [
       "[[1, 3, 8, 11, 14, 15, 16, 17],\n",
       " [0, 2, 3, 8, 11, 15, 16],\n",
       " [1, 3, 4, 6, 8, 9, 11, 14, 15, 16, 18],\n",
       " [0, 1, 2, 4, 6, 8, 9, 11, 14, 16, 17, 18],\n",
       " [2, 3, 6, 8, 9, 14, 16, 18],\n",
       " [],\n",
       " [2, 3, 4, 9, 14, 16],\n",
       " [15],\n",
       " [0, 1, 2, 3, 4, 9, 14, 16, 17, 19],\n",
       " [2, 3, 4, 6, 8, 14, 16, 17, 19],\n",
       " [7, 12, 17, 19],\n",
       " [0, 1, 2, 3, 15, 16, 18],\n",
       " [10, 14, 17, 19],\n",
       " [],\n",
       " [0, 2, 3, 4, 6, 8, 9, 12, 16, 17],\n",
       " [0, 1, 2, 7, 11, 18],\n",
       " [0, 1, 2, 3, 4, 6, 8, 9, 11, 14, 17, 18, 19],\n",
       " [0, 3, 8, 9, 10, 12, 14, 16],\n",
       " [2, 3, 4, 11, 15, 16],\n",
       " [8, 9, 10, 12, 15, 16]]"
      ]
     },
     "execution_count": 194,
     "metadata": {},
     "output_type": "execute_result"
    }
   ],
   "source": [
    "LF_NL_1"
   ]
  },
  {
   "cell_type": "code",
   "execution_count": 91,
   "id": "0e30271a",
   "metadata": {},
   "outputs": [
    {
     "data": {
      "application/vnd.jupyter.widget-view+json": {
       "model_id": "b6e35e5453c746eb99da611aa2c8cb8c",
       "version_major": 2,
       "version_minor": 0
      },
      "text/plain": [
       "HBox(children=(HTML(value=''), FloatProgress(value=0.0), HTML(value='')))"
      ]
     },
     "metadata": {},
     "output_type": "display_data"
    },
    {
     "name": "stdout",
     "output_type": "stream",
     "text": [
      "\n"
     ]
    }
   ],
   "source": [
    "LF_dist_atoms_2, LF_PE_2, LF_KE_2, LF_TE_2, LF_NL_2=main(3) # 3st simulation at N = 100, LF, vol = 100/1.25 = 80, L=cube root of vol(80)"
   ]
  },
  {
   "cell_type": "code",
   "execution_count": 201,
   "id": "15cabffe",
   "metadata": {},
   "outputs": [
    {
     "name": "stdout",
     "output_type": "stream",
     "text": [
      "[[55], [2, 3, 11, 20, 21, 22, 23, 27, 29, 31, 40, 41, 46, 49, 50, 53, 64, 85, 91, 95], [1, 12, 19, 27, 28, 31, 39, 40, 42, 49, 50, 53, 97], [1, 7, 16, 20, 21, 23, 29, 38, 40, 60, 64, 73, 85, 91, 95], [11, 58, 67, 74, 79], [13, 24, 25, 26, 33, 34, 36, 38, 61, 81, 98], [8, 14, 46, 51, 57, 62, 63, 77, 84, 87, 90, 94], [3, 16, 29, 36, 38, 91], [6, 18, 22, 24, 46, 51, 59, 62, 77, 81, 90, 94], [], [17, 44, 48, 60, 80, 96], [1, 4, 19, 20, 31, 41, 50, 56, 57, 58, 64, 74, 79, 84], [2, 27, 35, 37, 39, 42, 52, 53, 54, 65, 68, 97], [5, 22, 24, 25, 26, 33, 34, 36, 38, 41, 61, 71, 81, 85, 98], [6, 32, 39, 46, 51, 57, 62, 63, 68, 84, 87, 90], [34, 41, 61, 82, 84], [3, 7, 25, 29, 38, 64, 74, 91, 95], [10, 44, 48, 56, 60, 72, 74, 80, 95, 96], [8, 22, 23, 24, 27, 43, 46, 49, 59, 85, 92, 93], [2, 11, 31, 44, 48, 50, 56, 72, 80, 86, 88, 97], [1, 3, 11, 21, 23, 27, 29, 40, 48, 49, 50, 53, 64, 73, 85, 91, 95], [1, 3, 20, 23, 27, 29, 40, 47, 49, 53, 73, 85, 91, 92, 95], [1, 8, 13, 18, 23, 24, 34, 41, 46, 49, 59, 62, 64, 84, 85, 92, 93], [1, 3, 18, 20, 21, 22, 27, 29, 40, 46, 49, 53, 64, 85, 91, 92, 93, 95], [5, 8, 13, 18, 22, 26, 33, 34, 59, 71, 81, 85, 98], [5, 13, 16, 29, 33, 34, 36, 38, 41, 61, 64, 81, 85, 98], [5, 13, 24, 33, 71, 81, 98], [1, 2, 12, 18, 20, 21, 23, 31, 40, 42, 43, 46, 49, 50, 53, 85, 92, 93], [2, 39, 42, 76, 86, 88, 89, 97], [1, 3, 7, 16, 20, 21, 23, 25, 34, 36, 38, 41, 64, 85, 91, 95], [], [1, 2, 11, 19, 27, 39, 42, 44, 49, 50, 53, 56, 57, 79, 86, 88], [14, 57, 63, 70, 79, 83, 84, 87], [5, 13, 24, 25, 26, 36, 71, 81, 98], [5, 13, 15, 22, 24, 25, 29, 38, 41, 61, 64, 81, 85, 98], [12, 37, 42, 52, 54, 65, 68], [5, 7, 13, 25, 29, 33, 38, 71, 85, 91, 98], [12, 35, 65, 68, 93], [3, 5, 7, 13, 16, 25, 29, 34, 36, 41, 61, 64, 91], [2, 12, 14, 28, 31, 42, 68, 76, 88], [1, 2, 3, 20, 21, 23, 27, 48, 49, 50, 53, 73, 85, 91, 92, 95], [1, 11, 13, 15, 22, 25, 29, 34, 38, 46, 57, 61, 62, 64, 84, 85], [2, 12, 27, 28, 31, 35, 39, 49, 53, 54, 68, 93, 97], [18, 27, 53, 92, 93], [10, 17, 19, 31, 48, 50, 56, 72, 80, 86, 96], [], [1, 6, 8, 14, 18, 22, 23, 27, 41, 49, 57, 62, 63, 64, 84, 85, 93], [21, 73], [10, 17, 19, 20, 40, 44, 50, 56, 60, 72, 80, 95, 96], [1, 2, 18, 20, 21, 22, 23, 27, 31, 40, 42, 46, 50, 53, 64, 85, 91, 92, 93, 95], [1, 2, 11, 19, 20, 27, 31, 40, 44, 48, 49, 53, 56, 57, 79, 86], [6, 8, 14, 62, 63, 77, 84, 87, 90, 94], [12, 35, 54], [1, 2, 12, 20, 21, 23, 27, 31, 40, 42, 43, 49, 50, 92, 93], [12, 35, 42, 52, 68, 97], [0, 59], [11, 17, 19, 31, 44, 48, 50, 72, 74, 79, 80, 95, 96], [6, 11, 14, 31, 32, 41, 46, 50, 63, 64, 79, 84], [4, 11, 74, 79], [8, 18, 22, 24, 55, 90, 93], [3, 10, 17, 48, 95, 96], [5, 13, 15, 25, 34, 38, 41, 64], [6, 8, 14, 22, 41, 46, 51, 77, 84, 94], [6, 14, 32, 46, 51, 57, 79, 83, 84, 87], [1, 3, 11, 16, 20, 22, 23, 25, 29, 34, 38, 41, 46, 49, 57, 61, 74, 85, 91, 95], [12, 35, 37, 68], [], [4, 99], [12, 14, 35, 37, 39, 42, 54, 65], [88, 99], [32, 88, 99], [13, 24, 26, 33, 36, 98], [17, 19, 44, 48, 56, 80, 86, 96], [3, 20, 21, 40, 47, 91, 95], [4, 11, 16, 17, 56, 58, 64, 79], [], [28, 39, 88, 89], [6, 8, 51, 62, 90, 94], [], [4, 11, 31, 32, 50, 56, 57, 58, 63, 74, 84], [10, 17, 19, 44, 48, 56, 72, 96], [5, 8, 13, 24, 25, 26, 33, 34, 98], [15, 83], [32, 63, 82, 87], [6, 11, 14, 15, 22, 32, 41, 46, 51, 57, 62, 63, 79, 87], [1, 3, 13, 18, 20, 21, 22, 23, 24, 25, 27, 29, 34, 36, 40, 41, 46, 49, 64, 91, 92, 93, 98], [19, 28, 31, 44, 50, 72, 88, 97, 99], [6, 14, 32, 51, 63, 83, 84], [19, 28, 31, 39, 69, 70, 76, 86, 97, 99], [28, 76, 97], [6, 8, 14, 51, 59, 77, 94], [1, 3, 7, 16, 20, 21, 23, 29, 36, 38, 40, 49, 64, 73, 85, 95], [18, 21, 22, 23, 27, 40, 43, 49, 53, 85, 93], [18, 22, 23, 27, 37, 42, 43, 46, 49, 53, 59, 85, 92], [6, 8, 51, 62, 77, 90], [1, 3, 16, 17, 20, 21, 23, 29, 40, 48, 49, 56, 60, 64, 73, 91], [10, 17, 44, 48, 56, 60, 72, 80], [2, 12, 19, 28, 42, 54, 86, 88, 89], [5, 13, 24, 25, 26, 33, 34, 36, 71, 81, 85], [67, 69, 70, 86, 88]]\n"
     ]
    }
   ],
   "source": [
    "print(LF_NL_2)"
   ]
  },
  {
   "cell_type": "code",
   "execution_count": 206,
   "id": "ce1e8425",
   "metadata": {},
   "outputs": [
    {
     "data": {
      "application/vnd.jupyter.widget-view+json": {
       "model_id": "237ee353b6ee473e8f1013fcd0baefc9",
       "version_major": 2,
       "version_minor": 0
      },
      "text/plain": [
       "  0%|          | 0/100 [00:00<?, ?it/s]"
      ]
     },
     "metadata": {},
     "output_type": "display_data"
    }
   ],
   "source": [
    "LF_dist_atoms_3, LF_PE_3, LF_KE_3, LF_TE_3, LF_NL_3=main(3) # 4th simulation at N = 200, LF, vol = 200/1.25 = 160, L=cube root of vol(160)"
   ]
  },
  {
   "cell_type": "code",
   "execution_count": 207,
   "id": "949dacc7",
   "metadata": {},
   "outputs": [
    {
     "name": "stdout",
     "output_type": "stream",
     "text": [
      "[[], [8, 41, 48, 73, 101, 107, 125, 138, 152, 162, 168, 170], [27, 106, 167], [16, 24, 27, 69, 73, 80, 115, 125, 133, 144, 159, 167, 178, 192, 194, 196], [5, 58, 122, 181], [4, 37, 58, 122, 181], [11, 44, 91, 93, 97, 111, 121, 188], [70, 78, 84, 182, 190], [1, 16, 41, 69, 73, 115, 125, 138, 152, 162, 170, 192, 196], [13, 25, 62, 166], [17, 44, 91, 97, 106, 111, 154, 184], [6, 31, 45, 53, 55, 61, 82, 93, 96, 105, 120, 121, 153, 177], [14, 99, 140, 143, 150, 161, 186, 197], [9, 47, 77, 99, 119, 140, 143, 150, 155], [12, 130, 140, 145, 157, 161, 186, 193, 197], [67, 68, 75, 83, 95, 117, 169], [3, 8, 69, 73, 100, 115, 125, 162, 171, 178, 192, 194, 196], [10, 27, 57, 104, 106, 154, 170, 184], [146, 168], [42, 43, 49, 86, 163], [21, 22, 53, 60, 81, 85, 127, 141, 147, 160, 177, 187, 189], [20, 28, 43, 60, 65, 103, 127, 189], [20, 43, 60, 72, 81, 86, 116, 127, 141, 160, 172, 177, 187, 189], [62, 99, 155, 166], [3, 44, 45, 80, 97, 133, 144, 147, 153, 159, 178, 196], [9, 62, 73, 100, 152, 162, 166], [49, 63, 79, 83], [2, 3, 17, 44, 106, 115, 144, 159, 167, 170, 184], [21, 65, 103], [64], [33, 57, 59, 88], [11, 32, 55, 61, 82, 105, 120, 124, 151, 156, 176], [31, 53, 61, 82, 105, 156, 160, 172, 176, 177, 180], [30, 57, 59, 104, 154], [], [87], [77], [5], [], [40, 47, 130, 142, 157, 169, 171, 178, 196], [39, 49, 108, 116, 130, 142, 169, 193], [1, 8, 115, 125, 138, 162, 170, 192], [19, 86, 163], [19, 21, 22, 49, 60, 63, 72, 86, 103, 116, 160, 187, 189], [6, 10, 24, 27, 45, 91, 97, 106, 111, 154], [11, 24, 44, 80, 85, 96, 97, 121, 133, 147, 153, 159, 178], [54, 71, 94, 131, 148, 158], [13, 39, 67, 75, 109, 119, 130, 139, 143, 169, 171], [1, 138, 168], [19, 26, 40, 43, 63, 96, 116, 187], [75, 79, 87, 109, 113, 119, 140, 143], [], [], [11, 20, 32, 61, 81, 82, 105, 120, 127, 141, 156, 160, 172, 177], [46, 71, 89, 158], [11, 31, 61, 83, 96, 105, 120, 121, 153, 164, 176, 177, 180], [80, 85, 118, 128, 133, 134, 144, 159, 175], [17, 30, 33, 104, 170], [4, 5, 118, 122, 134, 136, 175, 181], [30, 33, 88], [20, 21, 22, 43, 85, 103, 116, 127, 141, 147, 187, 189], [11, 31, 32, 53, 55, 82, 83, 96, 105, 120, 121, 156, 160, 176, 177, 180], [9, 23, 25, 64, 99, 100, 166], [26, 43, 49, 83, 96, 116, 160, 177, 180, 187], [29, 62, 166], [21, 28, 118, 128, 134], [], [15, 47, 75, 77, 79, 109, 119, 169, 174], [15, 76, 78, 95, 139, 148, 153, 179, 190], [3, 8, 16, 73, 100, 115, 125, 171, 181, 192, 194, 196], [7, 76, 182, 190], [46, 54, 89, 112, 132, 158], [22, 43, 81, 86, 141, 160, 172, 189], [1, 3, 8, 16, 25, 69, 100, 115, 125, 162, 171, 192, 194, 196], [122, 126, 136, 175], [15, 47, 67, 79, 109, 119, 130, 142, 169], [68, 70, 148, 153, 164, 182, 190], [13, 36, 67, 112, 119, 174], [7, 68, 101, 179, 190], [26, 67, 75, 109, 113], [3, 24, 45, 56, 85, 133, 144, 147, 159], [20, 22, 53, 72, 127, 141, 160, 172, 189], [11, 31, 32, 53, 61, 105, 120, 141, 156, 160, 172, 176, 177], [15, 26, 55, 61, 63, 94, 96, 117, 177, 180], [7, 89, 110, 123], [20, 45, 56, 60, 80, 96, 116, 127, 133, 141, 144, 147, 159, 187], [19, 22, 42, 43, 72, 189], [35, 113, 140, 161], [30, 59, 168], [54, 71, 84, 110, 112, 123, 158, 174], [98, 145, 157], [6, 10, 44, 97, 111, 154, 188], [], [6, 11, 120, 188], [46, 83, 117, 131, 148], [15, 68, 110, 139, 174], [11, 45, 49, 55, 61, 63, 83, 85, 116, 121, 147, 160, 176, 177, 180, 187], [6, 10, 24, 44, 45, 91, 111, 121, 153, 154, 190], [90, 186], [12, 13, 23, 62, 140, 143, 150, 155, 161, 166, 186], [16, 25, 62, 69, 73, 166, 192, 194], [1, 78, 107, 139, 146, 152, 162, 168, 179], [], [21, 28, 43, 60, 189], [17, 33, 57, 154, 170, 179], [11, 31, 32, 53, 55, 61, 82, 120, 121, 156, 172, 176, 177], [2, 10, 17, 27, 44, 167, 170, 184], [1, 101, 139, 146, 168], [40, 142, 145, 157, 193], [47, 67, 75, 79, 113, 119, 130, 140, 169], [84, 89, 95, 112, 123, 174], [6, 10, 44, 91, 97, 121, 153, 154, 188], [71, 77, 89, 110, 132, 158, 174], [79, 87, 109, 119], [], [3, 8, 16, 27, 41, 69, 73, 125, 162, 167, 170, 192, 194], [22, 40, 43, 49, 60, 63, 85, 96, 142, 147, 160, 177, 187], [15, 83, 94, 148], [56, 58, 65, 128, 134, 136, 144, 159, 175], [13, 47, 67, 75, 77, 109, 113, 143, 174], [11, 31, 53, 55, 61, 82, 93, 105, 121, 124, 151, 156, 188, 198], [6, 11, 45, 55, 61, 96, 97, 105, 111, 120, 153], [4, 5, 58, 74, 136, 181], [84, 89, 110], [31, 120, 135, 151, 156, 198], [1, 3, 8, 16, 41, 69, 73, 115, 162, 170, 192, 194, 196], [74, 136, 149, 175], [20, 21, 22, 53, 60, 81, 85, 141, 147, 189], [56, 65, 118, 134, 149], [], [14, 39, 40, 47, 75, 109, 140, 142, 143, 157, 161, 169, 186, 193, 197], [46, 94, 132, 158, 185], [71, 112, 131, 137, 158, 174, 185], [3, 24, 45, 56, 80, 85, 144, 147, 159], [56, 58, 65, 118, 128, 149, 175], [124, 151, 183, 198], [58, 74, 118, 122, 126, 149, 175], [132, 185], [1, 8, 41, 48, 152, 162, 168, 170], [47, 68, 95, 101, 107], [12, 13, 14, 87, 99, 109, 130, 143, 150, 161, 186, 197], [20, 22, 53, 60, 72, 81, 82, 85, 127, 160, 172, 177, 187, 189], [39, 40, 75, 108, 116, 130, 169, 171, 178], [12, 13, 47, 99, 119, 130, 140, 150, 155, 161, 186, 197], [3, 24, 27, 56, 80, 85, 118, 133, 147, 159, 175], [14, 90, 108, 157, 193, 197], [18, 101, 107, 152, 168], [20, 24, 45, 60, 80, 85, 96, 116, 127, 133, 144, 159, 187], [46, 68, 76, 94, 117, 164, 182], [23, 126, 128, 134, 136, 175], [12, 13, 99, 140, 143, 155, 161, 186, 197], [31, 120, 124, 135, 164, 183, 198], [1, 8, 25, 101, 138, 146, 162], [11, 24, 45, 55, 68, 76, 97, 111, 121, 164, 190], [10, 17, 33, 44, 91, 97, 104, 111, 190], [13, 23, 99, 143, 150], [31, 32, 53, 61, 82, 105, 120, 124, 172, 176], [14, 39, 90, 108, 130, 145, 186, 193, 197], [46, 54, 71, 89, 112, 131, 132, 174], [3, 24, 27, 45, 56, 80, 85, 118, 133, 144, 147], [20, 22, 32, 43, 53, 61, 63, 72, 81, 82, 96, 116, 141, 172, 176, 177, 187], [12, 14, 87, 99, 130, 140, 143, 150, 186, 197], [1, 8, 16, 25, 41, 73, 101, 115, 125, 138, 152, 170, 192], [19, 42], [55, 76, 148, 151, 153, 182, 183, 198], [], [9, 23, 25, 62, 64, 99, 100, 186], [2, 3, 27, 106, 115], [1, 18, 48, 88, 101, 107, 138, 146], [15, 39, 40, 47, 67, 75, 109, 130, 142, 171, 178], [1, 8, 17, 27, 41, 57, 104, 106, 115, 125, 138, 162, 192], [16, 39, 47, 69, 73, 142, 169, 178, 196], [22, 32, 53, 72, 81, 82, 105, 141, 156, 160, 176, 177], [184], [67, 77, 89, 95, 110, 112, 119, 132, 158], [56, 58, 74, 118, 126, 134, 136, 144, 149], [31, 32, 55, 61, 82, 96, 105, 156, 160, 172, 177, 180], [11, 20, 22, 32, 53, 55, 61, 63, 82, 83, 96, 105, 116, 141, 160, 172, 176, 180, 187], [3, 16, 24, 39, 45, 142, 169, 171, 196], [68, 78, 101, 104, 196], [32, 55, 61, 63, 83, 96, 176, 177], [4, 5, 58, 69, 122, 194], [7, 70, 76, 148, 164, 183, 190], [135, 151, 164, 182, 198], [10, 17, 27, 106, 173], [131, 132, 137], [12, 14, 98, 99, 130, 140, 143, 150, 157, 161, 166, 197], [20, 22, 43, 49, 60, 63, 85, 96, 116, 141, 147, 160, 177], [6, 91, 93, 111, 120], [20, 21, 22, 43, 60, 72, 81, 86, 103, 127, 141], [7, 68, 70, 76, 78, 97, 153, 154, 182], [], [3, 8, 16, 41, 69, 73, 100, 115, 125, 162, 170, 194, 196], [14, 40, 108, 130, 145, 157, 197], [3, 16, 69, 73, 100, 115, 125, 181, 192, 196], [], [3, 8, 16, 24, 39, 69, 73, 125, 171, 178, 179, 192, 194], [12, 14, 130, 140, 143, 145, 150, 157, 161, 186, 193], [120, 124, 135, 151, 164, 183], []]\n"
     ]
    }
   ],
   "source": [
    "print(LF_NL_3)"
   ]
  },
  {
   "cell_type": "code",
   "execution_count": 212,
   "id": "3cebbc03",
   "metadata": {},
   "outputs": [
    {
     "data": {
      "application/vnd.jupyter.widget-view+json": {
       "model_id": "22128aef37254944ad88d750e68f033b",
       "version_major": 2,
       "version_minor": 0
      },
      "text/plain": [
       "  0%|          | 0/100 [00:00<?, ?it/s]"
      ]
     },
     "metadata": {},
     "output_type": "display_data"
    }
   ],
   "source": [
    "LF_dist_atoms_4, LF_PE_4, LF_KE_4, LF_TE_4, LF_NL_4=main(3) # 5th simulation at N = 300, LF, vol = 200/1.25 = 240, L=cube root of vol(240)"
   ]
  },
  {
   "cell_type": "code",
   "execution_count": null,
   "id": "e4167987",
   "metadata": {},
   "outputs": [],
   "source": [
    "np.shape(LF_NL_4)"
   ]
  },
  {
   "cell_type": "code",
   "execution_count": 219,
   "id": "b0c338d7",
   "metadata": {},
   "outputs": [
    {
     "data": {
      "application/vnd.jupyter.widget-view+json": {
       "model_id": "00634e53d0ff4f82bd806f749f04d693",
       "version_major": 2,
       "version_minor": 0
      },
      "text/plain": [
       "  0%|          | 0/100 [00:00<?, ?it/s]"
      ]
     },
     "metadata": {},
     "output_type": "display_data"
    }
   ],
   "source": [
    "LF_dist_atoms_5, LF_PE_5, LF_KE_5, LF_TE_5, LF_NL_5=main(3) # 6th simulation at N = 500, LF, vol = 500/1.25 = 240, L=cube root of vol(400)"
   ]
  },
  {
   "cell_type": "code",
   "execution_count": 221,
   "id": "4caa67b2",
   "metadata": {},
   "outputs": [
    {
     "name": "stdout",
     "output_type": "stream",
     "text": [
      "[[82, 95, 167, 190, 196, 335, 343, 395], [63, 68, 69, 85, 123, 314, 368], [16, 88, 129, 157, 159, 160, 183, 341], [6, 31, 109, 126, 235, 364, 380, 383, 477], [228, 342], [28, 172, 203, 245, 261, 360, 448, 495], [3, 31, 126, 235, 264, 312, 364, 380, 383], [21, 34, 152, 165, 192, 231, 249, 304, 393, 427], [193, 257, 259, 264, 383, 467], [67, 90, 109, 251, 317, 324, 330, 483], [24, 58, 278, 369, 498], [33, 246, 384], [110, 202, 205, 301, 391, 411, 463, 478, 493], [429], [125, 144, 397, 461], [59, 102, 187, 218, 219, 316, 365, 399, 424, 467], [2, 68, 88, 157, 159, 183, 286, 318, 456], [19, 93, 148, 175, 217, 390, 470], [238, 254, 290, 428, 437, 475], [17, 57, 114, 175, 390, 470], [82, 95, 306, 462], [7, 152, 192, 194, 393, 427, 465], [112, 195, 218, 243, 387, 460, 484], [70, 283, 371, 381], [10, 58, 71, 278, 498], [104, 150, 198, 202, 411, 415, 416, 433], [48, 147, 252, 289, 299, 402, 405, 456, 471], [32, 110, 131, 146, 173, 266, 349, 487], [5, 134, 250, 296, 448, 495], [150, 151, 198, 220, 249, 304, 416, 433, 449], [113, 145, 214, 234, 269, 373, 385, 388, 438, 443], [3, 6, 112, 126, 216, 235, 312, 380], [27, 110, 131, 173, 240, 266, 349, 391, 434, 487, 492], [11, 102, 138, 166, 218, 230, 246], [7, 151, 165, 249, 304, 393], [176, 287, 293, 321, 334, 361], [76, 113, 145, 210, 277, 313, 318, 337, 350, 362, 438], [127, 138, 141, 154, 166, 242, 248, 480], [142, 179, 261, 360], [108, 118, 132, 326, 371, 386], [109, 112, 219, 292, 317, 344, 380, 394, 401, 472, 488], [116, 129, 160, 227, 418], [58, 71, 78, 92, 281], [74, 136, 265, 272, 445], [59, 90, 115, 135, 208, 294, 316, 323, 330, 348, 365, 440], [71, 103], [77, 103, 271, 281, 406], [122, 178, 351, 423, 433], [26, 405, 428, 471], [], [83, 288, 407, 461], [65, 87, 102, 247, 294, 336, 375, 412, 421], [315], [255], [97, 247, 248, 256, 375, 412, 421, 489], [73, 228, 241, 267, 277, 337, 338, 342, 350], [273], [19, 114, 185, 390, 441, 442], [10, 24, 42, 71, 92, 278], [15, 44, 90, 135, 219, 316, 317, 319, 323, 330, 365, 394, 399, 424, 467], [203, 494], [424], [], [1, 280, 314, 482], [107, 141, 425, 453, 496], [51, 87, 96, 184, 221, 222, 240, 349, 358, 375, 492], [110, 146, 161, 256, 266, 349, 463, 489], [9, 109, 324], [1, 16, 69, 76, 88, 157, 159, 297, 314, 318], [1, 68, 210, 314, 318, 368], [23, 118, 283, 329, 381], [24, 42, 45, 58], [98, 99, 169, 276], [55, 158, 241, 267, 278, 338, 419], [43, 265, 295, 445, 447], [193, 257, 259, 320, 322, 340], [36, 68, 88, 145, 147, 157, 159, 297, 299, 313, 318, 438, 456], [46, 92, 103, 271, 474], [42, 281, 283, 363, 466], [149, 285, 328], [124], [108, 132, 156, 309, 326, 418], [0, 20, 95, 167, 190, 196, 343, 485], [50, 288, 407, 461], [125, 236, 335, 359, 382, 397], [1, 123, 140, 178, 181, 197, 213, 396, 398], [152, 191, 234, 366, 368, 388, 427, 438], [51, 65, 184, 221, 222, 336, 339, 358, 375, 482, 492], [2, 16, 68, 76, 157, 159, 183, 318, 456], [91, 206, 239, 244, 292, 374, 451, 483], [9, 44, 59, 115, 135, 208, 219, 294, 316, 317, 323, 330, 348, 365, 394, 440, 488], [89, 133, 149, 206, 239, 244, 298, 344, 374, 401, 413, 451], [42, 58, 77, 103, 419], [17, 148, 171, 217, 332, 370, 452, 470], [201, 306, 346, 408, 422, 458, 462], [0, 20, 82, 306, 462], [65, 111, 120, 154, 240, 358, 435], [54, 339, 411], [72, 99, 169, 199, 469], [72, 98, 169], [180, 236, 369, 397], [174, 200, 279, 293, 305, 361], [15, 33, 51, 187, 218, 294, 316, 323, 365, 399, 424], [45, 46, 77, 92, 271], [25, 122, 198, 396, 411, 415, 416, 423, 433], [], [142, 328, 333], [64, 453, 496], [39, 81, 132, 156, 309, 326, 485], [3, 9, 40, 67, 317, 324, 401], [12, 27, 32, 66, 131, 146, 161, 256, 266, 349, 391, 463, 478, 493], [96, 120, 146, 154, 242, 248, 266, 349, 375], [22, 31, 40, 126, 218, 219, 243, 380, 383, 399, 472, 484, 488], [30, 36, 145, 210, 234, 269, 373, 388, 403, 438], [19, 57, 115, 274, 390, 414, 490], [44, 90, 114, 135, 208, 348, 414, 490], [41, 160, 272, 360], [193, 224, 322, 352, 476, 477], [39, 70, 283, 329, 371, 378], [176, 289, 293], [96, 111, 127, 154, 240, 349, 386, 435], [], [47, 104, 189, 351, 423, 433, 468], [1, 85, 140, 178, 368, 396], [80, 209, 225, 389, 429, 430], [14, 84, 144, 236, 335, 382, 397, 497], [3, 6, 31, 112, 235, 243, 264, 364, 380, 383, 484], [37, 120, 128, 154, 166, 263, 386], [127, 386, 408, 459], [2, 41, 186, 215, 227, 277, 303, 341, 362], [331], [27, 32, 110, 266, 349, 391, 396, 478], [39, 81, 108, 169, 326, 418], [91, 149, 206, 216, 312, 328, 344, 401, 451], [28, 250, 296], [44, 59, 90, 115, 208, 294, 316, 317, 323, 330, 348, 440], [43, 137, 265, 272, 445], [136, 186], [33, 37, 154, 166, 242, 247, 248, 421, 480], [], [85, 123, 178, 396, 415, 482], [37, 64, 480], [38, 106, 179, 216, 328, 333], [176, 311, 457], [14, 125, 236, 397, 497], [30, 36, 76, 113, 147, 162, 234, 237, 313, 350, 373, 438], [27, 66, 110, 111, 161, 256, 266, 453, 496], [26, 76, 145, 162, 238, 299, 313, 437, 471, 475], [17, 93, 171, 292, 332, 452, 470], [79, 91, 133, 206, 374, 413], [25, 29, 198, 220, 416, 449], [29, 34, 165, 220, 304, 449], [7, 21, 86, 191, 192, 194, 249, 366, 368, 427], [171, 239, 252, 260, 298, 332, 347, 355, 374, 481], [37, 96, 111, 120, 127, 138, 166, 242, 248, 480], [156, 326, 431, 460], [81, 108, 155, 309, 326], [2, 16, 68, 76, 88, 159, 183, 299, 318, 456], [73, 186, 227, 241, 419, 436, 474], [2, 16, 68, 76, 88, 157, 297, 299, 318, 413, 456], [2, 41, 116, 460], [66, 110, 146, 256, 463, 489], [145, 147, 238, 254, 313, 437, 475], [], [308, 446, 450, 491], [7, 34, 151, 185, 231, 249, 304, 393], [33, 37, 127, 138, 154, 230, 246, 263], [0, 82, 190, 196, 278, 343, 395, 485], [182, 269, 284, 372, 373, 385], [72, 98, 99, 132, 199, 431], [252, 260, 297, 355, 366, 392, 481], [93, 148, 153, 226, 260, 332, 355, 370, 452], [5, 245, 360, 473, 495], [27, 32, 197, 240, 434, 487, 492], [101, 200, 279, 305, 361], [17, 19, 390], [35, 119, 143, 311], [], [47, 85, 123, 140, 351, 396, 415], [38, 142, 285, 454], [100, 369, 498], [85, 197, 210, 213, 398, 403, 434], [168, 188, 367], [2, 16, 88, 157, 303, 341, 450], [65, 87, 221, 222, 336, 358, 375, 482, 492], [57, 165, 231, 441, 442], [129, 137, 158, 215, 227, 277, 303], [15, 102, 218, 219, 222, 316, 323, 358, 365, 399, 488], [182, 194, 204, 253, 367], [122, 423], [0, 82, 167, 196, 343, 395, 485], [86, 152, 192, 252, 297, 314, 366, 368, 427], [7, 21, 152, 191, 231, 366, 393, 427, 465], [8, 75, 117, 257, 259, 320, 322], [21, 152, 188, 204, 253, 367], [22, 243, 286, 460, 472], [0, 82, 167, 190, 343, 485], [85, 173, 181, 213, 310, 343, 398, 434], [25, 29, 104, 150, 220, 415, 416, 433, 449], [98, 169, 207, 233, 245, 262, 268, 431, 473, 499], [101, 174, 279, 305, 361], [94, 422, 458], [12, 25, 301, 411], [5, 60, 261, 448, 454], [188, 194, 253, 367], [12, 301, 478, 493], [89, 91, 133, 149, 239, 292, 298, 302, 344, 374, 413, 451], [199, 233, 262, 268, 431, 499], [44, 90, 115, 135, 294, 316, 317, 323, 330, 348, 394, 440], [124, 229, 429, 430], [36, 69, 113, 181, 318, 398, 403, 438], [261, 315, 445], [], [85, 181, 197, 273, 434], [30, 234, 253, 367, 385, 388, 443], [129, 186, 227, 241, 277, 303, 337, 342, 362], [31, 133, 142, 286, 312, 328, 380, 472], [17, 93, 225, 307, 370, 452], [15, 22, 33, 102, 112, 187, 383, 387, 399, 484], [15, 40, 59, 90, 112, 187, 316, 317, 323, 330, 365, 383, 394, 399, 424, 488], [29, 150, 151, 198, 416, 433, 449], [65, 87, 184, 222, 240, 358, 482, 492], [65, 87, 184, 187, 221, 336, 358, 492], [], [117, 352, 364, 476, 477], [124, 217, 226, 370, 389, 430, 452], [171, 225, 260, 355, 370, 392, 452], [41, 129, 158, 186, 215, 241, 277, 303, 362], [4, 55, 277, 337, 342, 350], [209, 289, 347, 355, 429, 430], [33, 166, 246, 263], [7, 165, 185, 192, 393], [250], [199, 207, 262, 268, 291, 431, 473, 499], [30, 86, 113, 145, 214, 269, 373, 385, 388, 438, 443], [3, 6, 31, 126, 264, 291, 364, 380, 383], [84, 100, 125, 144, 335, 369, 397, 497], [145, 331, 337, 342, 350, 373], [18, 147, 162, 254, 290, 308, 313, 342, 437, 475], [89, 91, 153, 206, 244, 292, 332, 374, 451], [32, 65, 96, 120, 173, 221, 487, 492], [55, 73, 158, 215, 227, 267, 419, 436], [37, 111, 138, 154, 247, 248, 282, 421, 480], [22, 112, 126, 195, 380, 460, 472, 484], [89, 91, 239, 374, 451], [5, 172, 199, 473, 495], [11, 33, 166, 230, 263], [51, 54, 138, 242, 248, 375, 412, 421], [37, 54, 111, 138, 154, 242, 247, 480], [7, 29, 34, 152, 165, 304, 393], [28, 134, 232, 296], [9], [26, 153, 170, 191, 260, 297, 299, 366, 402, 456, 481], [188, 194, 204, 214, 269, 367, 385, 388, 443], [18, 162, 238, 290, 417, 475], [53], [54, 66, 110, 146, 161, 266, 349, 463, 478, 489], [8, 75, 193, 259, 320, 384, 467], [], [8, 75, 193, 257, 319, 320, 322, 340, 467], [153, 170, 171, 226, 252, 332, 355, 392, 481], [5, 38, 203, 211, 360, 445, 454], [199, 207, 233, 268, 291, 364, 431, 473, 484, 495, 499], [127, 166, 230, 246, 459], [6, 8, 126, 235, 291, 364, 383, 467, 484], [43, 74, 136, 272, 295, 445], [27, 32, 66, 110, 111, 131, 146, 256, 349, 391, 463, 478, 493], [55, 73, 241, 278, 338, 419], [199, 207, 233, 262, 291, 431, 473, 495, 499], [30, 113, 168, 234, 253, 373, 385, 388, 403, 438], [], [46, 77, 103, 276, 281, 406, 466], [43, 116, 136, 265, 360, 445, 469], [56, 213, 377, 434, 444], [114, 356, 390, 414, 482, 490], [], [72, 271, 406, 418, 426, 469], [36, 55, 129, 186, 215, 227, 228, 303, 313, 337, 342, 350, 362], [10, 24, 58, 73, 167, 267, 338, 498], [101, 174, 200, 285, 361], [63, 292, 302, 314, 394, 490], [42, 46, 78, 271, 406, 466], [242, 425, 480, 489], [23, 70, 78, 118, 363, 371, 381, 466], [168, 359, 372, 382, 400], [79, 179, 279], [16, 195, 216, 344, 380, 472], [35, 321, 334], [50, 83, 407], [26, 119, 229, 293, 298, 402, 405, 481], [18, 238, 254, 308, 428, 437, 446, 475], [233, 235, 262, 264, 268, 364, 473, 495], [40, 89, 148, 206, 239, 280, 302, 332, 344], [35, 101, 119, 289, 305, 334, 361], [44, 51, 90, 102, 135, 208, 316, 323, 330, 336, 365, 394, 399, 488], [74, 265, 447], [28, 134, 250], [68, 76, 159, 170, 191, 252, 299, 314, 456], [91, 153, 206, 289, 347, 374, 402, 413, 481], [26, 76, 147, 157, 159, 252, 297, 402, 456], [], [12, 202, 205, 411, 463, 478], [206, 280, 292, 314, 344], [129, 183, 186, 215, 227, 277, 362, 450], [7, 29, 34, 151, 165, 249, 393, 449], [101, 174, 200, 293, 308, 334, 428], [20, 94, 95, 310, 462, 485], [217, 370], [164, 238, 290, 305, 428, 437, 446, 450, 475, 491], [81, 108, 156, 326, 343, 485], [197, 306, 346, 377, 434, 444, 462, 487], [143, 176, 334, 405, 457], [6, 31, 133, 216, 328, 333, 380, 401], [36, 76, 145, 147, 162, 238, 277, 337, 342, 350, 362, 437, 438], [1, 63, 68, 69, 191, 280, 297, 302, 332, 368], [52, 211], [15, 44, 59, 90, 102, 135, 187, 208, 219, 294, 323, 330, 336, 365, 394, 399, 424, 488], [9, 40, 59, 90, 109, 135, 208, 219, 319, 323, 330, 365, 394, 399, 424, 488], [16, 36, 68, 69, 76, 88, 157, 159, 210], [59, 259, 317, 320, 330, 365, 424, 467], [75, 193, 257, 259, 319, 322, 340, 467], [35, 287], [75, 117, 193, 259, 320, 352, 477], [44, 59, 90, 102, 135, 187, 208, 219, 294, 316, 317, 330, 336, 365, 394, 399, 488], [9, 67, 109], [], [39, 81, 108, 132, 155, 156, 309], [], [79, 106, 133, 142, 216, 312, 333], [70, 118, 378, 459], [9, 44, 59, 90, 135, 208, 219, 294, 316, 317, 319, 323, 365, 394, 399, 424, 440, 488], [130, 237, 497], [93, 148, 153, 171, 239, 260, 292, 314, 452, 470], [106, 142, 312, 328], [35, 287, 293, 305, 311], [0, 84, 125, 236, 382, 395, 397], [51, 87, 184, 222, 294, 316, 323, 414, 490], [36, 55, 215, 228, 237, 277, 313, 342, 350, 362], [55, 73, 267, 278, 419], [87, 97], [75, 259, 320], [2, 129, 183], [4, 55, 215, 228, 237, 238, 277, 313, 337, 350], [0, 82, 167, 190, 196, 197, 309, 395, 485], [40, 91, 133, 206, 286, 292, 302, 401, 413, 451, 472], [], [94, 310, 377, 422, 434, 444, 462, 487], [153, 229, 298, 374, 430, 481], [44, 90, 115, 135, 208, 440], [27, 32, 65, 66, 110, 111, 120, 131, 256, 266, 375, 391, 478], [36, 55, 145, 228, 237, 277, 313, 337, 342], [47, 122, 178], [117, 224, 322, 476, 477], [], [], [153, 170, 171, 226, 229, 260, 392, 430], [274, 482], [420], [65, 87, 96, 184, 187, 221, 222, 492], [84, 284, 372, 382, 400], [5, 38, 116, 172, 261, 272], [35, 101, 174, 200, 279, 293], [36, 129, 215, 227, 277, 303, 313, 337], [78, 232, 283, 381], [3, 6, 126, 224, 235, 262, 264, 291, 476], [15, 44, 59, 90, 102, 187, 219, 294, 316, 317, 319, 323, 330, 394, 399, 424, 467, 488], [86, 152, 170, 191, 192, 252, 368, 427, 465], [182, 188, 194, 204, 214, 253, 385, 443], [1, 69, 86, 123, 152, 191, 314, 366], [10, 100, 180, 236, 498], [93, 171, 217, 225, 226, 307, 452], [23, 39, 118, 283, 408], [168, 284, 359, 382, 400], [30, 113, 145, 168, 234, 237, 269, 385], [89, 91, 149, 153, 206, 239, 244, 298, 347, 413, 451], [51, 54, 65, 87, 111, 184, 247, 349, 412], [], [273, 310, 346, 434, 444], [118, 329], [410], [3, 6, 31, 40, 112, 126, 216, 235, 243, 286, 312, 472], [23, 70, 283, 363], [84, 125, 284, 335, 359, 372, 397], [3, 6, 8, 112, 126, 218, 219, 235, 264, 399, 467, 484], [11, 257], [30, 168, 214, 234, 253, 269, 367, 373, 388, 443], [39, 120, 127, 128, 408, 435], [22, 218, 431, 460, 484, 499], [30, 86, 113, 214, 234, 253, 269, 385, 438, 443], [124, 225, 430, 452], [17, 19, 57, 114, 175, 274, 470, 490], [12, 32, 110, 131, 266, 349, 411, 478], [170, 226, 260, 355, 465], [7, 21, 34, 165, 192, 231, 249, 304], [40, 59, 90, 208, 219, 280, 294, 316, 317, 323, 330, 365, 399, 488], [0, 167, 190, 335, 343], [85, 104, 123, 131, 140, 178, 415, 416], [14, 84, 100, 125, 144, 236, 335, 382], [85, 181, 197, 210, 403], [15, 59, 102, 112, 187, 218, 219, 294, 316, 317, 323, 330, 365, 383, 394, 424, 488], [284, 359, 372], [40, 91, 109, 133, 312, 344, 451], [26, 252, 289, 298, 299, 413, 456, 481], [113, 181, 210, 269, 398, 438], [], [26, 48, 289, 311, 428, 457], [46, 271, 276, 281, 466], [50, 83, 288], [94, 128, 371, 386, 458], [], [379], [12, 25, 97, 104, 202, 301, 391, 415, 416], [51, 54, 247, 375, 421], [91, 149, 159, 206, 298, 344, 374, 402, 481], [114, 115, 274, 336, 490], [25, 104, 140, 178, 198, 396, 411, 416, 423, 433], [25, 29, 104, 150, 198, 220, 396, 411, 415, 423, 433], [254, 471], [41, 81, 132, 276], [73, 92, 158, 241, 267, 338, 436, 474], [357], [51, 54, 138, 242, 247, 412], [94, 201, 346, 458], [47, 104, 122, 189, 415, 416, 433], [15, 59, 61, 102, 219, 316, 317, 319, 330, 365, 399, 467], [64, 282, 453, 480, 496], [276, 447, 469, 479], [7, 21, 86, 152, 191, 192, 366, 465], [18, 48, 290, 305, 308, 405, 475], [13, 124, 209, 229, 430], [124, 209, 225, 229, 347, 355, 389, 429, 452], [155, 169, 199, 207, 233, 262, 268, 387, 484, 499], [], [25, 29, 47, 104, 122, 198, 220, 415, 416, 423, 464], [32, 173, 181, 197, 213, 273, 310, 346, 377, 487], [96, 120, 386], [158, 241, 419, 474], [18, 147, 162, 238, 290, 308, 313, 450, 475], [30, 36, 76, 86, 113, 145, 210, 234, 269, 313, 388, 403], [], [44, 90, 135, 208, 330, 348], [57, 185, 442], [57, 185, 441], [30, 214, 234, 253, 367, 385, 388], [273, 310, 346, 377], [43, 74, 136, 211, 261, 265, 272], [164, 290, 308, 450, 475, 491], [74, 295, 426, 469, 479], [5, 28, 203], [29, 150, 151, 198, 220, 304], [164, 183, 303, 308, 437, 446, 491], [89, 91, 133, 206, 239, 244, 344, 374, 401, 483], [93, 148, 171, 217, 225, 226, 332, 370, 389, 430], [64, 107, 146, 425, 496], [179, 203, 261], [], [16, 26, 76, 88, 157, 159, 252, 297, 299, 402], [143, 311, 405], [94, 201, 408, 422], [128, 263, 329], [22, 155, 160, 195, 243, 387, 484], [14, 50, 83], [20, 94, 95, 306, 310, 346], [12, 66, 110, 161, 256, 266, 301, 478, 489, 493], [433, 468], [21, 192, 366, 392, 427], [78, 271, 281, 283, 406], [8, 15, 59, 257, 259, 264, 319, 320, 365, 383, 424], [122, 464], [98, 272, 276, 426, 447, 479], [17, 19, 93, 148, 332, 390, 490], [26, 48, 147, 417], [40, 112, 195, 216, 243, 286, 344, 380], [172, 199, 233, 245, 262, 268, 291, 495], [77, 158, 419, 436], [18, 147, 162, 238, 254, 290, 308, 428, 437, 446], [117, 224, 352, 364], [3, 117, 224, 322, 352], [12, 110, 131, 205, 256, 266, 301, 349, 391, 463, 493], [426, 447, 469], [37, 138, 141, 154, 242, 248, 282, 425], [153, 170, 252, 260, 289, 298, 347, 402, 413], [63, 87, 140, 184, 221, 274, 356, 490], [9, 89, 451], [22, 112, 126, 218, 243, 262, 264, 383, 387, 431, 460, 499], [82, 108, 167, 190, 196, 306, 309, 343], [], [27, 32, 173, 240, 310, 346, 434], [40, 90, 112, 187, 219, 294, 316, 317, 323, 330, 365, 394, 399], [54, 66, 161, 256, 282, 463], [114, 115, 274, 280, 336, 390, 414, 470, 482], [164, 308, 446, 450], [32, 65, 87, 173, 184, 221, 222, 240, 358], [12, 110, 205, 266, 463, 478], [60], [5, 28, 172, 245, 262, 268, 291, 473], [64, 107, 146, 425, 453], [125, 144, 236, 331], [10, 24, 180, 278, 369], [199, 207, 233, 262, 268, 387, 431, 484]]\n"
     ]
    }
   ],
   "source": [
    "print(LF_NL_5)"
   ]
  },
  {
   "cell_type": "code",
   "execution_count": 100,
   "id": "9928dc79",
   "metadata": {},
   "outputs": [
    {
     "data": {
      "application/vnd.jupyter.widget-view+json": {
       "model_id": "925133e823434684b62ac5215ce5047d",
       "version_major": 2,
       "version_minor": 0
      },
      "text/plain": [
       "  0%|          | 0/100 [00:00<?, ?it/s]"
      ]
     },
     "metadata": {},
     "output_type": "display_data"
    },
    {
     "ename": "KeyboardInterrupt",
     "evalue": "",
     "output_type": "error",
     "traceback": [
      "\u001b[0;31m---------------------------------------------------------------------------\u001b[0m",
      "\u001b[0;31mKeyboardInterrupt\u001b[0m                         Traceback (most recent call last)",
      "\u001b[0;32m<ipython-input-100-3cc0c04dc5b6>\u001b[0m in \u001b[0;36m<module>\u001b[0;34m\u001b[0m\n\u001b[0;32m----> 1\u001b[0;31m \u001b[0mLF_dist_atoms_6\u001b[0m\u001b[0;34m,\u001b[0m \u001b[0mLF_PE_6\u001b[0m\u001b[0;34m,\u001b[0m \u001b[0mLF_KE_6\u001b[0m\u001b[0;34m,\u001b[0m \u001b[0mLF_TE_6\u001b[0m\u001b[0;34m,\u001b[0m \u001b[0mLF_NL_6\u001b[0m\u001b[0;34m=\u001b[0m\u001b[0mmain\u001b[0m\u001b[0;34m(\u001b[0m\u001b[0;36m3\u001b[0m\u001b[0;34m)\u001b[0m \u001b[0;31m# 7th simulation at N = 700, LF, vol = 700/1.25 = 560, L=cube root of vol(560)\u001b[0m\u001b[0;34m\u001b[0m\u001b[0;34m\u001b[0m\u001b[0m\n\u001b[0m",
      "\u001b[0;32m<ipython-input-88-8a991685ff3d>\u001b[0m in \u001b[0;36mmain\u001b[0;34m(mode)\u001b[0m\n\u001b[1;32m     72\u001b[0m \u001b[0;34m\u001b[0m\u001b[0m\n\u001b[1;32m     73\u001b[0m         \u001b[0;32mfor\u001b[0m \u001b[0mn_iter\u001b[0m \u001b[0;32min\u001b[0m \u001b[0mtqdm\u001b[0m\u001b[0;34m(\u001b[0m\u001b[0mrange\u001b[0m\u001b[0;34m(\u001b[0m\u001b[0mn_steps\u001b[0m\u001b[0;34m)\u001b[0m\u001b[0;34m)\u001b[0m\u001b[0;34m:\u001b[0m\u001b[0;34m\u001b[0m\u001b[0;34m\u001b[0m\u001b[0m\n\u001b[0;32m---> 74\u001b[0;31m             \u001b[0mpos\u001b[0m\u001b[0;34m,\u001b[0m \u001b[0mvel\u001b[0m \u001b[0;34m=\u001b[0m \u001b[0mLeapfrog\u001b[0m\u001b[0;34m(\u001b[0m\u001b[0mpos\u001b[0m\u001b[0;34m,\u001b[0m \u001b[0mvel\u001b[0m\u001b[0;34m,\u001b[0m \u001b[0mpbc\u001b[0m\u001b[0;34m)\u001b[0m\u001b[0;34m\u001b[0m\u001b[0;34m\u001b[0m\u001b[0m\n\u001b[0m\u001b[1;32m     75\u001b[0m             \u001b[0;31m#pos, vel = Leapfrog(pos, vel, no_bounds) #to implement wall_force boundary\u001b[0m\u001b[0;34m\u001b[0m\u001b[0;34m\u001b[0m\u001b[0;34m\u001b[0m\u001b[0m\n\u001b[1;32m     76\u001b[0m             \u001b[0;32mif\u001b[0m \u001b[0mn_iter\u001b[0m\u001b[0;34m%\u001b[0m\u001b[0;36m10\u001b[0m \u001b[0;34m==\u001b[0m\u001b[0;36m0\u001b[0m\u001b[0;34m:\u001b[0m\u001b[0;34m\u001b[0m\u001b[0;34m\u001b[0m\u001b[0m\n",
      "\u001b[0;32m<ipython-input-24-3e9bfdde0c98>\u001b[0m in \u001b[0;36mLeapfrog\u001b[0;34m(pos, vel, boundary)\u001b[0m\n\u001b[1;32m      1\u001b[0m \u001b[0;32mdef\u001b[0m \u001b[0mLeapfrog\u001b[0m\u001b[0;34m(\u001b[0m\u001b[0mpos\u001b[0m\u001b[0;34m,\u001b[0m \u001b[0mvel\u001b[0m\u001b[0;34m,\u001b[0m \u001b[0mboundary\u001b[0m\u001b[0;34m)\u001b[0m\u001b[0;34m:\u001b[0m\u001b[0;34m\u001b[0m\u001b[0;34m\u001b[0m\u001b[0m\n\u001b[1;32m      2\u001b[0m     \u001b[0;34m\"\"\"Leapfrog algorithm\"\"\"\u001b[0m\u001b[0;34m\u001b[0m\u001b[0;34m\u001b[0m\u001b[0m\n\u001b[0;32m----> 3\u001b[0;31m     \u001b[0mforce\u001b[0m \u001b[0;34m=\u001b[0m \u001b[0mInteracting_atoms\u001b[0m\u001b[0;34m(\u001b[0m\u001b[0mpos\u001b[0m\u001b[0;34m)\u001b[0m \u001b[0;31m#when computing forces, this will not be correct\u001b[0m\u001b[0;34m\u001b[0m\u001b[0;34m\u001b[0m\u001b[0m\n\u001b[0m\u001b[1;32m      4\u001b[0m     \u001b[0;31m#force = compute_force(pos) + wall_force(pos) # in order to implement wall_force repulsion\u001b[0m\u001b[0;34m\u001b[0m\u001b[0;34m\u001b[0m\u001b[0;34m\u001b[0m\u001b[0m\n\u001b[1;32m      5\u001b[0m     \u001b[0mvel_new\u001b[0m \u001b[0;34m=\u001b[0m \u001b[0mvel\u001b[0m \u001b[0;34m+\u001b[0m \u001b[0mdt\u001b[0m\u001b[0;34m*\u001b[0m\u001b[0;34m(\u001b[0m\u001b[0mforce\u001b[0m\u001b[0;34m/\u001b[0m\u001b[0mm\u001b[0m\u001b[0;34m)\u001b[0m\u001b[0;34m\u001b[0m\u001b[0;34m\u001b[0m\u001b[0m\n",
      "\u001b[0;32m<ipython-input-29-810537280961>\u001b[0m in \u001b[0;36mInteracting_atoms\u001b[0;34m(pos)\u001b[0m\n\u001b[1;32m     12\u001b[0m \u001b[0;34m\u001b[0m\u001b[0m\n\u001b[1;32m     13\u001b[0m                 \u001b[0;32mfor\u001b[0m \u001b[0mk\u001b[0m \u001b[0;32min\u001b[0m \u001b[0mrange\u001b[0m\u001b[0;34m(\u001b[0m\u001b[0;36m3\u001b[0m\u001b[0;34m)\u001b[0m\u001b[0;34m:\u001b[0m\u001b[0;34m\u001b[0m\u001b[0;34m\u001b[0m\u001b[0m\n\u001b[0;32m---> 14\u001b[0;31m                     \u001b[0mforce\u001b[0m\u001b[0;34m[\u001b[0m\u001b[0mi\u001b[0m\u001b[0;34m,\u001b[0m\u001b[0mk\u001b[0m\u001b[0;34m]\u001b[0m \u001b[0;34m+=\u001b[0m \u001b[0;36m24\u001b[0m\u001b[0;34m*\u001b[0m\u001b[0;34m(\u001b[0m\u001b[0mepsilon\u001b[0m\u001b[0;34m/\u001b[0m\u001b[0msigma\u001b[0m\u001b[0;34m)\u001b[0m\u001b[0;34m*\u001b[0m\u001b[0;34m(\u001b[0m\u001b[0;36m2\u001b[0m\u001b[0;34m*\u001b[0m\u001b[0;34m(\u001b[0m\u001b[0;34m(\u001b[0m\u001b[0msigma\u001b[0m\u001b[0;34m/\u001b[0m\u001b[0;34m(\u001b[0m\u001b[0mabsolute_r\u001b[0m\u001b[0;34m)\u001b[0m\u001b[0;34m)\u001b[0m\u001b[0;34m**\u001b[0m\u001b[0;36m13\u001b[0m\u001b[0;34m)\u001b[0m\u001b[0;34m-\u001b[0m\u001b[0;34m(\u001b[0m\u001b[0msigma\u001b[0m\u001b[0;34m/\u001b[0m\u001b[0;34m(\u001b[0m\u001b[0mabsolute_r\u001b[0m\u001b[0;34m)\u001b[0m\u001b[0;34m)\u001b[0m\u001b[0;34m**\u001b[0m\u001b[0;36m7\u001b[0m\u001b[0;34m)\u001b[0m\u001b[0;34m*\u001b[0m\u001b[0mr_vector\u001b[0m\u001b[0;34m[\u001b[0m\u001b[0mk\u001b[0m\u001b[0;34m]\u001b[0m\u001b[0;34m/\u001b[0m\u001b[0mabsolute_r\u001b[0m\u001b[0;31m#compute force to each particle\u001b[0m\u001b[0;34m\u001b[0m\u001b[0;34m\u001b[0m\u001b[0m\n\u001b[0m\u001b[1;32m     15\u001b[0m                 \u001b[0;31m#Force_vector = negative derivative of potential * r_vector/absolute value of r, where r = distance between two atoms\u001b[0m\u001b[0;34m\u001b[0m\u001b[0;34m\u001b[0m\u001b[0;34m\u001b[0m\u001b[0m\n\u001b[1;32m     16\u001b[0m \u001b[0;34m\u001b[0m\u001b[0m\n",
      "\u001b[0;31mKeyboardInterrupt\u001b[0m: "
     ]
    }
   ],
   "source": [
    "LF_dist_atoms_6, LF_PE_6, LF_KE_6, LF_TE_6, LF_NL_6=main(3) # 7th simulation at N = 700, LF, vol = 700/1.25 = 560, L=cube root of vol(560)"
   ]
  },
  {
   "cell_type": "code",
   "execution_count": 85,
   "id": "8e129b01",
   "metadata": {},
   "outputs": [
    {
     "data": {
      "application/vnd.jupyter.widget-view+json": {
       "model_id": "f6fb1bd442ae4f41bd2e1a22c2f2e420",
       "version_major": 2,
       "version_minor": 0
      },
      "text/plain": [
       "  0%|          | 0/100 [00:00<?, ?it/s]"
      ]
     },
     "metadata": {},
     "output_type": "display_data"
    },
    {
     "ename": "KeyboardInterrupt",
     "evalue": "",
     "output_type": "error",
     "traceback": [
      "\u001b[0;31m---------------------------------------------------------------------------\u001b[0m",
      "\u001b[0;31mKeyboardInterrupt\u001b[0m                         Traceback (most recent call last)",
      "\u001b[0;32m<ipython-input-85-477388590e7c>\u001b[0m in \u001b[0;36m<module>\u001b[0;34m\u001b[0m\n\u001b[0;32m----> 1\u001b[0;31m \u001b[0mLF_dist_atoms_7\u001b[0m\u001b[0;34m,\u001b[0m \u001b[0mLF_PE_7\u001b[0m\u001b[0;34m,\u001b[0m \u001b[0mLF_KE_7\u001b[0m\u001b[0;34m,\u001b[0m \u001b[0mLF_TE_7\u001b[0m\u001b[0;34m,\u001b[0m \u001b[0mLF_NL_7\u001b[0m\u001b[0;34m=\u001b[0m\u001b[0mmain\u001b[0m\u001b[0;34m(\u001b[0m\u001b[0;36m3\u001b[0m\u001b[0;34m)\u001b[0m\u001b[0;31m# 8th simulation at N = 1000, vol = 1000/1.25 = 800, L =cube root of vol(800) =\u001b[0m\u001b[0;34m\u001b[0m\u001b[0;34m\u001b[0m\u001b[0m\n\u001b[0m",
      "\u001b[0;32m<ipython-input-78-8e046f17e55d>\u001b[0m in \u001b[0;36mmain\u001b[0;34m(mode)\u001b[0m\n\u001b[1;32m     72\u001b[0m \u001b[0;34m\u001b[0m\u001b[0m\n\u001b[1;32m     73\u001b[0m         \u001b[0;32mfor\u001b[0m \u001b[0mn_iter\u001b[0m \u001b[0;32min\u001b[0m \u001b[0mtqdm\u001b[0m\u001b[0;34m(\u001b[0m\u001b[0mrange\u001b[0m\u001b[0;34m(\u001b[0m\u001b[0mn_steps\u001b[0m\u001b[0;34m)\u001b[0m\u001b[0;34m)\u001b[0m\u001b[0;34m:\u001b[0m\u001b[0;34m\u001b[0m\u001b[0;34m\u001b[0m\u001b[0m\n\u001b[0;32m---> 74\u001b[0;31m             \u001b[0mpos\u001b[0m\u001b[0;34m,\u001b[0m \u001b[0mvel\u001b[0m \u001b[0;34m=\u001b[0m \u001b[0mLeapfrog\u001b[0m\u001b[0;34m(\u001b[0m\u001b[0mpos\u001b[0m\u001b[0;34m,\u001b[0m \u001b[0mvel\u001b[0m\u001b[0;34m,\u001b[0m \u001b[0mpbc\u001b[0m\u001b[0;34m)\u001b[0m\u001b[0;34m\u001b[0m\u001b[0;34m\u001b[0m\u001b[0m\n\u001b[0m\u001b[1;32m     75\u001b[0m             \u001b[0;31m#pos, vel = Leapfrog(pos, vel, no_bounds) #to implement wall_force boundary\u001b[0m\u001b[0;34m\u001b[0m\u001b[0;34m\u001b[0m\u001b[0;34m\u001b[0m\u001b[0m\n\u001b[1;32m     76\u001b[0m             \u001b[0;32mif\u001b[0m \u001b[0mn_iter\u001b[0m\u001b[0;34m%\u001b[0m\u001b[0;36m10\u001b[0m \u001b[0;34m==\u001b[0m\u001b[0;36m0\u001b[0m\u001b[0;34m:\u001b[0m\u001b[0;34m\u001b[0m\u001b[0;34m\u001b[0m\u001b[0m\n",
      "\u001b[0;32m<ipython-input-24-3e9bfdde0c98>\u001b[0m in \u001b[0;36mLeapfrog\u001b[0;34m(pos, vel, boundary)\u001b[0m\n\u001b[1;32m      1\u001b[0m \u001b[0;32mdef\u001b[0m \u001b[0mLeapfrog\u001b[0m\u001b[0;34m(\u001b[0m\u001b[0mpos\u001b[0m\u001b[0;34m,\u001b[0m \u001b[0mvel\u001b[0m\u001b[0;34m,\u001b[0m \u001b[0mboundary\u001b[0m\u001b[0;34m)\u001b[0m\u001b[0;34m:\u001b[0m\u001b[0;34m\u001b[0m\u001b[0;34m\u001b[0m\u001b[0m\n\u001b[1;32m      2\u001b[0m     \u001b[0;34m\"\"\"Leapfrog algorithm\"\"\"\u001b[0m\u001b[0;34m\u001b[0m\u001b[0;34m\u001b[0m\u001b[0m\n\u001b[0;32m----> 3\u001b[0;31m     \u001b[0mforce\u001b[0m \u001b[0;34m=\u001b[0m \u001b[0mInteracting_atoms\u001b[0m\u001b[0;34m(\u001b[0m\u001b[0mpos\u001b[0m\u001b[0;34m)\u001b[0m \u001b[0;31m#when computing forces, this will not be correct\u001b[0m\u001b[0;34m\u001b[0m\u001b[0;34m\u001b[0m\u001b[0m\n\u001b[0m\u001b[1;32m      4\u001b[0m     \u001b[0;31m#force = compute_force(pos) + wall_force(pos) # in order to implement wall_force repulsion\u001b[0m\u001b[0;34m\u001b[0m\u001b[0;34m\u001b[0m\u001b[0;34m\u001b[0m\u001b[0m\n\u001b[1;32m      5\u001b[0m     \u001b[0mvel_new\u001b[0m \u001b[0;34m=\u001b[0m \u001b[0mvel\u001b[0m \u001b[0;34m+\u001b[0m \u001b[0mdt\u001b[0m\u001b[0;34m*\u001b[0m\u001b[0;34m(\u001b[0m\u001b[0mforce\u001b[0m\u001b[0;34m/\u001b[0m\u001b[0mm\u001b[0m\u001b[0;34m)\u001b[0m\u001b[0;34m\u001b[0m\u001b[0;34m\u001b[0m\u001b[0m\n",
      "\u001b[0;32m<ipython-input-29-810537280961>\u001b[0m in \u001b[0;36mInteracting_atoms\u001b[0;34m(pos)\u001b[0m\n\u001b[1;32m      9\u001b[0m \u001b[0;34m\u001b[0m\u001b[0m\n\u001b[1;32m     10\u001b[0m \u001b[0;34m\u001b[0m\u001b[0m\n\u001b[0;32m---> 11\u001b[0;31m                 \u001b[0mr_vector\u001b[0m\u001b[0;34m,\u001b[0m \u001b[0mabsolute_r\u001b[0m \u001b[0;34m=\u001b[0m \u001b[0mget_positions\u001b[0m\u001b[0;34m(\u001b[0m\u001b[0mpos\u001b[0m\u001b[0;34m[\u001b[0m\u001b[0mi\u001b[0m\u001b[0;34m]\u001b[0m\u001b[0;34m,\u001b[0m\u001b[0mpos\u001b[0m\u001b[0;34m[\u001b[0m\u001b[0mj\u001b[0m\u001b[0;34m]\u001b[0m\u001b[0;34m)\u001b[0m \u001b[0;31m#calling the get_positions function to calculate force between two atoms (i and j) index representing each atom in i and each atom in\u001b[0m\u001b[0;34m\u001b[0m\u001b[0;34m\u001b[0m\u001b[0m\n\u001b[0m\u001b[1;32m     12\u001b[0m \u001b[0;34m\u001b[0m\u001b[0m\n\u001b[1;32m     13\u001b[0m                 \u001b[0;32mfor\u001b[0m \u001b[0mk\u001b[0m \u001b[0;32min\u001b[0m \u001b[0mrange\u001b[0m\u001b[0;34m(\u001b[0m\u001b[0;36m3\u001b[0m\u001b[0;34m)\u001b[0m\u001b[0;34m:\u001b[0m\u001b[0;34m\u001b[0m\u001b[0;34m\u001b[0m\u001b[0m\n",
      "\u001b[0;32m<ipython-input-25-6540439f0978>\u001b[0m in \u001b[0;36mget_positions\u001b[0;34m(pos1, pos2)\u001b[0m\n\u001b[1;32m      6\u001b[0m     \u001b[0;32mif\u001b[0m \u001b[0mr_vector\u001b[0m\u001b[0;34m[\u001b[0m\u001b[0;36m0\u001b[0m\u001b[0;34m]\u001b[0m \u001b[0;34m>\u001b[0m \u001b[0mL\u001b[0m\u001b[0;34m/\u001b[0m\u001b[0;36m2\u001b[0m\u001b[0;34m:\u001b[0m\u001b[0;34m\u001b[0m\u001b[0;34m\u001b[0m\u001b[0m\n\u001b[1;32m      7\u001b[0m         \u001b[0mr_vector\u001b[0m\u001b[0;34m[\u001b[0m\u001b[0;36m0\u001b[0m\u001b[0;34m]\u001b[0m \u001b[0;34m=\u001b[0m \u001b[0mr_vector\u001b[0m\u001b[0;34m[\u001b[0m\u001b[0;36m0\u001b[0m\u001b[0;34m]\u001b[0m \u001b[0;34m-\u001b[0m\u001b[0mL\u001b[0m\u001b[0;34m\u001b[0m\u001b[0;34m\u001b[0m\u001b[0m\n\u001b[0;32m----> 8\u001b[0;31m     \u001b[0;32melif\u001b[0m \u001b[0mr_vector\u001b[0m\u001b[0;34m[\u001b[0m\u001b[0;36m0\u001b[0m\u001b[0;34m]\u001b[0m \u001b[0;34m<\u001b[0m \u001b[0;34m-\u001b[0m\u001b[0mL\u001b[0m\u001b[0;34m/\u001b[0m\u001b[0;36m2\u001b[0m\u001b[0;34m:\u001b[0m\u001b[0;34m\u001b[0m\u001b[0;34m\u001b[0m\u001b[0m\n\u001b[0m\u001b[1;32m      9\u001b[0m         \u001b[0mr_vector\u001b[0m\u001b[0;34m[\u001b[0m\u001b[0;36m0\u001b[0m\u001b[0;34m]\u001b[0m \u001b[0;34m=\u001b[0m \u001b[0mL\u001b[0m \u001b[0;34m+\u001b[0m \u001b[0mr_vector\u001b[0m\u001b[0;34m[\u001b[0m\u001b[0;36m0\u001b[0m\u001b[0;34m]\u001b[0m\u001b[0;34m\u001b[0m\u001b[0;34m\u001b[0m\u001b[0m\n\u001b[1;32m     10\u001b[0m \u001b[0;34m\u001b[0m\u001b[0m\n",
      "\u001b[0;31mKeyboardInterrupt\u001b[0m: "
     ]
    }
   ],
   "source": [
    "LF_dist_atoms_7, LF_PE_7, LF_KE_7, LF_TE_7, LF_NL_7=main(3)# 8th simulation at N = 1000, vol = 1000/1.25 = 800, L =cube root of vol(800) = "
   ]
  },
  {
   "cell_type": "markdown",
   "id": "52c09f2a",
   "metadata": {},
   "source": [
    "# Leapfrog scaling, increasing particles, without Pair list"
   ]
  },
  {
   "cell_type": "code",
   "execution_count": null,
   "id": "19c39803",
   "metadata": {},
   "outputs": [],
   "source": [
    "# 1st simulation at N = 10, Density = 10/8 = 1.25, L = 2"
   ]
  },
  {
   "cell_type": "code",
   "execution_count": null,
   "id": "05f4ed78",
   "metadata": {},
   "outputs": [],
   "source": [
    "# 2nd simulation at N = 20, vol = 100/1.25 = 80, L =cube root of vol(16) = "
   ]
  },
  {
   "cell_type": "code",
   "execution_count": 122,
   "id": "cb1bd01f",
   "metadata": {},
   "outputs": [
    {
     "data": {
      "application/vnd.jupyter.widget-view+json": {
       "model_id": "b6796b25666a4bc68cfb160fae32639b",
       "version_major": 2,
       "version_minor": 0
      },
      "text/plain": [
       "  0%|          | 0/100 [00:00<?, ?it/s]"
      ]
     },
     "metadata": {},
     "output_type": "display_data"
    }
   ],
   "source": [
    "LF_dist_atoms_2_nolist2, LF_PE_2_nolist2, LF_KE_2_nolist2, LF_TE_2_nolist2=main(3)# 3th simulation at N = 100, vol = 100/1.25 = 80, L =cube root of vol(80) = "
   ]
  },
  {
   "cell_type": "code",
   "execution_count": 119,
   "id": "b096780b",
   "metadata": {},
   "outputs": [
    {
     "data": {
      "application/vnd.jupyter.widget-view+json": {
       "model_id": "a845d329e4de4d6d9072676aa0c71ada",
       "version_major": 2,
       "version_minor": 0
      },
      "text/plain": [
       "  0%|          | 0/100 [00:00<?, ?it/s]"
      ]
     },
     "metadata": {},
     "output_type": "display_data"
    }
   ],
   "source": [
    "LF_dist_atoms_3_nolist3, LF_PE_3_nolist3, LF_KE_3_nolist3, LF_TE_3_nolist3=main(3)# 4th simulation at N = 200, vol = 200/1.25 = 160, L =cube root of vol(160) = "
   ]
  },
  {
   "cell_type": "code",
   "execution_count": 114,
   "id": "d55afe0b",
   "metadata": {},
   "outputs": [
    {
     "data": {
      "application/vnd.jupyter.widget-view+json": {
       "model_id": "60e9c640edbf4ee19ff38d24281b594d",
       "version_major": 2,
       "version_minor": 0
      },
      "text/plain": [
       "  0%|          | 0/100 [00:00<?, ?it/s]"
      ]
     },
     "metadata": {},
     "output_type": "display_data"
    },
    {
     "ename": "KeyboardInterrupt",
     "evalue": "",
     "output_type": "error",
     "traceback": [
      "\u001b[0;31m---------------------------------------------------------------------------\u001b[0m",
      "\u001b[0;31mKeyboardInterrupt\u001b[0m                         Traceback (most recent call last)",
      "\u001b[0;32m<ipython-input-114-6c535e959721>\u001b[0m in \u001b[0;36m<module>\u001b[0;34m\u001b[0m\n\u001b[0;32m----> 1\u001b[0;31m \u001b[0mLF_dist_atoms_4_nolist4\u001b[0m\u001b[0;34m,\u001b[0m \u001b[0mLF_PE_4_nolist4\u001b[0m\u001b[0;34m,\u001b[0m \u001b[0mLF_KE_4_nolist4\u001b[0m\u001b[0;34m,\u001b[0m \u001b[0mLF_TE_4_nolist4\u001b[0m\u001b[0;34m=\u001b[0m\u001b[0mmain\u001b[0m\u001b[0;34m(\u001b[0m\u001b[0;36m3\u001b[0m\u001b[0;34m)\u001b[0m\u001b[0;31m# 5th simulation at N = 300, vol = 300/1.25 = 240, L =cube root of vol(240) =\u001b[0m\u001b[0;34m\u001b[0m\u001b[0;34m\u001b[0m\u001b[0m\n\u001b[0m",
      "\u001b[0;32m<ipython-input-88-8a991685ff3d>\u001b[0m in \u001b[0;36mmain\u001b[0;34m(mode)\u001b[0m\n\u001b[1;32m     82\u001b[0m             \u001b[0mPE\u001b[0m\u001b[0;34m.\u001b[0m\u001b[0mappend\u001b[0m\u001b[0;34m(\u001b[0m\u001b[0me_pot\u001b[0m\u001b[0;34m(\u001b[0m\u001b[0mpos\u001b[0m\u001b[0;34m)\u001b[0m\u001b[0;34m)\u001b[0m\u001b[0;34m\u001b[0m\u001b[0;34m\u001b[0m\u001b[0m\n\u001b[1;32m     83\u001b[0m             \u001b[0mKE\u001b[0m\u001b[0;34m.\u001b[0m\u001b[0mappend\u001b[0m\u001b[0;34m(\u001b[0m\u001b[0me_kin\u001b[0m\u001b[0;34m(\u001b[0m\u001b[0mvel\u001b[0m\u001b[0;34m)\u001b[0m\u001b[0;34m)\u001b[0m\u001b[0;34m\u001b[0m\u001b[0;34m\u001b[0m\u001b[0m\n\u001b[0;32m---> 84\u001b[0;31m             \u001b[0mTE\u001b[0m\u001b[0;34m.\u001b[0m\u001b[0mappend\u001b[0m\u001b[0;34m(\u001b[0m\u001b[0mtotal_energy\u001b[0m\u001b[0;34m(\u001b[0m\u001b[0mpos\u001b[0m\u001b[0;34m,\u001b[0m \u001b[0mvel\u001b[0m\u001b[0;34m)\u001b[0m\u001b[0;34m)\u001b[0m\u001b[0;34m\u001b[0m\u001b[0;34m\u001b[0m\u001b[0m\n\u001b[0m\u001b[1;32m     85\u001b[0m \u001b[0;34m\u001b[0m\u001b[0m\n\u001b[1;32m     86\u001b[0m \u001b[0;34m\u001b[0m\u001b[0m\n",
      "\u001b[0;32m<ipython-input-28-69261d0481a4>\u001b[0m in \u001b[0;36mtotal_energy\u001b[0;34m(pos, vel)\u001b[0m\n\u001b[1;32m      2\u001b[0m     \u001b[0;34m\"\"\"Total energy of the system from KE and PE\"\"\"\u001b[0m\u001b[0;34m\u001b[0m\u001b[0;34m\u001b[0m\u001b[0m\n\u001b[1;32m      3\u001b[0m \u001b[0;34m\u001b[0m\u001b[0m\n\u001b[0;32m----> 4\u001b[0;31m     \u001b[0mTE\u001b[0m \u001b[0;34m=\u001b[0m \u001b[0mnp\u001b[0m\u001b[0;34m.\u001b[0m\u001b[0msum\u001b[0m\u001b[0;34m(\u001b[0m\u001b[0me_kin\u001b[0m\u001b[0;34m(\u001b[0m\u001b[0mvel\u001b[0m\u001b[0;34m)\u001b[0m \u001b[0;34m+\u001b[0m \u001b[0me_pot\u001b[0m\u001b[0;34m(\u001b[0m\u001b[0mpos\u001b[0m\u001b[0;34m)\u001b[0m\u001b[0;34m)\u001b[0m\u001b[0;34m\u001b[0m\u001b[0;34m\u001b[0m\u001b[0m\n\u001b[0m\u001b[1;32m      5\u001b[0m \u001b[0;34m\u001b[0m\u001b[0m\n\u001b[1;32m      6\u001b[0m \u001b[0;34m\u001b[0m\u001b[0m\n",
      "\u001b[0;32m<ipython-input-27-88d3f8f57635>\u001b[0m in \u001b[0;36me_pot\u001b[0;34m(pos)\u001b[0m\n\u001b[1;32m      8\u001b[0m \u001b[0;34m\u001b[0m\u001b[0m\n\u001b[1;32m      9\u001b[0m             \u001b[0;32melse\u001b[0m\u001b[0;34m:\u001b[0m\u001b[0;34m\u001b[0m\u001b[0;34m\u001b[0m\u001b[0m\n\u001b[0;32m---> 10\u001b[0;31m                 \u001b[0mr_vector\u001b[0m\u001b[0;34m,\u001b[0m \u001b[0mabsolute_r\u001b[0m \u001b[0;34m=\u001b[0m \u001b[0mget_positions\u001b[0m\u001b[0;34m(\u001b[0m\u001b[0mpos\u001b[0m\u001b[0;34m[\u001b[0m\u001b[0mi\u001b[0m\u001b[0;34m]\u001b[0m\u001b[0;34m,\u001b[0m\u001b[0mpos\u001b[0m\u001b[0;34m[\u001b[0m\u001b[0mj\u001b[0m\u001b[0;34m]\u001b[0m\u001b[0;34m)\u001b[0m\u001b[0;34m\u001b[0m\u001b[0;34m\u001b[0m\u001b[0m\n\u001b[0m\u001b[1;32m     11\u001b[0m \u001b[0;34m\u001b[0m\u001b[0m\n\u001b[1;32m     12\u001b[0m                 \u001b[0mPE\u001b[0m \u001b[0;34m=\u001b[0m \u001b[0mPE\u001b[0m \u001b[0;34m+\u001b[0m \u001b[0;36m4\u001b[0m\u001b[0;34m*\u001b[0m\u001b[0mepsilon\u001b[0m\u001b[0;34m*\u001b[0m\u001b[0;34m(\u001b[0m\u001b[0;34m(\u001b[0m\u001b[0msigma\u001b[0m\u001b[0;34m/\u001b[0m\u001b[0mabsolute_r\u001b[0m\u001b[0;34m)\u001b[0m\u001b[0;34m**\u001b[0m\u001b[0;36m12\u001b[0m \u001b[0;34m-\u001b[0m \u001b[0;34m(\u001b[0m\u001b[0msigma\u001b[0m\u001b[0;34m/\u001b[0m\u001b[0mabsolute_r\u001b[0m\u001b[0;34m)\u001b[0m\u001b[0;34m**\u001b[0m\u001b[0;36m6\u001b[0m\u001b[0;34m)\u001b[0m\u001b[0;34m\u001b[0m\u001b[0;34m\u001b[0m\u001b[0m\n",
      "\u001b[0;31mKeyboardInterrupt\u001b[0m: "
     ]
    }
   ],
   "source": [
    "LF_dist_atoms_4_nolist4, LF_PE_4_nolist4, LF_KE_4_nolist4, LF_TE_4_nolist4=main(3)# 5th simulation at N = 300, vol = 300/1.25 = 240, L =cube root of vol(240) = "
   ]
  },
  {
   "cell_type": "code",
   "execution_count": 109,
   "id": "b6b06736",
   "metadata": {},
   "outputs": [
    {
     "data": {
      "application/vnd.jupyter.widget-view+json": {
       "model_id": "bac59d29817142ca87cfcc95afe9a83a",
       "version_major": 2,
       "version_minor": 0
      },
      "text/plain": [
       "  0%|          | 0/100 [00:00<?, ?it/s]"
      ]
     },
     "metadata": {},
     "output_type": "display_data"
    },
    {
     "ename": "KeyboardInterrupt",
     "evalue": "",
     "output_type": "error",
     "traceback": [
      "\u001b[0;31m---------------------------------------------------------------------------\u001b[0m",
      "\u001b[0;31mKeyboardInterrupt\u001b[0m                         Traceback (most recent call last)",
      "\u001b[0;32m<ipython-input-109-45416a6a6a5d>\u001b[0m in \u001b[0;36m<module>\u001b[0;34m\u001b[0m\n\u001b[0;32m----> 1\u001b[0;31m \u001b[0mLF_dist_atoms_5_nolist5\u001b[0m\u001b[0;34m,\u001b[0m \u001b[0mLF_PE_5_nolist5\u001b[0m\u001b[0;34m,\u001b[0m \u001b[0mLF_KE_5_nolist5\u001b[0m\u001b[0;34m,\u001b[0m \u001b[0mLF_TE_5_nolist5\u001b[0m\u001b[0;34m=\u001b[0m\u001b[0mmain\u001b[0m\u001b[0;34m(\u001b[0m\u001b[0;36m3\u001b[0m\u001b[0;34m)\u001b[0m\u001b[0;31m# 6th simulation at N = 500, vol = 500/1.25 = 400, L =cube root of vol(400) =\u001b[0m\u001b[0;34m\u001b[0m\u001b[0;34m\u001b[0m\u001b[0m\n\u001b[0m",
      "\u001b[0;32m<ipython-input-88-8a991685ff3d>\u001b[0m in \u001b[0;36mmain\u001b[0;34m(mode)\u001b[0m\n\u001b[1;32m     82\u001b[0m             \u001b[0mPE\u001b[0m\u001b[0;34m.\u001b[0m\u001b[0mappend\u001b[0m\u001b[0;34m(\u001b[0m\u001b[0me_pot\u001b[0m\u001b[0;34m(\u001b[0m\u001b[0mpos\u001b[0m\u001b[0;34m)\u001b[0m\u001b[0;34m)\u001b[0m\u001b[0;34m\u001b[0m\u001b[0;34m\u001b[0m\u001b[0m\n\u001b[1;32m     83\u001b[0m             \u001b[0mKE\u001b[0m\u001b[0;34m.\u001b[0m\u001b[0mappend\u001b[0m\u001b[0;34m(\u001b[0m\u001b[0me_kin\u001b[0m\u001b[0;34m(\u001b[0m\u001b[0mvel\u001b[0m\u001b[0;34m)\u001b[0m\u001b[0;34m)\u001b[0m\u001b[0;34m\u001b[0m\u001b[0;34m\u001b[0m\u001b[0m\n\u001b[0;32m---> 84\u001b[0;31m             \u001b[0mTE\u001b[0m\u001b[0;34m.\u001b[0m\u001b[0mappend\u001b[0m\u001b[0;34m(\u001b[0m\u001b[0mtotal_energy\u001b[0m\u001b[0;34m(\u001b[0m\u001b[0mpos\u001b[0m\u001b[0;34m,\u001b[0m \u001b[0mvel\u001b[0m\u001b[0;34m)\u001b[0m\u001b[0;34m)\u001b[0m\u001b[0;34m\u001b[0m\u001b[0;34m\u001b[0m\u001b[0m\n\u001b[0m\u001b[1;32m     85\u001b[0m \u001b[0;34m\u001b[0m\u001b[0m\n\u001b[1;32m     86\u001b[0m \u001b[0;34m\u001b[0m\u001b[0m\n",
      "\u001b[0;32m<ipython-input-28-69261d0481a4>\u001b[0m in \u001b[0;36mtotal_energy\u001b[0;34m(pos, vel)\u001b[0m\n\u001b[1;32m      2\u001b[0m     \u001b[0;34m\"\"\"Total energy of the system from KE and PE\"\"\"\u001b[0m\u001b[0;34m\u001b[0m\u001b[0;34m\u001b[0m\u001b[0m\n\u001b[1;32m      3\u001b[0m \u001b[0;34m\u001b[0m\u001b[0m\n\u001b[0;32m----> 4\u001b[0;31m     \u001b[0mTE\u001b[0m \u001b[0;34m=\u001b[0m \u001b[0mnp\u001b[0m\u001b[0;34m.\u001b[0m\u001b[0msum\u001b[0m\u001b[0;34m(\u001b[0m\u001b[0me_kin\u001b[0m\u001b[0;34m(\u001b[0m\u001b[0mvel\u001b[0m\u001b[0;34m)\u001b[0m \u001b[0;34m+\u001b[0m \u001b[0me_pot\u001b[0m\u001b[0;34m(\u001b[0m\u001b[0mpos\u001b[0m\u001b[0;34m)\u001b[0m\u001b[0;34m)\u001b[0m\u001b[0;34m\u001b[0m\u001b[0;34m\u001b[0m\u001b[0m\n\u001b[0m\u001b[1;32m      5\u001b[0m \u001b[0;34m\u001b[0m\u001b[0m\n\u001b[1;32m      6\u001b[0m \u001b[0;34m\u001b[0m\u001b[0m\n",
      "\u001b[0;32m<ipython-input-27-88d3f8f57635>\u001b[0m in \u001b[0;36me_pot\u001b[0;34m(pos)\u001b[0m\n\u001b[1;32m      8\u001b[0m \u001b[0;34m\u001b[0m\u001b[0m\n\u001b[1;32m      9\u001b[0m             \u001b[0;32melse\u001b[0m\u001b[0;34m:\u001b[0m\u001b[0;34m\u001b[0m\u001b[0;34m\u001b[0m\u001b[0m\n\u001b[0;32m---> 10\u001b[0;31m                 \u001b[0mr_vector\u001b[0m\u001b[0;34m,\u001b[0m \u001b[0mabsolute_r\u001b[0m \u001b[0;34m=\u001b[0m \u001b[0mget_positions\u001b[0m\u001b[0;34m(\u001b[0m\u001b[0mpos\u001b[0m\u001b[0;34m[\u001b[0m\u001b[0mi\u001b[0m\u001b[0;34m]\u001b[0m\u001b[0;34m,\u001b[0m\u001b[0mpos\u001b[0m\u001b[0;34m[\u001b[0m\u001b[0mj\u001b[0m\u001b[0;34m]\u001b[0m\u001b[0;34m)\u001b[0m\u001b[0;34m\u001b[0m\u001b[0;34m\u001b[0m\u001b[0m\n\u001b[0m\u001b[1;32m     11\u001b[0m \u001b[0;34m\u001b[0m\u001b[0m\n\u001b[1;32m     12\u001b[0m                 \u001b[0mPE\u001b[0m \u001b[0;34m=\u001b[0m \u001b[0mPE\u001b[0m \u001b[0;34m+\u001b[0m \u001b[0;36m4\u001b[0m\u001b[0;34m*\u001b[0m\u001b[0mepsilon\u001b[0m\u001b[0;34m*\u001b[0m\u001b[0;34m(\u001b[0m\u001b[0;34m(\u001b[0m\u001b[0msigma\u001b[0m\u001b[0;34m/\u001b[0m\u001b[0mabsolute_r\u001b[0m\u001b[0;34m)\u001b[0m\u001b[0;34m**\u001b[0m\u001b[0;36m12\u001b[0m \u001b[0;34m-\u001b[0m \u001b[0;34m(\u001b[0m\u001b[0msigma\u001b[0m\u001b[0;34m/\u001b[0m\u001b[0mabsolute_r\u001b[0m\u001b[0;34m)\u001b[0m\u001b[0;34m**\u001b[0m\u001b[0;36m6\u001b[0m\u001b[0;34m)\u001b[0m\u001b[0;34m\u001b[0m\u001b[0;34m\u001b[0m\u001b[0m\n",
      "\u001b[0;32m<ipython-input-25-6540439f0978>\u001b[0m in \u001b[0;36mget_positions\u001b[0;34m(pos1, pos2)\u001b[0m\n\u001b[1;32m      2\u001b[0m     \u001b[0;34m\"\"\"Return der direction of r and the absolute value of r (Distance)\"\"\"\u001b[0m\u001b[0;34m\u001b[0m\u001b[0;34m\u001b[0m\u001b[0m\n\u001b[1;32m      3\u001b[0m \u001b[0;34m\u001b[0m\u001b[0m\n\u001b[0;32m----> 4\u001b[0;31m     \u001b[0mr_vector\u001b[0m \u001b[0;34m=\u001b[0m \u001b[0;34m(\u001b[0m\u001b[0mpos1\u001b[0m \u001b[0;34m-\u001b[0m \u001b[0mpos2\u001b[0m\u001b[0;34m)\u001b[0m \u001b[0;31m# positions in x,y,z coordinates\u001b[0m\u001b[0;34m\u001b[0m\u001b[0;34m\u001b[0m\u001b[0m\n\u001b[0m\u001b[1;32m      5\u001b[0m \u001b[0;34m\u001b[0m\u001b[0m\n\u001b[1;32m      6\u001b[0m     \u001b[0;32mif\u001b[0m \u001b[0mr_vector\u001b[0m\u001b[0;34m[\u001b[0m\u001b[0;36m0\u001b[0m\u001b[0;34m]\u001b[0m \u001b[0;34m>\u001b[0m \u001b[0mL\u001b[0m\u001b[0;34m/\u001b[0m\u001b[0;36m2\u001b[0m\u001b[0;34m:\u001b[0m\u001b[0;34m\u001b[0m\u001b[0;34m\u001b[0m\u001b[0m\n",
      "\u001b[0;31mKeyboardInterrupt\u001b[0m: "
     ]
    }
   ],
   "source": [
    "LF_dist_atoms_5_nolist5, LF_PE_5_nolist5, LF_KE_5_nolist5, LF_TE_5_nolist5=main(3)# 6th simulation at N = 500, vol = 500/1.25 = 400, L =cube root of vol(400) = "
   ]
  },
  {
   "cell_type": "code",
   "execution_count": null,
   "id": "e62cdfe3",
   "metadata": {},
   "outputs": [],
   "source": [
    "LF_dist_atoms_6_nolist6, LF_PE_6_nolist6, LF_KE_6_nolist6, LF_TE_6_nolist6=main(3)# 7th simulation at N = 700, vol = 700/1.25 = 560, L =cube root of vol(560) = "
   ]
  },
  {
   "cell_type": "code",
   "execution_count": 97,
   "id": "4dadc359",
   "metadata": {},
   "outputs": [
    {
     "data": {
      "application/vnd.jupyter.widget-view+json": {
       "model_id": "1a348957f1cf4836a38ba47685dbc7df",
       "version_major": 2,
       "version_minor": 0
      },
      "text/plain": [
       "  0%|          | 0/100 [00:00<?, ?it/s]"
      ]
     },
     "metadata": {},
     "output_type": "display_data"
    },
    {
     "ename": "KeyboardInterrupt",
     "evalue": "",
     "output_type": "error",
     "traceback": [
      "\u001b[0;31m---------------------------------------------------------------------------\u001b[0m",
      "\u001b[0;31mKeyboardInterrupt\u001b[0m                         Traceback (most recent call last)",
      "\u001b[0;32m<ipython-input-97-b83fc8ec7f58>\u001b[0m in \u001b[0;36m<module>\u001b[0;34m\u001b[0m\n\u001b[0;32m----> 1\u001b[0;31m \u001b[0mLF_dist_atoms_7_nolist7\u001b[0m\u001b[0;34m,\u001b[0m \u001b[0mLF_PE_7_nolist7\u001b[0m\u001b[0;34m,\u001b[0m \u001b[0mLF_KE_7_nolist7\u001b[0m\u001b[0;34m,\u001b[0m \u001b[0mLF_TE_7_nolist7\u001b[0m\u001b[0;34m=\u001b[0m\u001b[0mmain\u001b[0m\u001b[0;34m(\u001b[0m\u001b[0;36m3\u001b[0m\u001b[0;34m)\u001b[0m\u001b[0;31m# 8th simulation at N = 1000, vol = 1000/1.25 = 800, L =cube root of vol(800) =\u001b[0m\u001b[0;34m\u001b[0m\u001b[0;34m\u001b[0m\u001b[0m\n\u001b[0m",
      "\u001b[0;32m<ipython-input-88-8a991685ff3d>\u001b[0m in \u001b[0;36mmain\u001b[0;34m(mode)\u001b[0m\n\u001b[1;32m     72\u001b[0m \u001b[0;34m\u001b[0m\u001b[0m\n\u001b[1;32m     73\u001b[0m         \u001b[0;32mfor\u001b[0m \u001b[0mn_iter\u001b[0m \u001b[0;32min\u001b[0m \u001b[0mtqdm\u001b[0m\u001b[0;34m(\u001b[0m\u001b[0mrange\u001b[0m\u001b[0;34m(\u001b[0m\u001b[0mn_steps\u001b[0m\u001b[0;34m)\u001b[0m\u001b[0;34m)\u001b[0m\u001b[0;34m:\u001b[0m\u001b[0;34m\u001b[0m\u001b[0;34m\u001b[0m\u001b[0m\n\u001b[0;32m---> 74\u001b[0;31m             \u001b[0mpos\u001b[0m\u001b[0;34m,\u001b[0m \u001b[0mvel\u001b[0m \u001b[0;34m=\u001b[0m \u001b[0mLeapfrog\u001b[0m\u001b[0;34m(\u001b[0m\u001b[0mpos\u001b[0m\u001b[0;34m,\u001b[0m \u001b[0mvel\u001b[0m\u001b[0;34m,\u001b[0m \u001b[0mpbc\u001b[0m\u001b[0;34m)\u001b[0m\u001b[0;34m\u001b[0m\u001b[0;34m\u001b[0m\u001b[0m\n\u001b[0m\u001b[1;32m     75\u001b[0m             \u001b[0;31m#pos, vel = Leapfrog(pos, vel, no_bounds) #to implement wall_force boundary\u001b[0m\u001b[0;34m\u001b[0m\u001b[0;34m\u001b[0m\u001b[0;34m\u001b[0m\u001b[0m\n\u001b[1;32m     76\u001b[0m             \u001b[0;32mif\u001b[0m \u001b[0mn_iter\u001b[0m\u001b[0;34m%\u001b[0m\u001b[0;36m10\u001b[0m \u001b[0;34m==\u001b[0m\u001b[0;36m0\u001b[0m\u001b[0;34m:\u001b[0m\u001b[0;34m\u001b[0m\u001b[0;34m\u001b[0m\u001b[0m\n",
      "\u001b[0;32m<ipython-input-24-3e9bfdde0c98>\u001b[0m in \u001b[0;36mLeapfrog\u001b[0;34m(pos, vel, boundary)\u001b[0m\n\u001b[1;32m      1\u001b[0m \u001b[0;32mdef\u001b[0m \u001b[0mLeapfrog\u001b[0m\u001b[0;34m(\u001b[0m\u001b[0mpos\u001b[0m\u001b[0;34m,\u001b[0m \u001b[0mvel\u001b[0m\u001b[0;34m,\u001b[0m \u001b[0mboundary\u001b[0m\u001b[0;34m)\u001b[0m\u001b[0;34m:\u001b[0m\u001b[0;34m\u001b[0m\u001b[0;34m\u001b[0m\u001b[0m\n\u001b[1;32m      2\u001b[0m     \u001b[0;34m\"\"\"Leapfrog algorithm\"\"\"\u001b[0m\u001b[0;34m\u001b[0m\u001b[0;34m\u001b[0m\u001b[0m\n\u001b[0;32m----> 3\u001b[0;31m     \u001b[0mforce\u001b[0m \u001b[0;34m=\u001b[0m \u001b[0mInteracting_atoms\u001b[0m\u001b[0;34m(\u001b[0m\u001b[0mpos\u001b[0m\u001b[0;34m)\u001b[0m \u001b[0;31m#when computing forces, this will not be correct\u001b[0m\u001b[0;34m\u001b[0m\u001b[0;34m\u001b[0m\u001b[0m\n\u001b[0m\u001b[1;32m      4\u001b[0m     \u001b[0;31m#force = compute_force(pos) + wall_force(pos) # in order to implement wall_force repulsion\u001b[0m\u001b[0;34m\u001b[0m\u001b[0;34m\u001b[0m\u001b[0;34m\u001b[0m\u001b[0m\n\u001b[1;32m      5\u001b[0m     \u001b[0mvel_new\u001b[0m \u001b[0;34m=\u001b[0m \u001b[0mvel\u001b[0m \u001b[0;34m+\u001b[0m \u001b[0mdt\u001b[0m\u001b[0;34m*\u001b[0m\u001b[0;34m(\u001b[0m\u001b[0mforce\u001b[0m\u001b[0;34m/\u001b[0m\u001b[0mm\u001b[0m\u001b[0;34m)\u001b[0m\u001b[0;34m\u001b[0m\u001b[0;34m\u001b[0m\u001b[0m\n",
      "\u001b[0;32m<ipython-input-29-810537280961>\u001b[0m in \u001b[0;36mInteracting_atoms\u001b[0;34m(pos)\u001b[0m\n\u001b[1;32m      9\u001b[0m \u001b[0;34m\u001b[0m\u001b[0m\n\u001b[1;32m     10\u001b[0m \u001b[0;34m\u001b[0m\u001b[0m\n\u001b[0;32m---> 11\u001b[0;31m                 \u001b[0mr_vector\u001b[0m\u001b[0;34m,\u001b[0m \u001b[0mabsolute_r\u001b[0m \u001b[0;34m=\u001b[0m \u001b[0mget_positions\u001b[0m\u001b[0;34m(\u001b[0m\u001b[0mpos\u001b[0m\u001b[0;34m[\u001b[0m\u001b[0mi\u001b[0m\u001b[0;34m]\u001b[0m\u001b[0;34m,\u001b[0m\u001b[0mpos\u001b[0m\u001b[0;34m[\u001b[0m\u001b[0mj\u001b[0m\u001b[0;34m]\u001b[0m\u001b[0;34m)\u001b[0m \u001b[0;31m#calling the get_positions function to calculate force between two atoms (i and j) index representing each atom in i and each atom in\u001b[0m\u001b[0;34m\u001b[0m\u001b[0;34m\u001b[0m\u001b[0m\n\u001b[0m\u001b[1;32m     12\u001b[0m \u001b[0;34m\u001b[0m\u001b[0m\n\u001b[1;32m     13\u001b[0m                 \u001b[0;32mfor\u001b[0m \u001b[0mk\u001b[0m \u001b[0;32min\u001b[0m \u001b[0mrange\u001b[0m\u001b[0;34m(\u001b[0m\u001b[0;36m3\u001b[0m\u001b[0;34m)\u001b[0m\u001b[0;34m:\u001b[0m\u001b[0;34m\u001b[0m\u001b[0;34m\u001b[0m\u001b[0m\n",
      "\u001b[0;32m<ipython-input-25-6540439f0978>\u001b[0m in \u001b[0;36mget_positions\u001b[0;34m(pos1, pos2)\u001b[0m\n\u001b[1;32m     20\u001b[0m \u001b[0;34m\u001b[0m\u001b[0m\n\u001b[1;32m     21\u001b[0m \u001b[0;34m\u001b[0m\u001b[0m\n\u001b[0;32m---> 22\u001b[0;31m     \u001b[0mabsolute_r\u001b[0m \u001b[0;34m=\u001b[0m \u001b[0;34m(\u001b[0m\u001b[0mnp\u001b[0m\u001b[0;34m.\u001b[0m\u001b[0msqrt\u001b[0m\u001b[0;34m(\u001b[0m\u001b[0mr_vector\u001b[0m\u001b[0;34m[\u001b[0m\u001b[0;36m0\u001b[0m\u001b[0;34m]\u001b[0m\u001b[0;34m**\u001b[0m\u001b[0;36m2\u001b[0m \u001b[0;34m+\u001b[0m \u001b[0mr_vector\u001b[0m\u001b[0;34m[\u001b[0m\u001b[0;36m1\u001b[0m\u001b[0;34m]\u001b[0m\u001b[0;34m**\u001b[0m\u001b[0;36m2\u001b[0m \u001b[0;34m+\u001b[0m\u001b[0mr_vector\u001b[0m\u001b[0;34m[\u001b[0m\u001b[0;36m2\u001b[0m\u001b[0;34m]\u001b[0m\u001b[0;34m**\u001b[0m\u001b[0;36m2\u001b[0m\u001b[0;34m)\u001b[0m\u001b[0;34m)\u001b[0m \u001b[0;31m#obtain the absolute positions of r\u001b[0m\u001b[0;34m\u001b[0m\u001b[0;34m\u001b[0m\u001b[0m\n\u001b[0m\u001b[1;32m     23\u001b[0m \u001b[0;34m\u001b[0m\u001b[0m\n\u001b[1;32m     24\u001b[0m     \u001b[0;32mreturn\u001b[0m \u001b[0mr_vector\u001b[0m\u001b[0;34m,\u001b[0m \u001b[0mabsolute_r\u001b[0m\u001b[0;34m\u001b[0m\u001b[0;34m\u001b[0m\u001b[0m\n",
      "\u001b[0;31mKeyboardInterrupt\u001b[0m: "
     ]
    }
   ],
   "source": [
    "LF_dist_atoms_7_nolist7, LF_PE_7_nolist7, LF_KE_7_nolist7, LF_TE_7_nolist7=main(3)# 8th simulation at N = 1000, vol = 1000/1.25 = 800, L =cube root of vol(800) = "
   ]
  },
  {
   "cell_type": "code",
   "execution_count": 132,
   "id": "0c27ffc0",
   "metadata": {},
   "outputs": [
    {
     "data": {
      "image/png": "[encoded data removed]",
      "text/plain": [
       "<Figure size 432x288 with 1 Axes>"
      ]
     },
     "metadata": {
      "needs_background": "light"
     },
     "output_type": "display_data"
    }
   ],
   "source": [
    "#Scaling of LF and VV with pair list\n",
    "VV_P = [36, 101, 216, 675, 1331, 2791] #VV with pair list\n",
    "VV_noP=[24, 100, 211, 586, 1140, 2295]\n",
    "LF_P =[15, 79, 144, 469, 912, 1895] #LF with pair list\n",
    "LF_noP=[16, 58, 133, 342, 764, 1480]\n",
    "\n",
    "N= [100, 200, 300, 500, 700, 1000]\n",
    "plt.xlabel('Number of atoms in simulation')\n",
    "plt.ylabel('Time(s)')\n",
    "plt.title('Simulation scaling')\n",
    "\n",
    "plt.plot(N, VV_P, label = \"VV_with p-list\")\n",
    "plt.plot(N, VV_noP, label= \"VV without p-list\")\n",
    "plt.plot(N, LF_P, label = \"LF with p-list\")\n",
    "plt.plot(N, LF_noP, label = \"LF without p-list\")\n",
    "plt.legend()\n",
    "plt.show()"
   ]
  },
  {
   "cell_type": "code",
   "execution_count": null,
   "id": "eddbde38",
   "metadata": {},
   "outputs": [],
   "source": []
  },
  {
   "cell_type": "markdown",
   "id": "39e67cb3",
   "metadata": {},
   "source": [
    "# VV Scaling of timestep (dt) at N =100, L= cube root of volume (80)"
   ]
  },
  {
   "cell_type": "code",
   "execution_count": 98,
   "id": "f48fcbc9",
   "metadata": {
    "scrolled": true
   },
   "outputs": [
    {
     "data": {
      "application/vnd.jupyter.widget-view+json": {
       "model_id": "36b24ce7269e43eeb110f254f292ddb9",
       "version_major": 2,
       "version_minor": 0
      },
      "text/plain": [
       "  0%|          | 0/100 [00:00<?, ?it/s]"
      ]
     },
     "metadata": {},
     "output_type": "display_data"
    }
   ],
   "source": [
    "dist2_atoms_1, PE2_1, KE2_1, TE2_1, NL2_1 = main(2) #1st sim, dt = 10**-3"
   ]
  },
  {
   "cell_type": "code",
   "execution_count": 106,
   "id": "a9eca934",
   "metadata": {},
   "outputs": [
    {
     "name": "stdout",
     "output_type": "stream",
     "text": [
      "[[2], [], [0], [18, 39, 51, 53, 89], [14, 22, 31, 35, 96], [9, 15, 18, 21, 24, 34, 39, 40, 41, 53, 60, 65, 68, 72, 88], [8, 14, 27, 28, 37, 58, 70], [87], [6, 58, 59], [5, 15, 18, 19, 21, 27, 39, 40, 41, 60, 65, 68, 70, 72, 84, 88], [82], [36, 59], [93], [], [4, 6, 28, 37, 39, 41, 70], [5, 9, 19, 21, 40, 68, 72, 88], [34, 36, 39, 41, 53, 60, 65, 80, 89], [], [3, 5, 9, 39, 40, 41, 46, 51, 53, 60, 65, 70, 72, 88], [9, 15, 21, 26, 68, 70, 72, 84, 88], [], [5, 9, 15, 19, 40, 68, 72, 84, 88], [4, 31, 35], [], [5, 34, 40, 65, 87], [79], [19, 30, 46, 52, 66, 70, 72, 94], [6, 9, 37, 70, 84], [6, 14, 58, 70], [], [26, 52, 66, 70, 94], [4, 22, 35], [], [49], [5, 16, 24, 40, 53, 65, 87, 88], [4, 22, 31, 96], [11, 16, 37, 80], [6, 14, 27, 36, 41, 60, 70, 80], [12, 57, 74], [3, 5, 9, 14, 16, 18, 40, 41, 46, 53, 60, 65, 66, 70, 72, 80, 88, 89, 94], [5, 9, 15, 18, 21, 24, 34, 39, 41, 60, 65, 68, 72, 88], [5, 9, 14, 16, 18, 37, 39, 40, 53, 60, 65, 70, 80, 88, 89], [66, 77, 87, 94, 97], [53, 80, 89], [], [], [18, 26, 39, 66, 72, 88, 94], [], [], [33], [], [3, 18, 53, 89], [26, 30, 66, 94], [3, 5, 16, 18, 34, 39, 41, 43, 51, 60, 65, 80, 88, 89], [57, 64], [], [61, 81], [54, 64], [6, 8, 28, 59], [8, 11, 58], [5, 9, 16, 18, 37, 39, 40, 41, 53, 65, 70, 80, 88, 89], [56], [], [], [54, 57], [5, 9, 16, 18, 24, 34, 39, 40, 41, 53, 60, 80, 88, 89], [26, 30, 39, 42, 46, 52, 70, 94], [54, 64], [5, 9, 15, 19, 21, 40, 72, 88], [], [6, 9, 14, 18, 19, 26, 27, 28, 30, 37, 39, 41, 60, 66, 72, 88, 94], [], [5, 9, 15, 18, 19, 21, 26, 39, 40, 46, 68, 70, 88], [], [12, 38, 54, 57, 64], [], [], [42, 96, 97], [98], [25], [16, 36, 37, 39, 41, 43, 53, 60, 65, 89], [56], [10], [], [9, 19, 21, 27], [], [77, 92, 96, 97], [7, 24, 34, 42], [5, 9, 15, 18, 19, 21, 34, 39, 40, 41, 46, 53, 60, 65, 68, 70, 72], [3, 16, 39, 41, 43, 51, 53, 60, 65, 80], [93], [], [77, 86], [], [26, 30, 39, 42, 46, 52, 66, 70], [], [4, 35, 77, 97], [42, 77, 96], [78], []]\n"
     ]
    }
   ],
   "source": [
    "print(NL2_1)"
   ]
  },
  {
   "cell_type": "code",
   "execution_count": 104,
   "id": "0cb50522",
   "metadata": {},
   "outputs": [
    {
     "data": {
      "application/vnd.jupyter.widget-view+json": {
       "model_id": "09687d11ad5c4cda9f1be3a63e10a357",
       "version_major": 2,
       "version_minor": 0
      },
      "text/plain": [
       "  0%|          | 0/100 [00:00<?, ?it/s]"
      ]
     },
     "metadata": {},
     "output_type": "display_data"
    }
   ],
   "source": [
    "dist2_atoms_2, PE2_2, KE2_2, TE2_2, NL2_2 = main(2) #2nd sim, dt = 10**-4"
   ]
  },
  {
   "cell_type": "code",
   "execution_count": 105,
   "id": "1ce007dd",
   "metadata": {},
   "outputs": [
    {
     "name": "stdout",
     "output_type": "stream",
     "text": [
      "[[1, 4, 6, 8, 9, 11, 14, 16, 17, 22, 23, 32, 34, 35, 38, 50, 52, 53, 54, 56, 57, 62, 66, 67, 69, 75, 77, 79, 82, 83, 85, 89, 90, 91, 92, 93, 96, 97, 98, 99], [0, 11, 16, 17, 22, 24, 32, 35, 56, 66, 67, 69, 75, 79, 82, 83, 88, 89, 92, 93, 97, 98], [], [], [0, 5, 6, 7, 8, 9, 11, 12, 13, 17, 20, 23, 25, 27, 36, 40, 42, 47, 52, 54, 62, 63, 74, 83, 91, 96, 98, 99], [4, 7, 9, 11, 24, 25, 31, 35, 36, 42, 62, 63, 74, 79, 83, 89, 90, 91, 96, 98, 99], [0, 4, 7, 8, 9, 11, 13, 14, 16, 17, 23, 27, 32, 34, 35, 38, 50, 52, 53, 54, 56, 57, 58, 62, 69, 74, 75, 77, 82, 83, 85, 89, 90, 91, 96, 97, 98, 99], [4, 5, 6, 8, 9, 11, 13, 20, 23, 25, 36, 37, 42, 62, 63, 74, 79, 83, 89, 90, 91, 96, 98, 99], [0, 4, 6, 7, 9, 11, 13, 14, 23, 38, 50, 52, 53, 57, 58, 62, 68, 85, 90, 91, 96, 99], [0, 4, 5, 6, 7, 8, 11, 12, 13, 14, 17, 23, 24, 25, 35, 36, 42, 52, 54, 56, 62, 63, 67, 74, 75, 77, 79, 83, 89, 90, 91, 96, 97, 98, 99], [78], [0, 1, 4, 5, 6, 7, 8, 9, 12, 13, 14, 16, 17, 22, 23, 24, 27, 32, 34, 35, 36, 42, 50, 52, 53, 54, 56, 62, 67, 69, 74, 75, 77, 79, 82, 83, 85, 89, 90, 91, 96, 97, 98, 99], [4, 9, 11, 17, 23, 25, 27, 36, 42, 46, 54, 66, 67, 74, 75, 77, 83, 97], [4, 6, 7, 8, 9, 11, 14, 23, 38, 52, 53, 58, 62, 68, 85, 90, 91, 96, 99], [0, 6, 8, 9, 11, 13, 16, 17, 23, 27, 32, 34, 38, 50, 52, 53, 54, 56, 57, 62, 75, 77, 82, 83, 85, 91, 96, 97, 99], [44, 81], [0, 1, 6, 11, 14, 17, 22, 23, 27, 32, 34, 35, 38, 50, 52, 54, 56, 57, 66, 67, 69, 75, 77, 82, 83, 91, 93, 97], [0, 1, 4, 6, 9, 11, 12, 14, 16, 22, 23, 27, 32, 34, 46, 54, 66, 67, 74, 75, 77, 79, 82, 83, 89, 91, 93, 97, 98], [], [], [4, 7, 36, 37, 42, 47, 51, 74, 99], [61, 94], [0, 1, 11, 16, 17, 24, 32, 34, 35, 56, 66, 67, 69, 75, 77, 79, 82, 83, 89, 93, 97, 98], [0, 4, 6, 7, 8, 9, 11, 12, 13, 14, 16, 17, 27, 36, 40, 42, 47, 50, 52, 54, 57, 62, 67, 74, 75, 77, 83, 85, 91, 96, 97, 98, 99], [1, 5, 9, 11, 22, 25, 31, 32, 35, 55, 56, 63, 66, 69, 75, 79, 83, 88, 89, 90, 91, 92, 98], [4, 5, 7, 9, 12, 24, 28, 31, 36, 42, 46, 63, 74, 79, 83, 84, 89, 98], [], [4, 6, 11, 12, 14, 16, 17, 23, 34, 40, 47, 50, 54, 57, 67, 74, 77, 82, 97], [25], [], [31], [5, 24, 25, 30, 42, 63, 79, 84, 89], [0, 1, 6, 11, 14, 16, 17, 22, 24, 34, 35, 56, 66, 69, 75, 77, 79, 82, 83, 86, 89, 90, 91, 92, 93, 97, 98], [51, 64, 86, 88], [0, 6, 11, 14, 16, 17, 22, 27, 32, 50, 54, 57, 67, 75, 77, 82, 83, 93, 97], [0, 1, 5, 6, 9, 11, 16, 22, 24, 32, 55, 56, 69, 71, 75, 79, 83, 88, 89, 90, 91, 92, 96, 98], [4, 5, 7, 9, 11, 12, 20, 23, 25, 40, 42, 47, 62, 63, 74, 99], [7, 20, 42, 99], [0, 6, 8, 13, 14, 16, 49, 50, 52, 53, 56, 57, 58, 61, 68, 71, 85], [], [4, 23, 27, 36, 47, 54, 57, 74], [], [4, 5, 7, 9, 11, 12, 20, 23, 25, 31, 36, 37, 62, 63, 74, 91, 96, 99], [], [15, 50, 57, 81], [], [12, 17, 25, 66, 67, 74], [4, 20, 23, 27, 36, 40, 74, 99], [], [38, 52, 53, 56, 58, 61, 68, 69, 71, 85, 94], [0, 6, 8, 11, 14, 16, 23, 27, 34, 38, 44, 52, 54, 57, 75, 77, 82, 97], [20, 33, 64], [0, 4, 6, 8, 9, 11, 13, 14, 16, 23, 38, 49, 50, 53, 56, 57, 58, 62, 68, 85, 91, 96, 99], [0, 6, 8, 11, 13, 14, 38, 49, 52, 56, 57, 58, 61, 62, 68, 69, 71, 85, 91, 96], [0, 4, 6, 9, 11, 12, 14, 16, 17, 23, 27, 34, 40, 50, 57, 66, 67, 74, 75, 77, 82, 83, 97], [24, 35, 56, 69, 79, 88, 89, 90, 92, 94, 98], [0, 1, 6, 9, 11, 14, 16, 22, 24, 32, 35, 38, 49, 52, 53, 55, 58, 69, 71, 75, 79, 83, 85, 89, 90, 91, 92, 96, 98], [0, 6, 8, 14, 16, 23, 27, 34, 38, 40, 44, 50, 52, 53, 54, 77, 85], [6, 8, 13, 38, 49, 52, 53, 56, 61, 68, 71, 85, 94], [], [], [21, 38, 49, 53, 58, 68, 71, 85, 94], [0, 4, 5, 6, 7, 8, 9, 11, 13, 14, 23, 36, 42, 52, 53, 74, 83, 85, 89, 90, 91, 96, 98, 99], [4, 5, 7, 9, 24, 25, 31, 36, 42, 79, 84, 89, 90, 91, 96, 98], [33, 51, 88], [], [0, 1, 12, 16, 17, 22, 24, 32, 46, 54, 67, 74, 75, 77, 82, 83, 89, 93, 97], [0, 1, 9, 11, 12, 16, 17, 22, 23, 27, 34, 46, 54, 66, 74, 75, 77, 82, 83, 97], [8, 13, 38, 49, 52, 53, 58, 61, 71, 85, 90, 94, 96], [0, 1, 6, 11, 16, 22, 24, 32, 35, 49, 53, 55, 56, 71, 75, 79, 83, 88, 89, 90, 91, 92, 96, 98], [], [35, 38, 49, 53, 56, 58, 61, 68, 69], [], [], [4, 5, 6, 7, 9, 11, 12, 17, 20, 23, 25, 27, 36, 40, 42, 46, 47, 54, 62, 66, 67, 77, 83, 97, 99], [0, 1, 6, 9, 11, 12, 14, 16, 17, 22, 23, 24, 32, 34, 35, 50, 54, 56, 66, 67, 69, 77, 79, 82, 83, 89, 91, 93, 97, 98], [], [0, 6, 9, 11, 12, 14, 16, 17, 22, 23, 27, 32, 34, 50, 54, 57, 66, 67, 74, 75, 82, 83, 93, 97], [10], [0, 1, 5, 7, 9, 11, 17, 22, 24, 25, 31, 32, 35, 55, 56, 63, 69, 75, 83, 88, 89, 90, 91, 92, 96, 98], [], [15, 44], [0, 1, 6, 11, 14, 16, 17, 22, 27, 32, 34, 50, 54, 66, 67, 75, 77, 83, 93, 97], [0, 1, 4, 5, 6, 7, 9, 11, 12, 14, 16, 17, 22, 23, 24, 25, 32, 34, 35, 54, 56, 62, 66, 67, 69, 74, 75, 77, 79, 82, 89, 90, 91, 93, 96, 97, 98, 99], [25, 31, 63], [0, 6, 8, 11, 13, 14, 23, 38, 49, 52, 53, 56, 57, 58, 61, 62, 68, 90, 91, 96, 99], [32, 33], [], [1, 24, 33, 35, 55, 64, 69, 79, 89, 92], [0, 1, 5, 6, 7, 9, 11, 17, 22, 24, 25, 31, 32, 35, 55, 56, 62, 63, 66, 69, 75, 79, 83, 88, 90, 91, 92, 96, 97, 98], [0, 5, 6, 7, 8, 9, 11, 13, 24, 32, 35, 55, 56, 62, 63, 68, 69, 79, 83, 85, 89, 91, 92, 94, 96, 98], [0, 4, 5, 6, 7, 8, 9, 11, 13, 14, 16, 17, 23, 24, 32, 35, 42, 52, 53, 56, 62, 63, 69, 75, 79, 83, 85, 89, 90, 92, 96, 97, 98, 99], [0, 1, 24, 32, 35, 55, 56, 69, 79, 88, 89, 90, 91, 94, 96, 98], [0, 1, 16, 17, 22, 32, 34, 66, 75, 77, 82, 83, 97], [21, 49, 55, 58, 61, 68, 90, 92], [], [0, 4, 5, 6, 7, 8, 9, 11, 13, 14, 23, 35, 42, 52, 53, 56, 62, 63, 68, 69, 79, 83, 85, 89, 90, 91, 92, 98, 99], [0, 1, 6, 9, 11, 12, 14, 16, 17, 22, 23, 27, 32, 34, 50, 54, 66, 67, 74, 75, 77, 82, 83, 89, 91, 93, 98], [0, 1, 4, 5, 6, 7, 9, 11, 17, 22, 23, 24, 25, 32, 35, 55, 56, 62, 63, 69, 75, 79, 83, 89, 90, 91, 92, 96, 97, 99], [0, 4, 5, 6, 7, 8, 9, 11, 13, 14, 20, 23, 36, 37, 42, 47, 52, 62, 74, 83, 85, 91, 96, 98]]\n"
     ]
    }
   ],
   "source": [
    "print(NL2_2)"
   ]
  },
  {
   "cell_type": "code",
   "execution_count": 112,
   "id": "0b9554e2",
   "metadata": {},
   "outputs": [
    {
     "data": {
      "application/vnd.jupyter.widget-view+json": {
       "model_id": "997d132c81bc4a7f87aca819c792c6d2",
       "version_major": 2,
       "version_minor": 0
      },
      "text/plain": [
       "  0%|          | 0/100 [00:00<?, ?it/s]"
      ]
     },
     "metadata": {},
     "output_type": "display_data"
    }
   ],
   "source": [
    "dist2_atoms_3, PE2_3, KE2_3, TE2_3, NL2_3 = main(2) #3rd sim, dt = 10**-7"
   ]
  },
  {
   "cell_type": "code",
   "execution_count": 114,
   "id": "ecd36e27",
   "metadata": {},
   "outputs": [
    {
     "name": "stdout",
     "output_type": "stream",
     "text": [
      "[[1, 2, 6, 7, 18, 22, 24, 35, 42, 43, 46, 48, 57, 58, 59, 62, 63, 65, 68, 80, 82, 89, 91], [0, 2, 3, 4, 5, 6, 7, 8, 9, 12, 13, 14, 17, 18, 20, 22, 23, 24, 25, 29, 31, 32, 33, 34, 35, 36, 37, 38, 39, 40, 42, 43, 44, 45, 46, 47, 48, 49, 51, 52, 53, 54, 55, 57, 58, 59, 60, 62, 63, 64, 65, 68, 69, 71, 72, 74, 75, 78, 79, 80, 81, 82, 83, 85, 86, 88, 89, 91, 92, 93, 94, 95, 96, 99], [0, 1, 6, 7, 8, 9, 13, 18, 20, 21, 24, 25, 32, 33, 35, 36, 42, 46, 53, 57, 58, 65, 68, 69, 82, 89, 95, 96, 99], [1, 4, 5, 10, 14, 15, 16, 17, 20, 22, 23, 27, 29, 31, 33, 34, 37, 39, 45, 47, 50, 51, 52, 54, 56, 60, 61, 62, 64, 70, 72, 74, 76, 78, 79, 83, 85, 91, 92, 94], [1, 3, 5, 9, 10, 13, 14, 15, 16, 17, 19, 20, 22, 23, 24, 25, 27, 29, 31, 32, 33, 34, 37, 38, 39, 44, 45, 47, 49, 50, 51, 52, 53, 54, 56, 58, 59, 60, 61, 62, 64, 68, 70, 72, 74, 76, 77, 78, 79, 81, 83, 85, 86, 87, 88, 91, 92, 94, 95], [1, 3, 4, 8, 9, 10, 12, 13, 14, 15, 16, 17, 19, 20, 23, 24, 25, 26, 27, 29, 31, 32, 33, 34, 36, 37, 38, 39, 40, 41, 44, 45, 46, 47, 49, 50, 51, 52, 53, 54, 56, 58, 59, 60, 61, 62, 64, 66, 68, 70, 72, 74, 76, 77, 78, 79, 81, 83, 84, 85, 86, 87, 88, 91, 94, 95, 99], [0, 1, 2, 7, 8, 12, 13, 18, 20, 22, 24, 33, 34, 35, 36, 42, 46, 47, 48, 53, 57, 58, 59, 62, 63, 65, 68, 69, 71, 82, 89, 91, 94, 95, 98], [0, 1, 2, 6, 8, 13, 18, 20, 22, 23, 24, 30, 32, 33, 34, 35, 42, 43, 46, 47, 48, 51, 52, 53, 54, 57, 58, 59, 62, 63, 65, 68, 73, 75, 78, 79, 80, 81, 82, 83, 86, 89, 91, 92, 93, 94, 95], [1, 2, 5, 6, 7, 9, 13, 20, 23, 24, 25, 26, 29, 31, 32, 33, 34, 35, 36, 37, 38, 39, 40, 42, 43, 44, 46, 48, 51, 52, 53, 54, 55, 57, 58, 62, 64, 65, 66, 67, 68, 69, 75, 78, 80, 81, 83, 85, 86, 88, 89, 90, 91, 94, 95, 96, 99], [1, 2, 4, 5, 8, 12, 13, 14, 17, 19, 20, 21, 23, 25, 26, 28, 29, 31, 32, 33, 34, 36, 37, 38, 39, 40, 41, 42, 44, 46, 49, 50, 51, 52, 53, 54, 55, 58, 60, 64, 65, 66, 67, 68, 69, 71, 72, 74, 77, 78, 81, 84, 85, 86, 87, 88, 90, 94, 95, 96, 99], [3, 4, 5, 14, 15, 16, 17, 22, 27, 34, 39, 45, 47, 51, 52, 56, 61, 70, 74, 76, 78, 79, 83, 94, 97], [12, 15, 18, 19, 41, 47, 49, 57, 59, 60, 62, 63, 69, 71, 84, 89, 91, 97, 98], [1, 5, 6, 9, 11, 13, 15, 17, 18, 19, 20, 21, 25, 28, 33, 36, 38, 41, 46, 49, 51, 52, 53, 57, 59, 60, 61, 62, 63, 65, 68, 69, 71, 84, 89, 91, 94, 95, 98, 99], [1, 2, 4, 5, 6, 7, 8, 9, 12, 14, 17, 19, 20, 21, 23, 24, 25, 26, 28, 29, 31, 32, 33, 34, 36, 37, 38, 39, 40, 42, 44, 46, 49, 50, 51, 52, 53, 54, 55, 57, 58, 59, 60, 61, 62, 64, 65, 66, 67, 68, 69, 71, 72, 74, 77, 78, 79, 81, 83, 84, 85, 86, 87, 88, 89, 90, 91, 94, 95, 96, 99], [1, 3, 4, 5, 9, 10, 13, 15, 16, 17, 20, 23, 25, 26, 27, 29, 31, 32, 33, 34, 37, 38, 39, 44, 45, 47, 50, 51, 52, 54, 56, 60, 61, 64, 66, 70, 72, 74, 76, 77, 78, 79, 81, 83, 85, 86, 87, 88, 92, 94], [3, 4, 5, 10, 11, 12, 14, 16, 17, 18, 19, 20, 22, 27, 34, 45, 47, 49, 51, 52, 56, 59, 60, 61, 62, 63, 70, 71, 74, 76, 79, 89, 91, 94, 97, 98], [3, 4, 5, 10, 14, 15, 17, 20, 23, 27, 31, 34, 39, 45, 47, 49, 50, 51, 52, 56, 59, 60, 61, 62, 64, 70, 72, 74, 76, 78, 79, 83, 91, 94, 97], [1, 3, 4, 5, 9, 10, 12, 13, 14, 15, 16, 19, 20, 23, 25, 29, 31, 32, 33, 34, 36, 37, 38, 39, 41, 45, 49, 50, 51, 52, 56, 60, 61, 64, 70, 72, 74, 76, 77, 78, 84, 85, 94, 95], [0, 1, 2, 6, 7, 11, 12, 15, 20, 22, 24, 33, 34, 35, 42, 46, 47, 48, 49, 57, 58, 59, 62, 63, 65, 68, 69, 71, 82, 89, 91, 94, 97, 98], [4, 5, 9, 11, 12, 13, 15, 17, 20, 21, 25, 28, 32, 33, 36, 37, 38, 39, 41, 46, 49, 51, 52, 57, 59, 60, 61, 63, 64, 68, 69, 71, 72, 74, 84, 94, 95, 98, 99], [1, 2, 3, 4, 5, 6, 7, 8, 9, 12, 13, 14, 15, 16, 17, 18, 19, 22, 23, 24, 25, 29, 31, 32, 33, 34, 35, 36, 37, 38, 39, 40, 42, 43, 44, 45, 46, 47, 48, 49, 51, 52, 53, 54, 57, 58, 59, 60, 61, 62, 63, 64, 65, 68, 69, 70, 71, 72, 74, 75, 76, 78, 79, 80, 81, 82, 83, 85, 86, 88, 89, 91, 92, 94, 95, 98, 99], [2, 9, 12, 13, 19, 25, 28, 32, 33, 36, 37, 38, 41, 46, 49, 53, 55, 68, 69, 71, 84, 95, 99], [0, 1, 3, 4, 6, 7, 10, 15, 18, 20, 23, 24, 27, 30, 33, 34, 35, 42, 43, 45, 47, 48, 51, 52, 54, 57, 58, 59, 62, 63, 65, 68, 70, 73, 75, 76, 78, 79, 80, 81, 82, 83, 86, 89, 91, 92, 93, 94, 97], [1, 3, 4, 5, 7, 8, 9, 13, 14, 16, 17, 20, 22, 24, 25, 26, 29, 30, 31, 32, 33, 34, 35, 36, 37, 38, 39, 40, 42, 43, 44, 45, 46, 47, 50, 51, 52, 53, 54, 55, 57, 58, 59, 60, 62, 64, 65, 66, 67, 68, 72, 73, 74, 75, 77, 78, 79, 80, 81, 83, 85, 86, 87, 88, 89, 90, 91, 92, 93, 94, 95, 96, 99], [0, 1, 2, 4, 5, 6, 7, 8, 13, 18, 20, 22, 23, 30, 32, 33, 34, 35, 39, 42, 43, 44, 45, 46, 47, 48, 51, 52, 53, 54, 57, 58, 59, 62, 63, 64, 65, 68, 73, 75, 78, 79, 80, 81, 82, 83, 86, 88, 89, 91, 92, 93, 94, 95], [1, 2, 4, 5, 8, 9, 12, 13, 14, 17, 19, 20, 21, 23, 28, 29, 31, 32, 33, 34, 36, 37, 38, 39, 40, 41, 46, 49, 51, 52, 53, 54, 55, 57, 59, 60, 61, 63, 64, 65, 68, 69, 71, 72, 74, 81, 84, 88, 91, 94, 95, 96, 98, 99], [5, 8, 9, 13, 14, 23, 29, 31, 32, 37, 38, 39, 40, 44, 50, 53, 54, 55, 64, 66, 67, 72, 77, 78, 81, 83, 85, 86, 87, 88, 90, 96], [3, 4, 5, 10, 14, 15, 16, 22, 30, 31, 34, 39, 45, 47, 51, 52, 56, 64, 70, 74, 76, 78, 79, 83, 92, 94, 97], [9, 12, 13, 19, 21, 25, 36, 38, 41, 46, 49, 69, 71, 84, 95, 99], [1, 3, 4, 5, 8, 9, 13, 14, 17, 20, 23, 25, 26, 31, 32, 33, 34, 37, 38, 39, 40, 44, 45, 50, 51, 52, 53, 54, 55, 58, 64, 66, 67, 68, 72, 74, 77, 78, 79, 81, 83, 85, 86, 87, 88, 90, 92, 93, 94, 95, 96], [7, 22, 23, 24, 27, 34, 43, 44, 51, 54, 58, 73, 75, 78, 79, 80, 81, 83, 86, 92, 93], [1, 3, 4, 5, 8, 9, 13, 14, 16, 17, 20, 23, 25, 26, 27, 29, 32, 33, 34, 37, 38, 39, 40, 44, 45, 50, 51, 52, 53, 54, 55, 58, 60, 61, 64, 66, 67, 68, 70, 72, 74, 76, 77, 78, 79, 81, 83, 85, 86, 87, 88, 90, 92, 94, 95, 96], [1, 2, 4, 5, 7, 8, 9, 13, 14, 17, 19, 20, 21, 23, 24, 25, 26, 29, 31, 33, 34, 36, 37, 38, 39, 40, 42, 44, 46, 50, 51, 52, 53, 54, 55, 57, 58, 64, 65, 66, 67, 68, 69, 72, 74, 77, 78, 79, 81, 83, 85, 86, 87, 88, 90, 91, 94, 95, 96, 99], [1, 2, 3, 4, 5, 6, 7, 8, 9, 12, 13, 14, 17, 18, 19, 20, 21, 22, 23, 24, 25, 29, 31, 32, 34, 35, 36, 37, 38, 39, 40, 42, 43, 44, 45, 46, 47, 49, 51, 52, 53, 54, 55, 57, 58, 59, 60, 61, 62, 63, 64, 65, 68, 69, 71, 72, 74, 75, 78, 79, 80, 81, 82, 83, 84, 85, 86, 88, 89, 91, 94, 95, 96, 98, 99], [1, 3, 4, 5, 6, 7, 8, 9, 10, 13, 14, 15, 16, 17, 18, 20, 22, 23, 24, 25, 27, 29, 30, 31, 32, 33, 35, 36, 37, 39, 40, 42, 43, 44, 45, 46, 47, 48, 49, 51, 52, 53, 54, 57, 58, 59, 60, 61, 62, 63, 64, 65, 68, 70, 72, 73, 74, 75, 76, 78, 79, 80, 81, 82, 83, 85, 86, 88, 89, 91, 92, 93, 94, 95], [0, 1, 2, 6, 7, 8, 18, 20, 22, 23, 24, 33, 34, 42, 43, 46, 48, 53, 54, 57, 58, 59, 62, 65, 68, 75, 79, 80, 81, 82, 86, 89, 91, 94], [1, 2, 5, 6, 8, 9, 12, 13, 17, 19, 20, 21, 23, 25, 28, 32, 33, 34, 37, 38, 39, 41, 42, 46, 49, 51, 52, 53, 55, 57, 59, 60, 61, 63, 64, 65, 68, 69, 71, 72, 74, 84, 91, 94, 95, 98, 99], [1, 3, 4, 5, 8, 9, 13, 14, 17, 19, 20, 21, 23, 25, 26, 29, 31, 32, 33, 34, 36, 38, 39, 40, 44, 49, 50, 51, 52, 53, 54, 55, 60, 61, 64, 66, 67, 68, 72, 74, 77, 78, 81, 84, 85, 86, 87, 88, 90, 94, 95, 96, 99], [1, 4, 5, 8, 9, 12, 13, 14, 17, 19, 20, 21, 23, 25, 26, 28, 29, 31, 32, 33, 36, 37, 39, 40, 41, 46, 49, 50, 51, 52, 53, 54, 55, 60, 64, 66, 67, 68, 69, 72, 74, 77, 78, 81, 84, 85, 87, 88, 90, 94, 95, 96, 99], [1, 3, 4, 5, 8, 9, 10, 13, 14, 16, 17, 19, 20, 23, 24, 25, 26, 27, 29, 31, 32, 33, 34, 36, 37, 38, 40, 44, 45, 47, 49, 50, 51, 52, 53, 54, 55, 58, 60, 61, 62, 64, 66, 67, 68, 70, 72, 74, 76, 77, 78, 79, 81, 83, 85, 86, 87, 88, 90, 91, 92, 94, 95, 96], [1, 5, 8, 9, 13, 20, 23, 25, 26, 29, 31, 32, 33, 34, 37, 38, 39, 44, 50, 51, 53, 54, 55, 58, 64, 66, 67, 68, 77, 78, 81, 85, 86, 87, 88, 90, 94, 95, 96, 99], [5, 9, 11, 12, 17, 19, 21, 25, 28, 36, 38, 49, 60, 61, 69, 71, 72, 84, 95, 98, 99], [0, 1, 2, 6, 7, 8, 9, 13, 18, 20, 22, 23, 24, 32, 33, 34, 35, 36, 43, 46, 48, 51, 52, 53, 54, 57, 58, 59, 62, 63, 65, 68, 69, 71, 75, 79, 80, 81, 82, 86, 88, 89, 91, 94, 95], [0, 1, 7, 8, 20, 22, 23, 24, 30, 33, 34, 35, 42, 47, 48, 51, 52, 54, 58, 62, 65, 68, 73, 75, 78, 79, 80, 81, 82, 83, 86, 89, 91, 92, 93, 94], [1, 4, 5, 8, 9, 13, 14, 20, 23, 24, 26, 29, 30, 31, 32, 33, 34, 37, 39, 40, 50, 51, 52, 53, 54, 55, 58, 64, 66, 67, 73, 75, 77, 78, 79, 81, 83, 85, 86, 87, 88, 90, 92, 93, 94, 96], [1, 3, 4, 5, 10, 14, 15, 16, 17, 20, 22, 23, 24, 27, 29, 31, 33, 34, 39, 47, 51, 52, 54, 56, 58, 60, 61, 62, 64, 70, 72, 74, 76, 78, 79, 80, 83, 91, 92, 94, 97], [0, 1, 2, 5, 6, 7, 8, 9, 12, 13, 18, 19, 20, 21, 23, 24, 25, 28, 32, 33, 34, 35, 36, 38, 42, 48, 49, 51, 52, 53, 54, 55, 57, 58, 59, 62, 63, 65, 68, 69, 71, 81, 82, 86, 88, 89, 91, 94, 95, 96, 98, 99], [1, 3, 4, 5, 6, 7, 10, 11, 14, 15, 16, 18, 20, 22, 23, 24, 27, 33, 34, 39, 43, 45, 49, 51, 52, 56, 57, 58, 59, 60, 61, 62, 63, 65, 68, 70, 71, 74, 76, 79, 80, 82, 83, 89, 91, 94, 97, 98], [0, 1, 6, 7, 8, 18, 20, 22, 24, 34, 35, 42, 43, 46, 54, 57, 58, 62, 65, 68, 75, 79, 80, 81, 82, 86, 89, 91, 93], [1, 4, 5, 9, 11, 12, 13, 15, 16, 17, 18, 19, 20, 21, 25, 28, 33, 34, 36, 37, 38, 39, 41, 46, 47, 51, 52, 57, 59, 60, 61, 62, 63, 64, 65, 68, 69, 71, 72, 74, 76, 84, 89, 91, 94, 95, 97, 98, 99], [3, 4, 5, 9, 13, 14, 16, 17, 23, 26, 29, 31, 32, 37, 38, 39, 40, 44, 51, 52, 54, 60, 61, 64, 66, 67, 72, 74, 77, 78, 81, 85, 87, 88, 90, 94], [1, 3, 4, 5, 7, 8, 9, 10, 12, 13, 14, 15, 16, 17, 19, 20, 22, 23, 24, 25, 27, 29, 30, 31, 32, 33, 34, 36, 37, 38, 39, 40, 42, 43, 44, 45, 46, 47, 49, 50, 52, 53, 54, 56, 57, 58, 59, 60, 61, 62, 63, 64, 65, 68, 70, 72, 74, 75, 76, 77, 78, 79, 80, 81, 83, 85, 86, 88, 89, 91, 92, 93, 94, 95], [1, 3, 4, 5, 7, 8, 9, 10, 12, 13, 14, 15, 16, 17, 19, 20, 22, 23, 24, 25, 27, 29, 31, 32, 33, 34, 36, 37, 38, 39, 42, 43, 44, 45, 46, 47, 49, 50, 51, 53, 54, 56, 57, 58, 59, 60, 61, 62, 63, 64, 65, 68, 69, 70, 71, 72, 74, 76, 78, 79, 80, 81, 83, 84, 85, 86, 88, 89, 91, 94, 95, 97, 99], [1, 2, 4, 5, 6, 7, 8, 9, 12, 13, 20, 21, 23, 24, 25, 26, 29, 31, 32, 33, 34, 35, 36, 37, 38, 39, 40, 42, 44, 46, 51, 52, 54, 55, 57, 58, 59, 62, 64, 65, 66, 67, 68, 69, 78, 81, 83, 85, 86, 87, 88, 89, 90, 91, 94, 95, 96, 99], [1, 3, 4, 5, 7, 8, 9, 13, 14, 20, 22, 23, 24, 25, 26, 29, 30, 31, 32, 33, 34, 35, 37, 38, 39, 40, 42, 43, 44, 45, 46, 48, 50, 51, 52, 53, 55, 58, 62, 64, 65, 66, 67, 68, 72, 73, 74, 75, 77, 78, 79, 80, 81, 83, 85, 86, 87, 88, 89, 90, 91, 92, 93, 94, 95, 96], [1, 8, 9, 13, 21, 23, 25, 26, 29, 31, 32, 33, 36, 37, 38, 39, 40, 44, 46, 53, 54, 64, 66, 67, 68, 77, 78, 81, 85, 86, 87, 88, 90, 95, 96, 99], [3, 4, 5, 10, 14, 15, 16, 17, 27, 45, 47, 51, 52, 60, 61, 70, 74, 76, 79, 94, 97], [0, 1, 2, 6, 7, 8, 11, 12, 13, 18, 19, 20, 22, 23, 24, 25, 32, 33, 34, 35, 36, 42, 46, 47, 48, 49, 51, 52, 53, 58, 59, 62, 63, 65, 68, 69, 71, 82, 89, 91, 94, 95, 98, 99], [0, 1, 2, 4, 5, 6, 7, 8, 9, 13, 18, 20, 22, 23, 24, 29, 30, 31, 32, 33, 34, 35, 39, 40, 42, 43, 44, 45, 46, 47, 48, 51, 52, 53, 54, 57, 59, 62, 64, 65, 68, 73, 75, 78, 79, 80, 81, 82, 83, 85, 86, 88, 89, 91, 92, 93, 94, 95, 96], [0, 1, 4, 5, 6, 7, 11, 12, 13, 15, 16, 18, 19, 20, 22, 23, 24, 25, 33, 34, 35, 36, 42, 46, 47, 49, 51, 52, 53, 57, 58, 60, 61, 62, 63, 65, 68, 69, 71, 76, 79, 82, 84, 89, 91, 94, 95, 97, 98], [1, 3, 4, 5, 9, 11, 12, 13, 14, 15, 16, 17, 19, 20, 23, 25, 31, 33, 34, 36, 37, 38, 39, 41, 45, 47, 49, 50, 51, 52, 56, 59, 61, 62, 63, 64, 68, 70, 71, 72, 74, 76, 79, 84, 91, 94, 95, 97, 98, 99], [3, 4, 5, 10, 12, 13, 14, 15, 16, 17, 19, 20, 25, 31, 33, 34, 36, 37, 39, 41, 45, 47, 49, 50, 51, 52, 56, 59, 60, 64, 70, 72, 74, 76, 84, 94, 97], [0, 1, 3, 4, 5, 6, 7, 8, 11, 12, 13, 15, 16, 18, 20, 22, 23, 24, 33, 34, 35, 39, 42, 43, 45, 46, 47, 48, 49, 51, 52, 53, 54, 57, 58, 59, 60, 63, 65, 68, 71, 75, 76, 78, 79, 80, 81, 82, 83, 89, 91, 94, 95, 97, 98], [0, 1, 6, 7, 11, 12, 15, 18, 19, 20, 22, 24, 25, 33, 34, 36, 42, 46, 47, 49, 51, 52, 57, 59, 60, 62, 65, 68, 69, 71, 79, 82, 89, 91, 94, 95, 97, 98], [1, 3, 4, 5, 8, 9, 13, 14, 16, 17, 19, 20, 23, 24, 25, 26, 27, 29, 31, 32, 33, 34, 36, 37, 38, 39, 40, 44, 45, 49, 50, 51, 52, 53, 54, 55, 58, 60, 61, 66, 67, 68, 70, 72, 74, 76, 77, 78, 79, 81, 83, 85, 86, 87, 88, 90, 91, 92, 94, 95, 96, 99], [0, 1, 2, 6, 7, 8, 9, 12, 13, 18, 20, 22, 23, 24, 25, 32, 33, 34, 35, 36, 42, 43, 46, 47, 48, 49, 51, 52, 53, 54, 57, 58, 59, 62, 63, 68, 69, 71, 75, 79, 80, 81, 82, 89, 91, 94, 95, 98, 99], [5, 8, 9, 13, 14, 23, 26, 29, 31, 32, 37, 38, 39, 40, 44, 50, 53, 54, 55, 64, 67, 72, 74, 77, 78, 81, 85, 86, 87, 88, 90, 96], [8, 9, 13, 23, 26, 29, 31, 32, 37, 38, 39, 40, 44, 50, 53, 54, 55, 64, 66, 77, 78, 81, 85, 86, 87, 88, 90, 96], [0, 1, 2, 4, 5, 6, 7, 8, 9, 12, 13, 18, 19, 20, 21, 22, 23, 24, 25, 29, 31, 32, 33, 34, 35, 36, 37, 38, 39, 40, 42, 43, 46, 47, 48, 49, 51, 52, 53, 54, 55, 57, 58, 59, 60, 62, 63, 64, 65, 69, 71, 74, 75, 78, 79, 80, 81, 82, 83, 85, 86, 88, 89, 91, 94, 95, 96, 98, 99], [1, 2, 6, 8, 9, 11, 12, 13, 18, 19, 20, 21, 25, 28, 32, 33, 36, 38, 41, 42, 46, 49, 52, 53, 57, 59, 63, 65, 68, 71, 84, 89, 91, 95, 98, 99], [3, 4, 5, 10, 14, 15, 16, 17, 20, 22, 27, 31, 34, 39, 45, 47, 51, 52, 56, 60, 61, 64, 72, 74, 76, 78, 79, 83, 94, 97], [1, 6, 9, 11, 12, 13, 15, 18, 19, 20, 21, 25, 28, 33, 36, 41, 42, 46, 47, 49, 52, 57, 59, 60, 62, 63, 65, 68, 69, 84, 89, 91, 94, 95, 98, 99], [1, 3, 4, 5, 9, 13, 14, 16, 17, 19, 20, 23, 25, 26, 29, 31, 32, 33, 34, 36, 37, 38, 39, 41, 45, 49, 50, 51, 52, 54, 60, 61, 64, 66, 70, 74, 76, 77, 78, 84, 85, 87, 88, 90, 94, 95, 99], [7, 22, 23, 24, 30, 34, 43, 44, 54, 58, 75, 78, 79, 80, 81, 83, 85, 86, 92, 93], [1, 3, 4, 5, 9, 10, 13, 14, 15, 16, 17, 19, 20, 23, 25, 27, 29, 31, 32, 33, 34, 36, 37, 38, 39, 45, 47, 49, 50, 51, 52, 54, 56, 60, 61, 64, 66, 68, 70, 72, 76, 77, 78, 79, 81, 83, 84, 85, 87, 88, 91, 94, 95], [1, 7, 8, 20, 22, 23, 24, 30, 33, 34, 35, 42, 43, 44, 48, 51, 54, 58, 62, 65, 68, 73, 78, 79, 80, 81, 82, 83, 86, 89, 91, 92, 93, 94], [3, 4, 5, 10, 14, 15, 16, 17, 20, 22, 27, 31, 34, 39, 45, 47, 49, 51, 52, 56, 59, 60, 61, 62, 64, 70, 72, 74, 78, 79, 83, 91, 94, 97], [4, 5, 9, 13, 14, 17, 23, 26, 29, 31, 32, 37, 38, 39, 40, 44, 50, 51, 54, 55, 64, 66, 67, 72, 74, 78, 81, 85, 86, 87, 88, 90, 96], [1, 3, 4, 5, 7, 8, 9, 10, 13, 14, 16, 17, 20, 22, 23, 24, 26, 27, 29, 30, 31, 32, 33, 34, 37, 38, 39, 40, 43, 44, 45, 50, 51, 52, 53, 54, 55, 58, 62, 64, 66, 67, 68, 70, 72, 73, 74, 75, 76, 77, 79, 80, 81, 83, 85, 86, 87, 88, 90, 91, 92, 93, 94, 95, 96], [1, 3, 4, 5, 7, 10, 13, 14, 15, 16, 20, 22, 23, 24, 27, 29, 30, 31, 32, 33, 34, 35, 39, 42, 43, 44, 45, 47, 48, 51, 52, 54, 56, 58, 59, 60, 62, 63, 64, 65, 68, 70, 73, 74, 75, 76, 78, 80, 81, 82, 83, 85, 86, 89, 91, 92, 93, 94, 97], [0, 1, 7, 8, 20, 22, 23, 24, 30, 33, 34, 35, 42, 43, 45, 47, 48, 51, 52, 54, 58, 62, 65, 68, 73, 75, 78, 79, 81, 82, 83, 86, 89, 91, 92, 93, 94], [1, 4, 5, 7, 8, 9, 13, 14, 20, 22, 23, 24, 25, 26, 29, 30, 31, 32, 33, 34, 35, 37, 38, 39, 40, 42, 43, 44, 46, 48, 50, 51, 52, 53, 54, 55, 58, 62, 64, 65, 66, 67, 68, 73, 74, 75, 77, 78, 79, 80, 83, 85, 86, 87, 88, 90, 91, 92, 93, 94, 95, 96], [0, 1, 2, 6, 7, 18, 20, 22, 24, 33, 34, 35, 42, 43, 46, 47, 48, 57, 58, 59, 62, 63, 65, 68, 75, 79, 80, 89, 91], [1, 3, 4, 5, 7, 8, 10, 13, 14, 16, 20, 22, 23, 24, 26, 27, 29, 30, 31, 32, 33, 34, 39, 43, 44, 45, 47, 51, 52, 53, 54, 58, 62, 64, 68, 70, 73, 74, 75, 76, 78, 79, 80, 81, 85, 86, 88, 91, 92, 93, 94], [5, 9, 11, 12, 13, 17, 19, 21, 25, 28, 33, 36, 37, 38, 41, 49, 52, 59, 60, 61, 69, 71, 72, 74, 95, 98, 99], [1, 3, 4, 5, 8, 9, 13, 14, 17, 20, 23, 26, 29, 31, 32, 33, 34, 37, 38, 39, 40, 44, 50, 51, 52, 53, 54, 55, 58, 64, 66, 67, 68, 72, 73, 74, 77, 78, 79, 81, 83, 86, 87, 88, 90, 92, 93, 94, 96], [1, 4, 5, 7, 8, 9, 13, 14, 20, 22, 23, 24, 26, 29, 30, 31, 32, 33, 34, 35, 37, 39, 40, 42, 43, 44, 46, 48, 51, 52, 53, 54, 55, 58, 64, 66, 67, 68, 73, 75, 77, 78, 79, 80, 81, 83, 85, 87, 88, 90, 92, 93, 94, 95, 96], [4, 5, 9, 13, 14, 23, 26, 29, 31, 32, 37, 38, 39, 40, 44, 50, 53, 54, 55, 64, 66, 67, 72, 74, 77, 78, 81, 85, 86, 88, 90, 96], [1, 4, 5, 8, 9, 13, 14, 20, 23, 24, 25, 26, 29, 31, 32, 33, 34, 37, 38, 39, 40, 42, 44, 46, 50, 51, 52, 53, 54, 55, 58, 64, 66, 67, 68, 72, 74, 77, 78, 81, 83, 85, 86, 87, 90, 92, 93, 94, 95, 96], [0, 1, 2, 6, 7, 8, 11, 12, 13, 15, 18, 20, 22, 23, 24, 33, 34, 35, 42, 43, 46, 47, 48, 49, 51, 52, 53, 54, 57, 58, 59, 62, 63, 65, 68, 69, 71, 75, 79, 80, 82, 91, 94, 95, 97, 98], [8, 9, 13, 23, 26, 29, 31, 32, 37, 38, 39, 40, 44, 50, 53, 54, 55, 64, 66, 67, 72, 77, 78, 81, 85, 86, 87, 88, 96], [0, 1, 3, 4, 5, 6, 7, 8, 11, 12, 13, 15, 16, 18, 20, 22, 23, 24, 25, 32, 33, 34, 35, 36, 39, 42, 43, 45, 46, 47, 48, 49, 51, 52, 53, 54, 57, 58, 59, 60, 62, 63, 64, 65, 68, 69, 71, 74, 75, 76, 78, 79, 80, 81, 82, 83, 89, 94, 95, 97, 98], [1, 3, 4, 7, 14, 20, 22, 23, 24, 27, 29, 30, 31, 34, 39, 43, 44, 45, 51, 54, 58, 64, 73, 75, 78, 79, 80, 81, 83, 85, 86, 88, 93, 94], [1, 7, 22, 23, 24, 29, 30, 34, 43, 44, 48, 51, 54, 58, 73, 75, 78, 79, 80, 81, 83, 85, 86, 88, 92, 94], [1, 3, 4, 5, 6, 7, 8, 9, 10, 12, 13, 14, 15, 16, 17, 18, 19, 20, 22, 23, 24, 25, 27, 29, 31, 32, 33, 34, 35, 36, 37, 38, 39, 40, 42, 43, 44, 45, 46, 47, 49, 50, 51, 52, 53, 54, 56, 57, 58, 59, 60, 61, 62, 63, 64, 65, 68, 70, 71, 72, 74, 75, 76, 78, 79, 80, 81, 83, 85, 86, 88, 89, 91, 92, 93, 95, 97, 99], [1, 2, 4, 5, 6, 7, 8, 9, 12, 13, 17, 19, 20, 21, 23, 24, 25, 28, 29, 31, 32, 33, 34, 36, 37, 38, 39, 40, 41, 42, 46, 49, 51, 52, 53, 54, 55, 57, 58, 59, 60, 62, 63, 64, 65, 68, 69, 71, 72, 74, 78, 81, 84, 86, 88, 89, 91, 94, 96, 99], [1, 2, 8, 9, 13, 23, 25, 26, 29, 31, 32, 33, 37, 38, 39, 40, 44, 46, 53, 54, 55, 58, 64, 66, 67, 68, 77, 78, 81, 85, 86, 87, 88, 90, 95], [10, 11, 15, 16, 18, 22, 27, 45, 47, 49, 52, 56, 59, 60, 61, 62, 63, 70, 76, 79, 89, 91, 94, 98], [6, 11, 12, 15, 18, 19, 20, 25, 33, 36, 41, 46, 47, 49, 57, 59, 60, 62, 63, 65, 68, 69, 71, 84, 89, 91, 97], [1, 2, 5, 8, 9, 12, 13, 19, 20, 21, 23, 25, 28, 32, 33, 36, 37, 38, 40, 41, 46, 49, 52, 53, 55, 57, 60, 64, 65, 68, 69, 71, 72, 84, 94, 95]]\n"
     ]
    }
   ],
   "source": [
    "print(NL2_3)"
   ]
  },
  {
   "cell_type": "markdown",
   "id": "aa0630d3",
   "metadata": {},
   "source": [
    "# Number of steps = 10000"
   ]
  },
  {
   "cell_type": "markdown",
   "id": "fb75a9c0",
   "metadata": {},
   "source": []
  },
  {
   "cell_type": "code",
   "execution_count": 136,
   "id": "b6645dce",
   "metadata": {},
   "outputs": [
    {
     "data": {
      "application/vnd.jupyter.widget-view+json": {
       "model_id": "d725ea0fc83040fca953ecdc7be1fe66",
       "version_major": 2,
       "version_minor": 0
      },
      "text/plain": [
       "  0%|          | 0/10000 [00:00<?, ?it/s]"
      ]
     },
     "metadata": {},
     "output_type": "display_data"
    }
   ],
   "source": [
    "dist2_atoms_4, PE2_4, KE2_4, TE2_4, NL2_4 = main(2) #4th sim, N=100,L=cube root of vol(80), dt = 10**-3"
   ]
  },
  {
   "cell_type": "code",
   "execution_count": 142,
   "id": "a7d94dd9",
   "metadata": {},
   "outputs": [
    {
     "data": {
      "application/vnd.jupyter.widget-view+json": {
       "model_id": "e3e94640930842cdb4b36463e0264bfe",
       "version_major": 2,
       "version_minor": 0
      },
      "text/plain": [
       "  0%|          | 0/10000 [00:00<?, ?it/s]"
      ]
     },
     "metadata": {},
     "output_type": "display_data"
    },
    {
     "name": "stderr",
     "output_type": "stream",
     "text": [
      "<ipython-input-47-c30673ba5be2>:13: RuntimeWarning: divide by zero encountered in double_scalars\n",
      "  force[i,k] += 24*(epsilon/sigma)*(2*((sigma/(absolute_r))**13)-(sigma/(absolute_r))**7)*r_vector[k]/absolute_r#compute force to each particle\n",
      "<ipython-input-47-c30673ba5be2>:13: RuntimeWarning: invalid value encountered in double_scalars\n",
      "  force[i,k] += 24*(epsilon/sigma)*(2*((sigma/(absolute_r))**13)-(sigma/(absolute_r))**7)*r_vector[k]/absolute_r#compute force to each particle\n"
     ]
    }
   ],
   "source": [
    "dist2_atoms_5, PE2_5, KE2_5, TE2_5, NL2_5 = main(2) #5th sim, N=100, L=cube root of vol(80), dt = 10**-5"
   ]
  },
  {
   "cell_type": "code",
   "execution_count": 55,
   "id": "1cb92136",
   "metadata": {},
   "outputs": [
    {
     "data": {
      "application/vnd.jupyter.widget-view+json": {
       "model_id": "970dfc57b304426e97016065d6cc0fc3",
       "version_major": 2,
       "version_minor": 0
      },
      "text/plain": [
       "HBox(children=(HTML(value=''), FloatProgress(value=0.0, max=10000.0), HTML(value='')))"
      ]
     },
     "metadata": {},
     "output_type": "display_data"
    },
    {
     "name": "stderr",
     "output_type": "stream",
     "text": [
      "<ipython-input-36-c30673ba5be2>:13: RuntimeWarning: divide by zero encountered in double_scalars\n",
      "  force[i,k] += 24*(epsilon/sigma)*(2*((sigma/(absolute_r))**13)-(sigma/(absolute_r))**7)*r_vector[k]/absolute_r#compute force to each particle\n",
      "<ipython-input-36-c30673ba5be2>:13: RuntimeWarning: invalid value encountered in double_scalars\n",
      "  force[i,k] += 24*(epsilon/sigma)*(2*((sigma/(absolute_r))**13)-(sigma/(absolute_r))**7)*r_vector[k]/absolute_r#compute force to each particle\n"
     ]
    },
    {
     "name": "stdout",
     "output_type": "stream",
     "text": [
      "\n"
     ]
    }
   ],
   "source": [
    "dist2_atoms_6, PE2_6, KE2_6, TE2_6, NL2_6 = main(3) #6th sim, N=100, L=cube root of vol(80), dt = 10**-3, LF"
   ]
  },
  {
   "cell_type": "code",
   "execution_count": null,
   "id": "d326a0c3",
   "metadata": {},
   "outputs": [],
   "source": []
  },
  {
   "cell_type": "code",
   "execution_count": 48,
   "id": "6be2a2c6",
   "metadata": {},
   "outputs": [
    {
     "data": {
      "application/vnd.jupyter.widget-view+json": {
       "model_id": "92a0ee4364ea4c6ebde43307d5932307",
       "version_major": 2,
       "version_minor": 0
      },
      "text/plain": [
       "  0%|          | 0/10000 [00:00<?, ?it/s]"
      ]
     },
     "metadata": {},
     "output_type": "display_data"
    }
   ],
   "source": [
    "dist2_atoms_7, PE2_7, KE2_7, TE2_7, NL2_7 = main(3) #7th sim, dt = 10**-5, LF"
   ]
  },
  {
   "cell_type": "code",
   "execution_count": 47,
   "id": "2edcbd07",
   "metadata": {},
   "outputs": [
    {
     "ename": "NameError",
     "evalue": "name 'PE2_7' is not defined",
     "output_type": "error",
     "traceback": [
      "\u001b[0;31m---------------------------------------------------------------------------\u001b[0m",
      "\u001b[0;31mNameError\u001b[0m                                 Traceback (most recent call last)",
      "\u001b[0;32m<ipython-input-47-6965bf4522bf>\u001b[0m in \u001b[0;36m<module>\u001b[0;34m\u001b[0m\n\u001b[0;32m----> 1\u001b[0;31m \u001b[0mPE2_7\u001b[0m\u001b[0;34m\u001b[0m\u001b[0;34m\u001b[0m\u001b[0m\n\u001b[0m",
      "\u001b[0;31mNameError\u001b[0m: name 'PE2_7' is not defined"
     ]
    }
   ],
   "source": [
    "PE2_7"
   ]
  },
  {
   "cell_type": "code",
   "execution_count": null,
   "id": "1c3686b7",
   "metadata": {},
   "outputs": [],
   "source": []
  }
 ],
 "metadata": {
  "kernelspec": {
   "display_name": "Python 3",
   "language": "python",
   "name": "python3"
  },
  "language_info": {
   "codemirror_mode": {
    "name": "ipython",
    "version": 3
   },
   "file_extension": ".py",
   "mimetype": "text/x-python",
   "name": "python",
   "nbconvert_exporter": "python",
   "pygments_lexer": "ipython3",
   "version": "3.8.10"
  }
 },
 "nbformat": 4,
 "nbformat_minor": 5
}
